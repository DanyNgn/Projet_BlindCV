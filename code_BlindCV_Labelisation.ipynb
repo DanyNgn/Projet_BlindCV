{
 "cells": [
  {
   "cell_type": "markdown",
   "metadata": {},
   "source": [
    "## Part 5 - Labelisation"
   ]
  },
  {
   "cell_type": "markdown",
   "metadata": {},
   "source": [
    "Part 1"
   ]
  },
  {
   "cell_type": "code",
   "execution_count": null,
   "metadata": {},
   "outputs": [],
   "source": [
    "# Chargement des librairies nécessaires\n",
    "import pandas as pd\n",
    "import spacy\n",
    "\n",
    "# Chargement de la dataset\n",
    "dataset = pd.read_csv(\"dataset_CV.csv\", delimiter = \";\")\n",
    "\n",
    "# Instanciation de la bibliothèque fr_core_news_lg de Spacy\n",
    "nlp = spacy.load(\"fr_core_news_lg\")\n",
    "\n",
    "# Tokenization des textes de CV\n",
    "dataset[\"Tokenization_preparation\"] = dataset[\"CV_text\"].apply(lambda x : str(x).replace(\"\\n\", \" \"))\n",
    "dataset[\"Tokenization\"] = dataset[\"Tokenization_preparation\"].apply(lambda x : nlp(x))\n",
    "dataset[\"Number_of_tokens\"] = dataset[\"Tokenization\"].apply(lambda x : len(x))"
   ]
  },
  {
   "cell_type": "code",
   "execution_count": null,
   "metadata": {},
   "outputs": [],
   "source": [
    "## Création identification du numéro de CV\n",
    "df = pd.DataFrame(columns = ['CV_Number'])\n",
    "\n",
    "## Sélection du texte du CV\n",
    "doc = dataset.iloc[0,2]\n",
    "doc = nlp(doc)\n",
    "\n",
    "df['Sentences_CV'] = 0\n",
    "\n",
    "## Création d'une liste de phrase\n",
    "list_sentence = []\n",
    "for sent in doc.sents :\n",
    "    list_sentence.append(sent)\n",
    "\n",
    "## Insertion des phrases et suppression des parenthèses\n",
    "df['Sentences_CV'] = list_sentence\n",
    "df['Sentences_CV_clean'] = df['Sentences_CV'].apply(lambda x : str(x).replace(\"(\",\"\").replace(\")\",\"\"))\n",
    "\n",
    "df['CV_Number'] = dataset.iloc[0,0]\n",
    "\n",
    "## Création d'une colonne qui compte le nombre de phrase\n",
    "df['Sentence_line'] = df.index\n",
    "\n",
    "## Création d'une colonne qui compte le nombre de tokens dans la phrase\n",
    "df['Nb_tokens'] = df['Sentences_CV'].apply(lambda x : len(x))\n",
    "\n",
    "## Création d'une colonne pour connaitre la position en pourcentage de la phrase par rapport au texte entier\n",
    "df['Nb_tokens'].sum()\n",
    "df['Nb_tokens'][0]\n",
    "\n",
    "## Création d'une colonne pour positionner la phrase dans le corpus de texte en pourcentage\n",
    "df['%texte_lu'] = 0\n",
    "\n",
    "token_count = 0\n",
    "for i in range(len(df)):\n",
    "    token_count += df['Nb_tokens'][i]\n",
    "    df['%texte_lu'][i] = round(((token_count / df['Nb_tokens'].sum()) * 100),2)\n",
    "\n",
    "## Création pour connaître le % de texte lu à partir de la fin de ligne\n",
    "df[\"%texte_lu_fin_ligne\"] = 0\n",
    "\n",
    "nb_tokens_total = df[\"Nb_tokens\"].sum()\n",
    "\n",
    "for i in range(len(df)):\n",
    "    df[\"%texte_lu_fin_ligne\"][i] += (nb_tokens_total - df['Nb_tokens'][i]) / nb_tokens_total\n",
    "\n",
    "## Création d'une colonne pour savoir si le mot est alphanumerique ou pas\n",
    "df[\"Is_alpha\"] = 0\n",
    "for i in range(len(df)):\n",
    "    doc = df.iloc[i,2]\n",
    "    doc = nlp(doc)\n",
    "    list_token_is_alpha = []\n",
    "    for token in doc:\n",
    "        list_token_is_alpha.append(token.is_alpha)\n",
    "    df[\"Is_alpha\"][i] = list_token_is_alpha\n",
    "\n",
    "## Création de la colonne Grammaire pour connaitre le type de mots de la phrase\n",
    "df[\"Grammar\"] = 0\n",
    "i = 0\n",
    "for i in range(len(df)):\n",
    "    doc = df.iloc[i,2]\n",
    "    doc = nlp(doc)\n",
    "    list_token_pos = []\n",
    "    for token in doc:\n",
    "        list_token_pos.append(token.pos_)\n",
    "        df[\"Grammar\"][i] = list_token_pos\n",
    "\n",
    "## Création de la colonne Label qui sera notre target. Soit 1 il faut supprimer soit 0 on doit garder\n",
    "df['Label'] = 0\n",
    "\n",
    "## Création de la dataset avec les CV concatener\n",
    "dataset_concat = pd.DataFrame()\n",
    "\n",
    "dataset_concat = dataset_concat.append(df, ignore_index=True)    \n",
    "\n",
    "## Création d'un fichier Excel avec toutes les phrases de tous les CV\n",
    "\n",
    "PATH = \"/Users/kinn/Desktop/Projet_BlindCV/data_CV.xls\"\n",
    "dataset_concat.to_excel(excel_writer = PATH, index = True)\n",
    "\n",
    "dataset_concat.shape\n"
   ]
  }
 ],
 "metadata": {
  "kernelspec": {
   "display_name": "Python 3.8.8 ('base')",
   "language": "python",
   "name": "python3"
  },
  "language_info": {
   "name": "python",
   "version": "3.8.8"
  },
  "orig_nbformat": 4,
  "vscode": {
   "interpreter": {
    "hash": "de3c26e6ce99fdd1b8cf42170bfea1efe2e407789632cce096fb11ae10dab296"
   }
  }
 },
 "nbformat": 4,
 "nbformat_minor": 2
}
