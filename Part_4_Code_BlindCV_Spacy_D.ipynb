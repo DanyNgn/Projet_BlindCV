{
 "cells": [
  {
   "cell_type": "markdown",
   "metadata": {},
   "source": [
    "## PART 3 - BlindCV_split_tasks"
   ]
  },
  {
   "cell_type": "markdown",
   "metadata": {},
   "source": [
    "### Chargement de la part 2"
   ]
  },
  {
   "cell_type": "markdown",
   "metadata": {},
   "source": [
    "Part 1"
   ]
  },
  {
   "cell_type": "code",
   "execution_count": 1,
   "metadata": {},
   "outputs": [],
   "source": [
    "# Chargement des librairies nécessaires\n",
    "import pandas as pd\n",
    "import spacy\n",
    "\n",
    "# Chargement de la dataset\n",
    "dataset = pd.read_csv(\"dataset_CV.csv\", delimiter = \";\")\n",
    " \n",
    "# Instanciation de la bibliothèque fr_core_news_lg de Spacy\n",
    "nlp = spacy.load(\"fr_core_news_lg\")\n",
    "\n",
    "# Tokenization des textes de CV\n",
    "dataset[\"Tokenization_preparation\"] = dataset[\"CV_text\"].apply(lambda x : str(x).replace(\"\\n\", \" \"))\n",
    "dataset[\"Tokenization\"] = dataset[\"Tokenization_preparation\"].apply(lambda x : nlp(x))\n",
    "dataset[\"Number_of_tokens\"] = dataset[\"Tokenization\"].apply(lambda x : len(x))"
   ]
  },
  {
   "cell_type": "markdown",
   "metadata": {},
   "source": [
    "Part 2"
   ]
  },
  {
   "cell_type": "code",
   "execution_count": 2,
   "metadata": {},
   "outputs": [
    {
     "name": "stdout",
     "output_type": "stream",
     "text": [
      "SELMA LAFKIR CORDE 80 CODEUSE ENTHOUSIASTE\n",
      "PROFIL\n",
      "PERSONNEL Je suis étudiante au lycée Condorcet.\n",
      "Je code depuis l'âge de 13 ans et j'aime créer des sites Web et utiliser la technologie pour aider les gens.\n",
      "RÉALISATIONS\n",
      "Chef d'équipe du site Web du lycée\n",
      "-\n",
      "Vice-présidente du club cinématographique du lycée\n",
      "- Trésorière de la société des codeurs du lycée -\n",
      "Premier prix au Hackathon de Condorcet EXPÉRIENCE Tuteur en mathématiques\n",
      "Centre scolaire de Condorcet Jan 2019\n",
      "- présent • Cours particuliers avec des élèves du secondaire sur différents domaines des mathématiques • Cours d'algèbre Développeuse stagiaire\n",
      "| Berou Solutions, Inc.\n",
      "mars\n",
      "- mai 2019 Traduction de wireframes en code frontal Aide à la création d'une application de commande en ligne Recherche d'utilisateurs effectuée par le biais d'enquêtes et d'entretiens PARCOURS SCOLAIRE\n",
      "Lycée de Condorcet\n",
      "· Spécialisation en technologie\n",
      "| Classe de 2020 •\n",
      "Diplômée avec une moyenne de 16/20 • Membre de l'association des étudiants en histoire\n",
      "Excellence académique en histoire, mathématiques et multimédia durant 2 années consécutives RÉFÉRENCES\n",
      "Marion Bardot\n",
      "| Professeure, lycée de Condorcet Caroline Clément | Professeure, lycée Beaulieu Myriam Barbu\n",
      "| Directrice, Centre scolaire de Condorcet\n",
      "01 12 13 14 15\n",
      "bonjour@sitevraimentsuper.fr\n",
      "www.sitevraimentsuper.fr\n",
      "SELMA LAFKIR CORDE 80 CODEUSE ENTHOUSIASTE\n",
      "PROFIL\n",
      "PERSONNEL Je suis étudiante au lycée Condorcet.\n",
      "Je code depuis l'âge de 13 ans et j'aime créer des sites Web et utiliser la technologie pour aider les gens.\n",
      "RÉALISATIONS\n",
      "Chef d'équipe du site Web du lycée\n",
      "-\n",
      "Vice-présidente du club cinématographique du lycée\n",
      "- Trésorière de la société des codeurs du lycée -\n",
      "Premier prix au Hackathon de Condorcet EXPÉRIENCE Tuteur en mathématiques\n",
      "Centre scolaire de Condorcet Jan 2019\n",
      "- présent • Cours particuliers avec des élèves du secondaire sur différents domaines des mathématiques • Cours d'algèbre Développeuse stagiaire\n",
      "| Berou Solutions, Inc.\n",
      "mars\n",
      "- mai 2019 Traduction de wireframes en code frontal Aide à la création d'une application de commande en ligne Recherche d'utilisateurs effectuée par le biais d'enquêtes et d'entretiens PARCOURS SCOLAIRE\n",
      "Lycée de Condorcet\n",
      "· Spécialisation en technologie\n",
      "| Classe de 2020 •\n",
      "Diplômée avec une moyenne de 16/20 • Membre de l'association des étudiants en histoire\n",
      "Excellence académique en histoire, mathématiques et multimédia durant 2 années consécutives RÉFÉRENCES\n",
      "Marion Bardot\n",
      "| Professeure, lycée de Condorcet Caroline Clément | Professeure, lycée Beaulieu Myriam Barbu\n",
      "| Directrice, Centre scolaire de Condorcet\n",
      "01 12 13 14 15\n",
      "bonjour@sitevraimentsuper.fr\n",
      "www.sitevraimentsuper.fr\n"
     ]
    }
   ],
   "source": [
    "## Sélection du texte du premier CV\n",
    "doc = dataset.iloc[0,2]\n",
    "doc = nlp(doc)\n",
    "\n",
    "## Sentencisation du texte du CV\n",
    "for sent in doc.sents :\n",
    "    print(sent)\n",
    "\n",
    "## Création d'une liste de phrase\n",
    "list_sentence = []\n",
    "for sent in doc.sents :\n",
    "    list_sentence.append(sent)\n",
    "    print(sent)\n",
    "\n",
    "## Création d'une dataframe avec les phrases \n",
    "df = pd.DataFrame(columns = ['Sentence_CV1'])\n",
    "\n",
    "## Insertion des phrases et suppression des parenthèses\n",
    "df['Sentence_CV1'] = list_sentence\n",
    "df['Sentence_CV1_clean'] = df['Sentence_CV1'].apply(lambda x : str(x).replace(\"(\",\"\").replace(\")\",\"\"))"
   ]
  },
  {
   "cell_type": "markdown",
   "metadata": {},
   "source": [
    "Part 3"
   ]
  },
  {
   "cell_type": "code",
   "execution_count": 3,
   "metadata": {},
   "outputs": [
    {
     "data": {
      "text/html": [
       "<div>\n",
       "<style scoped>\n",
       "    .dataframe tbody tr th:only-of-type {\n",
       "        vertical-align: middle;\n",
       "    }\n",
       "\n",
       "    .dataframe tbody tr th {\n",
       "        vertical-align: top;\n",
       "    }\n",
       "\n",
       "    .dataframe thead th {\n",
       "        text-align: right;\n",
       "    }\n",
       "</style>\n",
       "<table border=\"1\" class=\"dataframe\">\n",
       "  <thead>\n",
       "    <tr style=\"text-align: right;\">\n",
       "      <th></th>\n",
       "      <th>Sentence_CV1</th>\n",
       "      <th>Sentence_CV1_clean</th>\n",
       "      <th>Sentence_line</th>\n",
       "    </tr>\n",
       "  </thead>\n",
       "  <tbody>\n",
       "    <tr>\n",
       "      <th>0</th>\n",
       "      <td>(SELMA, LAFKIR, CORDE, 80, CODEUSE, ENTHOUSIASTE)</td>\n",
       "      <td>SELMA LAFKIR CORDE 80 CODEUSE ENTHOUSIASTE</td>\n",
       "      <td>0</td>\n",
       "    </tr>\n",
       "    <tr>\n",
       "      <th>1</th>\n",
       "      <td>(PROFIL)</td>\n",
       "      <td>PROFIL</td>\n",
       "      <td>1</td>\n",
       "    </tr>\n",
       "    <tr>\n",
       "      <th>2</th>\n",
       "      <td>(PERSONNEL, Je, suis, étudiante, au, lycée, Co...</td>\n",
       "      <td>PERSONNEL Je suis étudiante au lycée Condorcet.</td>\n",
       "      <td>2</td>\n",
       "    </tr>\n",
       "    <tr>\n",
       "      <th>3</th>\n",
       "      <td>(Je, code, depuis, l', âge, de, 13, ans, et, j...</td>\n",
       "      <td>Je code depuis l'âge de 13 ans et j'aime créer...</td>\n",
       "      <td>3</td>\n",
       "    </tr>\n",
       "    <tr>\n",
       "      <th>4</th>\n",
       "      <td>(RÉALISATIONS)</td>\n",
       "      <td>RÉALISATIONS</td>\n",
       "      <td>4</td>\n",
       "    </tr>\n",
       "  </tbody>\n",
       "</table>\n",
       "</div>"
      ],
      "text/plain": [
       "                                        Sentence_CV1  \\\n",
       "0  (SELMA, LAFKIR, CORDE, 80, CODEUSE, ENTHOUSIASTE)   \n",
       "1                                           (PROFIL)   \n",
       "2  (PERSONNEL, Je, suis, étudiante, au, lycée, Co...   \n",
       "3  (Je, code, depuis, l', âge, de, 13, ans, et, j...   \n",
       "4                                     (RÉALISATIONS)   \n",
       "\n",
       "                                  Sentence_CV1_clean  Sentence_line  \n",
       "0         SELMA LAFKIR CORDE 80 CODEUSE ENTHOUSIASTE              0  \n",
       "1                                             PROFIL              1  \n",
       "2    PERSONNEL Je suis étudiante au lycée Condorcet.              2  \n",
       "3  Je code depuis l'âge de 13 ans et j'aime créer...              3  \n",
       "4                                       RÉALISATIONS              4  "
      ]
     },
     "execution_count": 3,
     "metadata": {},
     "output_type": "execute_result"
    }
   ],
   "source": [
    "## Création d'une colonne qui compte le nombre de phrase\n",
    "df['Sentence_line'] = df.index\n",
    "df.head()"
   ]
  },
  {
   "cell_type": "code",
   "execution_count": 4,
   "metadata": {},
   "outputs": [
    {
     "data": {
      "text/html": [
       "<div>\n",
       "<style scoped>\n",
       "    .dataframe tbody tr th:only-of-type {\n",
       "        vertical-align: middle;\n",
       "    }\n",
       "\n",
       "    .dataframe tbody tr th {\n",
       "        vertical-align: top;\n",
       "    }\n",
       "\n",
       "    .dataframe thead th {\n",
       "        text-align: right;\n",
       "    }\n",
       "</style>\n",
       "<table border=\"1\" class=\"dataframe\">\n",
       "  <thead>\n",
       "    <tr style=\"text-align: right;\">\n",
       "      <th></th>\n",
       "      <th>Sentence_CV1</th>\n",
       "      <th>Sentence_CV1_clean</th>\n",
       "      <th>Sentence_line</th>\n",
       "      <th>Nb_tokens</th>\n",
       "    </tr>\n",
       "  </thead>\n",
       "  <tbody>\n",
       "    <tr>\n",
       "      <th>0</th>\n",
       "      <td>(SELMA, LAFKIR, CORDE, 80, CODEUSE, ENTHOUSIASTE)</td>\n",
       "      <td>SELMA LAFKIR CORDE 80 CODEUSE ENTHOUSIASTE</td>\n",
       "      <td>0</td>\n",
       "      <td>6</td>\n",
       "    </tr>\n",
       "    <tr>\n",
       "      <th>1</th>\n",
       "      <td>(PROFIL)</td>\n",
       "      <td>PROFIL</td>\n",
       "      <td>1</td>\n",
       "      <td>1</td>\n",
       "    </tr>\n",
       "    <tr>\n",
       "      <th>2</th>\n",
       "      <td>(PERSONNEL, Je, suis, étudiante, au, lycée, Co...</td>\n",
       "      <td>PERSONNEL Je suis étudiante au lycée Condorcet.</td>\n",
       "      <td>2</td>\n",
       "      <td>8</td>\n",
       "    </tr>\n",
       "    <tr>\n",
       "      <th>3</th>\n",
       "      <td>(Je, code, depuis, l', âge, de, 13, ans, et, j...</td>\n",
       "      <td>Je code depuis l'âge de 13 ans et j'aime créer...</td>\n",
       "      <td>3</td>\n",
       "      <td>24</td>\n",
       "    </tr>\n",
       "    <tr>\n",
       "      <th>4</th>\n",
       "      <td>(RÉALISATIONS)</td>\n",
       "      <td>RÉALISATIONS</td>\n",
       "      <td>4</td>\n",
       "      <td>1</td>\n",
       "    </tr>\n",
       "  </tbody>\n",
       "</table>\n",
       "</div>"
      ],
      "text/plain": [
       "                                        Sentence_CV1  \\\n",
       "0  (SELMA, LAFKIR, CORDE, 80, CODEUSE, ENTHOUSIASTE)   \n",
       "1                                           (PROFIL)   \n",
       "2  (PERSONNEL, Je, suis, étudiante, au, lycée, Co...   \n",
       "3  (Je, code, depuis, l', âge, de, 13, ans, et, j...   \n",
       "4                                     (RÉALISATIONS)   \n",
       "\n",
       "                                  Sentence_CV1_clean  Sentence_line  Nb_tokens  \n",
       "0         SELMA LAFKIR CORDE 80 CODEUSE ENTHOUSIASTE              0          6  \n",
       "1                                             PROFIL              1          1  \n",
       "2    PERSONNEL Je suis étudiante au lycée Condorcet.              2          8  \n",
       "3  Je code depuis l'âge de 13 ans et j'aime créer...              3         24  \n",
       "4                                       RÉALISATIONS              4          1  "
      ]
     },
     "execution_count": 4,
     "metadata": {},
     "output_type": "execute_result"
    }
   ],
   "source": [
    "## Création d'une colonne qui compte le nombre de token dans la phrase\n",
    "df['Nb_tokens'] = df['Sentence_CV1'].apply(lambda x : len(x))\n",
    "df.head()"
   ]
  },
  {
   "cell_type": "code",
   "execution_count": 5,
   "metadata": {},
   "outputs": [
    {
     "data": {
      "text/plain": [
       "214"
      ]
     },
     "execution_count": 5,
     "metadata": {},
     "output_type": "execute_result"
    }
   ],
   "source": [
    "## Création d'une colonne pour connaitre la position en pourcentage de la phrase par rapport au texte entier\n",
    "df['Nb_tokens'].sum()"
   ]
  },
  {
   "cell_type": "code",
   "execution_count": 6,
   "metadata": {},
   "outputs": [
    {
     "data": {
      "text/plain": [
       "6"
      ]
     },
     "execution_count": 6,
     "metadata": {},
     "output_type": "execute_result"
    }
   ],
   "source": [
    "df['Nb_tokens'][0]"
   ]
  },
  {
   "cell_type": "code",
   "execution_count": 7,
   "metadata": {},
   "outputs": [
    {
     "name": "stderr",
     "output_type": "stream",
     "text": [
      "C:\\Users\\Dany\\AppData\\Local\\Temp\\ipykernel_4932\\3557154337.py:6: SettingWithCopyWarning: \n",
      "A value is trying to be set on a copy of a slice from a DataFrame\n",
      "\n",
      "See the caveats in the documentation: https://pandas.pydata.org/pandas-docs/stable/user_guide/indexing.html#returning-a-view-versus-a-copy\n",
      "  df['%texte_lu'][i] = round(((token_count / df['Nb_tokens'].sum()) * 100),2)\n"
     ]
    }
   ],
   "source": [
    "df['%texte_lu'] = 0\n",
    "\n",
    "token_count = 0\n",
    "for i in range(len(df)):\n",
    "    token_count += df['Nb_tokens'][i]\n",
    "    df['%texte_lu'][i] = round(((token_count / df['Nb_tokens'].sum()) * 100),2)"
   ]
  },
  {
   "cell_type": "code",
   "execution_count": 8,
   "metadata": {},
   "outputs": [
    {
     "data": {
      "text/html": [
       "<div>\n",
       "<style scoped>\n",
       "    .dataframe tbody tr th:only-of-type {\n",
       "        vertical-align: middle;\n",
       "    }\n",
       "\n",
       "    .dataframe tbody tr th {\n",
       "        vertical-align: top;\n",
       "    }\n",
       "\n",
       "    .dataframe thead th {\n",
       "        text-align: right;\n",
       "    }\n",
       "</style>\n",
       "<table border=\"1\" class=\"dataframe\">\n",
       "  <thead>\n",
       "    <tr style=\"text-align: right;\">\n",
       "      <th></th>\n",
       "      <th>Sentence_CV1</th>\n",
       "      <th>Sentence_CV1_clean</th>\n",
       "      <th>Sentence_line</th>\n",
       "      <th>Nb_tokens</th>\n",
       "      <th>%texte_lu</th>\n",
       "    </tr>\n",
       "  </thead>\n",
       "  <tbody>\n",
       "    <tr>\n",
       "      <th>0</th>\n",
       "      <td>(SELMA, LAFKIR, CORDE, 80, CODEUSE, ENTHOUSIASTE)</td>\n",
       "      <td>SELMA LAFKIR CORDE 80 CODEUSE ENTHOUSIASTE</td>\n",
       "      <td>0</td>\n",
       "      <td>6</td>\n",
       "      <td>2.80</td>\n",
       "    </tr>\n",
       "    <tr>\n",
       "      <th>1</th>\n",
       "      <td>(PROFIL)</td>\n",
       "      <td>PROFIL</td>\n",
       "      <td>1</td>\n",
       "      <td>1</td>\n",
       "      <td>3.27</td>\n",
       "    </tr>\n",
       "    <tr>\n",
       "      <th>2</th>\n",
       "      <td>(PERSONNEL, Je, suis, étudiante, au, lycée, Co...</td>\n",
       "      <td>PERSONNEL Je suis étudiante au lycée Condorcet.</td>\n",
       "      <td>2</td>\n",
       "      <td>8</td>\n",
       "      <td>7.01</td>\n",
       "    </tr>\n",
       "    <tr>\n",
       "      <th>3</th>\n",
       "      <td>(Je, code, depuis, l', âge, de, 13, ans, et, j...</td>\n",
       "      <td>Je code depuis l'âge de 13 ans et j'aime créer...</td>\n",
       "      <td>3</td>\n",
       "      <td>24</td>\n",
       "      <td>18.22</td>\n",
       "    </tr>\n",
       "    <tr>\n",
       "      <th>4</th>\n",
       "      <td>(RÉALISATIONS)</td>\n",
       "      <td>RÉALISATIONS</td>\n",
       "      <td>4</td>\n",
       "      <td>1</td>\n",
       "      <td>18.69</td>\n",
       "    </tr>\n",
       "  </tbody>\n",
       "</table>\n",
       "</div>"
      ],
      "text/plain": [
       "                                        Sentence_CV1  \\\n",
       "0  (SELMA, LAFKIR, CORDE, 80, CODEUSE, ENTHOUSIASTE)   \n",
       "1                                           (PROFIL)   \n",
       "2  (PERSONNEL, Je, suis, étudiante, au, lycée, Co...   \n",
       "3  (Je, code, depuis, l', âge, de, 13, ans, et, j...   \n",
       "4                                     (RÉALISATIONS)   \n",
       "\n",
       "                                  Sentence_CV1_clean  Sentence_line  \\\n",
       "0         SELMA LAFKIR CORDE 80 CODEUSE ENTHOUSIASTE              0   \n",
       "1                                             PROFIL              1   \n",
       "2    PERSONNEL Je suis étudiante au lycée Condorcet.              2   \n",
       "3  Je code depuis l'âge de 13 ans et j'aime créer...              3   \n",
       "4                                       RÉALISATIONS              4   \n",
       "\n",
       "   Nb_tokens  %texte_lu  \n",
       "0          6       2.80  \n",
       "1          1       3.27  \n",
       "2          8       7.01  \n",
       "3         24      18.22  \n",
       "4          1      18.69  "
      ]
     },
     "execution_count": 8,
     "metadata": {},
     "output_type": "execute_result"
    }
   ],
   "source": [
    "df.head()"
   ]
  },
  {
   "cell_type": "code",
   "execution_count": 9,
   "metadata": {},
   "outputs": [
    {
     "name": "stderr",
     "output_type": "stream",
     "text": [
      "C:\\Users\\Dany\\AppData\\Local\\Temp\\ipykernel_4932\\1570157965.py:6: SettingWithCopyWarning: \n",
      "A value is trying to be set on a copy of a slice from a DataFrame\n",
      "\n",
      "See the caveats in the documentation: https://pandas.pydata.org/pandas-docs/stable/user_guide/indexing.html#returning-a-view-versus-a-copy\n",
      "  df[\"%texte_lu_fin_ligne\"][i] += (nb_tokens_total - df['Nb_tokens'][i]) / nb_tokens_total\n"
     ]
    }
   ],
   "source": [
    "df[\"%texte_lu_fin_ligne\"] = 0\n",
    "\n",
    "nb_tokens_total = df[\"Nb_tokens\"].sum()\n",
    "\n",
    "for i in range(len(df)):\n",
    "    df[\"%texte_lu_fin_ligne\"][i] += (nb_tokens_total - df['Nb_tokens'][i]) / nb_tokens_total"
   ]
  },
  {
   "cell_type": "code",
   "execution_count": 10,
   "metadata": {},
   "outputs": [
    {
     "data": {
      "text/html": [
       "<div>\n",
       "<style scoped>\n",
       "    .dataframe tbody tr th:only-of-type {\n",
       "        vertical-align: middle;\n",
       "    }\n",
       "\n",
       "    .dataframe tbody tr th {\n",
       "        vertical-align: top;\n",
       "    }\n",
       "\n",
       "    .dataframe thead th {\n",
       "        text-align: right;\n",
       "    }\n",
       "</style>\n",
       "<table border=\"1\" class=\"dataframe\">\n",
       "  <thead>\n",
       "    <tr style=\"text-align: right;\">\n",
       "      <th></th>\n",
       "      <th>Sentence_CV1</th>\n",
       "      <th>Sentence_CV1_clean</th>\n",
       "      <th>Sentence_line</th>\n",
       "      <th>Nb_tokens</th>\n",
       "      <th>%texte_lu</th>\n",
       "      <th>%texte_lu_fin_ligne</th>\n",
       "    </tr>\n",
       "  </thead>\n",
       "  <tbody>\n",
       "    <tr>\n",
       "      <th>0</th>\n",
       "      <td>(SELMA, LAFKIR, CORDE, 80, CODEUSE, ENTHOUSIASTE)</td>\n",
       "      <td>SELMA LAFKIR CORDE 80 CODEUSE ENTHOUSIASTE</td>\n",
       "      <td>0</td>\n",
       "      <td>6</td>\n",
       "      <td>2.80</td>\n",
       "      <td>0.971963</td>\n",
       "    </tr>\n",
       "    <tr>\n",
       "      <th>1</th>\n",
       "      <td>(PROFIL)</td>\n",
       "      <td>PROFIL</td>\n",
       "      <td>1</td>\n",
       "      <td>1</td>\n",
       "      <td>3.27</td>\n",
       "      <td>0.995327</td>\n",
       "    </tr>\n",
       "    <tr>\n",
       "      <th>2</th>\n",
       "      <td>(PERSONNEL, Je, suis, étudiante, au, lycée, Co...</td>\n",
       "      <td>PERSONNEL Je suis étudiante au lycée Condorcet.</td>\n",
       "      <td>2</td>\n",
       "      <td>8</td>\n",
       "      <td>7.01</td>\n",
       "      <td>0.962617</td>\n",
       "    </tr>\n",
       "    <tr>\n",
       "      <th>3</th>\n",
       "      <td>(Je, code, depuis, l', âge, de, 13, ans, et, j...</td>\n",
       "      <td>Je code depuis l'âge de 13 ans et j'aime créer...</td>\n",
       "      <td>3</td>\n",
       "      <td>24</td>\n",
       "      <td>18.22</td>\n",
       "      <td>0.887850</td>\n",
       "    </tr>\n",
       "    <tr>\n",
       "      <th>4</th>\n",
       "      <td>(RÉALISATIONS)</td>\n",
       "      <td>RÉALISATIONS</td>\n",
       "      <td>4</td>\n",
       "      <td>1</td>\n",
       "      <td>18.69</td>\n",
       "      <td>0.995327</td>\n",
       "    </tr>\n",
       "  </tbody>\n",
       "</table>\n",
       "</div>"
      ],
      "text/plain": [
       "                                        Sentence_CV1  \\\n",
       "0  (SELMA, LAFKIR, CORDE, 80, CODEUSE, ENTHOUSIASTE)   \n",
       "1                                           (PROFIL)   \n",
       "2  (PERSONNEL, Je, suis, étudiante, au, lycée, Co...   \n",
       "3  (Je, code, depuis, l', âge, de, 13, ans, et, j...   \n",
       "4                                     (RÉALISATIONS)   \n",
       "\n",
       "                                  Sentence_CV1_clean  Sentence_line  \\\n",
       "0         SELMA LAFKIR CORDE 80 CODEUSE ENTHOUSIASTE              0   \n",
       "1                                             PROFIL              1   \n",
       "2    PERSONNEL Je suis étudiante au lycée Condorcet.              2   \n",
       "3  Je code depuis l'âge de 13 ans et j'aime créer...              3   \n",
       "4                                       RÉALISATIONS              4   \n",
       "\n",
       "   Nb_tokens  %texte_lu  %texte_lu_fin_ligne  \n",
       "0          6       2.80             0.971963  \n",
       "1          1       3.27             0.995327  \n",
       "2          8       7.01             0.962617  \n",
       "3         24      18.22             0.887850  \n",
       "4          1      18.69             0.995327  "
      ]
     },
     "execution_count": 10,
     "metadata": {},
     "output_type": "execute_result"
    }
   ],
   "source": [
    "df.head()"
   ]
  },
  {
   "cell_type": "code",
   "execution_count": 11,
   "metadata": {},
   "outputs": [
    {
     "name": "stderr",
     "output_type": "stream",
     "text": [
      "C:\\Users\\Dany\\AppData\\Local\\Temp\\ipykernel_4932\\1926000585.py:11: SettingWithCopyWarning: \n",
      "A value is trying to be set on a copy of a slice from a DataFrame\n",
      "\n",
      "See the caveats in the documentation: https://pandas.pydata.org/pandas-docs/stable/user_guide/indexing.html#returning-a-view-versus-a-copy\n",
      "  df[\"Grammar\"][i] = list_token_pos\n"
     ]
    }
   ],
   "source": [
    "## Création de la colonne Grammaire pour connaitre le type de mots de la phrase\n",
    "\n",
    "df[\"Grammar\"] = 0\n",
    "\n",
    "for i in range(0,len(df)):\n",
    "    doc = df.iloc[i,1]\n",
    "    doc = nlp(doc)\n",
    "    list_token_pos = []\n",
    "    for token in doc:\n",
    "        list_token_pos.append(token.pos_)\n",
    "        df[\"Grammar\"][i] = list_token_pos"
   ]
  },
  {
   "cell_type": "code",
   "execution_count": 12,
   "metadata": {},
   "outputs": [
    {
     "data": {
      "text/html": [
       "<div>\n",
       "<style scoped>\n",
       "    .dataframe tbody tr th:only-of-type {\n",
       "        vertical-align: middle;\n",
       "    }\n",
       "\n",
       "    .dataframe tbody tr th {\n",
       "        vertical-align: top;\n",
       "    }\n",
       "\n",
       "    .dataframe thead th {\n",
       "        text-align: right;\n",
       "    }\n",
       "</style>\n",
       "<table border=\"1\" class=\"dataframe\">\n",
       "  <thead>\n",
       "    <tr style=\"text-align: right;\">\n",
       "      <th></th>\n",
       "      <th>Sentence_CV1</th>\n",
       "      <th>Sentence_CV1_clean</th>\n",
       "      <th>Sentence_line</th>\n",
       "      <th>Nb_tokens</th>\n",
       "      <th>%texte_lu</th>\n",
       "      <th>%texte_lu_fin_ligne</th>\n",
       "      <th>Grammar</th>\n",
       "    </tr>\n",
       "  </thead>\n",
       "  <tbody>\n",
       "    <tr>\n",
       "      <th>0</th>\n",
       "      <td>(SELMA, LAFKIR, CORDE, 80, CODEUSE, ENTHOUSIASTE)</td>\n",
       "      <td>SELMA LAFKIR CORDE 80 CODEUSE ENTHOUSIASTE</td>\n",
       "      <td>0</td>\n",
       "      <td>6</td>\n",
       "      <td>2.80</td>\n",
       "      <td>0.971963</td>\n",
       "      <td>[NOUN, PROPN, VERB, NUM, PROPN, PROPN]</td>\n",
       "    </tr>\n",
       "    <tr>\n",
       "      <th>1</th>\n",
       "      <td>(PROFIL)</td>\n",
       "      <td>PROFIL</td>\n",
       "      <td>1</td>\n",
       "      <td>1</td>\n",
       "      <td>3.27</td>\n",
       "      <td>0.995327</td>\n",
       "      <td>[NOUN]</td>\n",
       "    </tr>\n",
       "    <tr>\n",
       "      <th>2</th>\n",
       "      <td>(PERSONNEL, Je, suis, étudiante, au, lycée, Co...</td>\n",
       "      <td>PERSONNEL Je suis étudiante au lycée Condorcet.</td>\n",
       "      <td>2</td>\n",
       "      <td>8</td>\n",
       "      <td>7.01</td>\n",
       "      <td>0.962617</td>\n",
       "      <td>[NOUN, PRON, AUX, ADJ, ADP, NOUN, PROPN, PUNCT]</td>\n",
       "    </tr>\n",
       "    <tr>\n",
       "      <th>3</th>\n",
       "      <td>(Je, code, depuis, l', âge, de, 13, ans, et, j...</td>\n",
       "      <td>Je code depuis l'âge de 13 ans et j'aime créer...</td>\n",
       "      <td>3</td>\n",
       "      <td>24</td>\n",
       "      <td>18.22</td>\n",
       "      <td>0.887850</td>\n",
       "      <td>[PRON, VERB, ADP, DET, NOUN, ADP, NUM, NOUN, C...</td>\n",
       "    </tr>\n",
       "    <tr>\n",
       "      <th>4</th>\n",
       "      <td>(RÉALISATIONS)</td>\n",
       "      <td>RÉALISATIONS</td>\n",
       "      <td>4</td>\n",
       "      <td>1</td>\n",
       "      <td>18.69</td>\n",
       "      <td>0.995327</td>\n",
       "      <td>[NOUN]</td>\n",
       "    </tr>\n",
       "  </tbody>\n",
       "</table>\n",
       "</div>"
      ],
      "text/plain": [
       "                                        Sentence_CV1  \\\n",
       "0  (SELMA, LAFKIR, CORDE, 80, CODEUSE, ENTHOUSIASTE)   \n",
       "1                                           (PROFIL)   \n",
       "2  (PERSONNEL, Je, suis, étudiante, au, lycée, Co...   \n",
       "3  (Je, code, depuis, l', âge, de, 13, ans, et, j...   \n",
       "4                                     (RÉALISATIONS)   \n",
       "\n",
       "                                  Sentence_CV1_clean  Sentence_line  \\\n",
       "0         SELMA LAFKIR CORDE 80 CODEUSE ENTHOUSIASTE              0   \n",
       "1                                             PROFIL              1   \n",
       "2    PERSONNEL Je suis étudiante au lycée Condorcet.              2   \n",
       "3  Je code depuis l'âge de 13 ans et j'aime créer...              3   \n",
       "4                                       RÉALISATIONS              4   \n",
       "\n",
       "   Nb_tokens  %texte_lu  %texte_lu_fin_ligne  \\\n",
       "0          6       2.80             0.971963   \n",
       "1          1       3.27             0.995327   \n",
       "2          8       7.01             0.962617   \n",
       "3         24      18.22             0.887850   \n",
       "4          1      18.69             0.995327   \n",
       "\n",
       "                                             Grammar  \n",
       "0             [NOUN, PROPN, VERB, NUM, PROPN, PROPN]  \n",
       "1                                             [NOUN]  \n",
       "2    [NOUN, PRON, AUX, ADJ, ADP, NOUN, PROPN, PUNCT]  \n",
       "3  [PRON, VERB, ADP, DET, NOUN, ADP, NUM, NOUN, C...  \n",
       "4                                             [NOUN]  "
      ]
     },
     "execution_count": 12,
     "metadata": {},
     "output_type": "execute_result"
    }
   ],
   "source": [
    "df.head()"
   ]
  },
  {
   "cell_type": "markdown",
   "metadata": {},
   "source": [
    "Fin création featuring - Part 1"
   ]
  },
  {
   "cell_type": "markdown",
   "metadata": {},
   "source": []
  }
 ],
 "metadata": {
  "kernelspec": {
   "display_name": "Python 3.8.8 ('base')",
   "language": "python",
   "name": "python3"
  },
  "language_info": {
   "codemirror_mode": {
    "name": "ipython",
    "version": 3
   },
   "file_extension": ".py",
   "mimetype": "text/x-python",
   "name": "python",
   "nbconvert_exporter": "python",
   "pygments_lexer": "ipython3",
   "version": "3.8.8"
  },
  "orig_nbformat": 4,
  "vscode": {
   "interpreter": {
    "hash": "de3c26e6ce99fdd1b8cf42170bfea1efe2e407789632cce096fb11ae10dab296"
   }
  }
 },
 "nbformat": 4,
 "nbformat_minor": 2
}
