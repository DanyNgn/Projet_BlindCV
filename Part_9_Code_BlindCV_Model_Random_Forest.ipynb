{
 "cells": [
  {
   "cell_type": "markdown",
   "metadata": {},
   "source": [
    "## Part 9 - Random Forest"
   ]
  },
  {
   "cell_type": "code",
   "execution_count": 3,
   "metadata": {},
   "outputs": [
    {
     "name": "stderr",
     "output_type": "stream",
     "text": [
      "WARNING: pip is being invoked by an old script wrapper. This will fail in a future version of pip.\n",
      "Please see https://github.com/pypa/pip/issues/5599 for advice on fixing the underlying issue.\n",
      "To avoid this problem you can invoke Python with '-m pip' instead of running pip directly.\n"
     ]
    },
    {
     "name": "stdout",
     "output_type": "stream",
     "text": [
      "Requirement already satisfied: matplotlib in c:\\python39\\lib\\site-packages (3.5.3)\n",
      "Requirement already satisfied: cycler>=0.10 in c:\\python39\\lib\\site-packages (from matplotlib) (0.11.0)\n",
      "Requirement already satisfied: python-dateutil>=2.7 in c:\\users\\dany\\appdata\\roaming\\python\\python39\\site-packages (from matplotlib) (2.8.2)\n",
      "Requirement already satisfied: pillow>=6.2.0 in c:\\python39\\lib\\site-packages (from matplotlib) (9.2.0)\n",
      "Requirement already satisfied: numpy>=1.17 in c:\\python39\\lib\\site-packages (from matplotlib) (1.23.1)\n",
      "Requirement already satisfied: packaging>=20.0 in c:\\users\\dany\\appdata\\roaming\\python\\python39\\site-packages (from matplotlib) (21.3)\n",
      "Requirement already satisfied: fonttools>=4.22.0 in c:\\python39\\lib\\site-packages (from matplotlib) (4.34.4)\n",
      "Requirement already satisfied: pyparsing>=2.2.1 in c:\\users\\dany\\appdata\\roaming\\python\\python39\\site-packages (from matplotlib) (3.0.9)\n",
      "Requirement already satisfied: kiwisolver>=1.0.1 in c:\\python39\\lib\\site-packages (from matplotlib) (1.4.4)\n",
      "Requirement already satisfied: six>=1.5 in c:\\users\\dany\\appdata\\roaming\\python\\python39\\site-packages (from python-dateutil>=2.7->matplotlib) (1.16.0)\n"
     ]
    },
    {
     "name": "stderr",
     "output_type": "stream",
     "text": [
      "WARNING: You are using pip version 20.2.3; however, version 22.2.2 is available.\n",
      "You should consider upgrading via the 'c:\\Python39\\python.exe -m pip install --upgrade pip' command.\n"
     ]
    },
    {
     "data": {
      "text/plain": [
       "0"
      ]
     },
     "execution_count": 3,
     "metadata": {},
     "output_type": "execute_result"
    }
   ],
   "source": [
    "import pip \n",
    "pip.main([\"install\",\"matplotlib\"]) "
   ]
  },
  {
   "cell_type": "code",
   "execution_count": 7,
   "metadata": {},
   "outputs": [
    {
     "name": "stdout",
     "output_type": "stream",
     "text": [
      "Requirement already up-to-date: scikit-learn in c:\\python39\\lib\\site-packages (1.1.2)\n",
      "Requirement already satisfied, skipping upgrade: joblib>=1.0.0 in c:\\python39\\lib\\site-packages (from scikit-learn) (1.1.0)\n",
      "Requirement already satisfied, skipping upgrade: threadpoolctl>=2.0.0 in c:\\python39\\lib\\site-packages (from scikit-learn) (3.1.0)\n",
      "Requirement already satisfied, skipping upgrade: numpy>=1.17.3 in c:\\python39\\lib\\site-packages (from scikit-learn) (1.23.1)\n",
      "Requirement already satisfied, skipping upgrade: scipy>=1.3.2 in c:\\python39\\lib\\site-packages (from scikit-learn) (1.9.0)\n"
     ]
    },
    {
     "name": "stderr",
     "output_type": "stream",
     "text": [
      "WARNING: You are using pip version 20.2.3; however, version 22.2.2 is available.\n",
      "You should consider upgrading via the 'c:\\python39\\python.exe -m pip install --upgrade pip' command.\n"
     ]
    }
   ],
   "source": [
    "!pip install --upgrade scikit-learn"
   ]
  },
  {
   "cell_type": "code",
   "execution_count": 30,
   "metadata": {},
   "outputs": [],
   "source": [
    "# Chargement des librairies nécessaires\n",
    "import pandas as pd\n",
    "import numpy as np\n",
    "import matplotlib.pyplot as plt \n",
    "from sklearn.model_selection import train_test_split\n",
    "from sklearn.pipeline import Pipeline\n",
    "from sklearn.impute import SimpleImputer\n",
    "from sklearn.preprocessing import  OneHotEncoder, StandardScaler, LabelEncoder\n",
    "from sklearn.compose import ColumnTransformer\n",
    "from sklearn.linear_model import LogisticRegression\n",
    "from sklearn.ensemble import RandomForestClassifier\n",
    "from sklearn.model_selection import GridSearchCV\n",
    "from sklearn.metrics import accuracy_score, f1_score, RocCurveDisplay, ConfusionMatrixDisplay\n",
    "from sklearn.metrics import accuracy_score, f1_score, confusion_matrix, roc_curve\n",
    "from sklearn.model_selection import cross_val_score\n",
    "import warnings\n",
    "warnings.filterwarnings(\"ignore\", category=FutureWarning) # to avoid deprecation warnings\n",
    "\n",
    "import plotly.express as px\n",
    "import plotly.graph_objects as go\n",
    "import plotly.io as pio"
   ]
  },
  {
   "cell_type": "code",
   "execution_count": 12,
   "metadata": {},
   "outputs": [
    {
     "data": {
      "text/html": [
       "<div>\n",
       "<style scoped>\n",
       "    .dataframe tbody tr th:only-of-type {\n",
       "        vertical-align: middle;\n",
       "    }\n",
       "\n",
       "    .dataframe tbody tr th {\n",
       "        vertical-align: top;\n",
       "    }\n",
       "\n",
       "    .dataframe thead th {\n",
       "        text-align: right;\n",
       "    }\n",
       "</style>\n",
       "<table border=\"1\" class=\"dataframe\">\n",
       "  <thead>\n",
       "    <tr style=\"text-align: right;\">\n",
       "      <th></th>\n",
       "      <th>CV_Sentences</th>\n",
       "      <th>Sentences_CV_clean</th>\n",
       "      <th>CV_Number</th>\n",
       "      <th>Sentence_line</th>\n",
       "      <th>Nb_tokens</th>\n",
       "      <th>%texte_lu</th>\n",
       "      <th>%texte_lu_fin_ligne</th>\n",
       "      <th>Is_alpha</th>\n",
       "      <th>Grammar</th>\n",
       "      <th>Label</th>\n",
       "    </tr>\n",
       "  </thead>\n",
       "  <tbody>\n",
       "    <tr>\n",
       "      <th>0</th>\n",
       "      <td>SELMA LAFKIR CORDE 80 CODEUSE ENTHOUSIASTE</td>\n",
       "      <td>SELMA LAFKIR CORDE 80 CODEUSE ENTHOUSIASTE</td>\n",
       "      <td>CV_1</td>\n",
       "      <td>0.0</td>\n",
       "      <td>6.0</td>\n",
       "      <td>2.80</td>\n",
       "      <td>97.20</td>\n",
       "      <td>[True, True, True, False, True, True]</td>\n",
       "      <td>['NOUN', 'PROPN', 'VERB', 'NUM', 'PROPN', 'PRO...</td>\n",
       "      <td>1</td>\n",
       "    </tr>\n",
       "    <tr>\n",
       "      <th>1</th>\n",
       "      <td>PROFIL</td>\n",
       "      <td>PROFIL</td>\n",
       "      <td>CV_1</td>\n",
       "      <td>1.0</td>\n",
       "      <td>1.0</td>\n",
       "      <td>3.27</td>\n",
       "      <td>96.73</td>\n",
       "      <td>[True]</td>\n",
       "      <td>['NOUN']</td>\n",
       "      <td>0</td>\n",
       "    </tr>\n",
       "    <tr>\n",
       "      <th>2</th>\n",
       "      <td>PERSONNEL Je suis Ã©tudiante au lycÃ©e Condorcet.</td>\n",
       "      <td>PERSONNEL Je suis Ã©tudiante au lycÃ©e Condorcet.</td>\n",
       "      <td>CV_1</td>\n",
       "      <td>2.0</td>\n",
       "      <td>8.0</td>\n",
       "      <td>7.01</td>\n",
       "      <td>92.99</td>\n",
       "      <td>[True, True, True, True, True, True, True, False]</td>\n",
       "      <td>['NOUN', 'PRON', 'AUX', 'ADJ', 'ADP', 'NOUN', ...</td>\n",
       "      <td>0</td>\n",
       "    </tr>\n",
       "    <tr>\n",
       "      <th>3</th>\n",
       "      <td>Je code depuis l'Ã¢ge de 13 ans et j'aime crÃ©...</td>\n",
       "      <td>Je code depuis l'Ã¢ge de 13 ans et j'aime crÃ©...</td>\n",
       "      <td>CV_1</td>\n",
       "      <td>3.0</td>\n",
       "      <td>24.0</td>\n",
       "      <td>18.22</td>\n",
       "      <td>81.78</td>\n",
       "      <td>[True, True, True, False, True, True, False, T...</td>\n",
       "      <td>['PRON', 'VERB', 'ADP', 'DET', 'NOUN', 'ADP', ...</td>\n",
       "      <td>0</td>\n",
       "    </tr>\n",
       "    <tr>\n",
       "      <th>4</th>\n",
       "      <td>RÃALISATIONS</td>\n",
       "      <td>RÃALISATIONS</td>\n",
       "      <td>CV_1</td>\n",
       "      <td>4.0</td>\n",
       "      <td>1.0</td>\n",
       "      <td>18.69</td>\n",
       "      <td>81.31</td>\n",
       "      <td>[True]</td>\n",
       "      <td>['NOUN']</td>\n",
       "      <td>0</td>\n",
       "    </tr>\n",
       "  </tbody>\n",
       "</table>\n",
       "</div>"
      ],
      "text/plain": [
       "                                        CV_Sentences  \\\n",
       "0         SELMA LAFKIR CORDE 80 CODEUSE ENTHOUSIASTE   \n",
       "1                                             PROFIL   \n",
       "2  PERSONNEL Je suis Ã©tudiante au lycÃ©e Condorcet.   \n",
       "3  Je code depuis l'Ã¢ge de 13 ans et j'aime crÃ©...   \n",
       "4                                      RÃALISATIONS   \n",
       "\n",
       "                                  Sentences_CV_clean CV_Number  Sentence_line  \\\n",
       "0         SELMA LAFKIR CORDE 80 CODEUSE ENTHOUSIASTE      CV_1            0.0   \n",
       "1                                             PROFIL      CV_1            1.0   \n",
       "2  PERSONNEL Je suis Ã©tudiante au lycÃ©e Condorcet.      CV_1            2.0   \n",
       "3  Je code depuis l'Ã¢ge de 13 ans et j'aime crÃ©...      CV_1            3.0   \n",
       "4                                      RÃALISATIONS      CV_1            4.0   \n",
       "\n",
       "   Nb_tokens  %texte_lu  %texte_lu_fin_ligne  \\\n",
       "0        6.0       2.80                97.20   \n",
       "1        1.0       3.27                96.73   \n",
       "2        8.0       7.01                92.99   \n",
       "3       24.0      18.22                81.78   \n",
       "4        1.0      18.69                81.31   \n",
       "\n",
       "                                            Is_alpha  \\\n",
       "0              [True, True, True, False, True, True]   \n",
       "1                                             [True]   \n",
       "2  [True, True, True, True, True, True, True, False]   \n",
       "3  [True, True, True, False, True, True, False, T...   \n",
       "4                                             [True]   \n",
       "\n",
       "                                             Grammar  Label  \n",
       "0  ['NOUN', 'PROPN', 'VERB', 'NUM', 'PROPN', 'PRO...      1  \n",
       "1                                           ['NOUN']      0  \n",
       "2  ['NOUN', 'PRON', 'AUX', 'ADJ', 'ADP', 'NOUN', ...      0  \n",
       "3  ['PRON', 'VERB', 'ADP', 'DET', 'NOUN', 'ADP', ...      0  \n",
       "4                                           ['NOUN']      0  "
      ]
     },
     "execution_count": 12,
     "metadata": {},
     "output_type": "execute_result"
    }
   ],
   "source": [
    "# Chargement de la dataset\n",
    "dataset = pd.read_csv(\"dataset_CV_labelise.csv\", delimiter = \";\", encoding = \"ISO-8859-1\")\n",
    "dataset.head()"
   ]
  },
  {
   "cell_type": "code",
   "execution_count": 13,
   "metadata": {},
   "outputs": [
    {
     "data": {
      "text/plain": [
       "(4049, 10)"
      ]
     },
     "execution_count": 13,
     "metadata": {},
     "output_type": "execute_result"
    }
   ],
   "source": [
    "dataset.shape"
   ]
  },
  {
   "cell_type": "code",
   "execution_count": 14,
   "metadata": {},
   "outputs": [
    {
     "data": {
      "text/html": [
       "<div>\n",
       "<style scoped>\n",
       "    .dataframe tbody tr th:only-of-type {\n",
       "        vertical-align: middle;\n",
       "    }\n",
       "\n",
       "    .dataframe tbody tr th {\n",
       "        vertical-align: top;\n",
       "    }\n",
       "\n",
       "    .dataframe thead th {\n",
       "        text-align: right;\n",
       "    }\n",
       "</style>\n",
       "<table border=\"1\" class=\"dataframe\">\n",
       "  <thead>\n",
       "    <tr style=\"text-align: right;\">\n",
       "      <th></th>\n",
       "      <th>CV_Sentences</th>\n",
       "      <th>Sentences_CV_clean</th>\n",
       "      <th>CV_Number</th>\n",
       "      <th>Sentence_line</th>\n",
       "      <th>Nb_tokens</th>\n",
       "      <th>%texte_lu</th>\n",
       "      <th>%texte_lu_fin_ligne</th>\n",
       "      <th>Is_alpha</th>\n",
       "      <th>Grammar</th>\n",
       "      <th>Label</th>\n",
       "    </tr>\n",
       "  </thead>\n",
       "  <tbody>\n",
       "    <tr>\n",
       "      <th>count</th>\n",
       "      <td>4049</td>\n",
       "      <td>4045</td>\n",
       "      <td>4047</td>\n",
       "      <td>4047.000000</td>\n",
       "      <td>4047.000000</td>\n",
       "      <td>4047.000000</td>\n",
       "      <td>4047.000000</td>\n",
       "      <td>4047</td>\n",
       "      <td>4047</td>\n",
       "      <td>4049.000000</td>\n",
       "    </tr>\n",
       "    <tr>\n",
       "      <th>unique</th>\n",
       "      <td>2829</td>\n",
       "      <td>2825</td>\n",
       "      <td>145</td>\n",
       "      <td>NaN</td>\n",
       "      <td>NaN</td>\n",
       "      <td>NaN</td>\n",
       "      <td>NaN</td>\n",
       "      <td>1251</td>\n",
       "      <td>2058</td>\n",
       "      <td>NaN</td>\n",
       "    </tr>\n",
       "    <tr>\n",
       "      <th>top</th>\n",
       "      <td>#NOM?</td>\n",
       "      <td>#NOM?</td>\n",
       "      <td>CV_10</td>\n",
       "      <td>NaN</td>\n",
       "      <td>NaN</td>\n",
       "      <td>NaN</td>\n",
       "      <td>NaN</td>\n",
       "      <td>[False]</td>\n",
       "      <td>['NOUN']</td>\n",
       "      <td>NaN</td>\n",
       "    </tr>\n",
       "    <tr>\n",
       "      <th>freq</th>\n",
       "      <td>131</td>\n",
       "      <td>131</td>\n",
       "      <td>66</td>\n",
       "      <td>NaN</td>\n",
       "      <td>NaN</td>\n",
       "      <td>NaN</td>\n",
       "      <td>NaN</td>\n",
       "      <td>463</td>\n",
       "      <td>249</td>\n",
       "      <td>NaN</td>\n",
       "    </tr>\n",
       "    <tr>\n",
       "      <th>mean</th>\n",
       "      <td>NaN</td>\n",
       "      <td>NaN</td>\n",
       "      <td>NaN</td>\n",
       "      <td>15.822090</td>\n",
       "      <td>9.097850</td>\n",
       "      <td>50.400032</td>\n",
       "      <td>49.599970</td>\n",
       "      <td>NaN</td>\n",
       "      <td>NaN</td>\n",
       "      <td>0.040257</td>\n",
       "    </tr>\n",
       "    <tr>\n",
       "      <th>std</th>\n",
       "      <td>NaN</td>\n",
       "      <td>NaN</td>\n",
       "      <td>NaN</td>\n",
       "      <td>11.372538</td>\n",
       "      <td>10.625067</td>\n",
       "      <td>30.183407</td>\n",
       "      <td>30.183408</td>\n",
       "      <td>NaN</td>\n",
       "      <td>NaN</td>\n",
       "      <td>0.196585</td>\n",
       "    </tr>\n",
       "    <tr>\n",
       "      <th>min</th>\n",
       "      <td>NaN</td>\n",
       "      <td>NaN</td>\n",
       "      <td>NaN</td>\n",
       "      <td>0.000000</td>\n",
       "      <td>1.000000</td>\n",
       "      <td>0.240000</td>\n",
       "      <td>0.000000</td>\n",
       "      <td>NaN</td>\n",
       "      <td>NaN</td>\n",
       "      <td>0.000000</td>\n",
       "    </tr>\n",
       "    <tr>\n",
       "      <th>25%</th>\n",
       "      <td>NaN</td>\n",
       "      <td>NaN</td>\n",
       "      <td>NaN</td>\n",
       "      <td>7.000000</td>\n",
       "      <td>2.000000</td>\n",
       "      <td>24.310000</td>\n",
       "      <td>23.635000</td>\n",
       "      <td>NaN</td>\n",
       "      <td>NaN</td>\n",
       "      <td>0.000000</td>\n",
       "    </tr>\n",
       "    <tr>\n",
       "      <th>50%</th>\n",
       "      <td>NaN</td>\n",
       "      <td>NaN</td>\n",
       "      <td>NaN</td>\n",
       "      <td>14.000000</td>\n",
       "      <td>5.000000</td>\n",
       "      <td>49.760000</td>\n",
       "      <td>50.240000</td>\n",
       "      <td>NaN</td>\n",
       "      <td>NaN</td>\n",
       "      <td>0.000000</td>\n",
       "    </tr>\n",
       "    <tr>\n",
       "      <th>75%</th>\n",
       "      <td>NaN</td>\n",
       "      <td>NaN</td>\n",
       "      <td>NaN</td>\n",
       "      <td>23.000000</td>\n",
       "      <td>12.000000</td>\n",
       "      <td>76.365000</td>\n",
       "      <td>75.690000</td>\n",
       "      <td>NaN</td>\n",
       "      <td>NaN</td>\n",
       "      <td>0.000000</td>\n",
       "    </tr>\n",
       "    <tr>\n",
       "      <th>max</th>\n",
       "      <td>NaN</td>\n",
       "      <td>NaN</td>\n",
       "      <td>NaN</td>\n",
       "      <td>65.000000</td>\n",
       "      <td>109.000000</td>\n",
       "      <td>100.000000</td>\n",
       "      <td>99.760000</td>\n",
       "      <td>NaN</td>\n",
       "      <td>NaN</td>\n",
       "      <td>1.000000</td>\n",
       "    </tr>\n",
       "  </tbody>\n",
       "</table>\n",
       "</div>"
      ],
      "text/plain": [
       "       CV_Sentences Sentences_CV_clean CV_Number  Sentence_line    Nb_tokens  \\\n",
       "count          4049               4045      4047    4047.000000  4047.000000   \n",
       "unique         2829               2825       145            NaN          NaN   \n",
       "top           #NOM?              #NOM?     CV_10            NaN          NaN   \n",
       "freq            131                131        66            NaN          NaN   \n",
       "mean            NaN                NaN       NaN      15.822090     9.097850   \n",
       "std             NaN                NaN       NaN      11.372538    10.625067   \n",
       "min             NaN                NaN       NaN       0.000000     1.000000   \n",
       "25%             NaN                NaN       NaN       7.000000     2.000000   \n",
       "50%             NaN                NaN       NaN      14.000000     5.000000   \n",
       "75%             NaN                NaN       NaN      23.000000    12.000000   \n",
       "max             NaN                NaN       NaN      65.000000   109.000000   \n",
       "\n",
       "          %texte_lu  %texte_lu_fin_ligne Is_alpha   Grammar        Label  \n",
       "count   4047.000000          4047.000000     4047      4047  4049.000000  \n",
       "unique          NaN                  NaN     1251      2058          NaN  \n",
       "top             NaN                  NaN  [False]  ['NOUN']          NaN  \n",
       "freq            NaN                  NaN      463       249          NaN  \n",
       "mean      50.400032            49.599970      NaN       NaN     0.040257  \n",
       "std       30.183407            30.183408      NaN       NaN     0.196585  \n",
       "min        0.240000             0.000000      NaN       NaN     0.000000  \n",
       "25%       24.310000            23.635000      NaN       NaN     0.000000  \n",
       "50%       49.760000            50.240000      NaN       NaN     0.000000  \n",
       "75%       76.365000            75.690000      NaN       NaN     0.000000  \n",
       "max      100.000000            99.760000      NaN       NaN     1.000000  "
      ]
     },
     "metadata": {},
     "output_type": "display_data"
    }
   ],
   "source": [
    "data_desc = dataset.describe(include='all')\n",
    "display(data_desc)"
   ]
  },
  {
   "cell_type": "code",
   "execution_count": 15,
   "metadata": {},
   "outputs": [
    {
     "data": {
      "text/plain": [
       "CV_Sentences           0.000000\n",
       "Sentences_CV_clean     0.098790\n",
       "CV_Number              0.049395\n",
       "Sentence_line          0.049395\n",
       "Nb_tokens              0.049395\n",
       "%texte_lu              0.049395\n",
       "%texte_lu_fin_ligne    0.049395\n",
       "Is_alpha               0.049395\n",
       "Grammar                0.049395\n",
       "Label                  0.000000\n",
       "dtype: float64"
      ]
     },
     "metadata": {},
     "output_type": "display_data"
    }
   ],
   "source": [
    "display(100*dataset.isnull().sum()/dataset.shape[0])"
   ]
  },
  {
   "cell_type": "code",
   "execution_count": 16,
   "metadata": {},
   "outputs": [
    {
     "data": {
      "text/plain": [
       "(3918, 10)"
      ]
     },
     "execution_count": 16,
     "metadata": {},
     "output_type": "execute_result"
    }
   ],
   "source": [
    "dataset[\"Label\"].unique()\n",
    "dataset = dataset.loc[(dataset['CV_Sentences'] != \"#NOM?\"),:]\n",
    "dataset.shape "
   ]
  },
  {
   "cell_type": "code",
   "execution_count": 17,
   "metadata": {},
   "outputs": [
    {
     "data": {
      "text/plain": [
       "(3914, 10)"
      ]
     },
     "execution_count": 17,
     "metadata": {},
     "output_type": "execute_result"
    }
   ],
   "source": [
    "dataset = dataset.loc[(dataset['CV_Sentences'] != \":\"),:]\n",
    "dataset.shape"
   ]
  },
  {
   "cell_type": "code",
   "execution_count": 18,
   "metadata": {},
   "outputs": [
    {
     "data": {
      "text/plain": [
       "(3910, 10)"
      ]
     },
     "execution_count": 18,
     "metadata": {},
     "output_type": "execute_result"
    }
   ],
   "source": [
    "dataset = dataset.dropna(axis =0, how = 'any')\n",
    "dataset.shape"
   ]
  },
  {
   "cell_type": "code",
   "execution_count": 19,
   "metadata": {},
   "outputs": [
    {
     "data": {
      "text/plain": [
       "CV_Sentences           0.0\n",
       "Sentences_CV_clean     0.0\n",
       "CV_Number              0.0\n",
       "Sentence_line          0.0\n",
       "Nb_tokens              0.0\n",
       "%texte_lu              0.0\n",
       "%texte_lu_fin_ligne    0.0\n",
       "Is_alpha               0.0\n",
       "Grammar                0.0\n",
       "Label                  0.0\n",
       "dtype: float64"
      ]
     },
     "metadata": {},
     "output_type": "display_data"
    }
   ],
   "source": [
    "display(100*dataset.isnull().sum()/dataset.shape[0])"
   ]
  },
  {
   "cell_type": "code",
   "execution_count": 21,
   "metadata": {},
   "outputs": [
    {
     "name": "stdout",
     "output_type": "stream",
     "text": [
      "Separating labels from features...\n",
      "y : \n",
      "0    1\n",
      "1    0\n",
      "2    0\n",
      "3    0\n",
      "4    0\n",
      "Name: Label, dtype: int64\n",
      "\n",
      "X :\n",
      "   Sentence_line  Nb_tokens  %texte_lu  %texte_lu_fin_ligne\n",
      "0            0.0        6.0       2.80                97.20\n",
      "1            1.0        1.0       3.27                96.73\n",
      "2            2.0        8.0       7.01                92.99\n",
      "3            3.0       24.0      18.22                81.78\n",
      "4            4.0        1.0      18.69                81.31\n"
     ]
    }
   ],
   "source": [
    "print(\"Separating labels from features...\")\n",
    "col_list = ['CV_Sentences',\"Sentences_CV_clean\",\"CV_Number\", \"Is_alpha\", \"Grammar\", \"Label\"]\n",
    "target_variable = \"Label\"\n",
    "\n",
    "X = dataset.drop(col_list, axis = 1)\n",
    "y = dataset.loc[:,target_variable]\n",
    "\n",
    "print('y : ')\n",
    "print(y.head())\n",
    "print()\n",
    "print('X :')\n",
    "print(X.head())"
   ]
  },
  {
   "cell_type": "code",
   "execution_count": 22,
   "metadata": {},
   "outputs": [
    {
     "name": "stdout",
     "output_type": "stream",
     "text": [
      "Found numeric features  ['Sentence_line', 'Nb_tokens', '%texte_lu', '%texte_lu_fin_ligne']\n",
      "Found categorical features  []\n"
     ]
    }
   ],
   "source": [
    "# Automatically detect names of numeric/categorical columns\n",
    "numeric_features = []\n",
    "categorical_features = []\n",
    "for i,t in X.dtypes.iteritems():\n",
    "    if ('float' in str(t)) or ('int' in str(t)) :\n",
    "        numeric_features.append(i)\n",
    "    else :\n",
    "        categorical_features.append(i)\n",
    "\n",
    "print('Found numeric features ', numeric_features)\n",
    "print('Found categorical features ', categorical_features)"
   ]
  },
  {
   "cell_type": "code",
   "execution_count": 23,
   "metadata": {},
   "outputs": [],
   "source": [
    "# Divide dataset Train set & Test set \n",
    "X_train, X_test, y_train, y_test = train_test_split(X, y, test_size=0.2, random_state=42, stratify = y)"
   ]
  },
  {
   "cell_type": "code",
   "execution_count": 24,
   "metadata": {},
   "outputs": [],
   "source": [
    "# Create pipeline for numeric features\n",
    "numeric_transformer = SimpleImputer(strategy='mean')"
   ]
  },
  {
   "cell_type": "code",
   "execution_count": 25,
   "metadata": {},
   "outputs": [],
   "source": [
    "# Create pipeline for categorical features\n",
    "categorical_transformer = OneHotEncoder(drop='first')"
   ]
  },
  {
   "cell_type": "code",
   "execution_count": 26,
   "metadata": {},
   "outputs": [],
   "source": [
    "# Use ColumnTransformer to make a preprocessor object that describes all the treatments to be done\n",
    "preprocessor = ColumnTransformer(\n",
    "    transformers=[\n",
    "        ('num', numeric_transformer, numeric_features),\n",
    "        ('cat', categorical_transformer, categorical_features)\n",
    "    ])"
   ]
  },
  {
   "cell_type": "code",
   "execution_count": 32,
   "metadata": {},
   "outputs": [
    {
     "name": "stdout",
     "output_type": "stream",
     "text": [
      "Grid search...\n",
      "...Done.\n",
      "Best hyperparameters :  {'max_depth': 8, 'min_samples_leaf': 2, 'min_samples_split': 8, 'n_estimators': 80}\n",
      "Best validation accuracy :  0.9731454678510548\n"
     ]
    }
   ],
   "source": [
    "# Perform grid search\n",
    "print(\"Grid search...\")\n",
    "classifier = RandomForestClassifier()\n",
    "\n",
    "# Grid of values to be tested\n",
    "params = {\n",
    "    'max_depth': [2, 4, 6, 8, 10],\n",
    "    'min_samples_leaf': [1, 2, 5],\n",
    "    'min_samples_split': [2, 4, 8],\n",
    "    'n_estimators': [10, 20, 40, 60, 80, 100]\n",
    "}\n",
    "gridsearch = GridSearchCV(classifier, param_grid = params, cv = 3) # cv : the number of folds to be used for CV\n",
    "gridsearch.fit(X_train, y_train)\n",
    "print(\"...Done.\")\n",
    "print(\"Best hyperparameters : \", gridsearch.best_params_)\n",
    "print(\"Best validation accuracy : \", gridsearch.best_score_)"
   ]
  },
  {
   "cell_type": "code",
   "execution_count": 33,
   "metadata": {},
   "outputs": [
    {
     "name": "stdout",
     "output_type": "stream",
     "text": [
      "Predictions on training set...\n",
      "...Done.\n",
      "[0 0 0 ... 0 0 0]\n",
      "\n"
     ]
    }
   ],
   "source": [
    "# Predictions on training set\n",
    "print(\"Predictions on training set...\")\n",
    "Y_train_pred = gridsearch.predict(X_train)\n",
    "print(\"...Done.\")\n",
    "print(Y_train_pred)\n",
    "print()"
   ]
  },
  {
   "cell_type": "code",
   "execution_count": 34,
   "metadata": {},
   "outputs": [
    {
     "name": "stdout",
     "output_type": "stream",
     "text": [
      "Predictions on test set...\n",
      "...Done.\n",
      "[0 0 0 0 0 0 0 0 0 0 0 0 0 0 0 0 0 0 0 0 0 1 0 0 0 0 0 0 0 0 0 0 0 0 0 0 0\n",
      " 0 0 0 0 0 0 0 0 0 0 0 0 0 0 0 0 0 0 0 0 0 0 0 0 0 0 0 1 0 0 0 0 0 0 0 0 0\n",
      " 0 0 0 0 1 0 0 0 0 0 0 0 0 0 0 0 0 0 0 0 0 0 0 1 0 0 0 0 0 0 0 0 0 0 0 0 0\n",
      " 0 0 0 0 0 0 0 0 0 0 0 0 0 0 0 0 0 0 0 0 0 0 0 0 0 0 0 0 0 0 0 0 0 1 0 0 0\n",
      " 0 0 0 0 0 0 0 1 0 0 0 0 0 0 0 0 0 0 0 0 0 0 0 0 0 0 0 0 0 0 0 0 0 0 0 0 0\n",
      " 0 0 0 0 0 0 0 0 0 0 0 0 0 0 0 0 0 0 0 0 0 0 0 0 0 0 0 0 0 1 0 0 0 0 1 0 0\n",
      " 0 0 0 0 0 0 0 0 0 0 0 0 0 0 0 0 0 0 1 0 0 0 0 0 0 0 0 0 0 0 0 0 0 0 0 0 0\n",
      " 0 0 0 0 0 0 0 0 0 0 0 0 0 0 0 0 0 0 0 0 0 0 0 0 0 0 0 0 0 0 0 0 0 0 0 0 0\n",
      " 0 0 0 0 0 0 0 0 0 0 0 0 0 0 0 0 0 0 0 0 0 0 0 0 0 0 0 0 0 0 0 0 0 0 0 0 0\n",
      " 0 0 0 0 0 0 0 0 0 0 0 0 0 0 0 0 0 0 0 0 0 0 0 0 0 0 0 0 0 0 0 0 0 0 0 0 0\n",
      " 1 0 0 0 0 0 0 0 0 0 0 0 0 0 0 0 0 0 0 0 0 0 0 0 0 0 0 0 0 0 0 0 0 0 0 0 0\n",
      " 0 0 0 0 0 0 0 0 0 0 0 0 0 0 0 0 0 0 0 0 0 0 1 0 0 0 0 0 0 0 0 0 0 0 0 0 0\n",
      " 0 0 0 0 0 0 0 0 0 0 0 0 0 0 0 0 0 0 0 0 0 0 0 0 0 0 0 0 0 1 0 0 0 1 0 0 0\n",
      " 0 0 0 0 0 0 0 0 0 0 0 0 0 0 0 0 0 0 0 0 0 0 0 0 0 0 0 0 0 0 0 0 0 0 0 0 0\n",
      " 0 0 0 0 0 0 0 0 0 0 0 0 0 0 0 0 0 0 0 0 0 0 0 0 0 0 0 0 0 0 0 0 0 0 0 0 0\n",
      " 0 0 0 0 0 0 0 0 0 0 0 0 0 0 1 0 0 0 0 0 0 0 0 0 0 0 0 0 0 0 0 1 0 0 0 0 0\n",
      " 0 0 0 0 0 0 0 0 0 0 0 0 0 0 0 0 0 0 0 1 0 0 0 0 0 0 0 0 0 0 0 0 0 0 0 0 0\n",
      " 0 0 0 0 0 0 0 0 0 0 0 1 0 0 0 0 0 0 0 0 0 0 0 0 0 0 1 0 0 0 0 0 0 0 0 0 0\n",
      " 0 0 0 0 0 0 0 0 0 0 0 0 0 0 0 0 0 0 0 0 0 0 0 0 0 0 0 0 0 0 0 0 0 0 0 0 0\n",
      " 0 0 0 0 0 0 0 0 0 0 0 0 0 0 0 0 0 0 0 1 0 0 0 0 0 0 0 0 0 0 0 0 0 0 0 0 0\n",
      " 0 0 1 0 0 0 0 0 0 0 0 0 0 0 0 0 0 0 0 0 0 0 0 0 0 0 0 0 0 0 0 0 0 1 0 0 0\n",
      " 0 0 0 0 0]\n",
      "\n"
     ]
    }
   ],
   "source": [
    "# Predictions on test set\n",
    "print(\"Predictions on test set...\")\n",
    "Y_test_pred = gridsearch.predict(X_test)\n",
    "print(\"...Done.\")\n",
    "print(Y_test_pred)\n",
    "print()"
   ]
  },
  {
   "cell_type": "code",
   "execution_count": 38,
   "metadata": {},
   "outputs": [
    {
     "name": "stdout",
     "output_type": "stream",
     "text": [
      "accuracy on training set :  0.9785805626598465\n",
      "accuracy on test set :  0.9744245524296675\n",
      "\n",
      "f1-score on training set :  0.6940639269406392\n",
      "f1-score on test set :  0.6296296296296297\n",
      "\n"
     ]
    }
   ],
   "source": [
    "# Print scores\n",
    "print(\"accuracy on training set : \", accuracy_score(y_train, Y_train_pred))\n",
    "print(\"accuracy on test set : \", accuracy_score(y_test, Y_test_pred))\n",
    "print()\n",
    "\n",
    "print(\"f1-score on training set : \", f1_score(y_train, Y_train_pred))\n",
    "print(\"f1-score on test set : \", f1_score(y_test, Y_test_pred))                              \n",
    "print()"
   ]
  },
  {
   "cell_type": "code",
   "execution_count": 40,
   "metadata": {},
   "outputs": [
    {
     "data": {
      "application/vnd.plotly.v1+json": {
       "config": {
        "plotlyServerURL": "https://plot.ly"
       },
       "data": [
        {
         "colorscale": [
          [
           0,
           "rgb(247,252,240)"
          ],
          [
           0.125,
           "rgb(224,243,219)"
          ],
          [
           0.25,
           "rgb(204,235,197)"
          ],
          [
           0.375,
           "rgb(168,221,181)"
          ],
          [
           0.5,
           "rgb(123,204,196)"
          ],
          [
           0.625,
           "rgb(78,179,211)"
          ],
          [
           0.75,
           "rgb(43,140,190)"
          ],
          [
           0.875,
           "rgb(8,104,172)"
          ],
          [
           1,
           "rgb(8,64,129)"
          ]
         ],
         "name": "train",
         "type": "heatmap",
         "x": [
          "0",
          "1"
         ],
         "xaxis": "x",
         "y": [
          "0",
          "1"
         ],
         "yaxis": "y",
         "z": [
          [
           2985,
           13
          ],
          [
           54,
           76
          ]
         ],
         "zmax": 2985,
         "zmin": 0
        },
        {
         "colorscale": [
          [
           0,
           "rgb(247,252,240)"
          ],
          [
           0.125,
           "rgb(224,243,219)"
          ],
          [
           0.25,
           "rgb(204,235,197)"
          ],
          [
           0.375,
           "rgb(168,221,181)"
          ],
          [
           0.5,
           "rgb(123,204,196)"
          ],
          [
           0.625,
           "rgb(78,179,211)"
          ],
          [
           0.75,
           "rgb(43,140,190)"
          ],
          [
           0.875,
           "rgb(8,104,172)"
          ],
          [
           1,
           "rgb(8,64,129)"
          ]
         ],
         "name": "test",
         "type": "heatmap",
         "x": [
          "0",
          "1"
         ],
         "xaxis": "x2",
         "y": [
          "0",
          "1"
         ],
         "yaxis": "y2",
         "z": [
          [
           745,
           4
          ],
          [
           16,
           17
          ]
         ],
         "zmax": 2985,
         "zmin": 0
        }
       ],
       "layout": {
        "annotations": [
         {
          "font": {
           "size": 16
          },
          "showarrow": false,
          "text": "train",
          "x": 0.225,
          "xanchor": "center",
          "xref": "paper",
          "y": 1,
          "yanchor": "bottom",
          "yref": "paper"
         },
         {
          "font": {
           "size": 16
          },
          "showarrow": false,
          "text": "test",
          "x": 0.775,
          "xanchor": "center",
          "xref": "paper",
          "y": 1,
          "yanchor": "bottom",
          "yref": "paper"
         },
         {
          "font": {
           "size": 16
          },
          "showarrow": false,
          "text": "Prediction",
          "x": 0.5,
          "xanchor": "center",
          "xref": "paper",
          "y": 0,
          "yanchor": "top",
          "yref": "paper",
          "yshift": -30
         },
         {
          "font": {
           "size": 16
          },
          "showarrow": false,
          "text": "True label",
          "textangle": -90,
          "x": 0,
          "xanchor": "right",
          "xref": "paper",
          "xshift": -40,
          "y": 0.5,
          "yanchor": "middle",
          "yref": "paper"
         }
        ],
        "template": {
         "data": {
          "bar": [
           {
            "error_x": {
             "color": "#2a3f5f"
            },
            "error_y": {
             "color": "#2a3f5f"
            },
            "marker": {
             "line": {
              "color": "#E5ECF6",
              "width": 0.5
             },
             "pattern": {
              "fillmode": "overlay",
              "size": 10,
              "solidity": 0.2
             }
            },
            "type": "bar"
           }
          ],
          "barpolar": [
           {
            "marker": {
             "line": {
              "color": "#E5ECF6",
              "width": 0.5
             },
             "pattern": {
              "fillmode": "overlay",
              "size": 10,
              "solidity": 0.2
             }
            },
            "type": "barpolar"
           }
          ],
          "carpet": [
           {
            "aaxis": {
             "endlinecolor": "#2a3f5f",
             "gridcolor": "white",
             "linecolor": "white",
             "minorgridcolor": "white",
             "startlinecolor": "#2a3f5f"
            },
            "baxis": {
             "endlinecolor": "#2a3f5f",
             "gridcolor": "white",
             "linecolor": "white",
             "minorgridcolor": "white",
             "startlinecolor": "#2a3f5f"
            },
            "type": "carpet"
           }
          ],
          "choropleth": [
           {
            "colorbar": {
             "outlinewidth": 0,
             "ticks": ""
            },
            "type": "choropleth"
           }
          ],
          "contour": [
           {
            "colorbar": {
             "outlinewidth": 0,
             "ticks": ""
            },
            "colorscale": [
             [
              0,
              "#0d0887"
             ],
             [
              0.1111111111111111,
              "#46039f"
             ],
             [
              0.2222222222222222,
              "#7201a8"
             ],
             [
              0.3333333333333333,
              "#9c179e"
             ],
             [
              0.4444444444444444,
              "#bd3786"
             ],
             [
              0.5555555555555556,
              "#d8576b"
             ],
             [
              0.6666666666666666,
              "#ed7953"
             ],
             [
              0.7777777777777778,
              "#fb9f3a"
             ],
             [
              0.8888888888888888,
              "#fdca26"
             ],
             [
              1,
              "#f0f921"
             ]
            ],
            "type": "contour"
           }
          ],
          "contourcarpet": [
           {
            "colorbar": {
             "outlinewidth": 0,
             "ticks": ""
            },
            "type": "contourcarpet"
           }
          ],
          "heatmap": [
           {
            "colorbar": {
             "outlinewidth": 0,
             "ticks": ""
            },
            "colorscale": [
             [
              0,
              "#0d0887"
             ],
             [
              0.1111111111111111,
              "#46039f"
             ],
             [
              0.2222222222222222,
              "#7201a8"
             ],
             [
              0.3333333333333333,
              "#9c179e"
             ],
             [
              0.4444444444444444,
              "#bd3786"
             ],
             [
              0.5555555555555556,
              "#d8576b"
             ],
             [
              0.6666666666666666,
              "#ed7953"
             ],
             [
              0.7777777777777778,
              "#fb9f3a"
             ],
             [
              0.8888888888888888,
              "#fdca26"
             ],
             [
              1,
              "#f0f921"
             ]
            ],
            "type": "heatmap"
           }
          ],
          "heatmapgl": [
           {
            "colorbar": {
             "outlinewidth": 0,
             "ticks": ""
            },
            "colorscale": [
             [
              0,
              "#0d0887"
             ],
             [
              0.1111111111111111,
              "#46039f"
             ],
             [
              0.2222222222222222,
              "#7201a8"
             ],
             [
              0.3333333333333333,
              "#9c179e"
             ],
             [
              0.4444444444444444,
              "#bd3786"
             ],
             [
              0.5555555555555556,
              "#d8576b"
             ],
             [
              0.6666666666666666,
              "#ed7953"
             ],
             [
              0.7777777777777778,
              "#fb9f3a"
             ],
             [
              0.8888888888888888,
              "#fdca26"
             ],
             [
              1,
              "#f0f921"
             ]
            ],
            "type": "heatmapgl"
           }
          ],
          "histogram": [
           {
            "marker": {
             "pattern": {
              "fillmode": "overlay",
              "size": 10,
              "solidity": 0.2
             }
            },
            "type": "histogram"
           }
          ],
          "histogram2d": [
           {
            "colorbar": {
             "outlinewidth": 0,
             "ticks": ""
            },
            "colorscale": [
             [
              0,
              "#0d0887"
             ],
             [
              0.1111111111111111,
              "#46039f"
             ],
             [
              0.2222222222222222,
              "#7201a8"
             ],
             [
              0.3333333333333333,
              "#9c179e"
             ],
             [
              0.4444444444444444,
              "#bd3786"
             ],
             [
              0.5555555555555556,
              "#d8576b"
             ],
             [
              0.6666666666666666,
              "#ed7953"
             ],
             [
              0.7777777777777778,
              "#fb9f3a"
             ],
             [
              0.8888888888888888,
              "#fdca26"
             ],
             [
              1,
              "#f0f921"
             ]
            ],
            "type": "histogram2d"
           }
          ],
          "histogram2dcontour": [
           {
            "colorbar": {
             "outlinewidth": 0,
             "ticks": ""
            },
            "colorscale": [
             [
              0,
              "#0d0887"
             ],
             [
              0.1111111111111111,
              "#46039f"
             ],
             [
              0.2222222222222222,
              "#7201a8"
             ],
             [
              0.3333333333333333,
              "#9c179e"
             ],
             [
              0.4444444444444444,
              "#bd3786"
             ],
             [
              0.5555555555555556,
              "#d8576b"
             ],
             [
              0.6666666666666666,
              "#ed7953"
             ],
             [
              0.7777777777777778,
              "#fb9f3a"
             ],
             [
              0.8888888888888888,
              "#fdca26"
             ],
             [
              1,
              "#f0f921"
             ]
            ],
            "type": "histogram2dcontour"
           }
          ],
          "mesh3d": [
           {
            "colorbar": {
             "outlinewidth": 0,
             "ticks": ""
            },
            "type": "mesh3d"
           }
          ],
          "parcoords": [
           {
            "line": {
             "colorbar": {
              "outlinewidth": 0,
              "ticks": ""
             }
            },
            "type": "parcoords"
           }
          ],
          "pie": [
           {
            "automargin": true,
            "type": "pie"
           }
          ],
          "scatter": [
           {
            "fillpattern": {
             "fillmode": "overlay",
             "size": 10,
             "solidity": 0.2
            },
            "type": "scatter"
           }
          ],
          "scatter3d": [
           {
            "line": {
             "colorbar": {
              "outlinewidth": 0,
              "ticks": ""
             }
            },
            "marker": {
             "colorbar": {
              "outlinewidth": 0,
              "ticks": ""
             }
            },
            "type": "scatter3d"
           }
          ],
          "scattercarpet": [
           {
            "marker": {
             "colorbar": {
              "outlinewidth": 0,
              "ticks": ""
             }
            },
            "type": "scattercarpet"
           }
          ],
          "scattergeo": [
           {
            "marker": {
             "colorbar": {
              "outlinewidth": 0,
              "ticks": ""
             }
            },
            "type": "scattergeo"
           }
          ],
          "scattergl": [
           {
            "marker": {
             "colorbar": {
              "outlinewidth": 0,
              "ticks": ""
             }
            },
            "type": "scattergl"
           }
          ],
          "scattermapbox": [
           {
            "marker": {
             "colorbar": {
              "outlinewidth": 0,
              "ticks": ""
             }
            },
            "type": "scattermapbox"
           }
          ],
          "scatterpolar": [
           {
            "marker": {
             "colorbar": {
              "outlinewidth": 0,
              "ticks": ""
             }
            },
            "type": "scatterpolar"
           }
          ],
          "scatterpolargl": [
           {
            "marker": {
             "colorbar": {
              "outlinewidth": 0,
              "ticks": ""
             }
            },
            "type": "scatterpolargl"
           }
          ],
          "scatterternary": [
           {
            "marker": {
             "colorbar": {
              "outlinewidth": 0,
              "ticks": ""
             }
            },
            "type": "scatterternary"
           }
          ],
          "surface": [
           {
            "colorbar": {
             "outlinewidth": 0,
             "ticks": ""
            },
            "colorscale": [
             [
              0,
              "#0d0887"
             ],
             [
              0.1111111111111111,
              "#46039f"
             ],
             [
              0.2222222222222222,
              "#7201a8"
             ],
             [
              0.3333333333333333,
              "#9c179e"
             ],
             [
              0.4444444444444444,
              "#bd3786"
             ],
             [
              0.5555555555555556,
              "#d8576b"
             ],
             [
              0.6666666666666666,
              "#ed7953"
             ],
             [
              0.7777777777777778,
              "#fb9f3a"
             ],
             [
              0.8888888888888888,
              "#fdca26"
             ],
             [
              1,
              "#f0f921"
             ]
            ],
            "type": "surface"
           }
          ],
          "table": [
           {
            "cells": {
             "fill": {
              "color": "#EBF0F8"
             },
             "line": {
              "color": "white"
             }
            },
            "header": {
             "fill": {
              "color": "#C8D4E3"
             },
             "line": {
              "color": "white"
             }
            },
            "type": "table"
           }
          ]
         },
         "layout": {
          "annotationdefaults": {
           "arrowcolor": "#2a3f5f",
           "arrowhead": 0,
           "arrowwidth": 1
          },
          "autotypenumbers": "strict",
          "coloraxis": {
           "colorbar": {
            "outlinewidth": 0,
            "ticks": ""
           }
          },
          "colorscale": {
           "diverging": [
            [
             0,
             "#8e0152"
            ],
            [
             0.1,
             "#c51b7d"
            ],
            [
             0.2,
             "#de77ae"
            ],
            [
             0.3,
             "#f1b6da"
            ],
            [
             0.4,
             "#fde0ef"
            ],
            [
             0.5,
             "#f7f7f7"
            ],
            [
             0.6,
             "#e6f5d0"
            ],
            [
             0.7,
             "#b8e186"
            ],
            [
             0.8,
             "#7fbc41"
            ],
            [
             0.9,
             "#4d9221"
            ],
            [
             1,
             "#276419"
            ]
           ],
           "sequential": [
            [
             0,
             "#0d0887"
            ],
            [
             0.1111111111111111,
             "#46039f"
            ],
            [
             0.2222222222222222,
             "#7201a8"
            ],
            [
             0.3333333333333333,
             "#9c179e"
            ],
            [
             0.4444444444444444,
             "#bd3786"
            ],
            [
             0.5555555555555556,
             "#d8576b"
            ],
            [
             0.6666666666666666,
             "#ed7953"
            ],
            [
             0.7777777777777778,
             "#fb9f3a"
            ],
            [
             0.8888888888888888,
             "#fdca26"
            ],
            [
             1,
             "#f0f921"
            ]
           ],
           "sequentialminus": [
            [
             0,
             "#0d0887"
            ],
            [
             0.1111111111111111,
             "#46039f"
            ],
            [
             0.2222222222222222,
             "#7201a8"
            ],
            [
             0.3333333333333333,
             "#9c179e"
            ],
            [
             0.4444444444444444,
             "#bd3786"
            ],
            [
             0.5555555555555556,
             "#d8576b"
            ],
            [
             0.6666666666666666,
             "#ed7953"
            ],
            [
             0.7777777777777778,
             "#fb9f3a"
            ],
            [
             0.8888888888888888,
             "#fdca26"
            ],
            [
             1,
             "#f0f921"
            ]
           ]
          },
          "colorway": [
           "#636efa",
           "#EF553B",
           "#00cc96",
           "#ab63fa",
           "#FFA15A",
           "#19d3f3",
           "#FF6692",
           "#B6E880",
           "#FF97FF",
           "#FECB52"
          ],
          "font": {
           "color": "#2a3f5f"
          },
          "geo": {
           "bgcolor": "white",
           "lakecolor": "white",
           "landcolor": "#E5ECF6",
           "showlakes": true,
           "showland": true,
           "subunitcolor": "white"
          },
          "hoverlabel": {
           "align": "left"
          },
          "hovermode": "closest",
          "mapbox": {
           "style": "light"
          },
          "paper_bgcolor": "white",
          "plot_bgcolor": "#E5ECF6",
          "polar": {
           "angularaxis": {
            "gridcolor": "white",
            "linecolor": "white",
            "ticks": ""
           },
           "bgcolor": "#E5ECF6",
           "radialaxis": {
            "gridcolor": "white",
            "linecolor": "white",
            "ticks": ""
           }
          },
          "scene": {
           "xaxis": {
            "backgroundcolor": "#E5ECF6",
            "gridcolor": "white",
            "gridwidth": 2,
            "linecolor": "white",
            "showbackground": true,
            "ticks": "",
            "zerolinecolor": "white"
           },
           "yaxis": {
            "backgroundcolor": "#E5ECF6",
            "gridcolor": "white",
            "gridwidth": 2,
            "linecolor": "white",
            "showbackground": true,
            "ticks": "",
            "zerolinecolor": "white"
           },
           "zaxis": {
            "backgroundcolor": "#E5ECF6",
            "gridcolor": "white",
            "gridwidth": 2,
            "linecolor": "white",
            "showbackground": true,
            "ticks": "",
            "zerolinecolor": "white"
           }
          },
          "shapedefaults": {
           "line": {
            "color": "#2a3f5f"
           }
          },
          "ternary": {
           "aaxis": {
            "gridcolor": "white",
            "linecolor": "white",
            "ticks": ""
           },
           "baxis": {
            "gridcolor": "white",
            "linecolor": "white",
            "ticks": ""
           },
           "bgcolor": "#E5ECF6",
           "caxis": {
            "gridcolor": "white",
            "linecolor": "white",
            "ticks": ""
           }
          },
          "title": {
           "x": 0.05
          },
          "xaxis": {
           "automargin": true,
           "gridcolor": "white",
           "linecolor": "white",
           "ticks": "",
           "title": {
            "standoff": 15
           },
           "zerolinecolor": "white",
           "zerolinewidth": 2
          },
          "yaxis": {
           "automargin": true,
           "gridcolor": "white",
           "linecolor": "white",
           "ticks": "",
           "title": {
            "standoff": 15
           },
           "zerolinecolor": "white",
           "zerolinewidth": 2
          }
         }
        },
        "title": {
         "text": "Confusion matrices",
         "x": 0.5
        },
        "xaxis": {
         "anchor": "y",
         "domain": [
          0,
          0.45
         ]
        },
        "xaxis2": {
         "anchor": "y2",
         "domain": [
          0.55,
          1
         ]
        },
        "yaxis": {
         "anchor": "x",
         "autorange": "reversed",
         "domain": [
          0,
          1
         ]
        },
        "yaxis2": {
         "anchor": "x2",
         "autorange": "reversed",
         "domain": [
          0,
          1
         ]
        }
       }
      }
     },
     "metadata": {},
     "output_type": "display_data"
    }
   ],
   "source": [
    "# Visualize confusion matrices\n",
    "from plotly.subplots import make_subplots\n",
    "cm_train = confusion_matrix(y_train, Y_train_pred)\n",
    "cm_test = confusion_matrix(y_test, Y_test_pred)\n",
    "\n",
    "fig = make_subplots(rows = 1, cols = 2, subplot_titles = (\"train\", \"test\"), \n",
    "                    x_title = 'Prediction', y_title = 'True label')\n",
    "fig.update_layout(\n",
    "        title = go.layout.Title(text = \"Confusion matrices\", x = 0.5))\n",
    "fig.update_yaxes(autorange='reversed')\n",
    "fig.add_trace(\n",
    "    go.Heatmap(\n",
    "        name = 'train',\n",
    "        x = ['0', '1'], \n",
    "        y = ['0', '1'], \n",
    "        z = cm_train,\n",
    "        colorscale = 'gnbu',\n",
    "        zmin = 0,\n",
    "        zmax = max(cm_train.max(), cm_test.max())\n",
    "    ),\n",
    "    row = 1,\n",
    "    col = 1\n",
    ")  \n",
    "fig.add_trace(\n",
    "    go.Heatmap(\n",
    "        name = 'test',\n",
    "        x = ['0', '1'], \n",
    "        y = ['0', '1'], \n",
    "        z = cm_test,\n",
    "        colorscale = 'gnbu',\n",
    "        zmin = 0,\n",
    "        zmax = max(cm_train.max(), cm_test.max())\n",
    "    ),\n",
    "    row = 1,\n",
    "    col = 2\n",
    ")"
   ]
  },
  {
   "cell_type": "code",
   "execution_count": 43,
   "metadata": {},
   "outputs": [
    {
     "data": {
      "application/vnd.plotly.v1+json": {
       "config": {
        "plotlyServerURL": "https://plot.ly"
       },
       "data": [
        {
         "mode": "lines",
         "name": "train",
         "type": "scatter",
         "x": [
          0,
          0.03076923076923077,
          0.046153846153846156,
          0.09230769230769231,
          0.1076923076923077,
          0.13076923076923078,
          0.15384615384615385,
          0.24615384615384617,
          0.26153846153846155,
          0.27692307692307694,
          0.2923076923076923,
          0.3153846153846154,
          0.33076923076923076,
          0.36923076923076925,
          0.36923076923076925,
          0.3769230769230769,
          0.4076923076923077,
          0.43846153846153846,
          0.43846153846153846,
          0.45384615384615384,
          0.47692307692307695,
          0.47692307692307695,
          0.4846153846153846,
          0.4846153846153846,
          0.5076923076923077,
          0.5076923076923077,
          0.5153846153846153,
          0.5153846153846153,
          0.5615384615384615,
          0.5615384615384615,
          0.5692307692307692,
          0.5692307692307692,
          0.5769230769230769,
          0.5769230769230769,
          0.5846153846153846,
          0.5846153846153846,
          0.5923076923076923,
          0.6,
          0.6076923076923076,
          0.6076923076923076,
          0.6538461538461539,
          0.6615384615384615,
          0.6615384615384615,
          0.6692307692307692,
          0.6692307692307692,
          0.6692307692307692,
          0.6923076923076923,
          0.7,
          0.7076923076923077,
          0.7153846153846154,
          0.7307692307692307,
          0.7307692307692307,
          0.7538461538461538,
          0.7538461538461538,
          0.7615384615384615,
          0.7615384615384615,
          0.7692307692307693,
          0.7692307692307693,
          0.7769230769230769,
          0.7769230769230769,
          0.7923076923076923,
          0.8076923076923077,
          0.8076923076923077,
          0.8153846153846154,
          0.8153846153846154,
          0.823076923076923,
          0.823076923076923,
          0.8307692307692308,
          0.8307692307692308,
          0.8461538461538461,
          0.8461538461538461,
          0.8461538461538461,
          0.8615384615384616,
          0.8615384615384616,
          0.8615384615384616,
          0.8692307692307693,
          0.8692307692307693,
          0.8769230769230769,
          0.8769230769230769,
          0.8769230769230769,
          0.8769230769230769,
          0.8846153846153846,
          0.8846153846153846,
          0.8923076923076924,
          0.8923076923076924,
          0.8923076923076924,
          0.8923076923076924,
          0.9,
          0.9,
          0.9153846153846154,
          0.9153846153846154,
          0.9153846153846154,
          0.9153846153846154,
          0.9153846153846154,
          0.9153846153846154,
          0.9230769230769231,
          0.9230769230769231,
          0.9230769230769231,
          0.9230769230769231,
          0.9230769230769231,
          0.9307692307692308,
          0.9307692307692308,
          0.9384615384615385,
          0.9384615384615385,
          0.9461538461538461,
          0.9461538461538461,
          0.9538461538461539,
          0.9538461538461539,
          0.9615384615384616,
          0.9615384615384616,
          0.9692307692307692,
          0.9692307692307692,
          0.9769230769230769,
          0.9769230769230769,
          0.9769230769230769,
          0.9769230769230769,
          0.9769230769230769,
          0.9769230769230769,
          0.9846153846153847,
          0.9846153846153847,
          0.9846153846153847,
          0.9846153846153847,
          0.9846153846153847,
          0.9923076923076923,
          0.9923076923076923,
          0.9923076923076923,
          0.9923076923076923,
          0.9923076923076923,
          0.9923076923076923,
          0.9923076923076923,
          0.9923076923076923,
          0.9923076923076923,
          1,
          1,
          1,
          1,
          1,
          1,
          1,
          1,
          1,
          1,
          1,
          1,
          1,
          1,
          1,
          1,
          1,
          1,
          1,
          1,
          1,
          1,
          1,
          1,
          1,
          1,
          1,
          1,
          1,
          1,
          1,
          1,
          1,
          1,
          1,
          1,
          1,
          1,
          1,
          1,
          1,
          1,
          1,
          1,
          1,
          1,
          1,
          1,
          1,
          1,
          1,
          1,
          1,
          1,
          1,
          1,
          1,
          1,
          1,
          1,
          1,
          1,
          1,
          1,
          1,
          1,
          1,
          1,
          1,
          1,
          1,
          1,
          1,
          1,
          1,
          1,
          1,
          1,
          1,
          1,
          1,
          1,
          1,
          1,
          1,
          1,
          1,
          1,
          1,
          1,
          1,
          1,
          1,
          1,
          1,
          1,
          1,
          1,
          1,
          1,
          1,
          1,
          1,
          1,
          1,
          1,
          1,
          1,
          1,
          1,
          1,
          1,
          1,
          1,
          1,
          1,
          1,
          1,
          1,
          1,
          1,
          1,
          1,
          1,
          1,
          1,
          1,
          1,
          1,
          1,
          1,
          1,
          1,
          1,
          1,
          1,
          1,
          1,
          1,
          1,
          1,
          1,
          1,
          1,
          1,
          1,
          1,
          1,
          1,
          1,
          1,
          1,
          1,
          1,
          1,
          1,
          1,
          1,
          1,
          1,
          1,
          1,
          1,
          1,
          1,
          1,
          1,
          1,
          1,
          1,
          1,
          1,
          1,
          1,
          1,
          1,
          1,
          1,
          1,
          1,
          1,
          1,
          1,
          1,
          1,
          1,
          1,
          1,
          1,
          1,
          1,
          1,
          1,
          1,
          1,
          1,
          1,
          1,
          1,
          1,
          1,
          1,
          1,
          1,
          1,
          1,
          1,
          1,
          1,
          1,
          1,
          1,
          1,
          1,
          1,
          1,
          1,
          1,
          1,
          1,
          1,
          1,
          1,
          1,
          1,
          1,
          1,
          1,
          1,
          1,
          1,
          1,
          1,
          1,
          1,
          1,
          1,
          1,
          1,
          1,
          1,
          1,
          1,
          1,
          1,
          1,
          1,
          1,
          1,
          1,
          1,
          1,
          1,
          1,
          1,
          1,
          1,
          1,
          1,
          1,
          1,
          1,
          1,
          1,
          1,
          1,
          1,
          1,
          1,
          1,
          1,
          1,
          1,
          1,
          1,
          1,
          1,
          1,
          1,
          1,
          1,
          1,
          1,
          1,
          1,
          1,
          1,
          1,
          1,
          1,
          1,
          1,
          1,
          1,
          1,
          1,
          1,
          1,
          1,
          1,
          1,
          1,
          1,
          1,
          1,
          1,
          1,
          1,
          1,
          1,
          1,
          1,
          1,
          1,
          1,
          1,
          1,
          1,
          1,
          1,
          1,
          1,
          1,
          1,
          1,
          1,
          1,
          1,
          1,
          1,
          1,
          1,
          1,
          1,
          1,
          1,
          1,
          1,
          1,
          1,
          1,
          1,
          1,
          1,
          1,
          1,
          1,
          1,
          1,
          1,
          1,
          1,
          1,
          1,
          1,
          1,
          1,
          1,
          1,
          1,
          1,
          1,
          1,
          1,
          1,
          1,
          1,
          1,
          1,
          1,
          1,
          1,
          1,
          1,
          1,
          1,
          1,
          1,
          1,
          1,
          1,
          1,
          1,
          1,
          1,
          1,
          1,
          1,
          1,
          1,
          1,
          1,
          1,
          1,
          1,
          1,
          1,
          1,
          1,
          1,
          1,
          1,
          1,
          1,
          1,
          1,
          1,
          1,
          1,
          1,
          1,
          1,
          1,
          1,
          1,
          1,
          1,
          1,
          1,
          1,
          1,
          1,
          1,
          1,
          1,
          1,
          1,
          1,
          1,
          1,
          1,
          1,
          1,
          1,
          1,
          1,
          1,
          1,
          1,
          1,
          1,
          1,
          1,
          1,
          1,
          1,
          1,
          1,
          1,
          1,
          1,
          1,
          1,
          1,
          1,
          1,
          1,
          1,
          1,
          1,
          1,
          1,
          1,
          1,
          1,
          1,
          1,
          1,
          1,
          1,
          1,
          1,
          1,
          1,
          1,
          1,
          1,
          1,
          1,
          1,
          1,
          1,
          1,
          1,
          1,
          1,
          1,
          1,
          1,
          1,
          1,
          1
         ],
         "y": [
          0,
          0,
          0,
          0,
          0,
          0,
          0,
          0,
          0,
          0,
          0,
          0,
          0,
          0,
          0.000333555703802535,
          0.000333555703802535,
          0.000333555703802535,
          0.000333555703802535,
          0.00066711140760507,
          0.00066711140760507,
          0.00066711140760507,
          0.0010006671114076052,
          0.0010006671114076052,
          0.00133422281521014,
          0.00133422281521014,
          0.0020013342228152103,
          0.0020013342228152103,
          0.0023348899266177454,
          0.0023348899266177454,
          0.00333555703802535,
          0.00333555703802535,
          0.003669112741827885,
          0.003669112741827885,
          0.004002668445630421,
          0.004002668445630421,
          0.004669779853235491,
          0.004669779853235491,
          0.005003335557038025,
          0.005670446964643095,
          0.00600400266844563,
          0.00600400266844563,
          0.0063375583722481655,
          0.007004669779853236,
          0.007004669779853236,
          0.00733822548365577,
          0.008005336891260841,
          0.008005336891260841,
          0.00867244829886591,
          0.00867244829886591,
          0.009006004002668445,
          0.009006004002668445,
          0.009673115410273516,
          0.009673115410273516,
          0.01000667111407605,
          0.01000667111407605,
          0.010340226817878585,
          0.011674449633088725,
          0.012675116744496331,
          0.012675116744496331,
          0.01467645096731154,
          0.01467645096731154,
          0.01467645096731154,
          0.015343562374916611,
          0.015343562374916611,
          0.016010673782521682,
          0.016010673782521682,
          0.016344229486324215,
          0.016344229486324215,
          0.01667778519012675,
          0.01667778519012675,
          0.017011340893929285,
          0.017678452301534357,
          0.017678452301534357,
          0.018679119412941963,
          0.019346230820547032,
          0.019346230820547032,
          0.021014009339559707,
          0.021014009339559707,
          0.02268178785857238,
          0.02334889926617745,
          0.024349566377585057,
          0.024349566377585057,
          0.0256837891927952,
          0.0256837891927952,
          0.027018012008005337,
          0.027685123415610406,
          0.03135423615743829,
          0.03135423615743829,
          0.03168779186124083,
          0.03168779186124083,
          0.03368912608405604,
          0.034356237491661105,
          0.03635757171447632,
          0.03702468312208139,
          0.037691794529686455,
          0.037691794529686455,
          0.0390260173448966,
          0.039693128752501666,
          0.0400266844563042,
          0.040693795863909275,
          0.040693795863909275,
          0.04269513008672448,
          0.04269513008672448,
          0.0456971314209473,
          0.0456971314209473,
          0.04803202134756504,
          0.04803202134756504,
          0.04869913275517011,
          0.04869913275517011,
          0.05003335557038025,
          0.05003335557038025,
          0.0513675783855904,
          0.0513675783855904,
          0.05203468979319546,
          0.052701801200800535,
          0.056037358238825885,
          0.05670446964643095,
          0.057371581054036024,
          0.057371581054036024,
          0.05970647098065377,
          0.06104069379586391,
          0.06237491661107405,
          0.06404269513008673,
          0.06404269513008673,
          0.06470980653769179,
          0.06804536357571714,
          0.06937958639092728,
          0.07004669779853236,
          0.0713809206137425,
          0.07171447631754503,
          0.0723815877251501,
          0.07871914609739826,
          0.07871914609739826,
          0.07971981320880588,
          0.08038692461641093,
          0.09072715143428953,
          0.0913942628418946,
          0.09172781854569713,
          0.0923949299533022,
          0.09539693128752502,
          0.09606404269513008,
          0.0990660440293529,
          0.10040026684456305,
          0.10073382254836558,
          0.10206804536357572,
          0.10607071380920614,
          0.1067378252168112,
          0.11174116077384923,
          0.1124082721814543,
          0.1134089392928619,
          0.11974649766511007,
          0.12041360907271514,
          0.12208138759172782,
          0.12308205470313542,
          0.12441627751834557,
          0.12508338892595064,
          0.1257505003335557,
          0.12641761174116078,
          0.12708472314876584,
          0.12808539026017346,
          0.12908605737158105,
          0.1324216144096064,
          0.133422281521014,
          0.13375583722481654,
          0.13475650433622416,
          0.1350900600400267,
          0.13642428285523683,
          0.1400933955970647,
          0.14076050700466977,
          0.14776517678452303,
          0.1484322881921281,
          0.15010006671114076,
          0.15110073382254838,
          0.15176784523015344,
          0.1524349566377585,
          0.1534356237491661,
          0.15476984656437626,
          0.15510340226817879,
          0.1561040693795864,
          0.15643762508338893,
          0.157104736490994,
          0.15843895930620414,
          0.1591060707138092,
          0.16144096064042696,
          0.16210807204803201,
          0.1657771847898599,
          0.16711140760507004,
          0.16744496330887257,
          0.16811207471647766,
          0.16844563042028018,
          0.16911274182788524,
          0.1694462975316878,
          0.17011340893929286,
          0.17078052034689792,
          0.171447631754503,
          0.17444963308872583,
          0.17511674449633088,
          0.1761174116077385,
          0.17678452301534356,
          0.18245496997998667,
          0.18312208138759173,
          0.1837891927951968,
          0.18445630420280187,
          0.18712474983322214,
          0.18779186124082722,
          0.18845897264843228,
          0.1894596397598399,
          0.19012675116744496,
          0.19079386257505004,
          0.19312875250166778,
          0.19379586390927284,
          0.19479653102068045,
          0.1954636424282855,
          0.19646430953969313,
          0.19713142094729819,
          0.20413609072715144,
          0.20513675783855903,
          0.20647098065376918,
          0.20880587058038694,
          0.21014009339559706,
          0.21114076050700467,
          0.21180787191460973,
          0.21747831887925284,
          0.21947965310206805,
          0.2201467645096731,
          0.2208138759172782,
          0.22148098732488325,
          0.22214809873248834,
          0.2228152101400934,
          0.22348232154769845,
          0.22515010006671113,
          0.22581721147431622,
          0.22615076717811874,
          0.2268178785857238,
          0.22781854569713142,
          0.22881921280853904,
          0.2294863242161441,
          0.23015343562374915,
          0.23248832555036691,
          0.2334889926617745,
          0.2341561040693796,
          0.2361574382921948,
          0.23649099399599732,
          0.2371581054036024,
          0.23749166110740494,
          0.23815877251501,
          0.23949299533022014,
          0.24016010673782523,
          0.2408272181454303,
          0.2418278852568379,
          0.24249499666444296,
          0.2438292194796531,
          0.24449633088725817,
          0.24616410940627084,
          0.24716477651767846,
          0.247498332221481,
          0.24816544362908605,
          0.2484989993328886,
          0.24916611074049366,
          0.24983322214809872,
          0.2505003335557038,
          0.25083388925950634,
          0.2515010006671114,
          0.25216811207471646,
          0.25283522348232157,
          0.25383589059372913,
          0.2551701134089393,
          0.2555036691127418,
          0.2565043362241494,
          0.2571714476317545,
          0.2581721147431621,
          0.25850567044696465,
          0.2591727818545697,
          0.26117411607738494,
          0.26184122748499,
          0.2631754503002001,
          0.2645096731154103,
          0.266844563042028,
          0.2675116744496331,
          0.2688458972648432,
          0.2695130086724483,
          0.2698465643762508,
          0.271180787191461,
          0.2715143428952635,
          0.27218145430286855,
          0.27318212141427617,
          0.2738492328218812,
          0.2741827885256838,
          0.276184122748499,
          0.2765176784523015,
          0.2771847898599066,
          0.2791861240827218,
          0.27985323549032687,
          0.2801867911941294,
          0.2808539026017345,
          0.28218812541694466,
          0.2835223482321548,
          0.28552368245497,
          0.2868579052701801,
          0.2895263509006004,
          0.29052701801200803,
          0.2911941294196131,
          0.29286190793862577,
          0.29452968645763844,
          0.2951967978652435,
          0.2965310206804536,
          0.29719813208805873,
          0.29853235490326885,
          0.2988659106070714,
          0.29953302201467646,
          0.29986657771847897,
          0.3005336891260841,
          0.3035356904603069,
          0.30420280186791193,
          0.30520346897931955,
          0.3058705803869246,
          0.30653769179452967,
          0.3068712474983322,
          0.30787191460973984,
          0.30920613742494996,
          0.309873248832555,
          0.31054036024016013,
          0.31320880587058036,
          0.314209472981988,
          0.31487658438959304,
          0.31587725150100066,
          0.31721147431621083,
          0.3182121414276184,
          0.319212808539026,
          0.3202134756504336,
          0.32154769846564374,
          0.32354903268845897,
          0.3245496997998666,
          0.3248832555036691,
          0.3255503669112742,
          0.3258839226150767,
          0.32655103402268176,
          0.32821881254169444,
          0.32921947965310205,
          0.3298865910607071,
          0.3305537024683122,
          0.3315543695797198,
          0.3322214809873249,
          0.33322214809873246,
          0.3338892595063376,
          0.3362241494329553,
          0.3372248165443629,
          0.337891927951968,
          0.33855903935957304,
          0.33989326217478316,
          0.3405603735823883,
          0.34156104069379584,
          0.3418945963975984,
          0.34256170780520345,
          0.342895263509006,
          0.34356237491661107,
          0.34523015343562374,
          0.34623082054703136,
          0.3465643762508339,
          0.347231487658439,
          0.3485657104736491,
          0.34923282188125415,
          0.34989993328885927,
          0.3505670446964643,
          0.352234823215477,
          0.35290193462308206,
          0.3542361574382922,
          0.3549032688458973,
          0.35590393595730485,
          0.35657104736490997,
          0.35857238158772514,
          0.3599066044029353,
          0.3602401601067378,
          0.3609072715143429,
          0.36257505003335555,
          0.3645763842561708,
          0.3655770513675784,
          0.36624416277518346,
          0.3672448298865911,
          0.3685790527018012,
          0.36924616410940625,
          0.3705803869246164,
          0.3709139426284189,
          0.3722481654436291,
          0.3735823882588392,
          0.3739159439626418,
          0.37458305537024683,
          0.3749166110740494,
          0.37558372248165445,
          0.37691794529686456,
          0.3779186124082722,
          0.3789192795196798,
          0.3792528352234823,
          0.38058705803869247,
          0.3819212808539026,
          0.38225483655770515,
          0.38325550366911276,
          0.3855903935957305,
          0.3869246164109406,
          0.3875917278185457,
          0.3882588392261508,
          0.3905937291527685,
          0.3912608405603736,
          0.39192795196797864,
          0.3925950633755837,
          0.39426284189459637,
          0.39559706470980655,
          0.3962641761174116,
          0.3975983989326217,
          0.39859906604402934,
          0.3989326217478319,
          0.400266844563042,
          0.40126751167444963,
          0.4019346230820547,
          0.40260173448965975,
          0.4039359573048699,
          0.40493662441627754,
          0.4056037358238826,
          0.40627084723148765,
          0.40727151434289527,
          0.4076050700466978,
          0.4082721814543029,
          0.4092728485657105,
          0.41027351567711806,
          0.4109406270847232,
          0.41194129419613074,
          0.41260840560373585,
          0.41394262841894597,
          0.414609739826551,
          0.4149432955303536,
          0.41561040693795864,
          0.4159439626417612,
          0.41861240827218144,
          0.41927951967978655,
          0.42061374249499667,
          0.4212808539026017,
          0.4216144096064043,
          0.4226150767178119,
          0.42328218812541696,
          0.423949299533022,
          0.42494996664442963,
          0.42595063375583725,
          0.42728485657104737,
          0.4279519679786524,
          0.4286190793862575,
          0.42895263509006004,
          0.43028685790527016,
          0.4309539693128753,
          0.4322881921280854,
          0.43395597064709807,
          0.4346230820547031,
          0.4349566377585057,
          0.4362908605737158,
          0.43695797198132086,
          0.437625083388926,
          0.43829219479653103,
          0.43862575050033353,
          0.43962641761174115,
          0.4409606404269513,
          0.4419613075383589,
          0.44229486324216144,
          0.4429619746497665,
          0.44529686457638423,
          0.44596397598398935,
          0.4466310873915944,
          0.44729819879919946,
          0.4486324216144096,
          0.44996664442961976,
          0.4506337558372248,
          0.4523015343562375,
          0.45396931287525016,
          0.4549699799866578,
          0.45763842561707807,
          0.45830553702468313,
          0.4599733155436958,
          0.461974649766511,
          0.46230820547031354,
          0.46364242828552366,
          0.46464309539693127,
          0.46531020680453633,
          0.46597731821214144,
          0.46631087391594395,
          0.466977985323549,
          0.4679786524349566,
          0.4686457638425617,
          0.46997998665777185,
          0.47098065376917947,
          0.47131420947298197,
          0.47264843228819214,
          0.47398265510340226,
          0.4743162108072048,
          0.47531687791861243,
          0.47665110073382255,
          0.4783188792528352,
          0.4789859906604403,
          0.47965310206804534,
          0.48032021347565046,
          0.48065376917945296,
          0.4816544362908606,
          0.48232154769846564,
          0.4836557705136758,
          0.48465643762508337,
          0.4853235490326885,
          0.48632421614409604,
          0.48699132755170116,
          0.4876584389593062,
          0.48865910607071383,
          0.48999332888592395,
          0.4903268845897265,
          0.4919946631087392,
          0.49299533022014674,
          0.49366244162775186,
          0.49399599733155436,
          0.4959973315543696,
          0.4973315543695797,
          0.49799866577718477,
          0.4989993328885924,
          0.49966644429619744,
          0.5020013342228152,
          0.5026684456304202,
          0.5033355570380253,
          0.5043362241494329,
          0.505003335557038,
          0.5053368912608406,
          0.5060040026684456,
          0.5086724482988659,
          0.5093395597064709,
          0.510006671114076,
          0.5106737825216812,
          0.5156771180787192,
          0.5160106737825216,
          0.5170113408939293,
          0.5173448965977319,
          0.518679119412942,
          0.5196797865243495,
          0.5213475650433622,
          0.5226817878585723,
          0.5240160106737826,
          0.5256837891927952,
          0.5263509006004002,
          0.5276851234156104,
          0.5280186791194129,
          0.5306871247498333,
          0.5340226817878586,
          0.5343562374916611,
          0.5366911274182788,
          0.5410273515677118,
          0.542361574382922,
          0.5426951300867244,
          0.5453635757171448,
          0.5460306871247498,
          0.5476984656437625,
          0.5486991327551701,
          0.5490326884589727,
          0.553035356904603,
          0.5543695797198132,
          0.5547031354236157,
          0.5553702468312208,
          0.5563709139426284,
          0.5577051367578385,
          0.5587058038692462,
          0.566044029352902,
          0.5683789192795197,
          0.5700466977985323,
          0.5703802535023349,
          0.5753835890593729,
          0.576050700466978,
          0.5773849232821882,
          0.580386924616411,
          0.5810540360240161,
          0.5827218145430287,
          0.5850567044696464,
          0.5860573715810541,
          0.5863909272848565,
          0.5877251501000668,
          0.5900600400266844,
          0.5920613742494997,
          0.5947298198799199,
          0.5987324883255504,
          0.5990660440293529,
          0.5997331554369579,
          0.6007338225483656,
          0.6087391594396264,
          0.6107404936624417,
          0.6160773849232822,
          0.6184122748498999,
          0.6194129419613076,
          0.6244162775183456,
          0.6347565043362241,
          0.6374249499666444,
          0.638425617078052,
          0.6400933955970647,
          0.6574382921947965,
          0.6661107404936625,
          0.6811207471647766,
          0.6837891927951968,
          0.6844563042028019,
          0.6954636424282855,
          0.7028018679119413,
          0.7054703135423616,
          0.7084723148765844,
          0.7134756504336224,
          0.7164776517678453,
          0.7228152101400934,
          0.7464976651100734,
          0.7645096731154103,
          0.7651767845230153,
          0.7681787858572382,
          0.7758505670446965,
          0.7775183455637091,
          0.7778519012675117,
          0.7788525683789193,
          0.8255503669112741,
          0.8308872581721147,
          0.8365577051367579,
          0.8472314876584389,
          0.8519012675116745,
          0.8525683789192795,
          0.8529019346230821,
          0.8555703802535023,
          0.8815877251501001,
          0.8855903935957304,
          0.9896597731821214,
          1
         ]
        },
        {
         "mode": "lines",
         "name": "test",
         "type": "scatter",
         "x": [
          0,
          0.030303030303030304,
          0.09090909090909091,
          0.09090909090909091,
          0.24242424242424243,
          0.24242424242424243,
          0.36363636363636365,
          0.36363636363636365,
          0.5151515151515151,
          0.5151515151515151,
          0.5757575757575758,
          0.5757575757575758,
          0.6363636363636364,
          0.6363636363636364,
          0.6363636363636364,
          0.6666666666666666,
          0.6666666666666666,
          0.6666666666666666,
          0.6666666666666666,
          0.696969696969697,
          0.696969696969697,
          0.7272727272727273,
          0.7272727272727273,
          0.7575757575757576,
          0.7575757575757576,
          0.7878787878787878,
          0.7878787878787878,
          0.8181818181818182,
          0.8181818181818182,
          0.8181818181818182,
          0.8181818181818182,
          0.8181818181818182,
          0.8181818181818182,
          0.8484848484848485,
          0.8484848484848485,
          0.8484848484848485,
          0.8484848484848485,
          0.8787878787878788,
          0.8787878787878788,
          0.8787878787878788,
          0.8787878787878788,
          0.8787878787878788,
          0.8787878787878788,
          0.9090909090909091,
          0.9090909090909091,
          0.9090909090909091,
          0.9090909090909091,
          0.9090909090909091,
          0.9090909090909091,
          0.9090909090909091,
          0.9090909090909091,
          0.9090909090909091,
          0.9090909090909091,
          0.9090909090909091,
          0.9090909090909091,
          0.9090909090909091,
          0.9090909090909091,
          0.9090909090909091,
          0.9393939393939394,
          0.9393939393939394,
          0.9696969696969697,
          0.9696969696969697,
          0.9696969696969697,
          0.9696969696969697,
          0.9696969696969697,
          0.9696969696969697,
          0.9696969696969697,
          0.9696969696969697,
          0.9696969696969697,
          0.9696969696969697,
          0.9696969696969697,
          0.9696969696969697,
          0.9696969696969697,
          0.9696969696969697,
          0.9696969696969697,
          0.9696969696969697,
          0.9696969696969697,
          0.9696969696969697,
          0.9696969696969697,
          0.9696969696969697,
          0.9696969696969697,
          0.9696969696969697,
          0.9696969696969697,
          0.9696969696969697,
          1,
          1,
          1,
          1,
          1,
          1,
          1,
          1,
          1,
          1,
          1,
          1,
          1,
          1,
          1,
          1,
          1,
          1,
          1,
          1,
          1,
          1,
          1,
          1,
          1,
          1,
          1,
          1,
          1,
          1,
          1,
          1,
          1,
          1,
          1,
          1,
          1,
          1,
          1,
          1,
          1,
          1,
          1,
          1,
          1,
          1,
          1,
          1,
          1,
          1
         ],
         "y": [
          0,
          0,
          0,
          0.0013351134846461949,
          0.0013351134846461949,
          0.0026702269692923898,
          0.0026702269692923898,
          0.0053404539385847796,
          0.0053404539385847796,
          0.006675567423230975,
          0.006675567423230975,
          0.00801068090787717,
          0.00801068090787717,
          0.010680907877169559,
          0.02403204272363151,
          0.02403204272363151,
          0.03337783711615487,
          0.036048064085447265,
          0.04138851802403204,
          0.04138851802403204,
          0.05473965287049399,
          0.05473965287049399,
          0.06542056074766354,
          0.06542056074766354,
          0.06809078771695594,
          0.06809078771695594,
          0.08945260347129506,
          0.08945260347129506,
          0.09479305740987984,
          0.09746328437917223,
          0.1081441922563418,
          0.11081441922563418,
          0.11615487316421896,
          0.11615487316421896,
          0.1321762349799733,
          0.1348464619492657,
          0.14552736982643524,
          0.14552736982643524,
          0.1602136181575434,
          0.1628838451268358,
          0.21228304405874499,
          0.21495327102803738,
          0.2376502002670227,
          0.2389853137516689,
          0.25100133511348466,
          0.253671562082777,
          0.2696929238985314,
          0.27369826435246997,
          0.3097463284379172,
          0.31241655540720964,
          0.32443257676902537,
          0.32710280373831774,
          0.3311081441922563,
          0.33511348464619495,
          0.3377837116154873,
          0.34579439252336447,
          0.3484646194926569,
          0.3658210947930574,
          0.3658210947930574,
          0.38985313751668893,
          0.38985313751668893,
          0.41255006675567424,
          0.4152202937249666,
          0.4205607476635514,
          0.4232309746328438,
          0.42857142857142855,
          0.43124165554072097,
          0.44192256341789055,
          0.4445927903871829,
          0.4552736982643525,
          0.45794392523364486,
          0.46328437917222964,
          0.465954606141522,
          0.49132176234979974,
          0.49666221628838453,
          0.4979973297730307,
          0.5006675567423231,
          0.5300400534045394,
          0.5327102803738317,
          0.5367156208277704,
          0.5433911882510013,
          0.5473965287049399,
          0.5527369826435247,
          0.5567423230974633,
          0.5580774365821095,
          0.5594125500667557,
          0.5634178905206942,
          0.5647530040053405,
          0.5700934579439252,
          0.57543391188251,
          0.5781041388518025,
          0.5807743658210948,
          0.5861148197596796,
          0.5874499332443258,
          0.5901201602136181,
          0.5941255006675568,
          0.5967957276368492,
          0.6008010680907877,
          0.6074766355140186,
          0.6128170894526035,
          0.6141522029372497,
          0.6208277703604806,
          0.6261682242990654,
          0.6288384512683578,
          0.636849132176235,
          0.6435246995994659,
          0.6475300400534045,
          0.6488651535380507,
          0.6608811748998665,
          0.6688918558077437,
          0.684913217623498,
          0.6862483311081442,
          0.6955941255006676,
          0.6995994659546061,
          0.7022696929238985,
          0.7036048064085447,
          0.7076101468624834,
          0.7102803738317757,
          0.7156208277703605,
          0.7489986648865153,
          0.7636849132176236,
          0.7663551401869159,
          0.7757009345794392,
          0.7783711615487316,
          0.8264352469959947,
          0.8277703604806409,
          0.8304405874499332,
          0.8411214953271028,
          0.8451268357810414,
          0.8464619492656876,
          0.8718291054739653,
          0.8785046728971962,
          0.986648865153538,
          1
         ]
        }
       ],
       "layout": {
        "template": {
         "data": {
          "bar": [
           {
            "error_x": {
             "color": "#2a3f5f"
            },
            "error_y": {
             "color": "#2a3f5f"
            },
            "marker": {
             "line": {
              "color": "#E5ECF6",
              "width": 0.5
             },
             "pattern": {
              "fillmode": "overlay",
              "size": 10,
              "solidity": 0.2
             }
            },
            "type": "bar"
           }
          ],
          "barpolar": [
           {
            "marker": {
             "line": {
              "color": "#E5ECF6",
              "width": 0.5
             },
             "pattern": {
              "fillmode": "overlay",
              "size": 10,
              "solidity": 0.2
             }
            },
            "type": "barpolar"
           }
          ],
          "carpet": [
           {
            "aaxis": {
             "endlinecolor": "#2a3f5f",
             "gridcolor": "white",
             "linecolor": "white",
             "minorgridcolor": "white",
             "startlinecolor": "#2a3f5f"
            },
            "baxis": {
             "endlinecolor": "#2a3f5f",
             "gridcolor": "white",
             "linecolor": "white",
             "minorgridcolor": "white",
             "startlinecolor": "#2a3f5f"
            },
            "type": "carpet"
           }
          ],
          "choropleth": [
           {
            "colorbar": {
             "outlinewidth": 0,
             "ticks": ""
            },
            "type": "choropleth"
           }
          ],
          "contour": [
           {
            "colorbar": {
             "outlinewidth": 0,
             "ticks": ""
            },
            "colorscale": [
             [
              0,
              "#0d0887"
             ],
             [
              0.1111111111111111,
              "#46039f"
             ],
             [
              0.2222222222222222,
              "#7201a8"
             ],
             [
              0.3333333333333333,
              "#9c179e"
             ],
             [
              0.4444444444444444,
              "#bd3786"
             ],
             [
              0.5555555555555556,
              "#d8576b"
             ],
             [
              0.6666666666666666,
              "#ed7953"
             ],
             [
              0.7777777777777778,
              "#fb9f3a"
             ],
             [
              0.8888888888888888,
              "#fdca26"
             ],
             [
              1,
              "#f0f921"
             ]
            ],
            "type": "contour"
           }
          ],
          "contourcarpet": [
           {
            "colorbar": {
             "outlinewidth": 0,
             "ticks": ""
            },
            "type": "contourcarpet"
           }
          ],
          "heatmap": [
           {
            "colorbar": {
             "outlinewidth": 0,
             "ticks": ""
            },
            "colorscale": [
             [
              0,
              "#0d0887"
             ],
             [
              0.1111111111111111,
              "#46039f"
             ],
             [
              0.2222222222222222,
              "#7201a8"
             ],
             [
              0.3333333333333333,
              "#9c179e"
             ],
             [
              0.4444444444444444,
              "#bd3786"
             ],
             [
              0.5555555555555556,
              "#d8576b"
             ],
             [
              0.6666666666666666,
              "#ed7953"
             ],
             [
              0.7777777777777778,
              "#fb9f3a"
             ],
             [
              0.8888888888888888,
              "#fdca26"
             ],
             [
              1,
              "#f0f921"
             ]
            ],
            "type": "heatmap"
           }
          ],
          "heatmapgl": [
           {
            "colorbar": {
             "outlinewidth": 0,
             "ticks": ""
            },
            "colorscale": [
             [
              0,
              "#0d0887"
             ],
             [
              0.1111111111111111,
              "#46039f"
             ],
             [
              0.2222222222222222,
              "#7201a8"
             ],
             [
              0.3333333333333333,
              "#9c179e"
             ],
             [
              0.4444444444444444,
              "#bd3786"
             ],
             [
              0.5555555555555556,
              "#d8576b"
             ],
             [
              0.6666666666666666,
              "#ed7953"
             ],
             [
              0.7777777777777778,
              "#fb9f3a"
             ],
             [
              0.8888888888888888,
              "#fdca26"
             ],
             [
              1,
              "#f0f921"
             ]
            ],
            "type": "heatmapgl"
           }
          ],
          "histogram": [
           {
            "marker": {
             "pattern": {
              "fillmode": "overlay",
              "size": 10,
              "solidity": 0.2
             }
            },
            "type": "histogram"
           }
          ],
          "histogram2d": [
           {
            "colorbar": {
             "outlinewidth": 0,
             "ticks": ""
            },
            "colorscale": [
             [
              0,
              "#0d0887"
             ],
             [
              0.1111111111111111,
              "#46039f"
             ],
             [
              0.2222222222222222,
              "#7201a8"
             ],
             [
              0.3333333333333333,
              "#9c179e"
             ],
             [
              0.4444444444444444,
              "#bd3786"
             ],
             [
              0.5555555555555556,
              "#d8576b"
             ],
             [
              0.6666666666666666,
              "#ed7953"
             ],
             [
              0.7777777777777778,
              "#fb9f3a"
             ],
             [
              0.8888888888888888,
              "#fdca26"
             ],
             [
              1,
              "#f0f921"
             ]
            ],
            "type": "histogram2d"
           }
          ],
          "histogram2dcontour": [
           {
            "colorbar": {
             "outlinewidth": 0,
             "ticks": ""
            },
            "colorscale": [
             [
              0,
              "#0d0887"
             ],
             [
              0.1111111111111111,
              "#46039f"
             ],
             [
              0.2222222222222222,
              "#7201a8"
             ],
             [
              0.3333333333333333,
              "#9c179e"
             ],
             [
              0.4444444444444444,
              "#bd3786"
             ],
             [
              0.5555555555555556,
              "#d8576b"
             ],
             [
              0.6666666666666666,
              "#ed7953"
             ],
             [
              0.7777777777777778,
              "#fb9f3a"
             ],
             [
              0.8888888888888888,
              "#fdca26"
             ],
             [
              1,
              "#f0f921"
             ]
            ],
            "type": "histogram2dcontour"
           }
          ],
          "mesh3d": [
           {
            "colorbar": {
             "outlinewidth": 0,
             "ticks": ""
            },
            "type": "mesh3d"
           }
          ],
          "parcoords": [
           {
            "line": {
             "colorbar": {
              "outlinewidth": 0,
              "ticks": ""
             }
            },
            "type": "parcoords"
           }
          ],
          "pie": [
           {
            "automargin": true,
            "type": "pie"
           }
          ],
          "scatter": [
           {
            "fillpattern": {
             "fillmode": "overlay",
             "size": 10,
             "solidity": 0.2
            },
            "type": "scatter"
           }
          ],
          "scatter3d": [
           {
            "line": {
             "colorbar": {
              "outlinewidth": 0,
              "ticks": ""
             }
            },
            "marker": {
             "colorbar": {
              "outlinewidth": 0,
              "ticks": ""
             }
            },
            "type": "scatter3d"
           }
          ],
          "scattercarpet": [
           {
            "marker": {
             "colorbar": {
              "outlinewidth": 0,
              "ticks": ""
             }
            },
            "type": "scattercarpet"
           }
          ],
          "scattergeo": [
           {
            "marker": {
             "colorbar": {
              "outlinewidth": 0,
              "ticks": ""
             }
            },
            "type": "scattergeo"
           }
          ],
          "scattergl": [
           {
            "marker": {
             "colorbar": {
              "outlinewidth": 0,
              "ticks": ""
             }
            },
            "type": "scattergl"
           }
          ],
          "scattermapbox": [
           {
            "marker": {
             "colorbar": {
              "outlinewidth": 0,
              "ticks": ""
             }
            },
            "type": "scattermapbox"
           }
          ],
          "scatterpolar": [
           {
            "marker": {
             "colorbar": {
              "outlinewidth": 0,
              "ticks": ""
             }
            },
            "type": "scatterpolar"
           }
          ],
          "scatterpolargl": [
           {
            "marker": {
             "colorbar": {
              "outlinewidth": 0,
              "ticks": ""
             }
            },
            "type": "scatterpolargl"
           }
          ],
          "scatterternary": [
           {
            "marker": {
             "colorbar": {
              "outlinewidth": 0,
              "ticks": ""
             }
            },
            "type": "scatterternary"
           }
          ],
          "surface": [
           {
            "colorbar": {
             "outlinewidth": 0,
             "ticks": ""
            },
            "colorscale": [
             [
              0,
              "#0d0887"
             ],
             [
              0.1111111111111111,
              "#46039f"
             ],
             [
              0.2222222222222222,
              "#7201a8"
             ],
             [
              0.3333333333333333,
              "#9c179e"
             ],
             [
              0.4444444444444444,
              "#bd3786"
             ],
             [
              0.5555555555555556,
              "#d8576b"
             ],
             [
              0.6666666666666666,
              "#ed7953"
             ],
             [
              0.7777777777777778,
              "#fb9f3a"
             ],
             [
              0.8888888888888888,
              "#fdca26"
             ],
             [
              1,
              "#f0f921"
             ]
            ],
            "type": "surface"
           }
          ],
          "table": [
           {
            "cells": {
             "fill": {
              "color": "#EBF0F8"
             },
             "line": {
              "color": "white"
             }
            },
            "header": {
             "fill": {
              "color": "#C8D4E3"
             },
             "line": {
              "color": "white"
             }
            },
            "type": "table"
           }
          ]
         },
         "layout": {
          "annotationdefaults": {
           "arrowcolor": "#2a3f5f",
           "arrowhead": 0,
           "arrowwidth": 1
          },
          "autotypenumbers": "strict",
          "coloraxis": {
           "colorbar": {
            "outlinewidth": 0,
            "ticks": ""
           }
          },
          "colorscale": {
           "diverging": [
            [
             0,
             "#8e0152"
            ],
            [
             0.1,
             "#c51b7d"
            ],
            [
             0.2,
             "#de77ae"
            ],
            [
             0.3,
             "#f1b6da"
            ],
            [
             0.4,
             "#fde0ef"
            ],
            [
             0.5,
             "#f7f7f7"
            ],
            [
             0.6,
             "#e6f5d0"
            ],
            [
             0.7,
             "#b8e186"
            ],
            [
             0.8,
             "#7fbc41"
            ],
            [
             0.9,
             "#4d9221"
            ],
            [
             1,
             "#276419"
            ]
           ],
           "sequential": [
            [
             0,
             "#0d0887"
            ],
            [
             0.1111111111111111,
             "#46039f"
            ],
            [
             0.2222222222222222,
             "#7201a8"
            ],
            [
             0.3333333333333333,
             "#9c179e"
            ],
            [
             0.4444444444444444,
             "#bd3786"
            ],
            [
             0.5555555555555556,
             "#d8576b"
            ],
            [
             0.6666666666666666,
             "#ed7953"
            ],
            [
             0.7777777777777778,
             "#fb9f3a"
            ],
            [
             0.8888888888888888,
             "#fdca26"
            ],
            [
             1,
             "#f0f921"
            ]
           ],
           "sequentialminus": [
            [
             0,
             "#0d0887"
            ],
            [
             0.1111111111111111,
             "#46039f"
            ],
            [
             0.2222222222222222,
             "#7201a8"
            ],
            [
             0.3333333333333333,
             "#9c179e"
            ],
            [
             0.4444444444444444,
             "#bd3786"
            ],
            [
             0.5555555555555556,
             "#d8576b"
            ],
            [
             0.6666666666666666,
             "#ed7953"
            ],
            [
             0.7777777777777778,
             "#fb9f3a"
            ],
            [
             0.8888888888888888,
             "#fdca26"
            ],
            [
             1,
             "#f0f921"
            ]
           ]
          },
          "colorway": [
           "#636efa",
           "#EF553B",
           "#00cc96",
           "#ab63fa",
           "#FFA15A",
           "#19d3f3",
           "#FF6692",
           "#B6E880",
           "#FF97FF",
           "#FECB52"
          ],
          "font": {
           "color": "#2a3f5f"
          },
          "geo": {
           "bgcolor": "white",
           "lakecolor": "white",
           "landcolor": "#E5ECF6",
           "showlakes": true,
           "showland": true,
           "subunitcolor": "white"
          },
          "hoverlabel": {
           "align": "left"
          },
          "hovermode": "closest",
          "mapbox": {
           "style": "light"
          },
          "paper_bgcolor": "white",
          "plot_bgcolor": "#E5ECF6",
          "polar": {
           "angularaxis": {
            "gridcolor": "white",
            "linecolor": "white",
            "ticks": ""
           },
           "bgcolor": "#E5ECF6",
           "radialaxis": {
            "gridcolor": "white",
            "linecolor": "white",
            "ticks": ""
           }
          },
          "scene": {
           "xaxis": {
            "backgroundcolor": "#E5ECF6",
            "gridcolor": "white",
            "gridwidth": 2,
            "linecolor": "white",
            "showbackground": true,
            "ticks": "",
            "zerolinecolor": "white"
           },
           "yaxis": {
            "backgroundcolor": "#E5ECF6",
            "gridcolor": "white",
            "gridwidth": 2,
            "linecolor": "white",
            "showbackground": true,
            "ticks": "",
            "zerolinecolor": "white"
           },
           "zaxis": {
            "backgroundcolor": "#E5ECF6",
            "gridcolor": "white",
            "gridwidth": 2,
            "linecolor": "white",
            "showbackground": true,
            "ticks": "",
            "zerolinecolor": "white"
           }
          },
          "shapedefaults": {
           "line": {
            "color": "#2a3f5f"
           }
          },
          "ternary": {
           "aaxis": {
            "gridcolor": "white",
            "linecolor": "white",
            "ticks": ""
           },
           "baxis": {
            "gridcolor": "white",
            "linecolor": "white",
            "ticks": ""
           },
           "bgcolor": "#E5ECF6",
           "caxis": {
            "gridcolor": "white",
            "linecolor": "white",
            "ticks": ""
           }
          },
          "title": {
           "x": 0.05
          },
          "xaxis": {
           "automargin": true,
           "gridcolor": "white",
           "linecolor": "white",
           "ticks": "",
           "title": {
            "standoff": 15
           },
           "zerolinecolor": "white",
           "zerolinewidth": 2
          },
          "yaxis": {
           "automargin": true,
           "gridcolor": "white",
           "linecolor": "white",
           "ticks": "",
           "title": {
            "standoff": 15
           },
           "zerolinecolor": "white",
           "zerolinewidth": 2
          }
         }
        },
        "title": {
         "text": "ROC curve",
         "x": 0.5
        },
        "xaxis": {
         "title": {
          "text": "False Positive Rate"
         }
        },
        "yaxis": {
         "title": {
          "text": "True Positive Rate"
         }
        }
       }
      }
     },
     "metadata": {},
     "output_type": "display_data"
    }
   ],
   "source": [
    "# Visualize ROC curves\n",
    "probas_train = gridsearch.predict_proba(X_train)[:,1]\n",
    "precisions, recalls, thresholds = roc_curve(y_train, probas_train)\n",
    "fig = go.Figure(\n",
    "    data = go.Scatter(\n",
    "        name = 'train',\n",
    "        x = recalls, \n",
    "        y = precisions, \n",
    "        mode = 'lines'\n",
    "    ),\n",
    "    layout = go.Layout(\n",
    "        title = go.layout.Title(text = \"ROC curve\", x = 0.5),\n",
    "        xaxis = go.layout.XAxis(title = 'False Positive Rate'),\n",
    "        yaxis = go.layout.YAxis(title = 'True Positive Rate')\n",
    "    )\n",
    ")\n",
    "\n",
    "probas_test = gridsearch.predict_proba(X_test)[:,1]\n",
    "precisions, recalls, thresholds = roc_curve(y_test, probas_test)\n",
    "fig.add_trace(go.Scatter(\n",
    "    name = 'test',\n",
    "    x = recalls, \n",
    "    y = precisions, \n",
    "    mode = 'lines'\n",
    "    )\n",
    ")\n",
    "fig.show()"
   ]
  },
  {
   "cell_type": "code",
   "execution_count": null,
   "metadata": {},
   "outputs": [],
   "source": []
  }
 ],
 "metadata": {
  "kernelspec": {
   "display_name": "Python 3.8.8 ('base')",
   "language": "python",
   "name": "python3"
  },
  "language_info": {
   "codemirror_mode": {
    "name": "ipython",
    "version": 3
   },
   "file_extension": ".py",
   "mimetype": "text/x-python",
   "name": "python",
   "nbconvert_exporter": "python",
   "pygments_lexer": "ipython3",
   "version": "3.8.8"
  },
  "orig_nbformat": 4,
  "vscode": {
   "interpreter": {
    "hash": "de3c26e6ce99fdd1b8cf42170bfea1efe2e407789632cce096fb11ae10dab296"
   }
  }
 },
 "nbformat": 4,
 "nbformat_minor": 2
}
