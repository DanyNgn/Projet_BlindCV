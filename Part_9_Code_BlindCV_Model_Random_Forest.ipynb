{
 "cells": [
  {
   "cell_type": "markdown",
   "metadata": {},
   "source": [
    "## Part 9 - Random Forest"
   ]
  },
  {
   "cell_type": "code",
   "execution_count": 29,
   "metadata": {},
   "outputs": [
    {
     "name": "stdout",
     "output_type": "stream",
     "text": [
      "Requirement already satisfied: matplotlib in c:\\python39\\lib\\site-packages (3.5.3)\n",
      "Requirement already satisfied: pillow>=6.2.0 in c:\\python39\\lib\\site-packages (from matplotlib) (9.2.0)\n",
      "Requirement already satisfied: cycler>=0.10 in c:\\python39\\lib\\site-packages (from matplotlib) (0.11.0)\n",
      "Requirement already satisfied: numpy>=1.17 in c:\\python39\\lib\\site-packages (from matplotlib) (1.23.1)\n",
      "Requirement already satisfied: python-dateutil>=2.7 in c:\\users\\dany\\appdata\\roaming\\python\\python39\\site-packages (from matplotlib) (2.8.2)\n",
      "Requirement already satisfied: kiwisolver>=1.0.1 in c:\\python39\\lib\\site-packages (from matplotlib) (1.4.4)\n",
      "Requirement already satisfied: packaging>=20.0 in c:\\users\\dany\\appdata\\roaming\\python\\python39\\site-packages (from matplotlib) (21.3)\n",
      "Requirement already satisfied: fonttools>=4.22.0 in c:\\python39\\lib\\site-packages (from matplotlib) (4.34.4)\n",
      "Requirement already satisfied: pyparsing>=2.2.1 in c:\\users\\dany\\appdata\\roaming\\python\\python39\\site-packages (from matplotlib) (3.0.9)\n",
      "Requirement already satisfied: six>=1.5 in c:\\users\\dany\\appdata\\roaming\\python\\python39\\site-packages (from python-dateutil>=2.7->matplotlib) (1.16.0)\n"
     ]
    },
    {
     "name": "stderr",
     "output_type": "stream",
     "text": [
      "WARNING: pip is being invoked by an old script wrapper. This will fail in a future version of pip.\n",
      "Please see https://github.com/pypa/pip/issues/5599 for advice on fixing the underlying issue.\n",
      "To avoid this problem you can invoke Python with '-m pip' instead of running pip directly.\n",
      "WARNING: You are using pip version 20.2.3; however, version 22.2.2 is available.\n",
      "You should consider upgrading via the 'c:\\Python39\\python.exe -m pip install --upgrade pip' command.\n"
     ]
    },
    {
     "data": {
      "text/plain": [
       "0"
      ]
     },
     "execution_count": 29,
     "metadata": {},
     "output_type": "execute_result"
    }
   ],
   "source": [
    "import pip \n",
    "pip.main([\"install\",\"matplotlib\"]) "
   ]
  },
  {
   "cell_type": "code",
   "execution_count": 30,
   "metadata": {},
   "outputs": [
    {
     "name": "stdout",
     "output_type": "stream",
     "text": [
      "Requirement already up-to-date: scikit-learn in c:\\python39\\lib\\site-packages (1.1.2)\n",
      "Requirement already satisfied, skipping upgrade: joblib>=1.0.0 in c:\\python39\\lib\\site-packages (from scikit-learn) (1.1.0)\n",
      "Requirement already satisfied, skipping upgrade: numpy>=1.17.3 in c:\\python39\\lib\\site-packages (from scikit-learn) (1.23.1)\n",
      "Requirement already satisfied, skipping upgrade: threadpoolctl>=2.0.0 in c:\\python39\\lib\\site-packages (from scikit-learn) (3.1.0)\n",
      "Requirement already satisfied, skipping upgrade: scipy>=1.3.2 in c:\\python39\\lib\\site-packages (from scikit-learn) (1.9.0)\n"
     ]
    },
    {
     "name": "stderr",
     "output_type": "stream",
     "text": [
      "WARNING: You are using pip version 20.2.3; however, version 22.2.2 is available.\n",
      "You should consider upgrading via the 'c:\\python39\\python.exe -m pip install --upgrade pip' command.\n"
     ]
    }
   ],
   "source": [
    "!pip install --upgrade scikit-learn"
   ]
  },
  {
   "cell_type": "code",
   "execution_count": 31,
   "metadata": {},
   "outputs": [],
   "source": [
    "# Chargement des librairies nécessaires\n",
    "import pandas as pd\n",
    "import numpy as np\n",
    "import matplotlib.pyplot as plt \n",
    "from sklearn.model_selection import train_test_split\n",
    "from sklearn.pipeline import Pipeline\n",
    "from sklearn.impute import SimpleImputer\n",
    "from sklearn.preprocessing import  OneHotEncoder, StandardScaler, LabelEncoder\n",
    "from sklearn.compose import ColumnTransformer\n",
    "from sklearn.linear_model import LogisticRegression\n",
    "from sklearn.ensemble import RandomForestClassifier\n",
    "from sklearn.model_selection import GridSearchCV\n",
    "from sklearn.metrics import accuracy_score, f1_score, RocCurveDisplay, ConfusionMatrixDisplay\n",
    "from sklearn.metrics import accuracy_score, f1_score, confusion_matrix, roc_curve\n",
    "from sklearn.model_selection import cross_val_score\n",
    "import warnings\n",
    "warnings.filterwarnings(\"ignore\", category=FutureWarning) # to avoid deprecation warnings\n",
    "\n",
    "import plotly.express as px\n",
    "import plotly.graph_objects as go\n",
    "import plotly.io as pio"
   ]
  },
  {
   "cell_type": "code",
   "execution_count": 32,
   "metadata": {},
   "outputs": [
    {
     "data": {
      "text/html": [
       "<div>\n",
       "<style scoped>\n",
       "    .dataframe tbody tr th:only-of-type {\n",
       "        vertical-align: middle;\n",
       "    }\n",
       "\n",
       "    .dataframe tbody tr th {\n",
       "        vertical-align: top;\n",
       "    }\n",
       "\n",
       "    .dataframe thead th {\n",
       "        text-align: right;\n",
       "    }\n",
       "</style>\n",
       "<table border=\"1\" class=\"dataframe\">\n",
       "  <thead>\n",
       "    <tr style=\"text-align: right;\">\n",
       "      <th></th>\n",
       "      <th>CV_Sentences</th>\n",
       "      <th>Sentences_CV_clean</th>\n",
       "      <th>CV_Number</th>\n",
       "      <th>Sentence_line</th>\n",
       "      <th>Nb_tokens</th>\n",
       "      <th>%texte_lu</th>\n",
       "      <th>%texte_lu_fin_ligne</th>\n",
       "      <th>Is_alpha</th>\n",
       "      <th>Grammar</th>\n",
       "      <th>Label</th>\n",
       "    </tr>\n",
       "  </thead>\n",
       "  <tbody>\n",
       "    <tr>\n",
       "      <th>0</th>\n",
       "      <td>SELMA LAFKIR CORDE 80 CODEUSE ENTHOUSIASTE</td>\n",
       "      <td>SELMA LAFKIR CORDE 80 CODEUSE ENTHOUSIASTE</td>\n",
       "      <td>CV_1</td>\n",
       "      <td>0</td>\n",
       "      <td>6</td>\n",
       "      <td>2.80</td>\n",
       "      <td>97.20</td>\n",
       "      <td>[True, True, True, False, True, True]</td>\n",
       "      <td>['NOUN', 'PROPN', 'VERB', 'NUM', 'PROPN', 'PRO...</td>\n",
       "      <td>1</td>\n",
       "    </tr>\n",
       "    <tr>\n",
       "      <th>1</th>\n",
       "      <td>PROFIL</td>\n",
       "      <td>PROFIL</td>\n",
       "      <td>CV_1</td>\n",
       "      <td>1</td>\n",
       "      <td>1</td>\n",
       "      <td>3.27</td>\n",
       "      <td>96.73</td>\n",
       "      <td>[True]</td>\n",
       "      <td>['NOUN']</td>\n",
       "      <td>0</td>\n",
       "    </tr>\n",
       "    <tr>\n",
       "      <th>2</th>\n",
       "      <td>PERSONNEL Je suis étudiante au lycée Condorcet.</td>\n",
       "      <td>PERSONNEL Je suis étudiante au lycée Condorcet.</td>\n",
       "      <td>CV_1</td>\n",
       "      <td>2</td>\n",
       "      <td>8</td>\n",
       "      <td>7.01</td>\n",
       "      <td>92.99</td>\n",
       "      <td>[True, True, True, True, True, True, True, False]</td>\n",
       "      <td>['NOUN', 'PRON', 'AUX', 'ADJ', 'ADP', 'NOUN', ...</td>\n",
       "      <td>0</td>\n",
       "    </tr>\n",
       "    <tr>\n",
       "      <th>3</th>\n",
       "      <td>Je code depuis l'âge de 13 ans et j'aime créer...</td>\n",
       "      <td>Je code depuis l'âge de 13 ans et j'aime créer...</td>\n",
       "      <td>CV_1</td>\n",
       "      <td>3</td>\n",
       "      <td>24</td>\n",
       "      <td>18.22</td>\n",
       "      <td>81.78</td>\n",
       "      <td>[True, True, True, False, True, True, False, T...</td>\n",
       "      <td>['PRON', 'VERB', 'ADP', 'DET', 'NOUN', 'ADP', ...</td>\n",
       "      <td>0</td>\n",
       "    </tr>\n",
       "    <tr>\n",
       "      <th>4</th>\n",
       "      <td>RÉALISATIONS</td>\n",
       "      <td>RÉALISATIONS</td>\n",
       "      <td>CV_1</td>\n",
       "      <td>4</td>\n",
       "      <td>1</td>\n",
       "      <td>18.69</td>\n",
       "      <td>81.31</td>\n",
       "      <td>[True]</td>\n",
       "      <td>['NOUN']</td>\n",
       "      <td>0</td>\n",
       "    </tr>\n",
       "  </tbody>\n",
       "</table>\n",
       "</div>"
      ],
      "text/plain": [
       "                                        CV_Sentences  \\\n",
       "0         SELMA LAFKIR CORDE 80 CODEUSE ENTHOUSIASTE   \n",
       "1                                             PROFIL   \n",
       "2    PERSONNEL Je suis étudiante au lycée Condorcet.   \n",
       "3  Je code depuis l'âge de 13 ans et j'aime créer...   \n",
       "4                                       RÉALISATIONS   \n",
       "\n",
       "                                  Sentences_CV_clean CV_Number  Sentence_line  \\\n",
       "0         SELMA LAFKIR CORDE 80 CODEUSE ENTHOUSIASTE      CV_1              0   \n",
       "1                                             PROFIL      CV_1              1   \n",
       "2    PERSONNEL Je suis étudiante au lycée Condorcet.      CV_1              2   \n",
       "3  Je code depuis l'âge de 13 ans et j'aime créer...      CV_1              3   \n",
       "4                                       RÉALISATIONS      CV_1              4   \n",
       "\n",
       "   Nb_tokens  %texte_lu  %texte_lu_fin_ligne  \\\n",
       "0          6       2.80                97.20   \n",
       "1          1       3.27                96.73   \n",
       "2          8       7.01                92.99   \n",
       "3         24      18.22                81.78   \n",
       "4          1      18.69                81.31   \n",
       "\n",
       "                                            Is_alpha  \\\n",
       "0              [True, True, True, False, True, True]   \n",
       "1                                             [True]   \n",
       "2  [True, True, True, True, True, True, True, False]   \n",
       "3  [True, True, True, False, True, True, False, T...   \n",
       "4                                             [True]   \n",
       "\n",
       "                                             Grammar  Label  \n",
       "0  ['NOUN', 'PROPN', 'VERB', 'NUM', 'PROPN', 'PRO...      1  \n",
       "1                                           ['NOUN']      0  \n",
       "2  ['NOUN', 'PRON', 'AUX', 'ADJ', 'ADP', 'NOUN', ...      0  \n",
       "3  ['PRON', 'VERB', 'ADP', 'DET', 'NOUN', 'ADP', ...      0  \n",
       "4                                           ['NOUN']      0  "
      ]
     },
     "execution_count": 32,
     "metadata": {},
     "output_type": "execute_result"
    }
   ],
   "source": [
    "# Chargement de la dataset\n",
    "dataset = pd.read_csv(\"dataset_CV_labelise_features1_200.csv\", delimiter = \";\", encoding = \"utf8\")\n",
    "dataset.head()"
   ]
  },
  {
   "cell_type": "code",
   "execution_count": 33,
   "metadata": {},
   "outputs": [
    {
     "data": {
      "text/plain": [
       "(5594, 10)"
      ]
     },
     "execution_count": 33,
     "metadata": {},
     "output_type": "execute_result"
    }
   ],
   "source": [
    "dataset.shape"
   ]
  },
  {
   "cell_type": "code",
   "execution_count": 34,
   "metadata": {},
   "outputs": [
    {
     "data": {
      "text/html": [
       "<div>\n",
       "<style scoped>\n",
       "    .dataframe tbody tr th:only-of-type {\n",
       "        vertical-align: middle;\n",
       "    }\n",
       "\n",
       "    .dataframe tbody tr th {\n",
       "        vertical-align: top;\n",
       "    }\n",
       "\n",
       "    .dataframe thead th {\n",
       "        text-align: right;\n",
       "    }\n",
       "</style>\n",
       "<table border=\"1\" class=\"dataframe\">\n",
       "  <thead>\n",
       "    <tr style=\"text-align: right;\">\n",
       "      <th></th>\n",
       "      <th>CV_Sentences</th>\n",
       "      <th>Sentences_CV_clean</th>\n",
       "      <th>CV_Number</th>\n",
       "      <th>Sentence_line</th>\n",
       "      <th>Nb_tokens</th>\n",
       "      <th>%texte_lu</th>\n",
       "      <th>%texte_lu_fin_ligne</th>\n",
       "      <th>Is_alpha</th>\n",
       "      <th>Grammar</th>\n",
       "      <th>Label</th>\n",
       "    </tr>\n",
       "  </thead>\n",
       "  <tbody>\n",
       "    <tr>\n",
       "      <th>count</th>\n",
       "      <td>5594</td>\n",
       "      <td>5592</td>\n",
       "      <td>5594</td>\n",
       "      <td>5594.000000</td>\n",
       "      <td>5594.000000</td>\n",
       "      <td>5594.000000</td>\n",
       "      <td>5594.000000</td>\n",
       "      <td>5594</td>\n",
       "      <td>5594</td>\n",
       "      <td>5594.000000</td>\n",
       "    </tr>\n",
       "    <tr>\n",
       "      <th>unique</th>\n",
       "      <td>3805</td>\n",
       "      <td>3802</td>\n",
       "      <td>200</td>\n",
       "      <td>NaN</td>\n",
       "      <td>NaN</td>\n",
       "      <td>NaN</td>\n",
       "      <td>NaN</td>\n",
       "      <td>1626</td>\n",
       "      <td>2748</td>\n",
       "      <td>NaN</td>\n",
       "    </tr>\n",
       "    <tr>\n",
       "      <th>top</th>\n",
       "      <td></td>\n",
       "      <td></td>\n",
       "      <td>CV_10</td>\n",
       "      <td>NaN</td>\n",
       "      <td>NaN</td>\n",
       "      <td>NaN</td>\n",
       "      <td>NaN</td>\n",
       "      <td>[False]</td>\n",
       "      <td>['NOUN']</td>\n",
       "      <td>NaN</td>\n",
       "    </tr>\n",
       "    <tr>\n",
       "      <th>freq</th>\n",
       "      <td>198</td>\n",
       "      <td>198</td>\n",
       "      <td>66</td>\n",
       "      <td>NaN</td>\n",
       "      <td>NaN</td>\n",
       "      <td>NaN</td>\n",
       "      <td>NaN</td>\n",
       "      <td>638</td>\n",
       "      <td>334</td>\n",
       "      <td>NaN</td>\n",
       "    </tr>\n",
       "    <tr>\n",
       "      <th>mean</th>\n",
       "      <td>NaN</td>\n",
       "      <td>NaN</td>\n",
       "      <td>NaN</td>\n",
       "      <td>15.673221</td>\n",
       "      <td>9.132285</td>\n",
       "      <td>50.470518</td>\n",
       "      <td>49.529483</td>\n",
       "      <td>NaN</td>\n",
       "      <td>NaN</td>\n",
       "      <td>0.037898</td>\n",
       "    </tr>\n",
       "    <tr>\n",
       "      <th>std</th>\n",
       "      <td>NaN</td>\n",
       "      <td>NaN</td>\n",
       "      <td>NaN</td>\n",
       "      <td>11.268076</td>\n",
       "      <td>10.914849</td>\n",
       "      <td>30.190027</td>\n",
       "      <td>30.190025</td>\n",
       "      <td>NaN</td>\n",
       "      <td>NaN</td>\n",
       "      <td>0.190966</td>\n",
       "    </tr>\n",
       "    <tr>\n",
       "      <th>min</th>\n",
       "      <td>NaN</td>\n",
       "      <td>NaN</td>\n",
       "      <td>NaN</td>\n",
       "      <td>0.000000</td>\n",
       "      <td>1.000000</td>\n",
       "      <td>0.240000</td>\n",
       "      <td>0.000000</td>\n",
       "      <td>NaN</td>\n",
       "      <td>NaN</td>\n",
       "      <td>0.000000</td>\n",
       "    </tr>\n",
       "    <tr>\n",
       "      <th>25%</th>\n",
       "      <td>NaN</td>\n",
       "      <td>NaN</td>\n",
       "      <td>NaN</td>\n",
       "      <td>7.000000</td>\n",
       "      <td>2.000000</td>\n",
       "      <td>24.190000</td>\n",
       "      <td>23.552500</td>\n",
       "      <td>NaN</td>\n",
       "      <td>NaN</td>\n",
       "      <td>0.000000</td>\n",
       "    </tr>\n",
       "    <tr>\n",
       "      <th>50%</th>\n",
       "      <td>NaN</td>\n",
       "      <td>NaN</td>\n",
       "      <td>NaN</td>\n",
       "      <td>14.000000</td>\n",
       "      <td>5.000000</td>\n",
       "      <td>49.530000</td>\n",
       "      <td>50.470000</td>\n",
       "      <td>NaN</td>\n",
       "      <td>NaN</td>\n",
       "      <td>0.000000</td>\n",
       "    </tr>\n",
       "    <tr>\n",
       "      <th>75%</th>\n",
       "      <td>NaN</td>\n",
       "      <td>NaN</td>\n",
       "      <td>NaN</td>\n",
       "      <td>23.000000</td>\n",
       "      <td>12.000000</td>\n",
       "      <td>76.447500</td>\n",
       "      <td>75.810000</td>\n",
       "      <td>NaN</td>\n",
       "      <td>NaN</td>\n",
       "      <td>0.000000</td>\n",
       "    </tr>\n",
       "    <tr>\n",
       "      <th>max</th>\n",
       "      <td>NaN</td>\n",
       "      <td>NaN</td>\n",
       "      <td>NaN</td>\n",
       "      <td>65.000000</td>\n",
       "      <td>124.000000</td>\n",
       "      <td>100.000000</td>\n",
       "      <td>99.760000</td>\n",
       "      <td>NaN</td>\n",
       "      <td>NaN</td>\n",
       "      <td>1.000000</td>\n",
       "    </tr>\n",
       "  </tbody>\n",
       "</table>\n",
       "</div>"
      ],
      "text/plain": [
       "       CV_Sentences Sentences_CV_clean CV_Number  Sentence_line    Nb_tokens  \\\n",
       "count          5594               5592      5594    5594.000000  5594.000000   \n",
       "unique         3805               3802       200            NaN          NaN   \n",
       "top                                        CV_10            NaN          NaN   \n",
       "freq            198                198        66            NaN          NaN   \n",
       "mean            NaN                NaN       NaN      15.673221     9.132285   \n",
       "std             NaN                NaN       NaN      11.268076    10.914849   \n",
       "min             NaN                NaN       NaN       0.000000     1.000000   \n",
       "25%             NaN                NaN       NaN       7.000000     2.000000   \n",
       "50%             NaN                NaN       NaN      14.000000     5.000000   \n",
       "75%             NaN                NaN       NaN      23.000000    12.000000   \n",
       "max             NaN                NaN       NaN      65.000000   124.000000   \n",
       "\n",
       "          %texte_lu  %texte_lu_fin_ligne Is_alpha   Grammar        Label  \n",
       "count   5594.000000          5594.000000     5594      5594  5594.000000  \n",
       "unique          NaN                  NaN     1626      2748          NaN  \n",
       "top             NaN                  NaN  [False]  ['NOUN']          NaN  \n",
       "freq            NaN                  NaN      638       334          NaN  \n",
       "mean      50.470518            49.529483      NaN       NaN     0.037898  \n",
       "std       30.190027            30.190025      NaN       NaN     0.190966  \n",
       "min        0.240000             0.000000      NaN       NaN     0.000000  \n",
       "25%       24.190000            23.552500      NaN       NaN     0.000000  \n",
       "50%       49.530000            50.470000      NaN       NaN     0.000000  \n",
       "75%       76.447500            75.810000      NaN       NaN     0.000000  \n",
       "max      100.000000            99.760000      NaN       NaN     1.000000  "
      ]
     },
     "metadata": {},
     "output_type": "display_data"
    }
   ],
   "source": [
    "data_desc = dataset.describe(include='all')\n",
    "display(data_desc)"
   ]
  },
  {
   "cell_type": "code",
   "execution_count": 35,
   "metadata": {},
   "outputs": [
    {
     "data": {
      "text/plain": [
       "CV_Sentences           0.000000\n",
       "Sentences_CV_clean     0.035753\n",
       "CV_Number              0.000000\n",
       "Sentence_line          0.000000\n",
       "Nb_tokens              0.000000\n",
       "%texte_lu              0.000000\n",
       "%texte_lu_fin_ligne    0.000000\n",
       "Is_alpha               0.000000\n",
       "Grammar                0.000000\n",
       "Label                  0.000000\n",
       "dtype: float64"
      ]
     },
     "metadata": {},
     "output_type": "display_data"
    }
   ],
   "source": [
    "display(100*dataset.isnull().sum()/dataset.shape[0])"
   ]
  },
  {
   "cell_type": "code",
   "execution_count": 36,
   "metadata": {},
   "outputs": [
    {
     "data": {
      "text/plain": [
       "(5416, 10)"
      ]
     },
     "execution_count": 36,
     "metadata": {},
     "output_type": "execute_result"
    }
   ],
   "source": [
    "dataset[\"Label\"].unique()\n",
    "dataset = dataset.loc[(dataset['CV_Sentences'] != \"#NOM?\"),:]\n",
    "dataset.shape "
   ]
  },
  {
   "cell_type": "code",
   "execution_count": 37,
   "metadata": {},
   "outputs": [
    {
     "data": {
      "text/plain": [
       "(5412, 10)"
      ]
     },
     "execution_count": 37,
     "metadata": {},
     "output_type": "execute_result"
    }
   ],
   "source": [
    "dataset = dataset.loc[(dataset['CV_Sentences'] != \":\"),:]\n",
    "dataset.shape"
   ]
  },
  {
   "cell_type": "code",
   "execution_count": 38,
   "metadata": {},
   "outputs": [
    {
     "data": {
      "text/plain": [
       "(5410, 10)"
      ]
     },
     "execution_count": 38,
     "metadata": {},
     "output_type": "execute_result"
    }
   ],
   "source": [
    "dataset = dataset.dropna(axis =0, how = 'any')\n",
    "dataset.shape"
   ]
  },
  {
   "cell_type": "code",
   "execution_count": 39,
   "metadata": {},
   "outputs": [
    {
     "data": {
      "text/plain": [
       "CV_Sentences           0.0\n",
       "Sentences_CV_clean     0.0\n",
       "CV_Number              0.0\n",
       "Sentence_line          0.0\n",
       "Nb_tokens              0.0\n",
       "%texte_lu              0.0\n",
       "%texte_lu_fin_ligne    0.0\n",
       "Is_alpha               0.0\n",
       "Grammar                0.0\n",
       "Label                  0.0\n",
       "dtype: float64"
      ]
     },
     "metadata": {},
     "output_type": "display_data"
    }
   ],
   "source": [
    "display(100*dataset.isnull().sum()/dataset.shape[0])"
   ]
  },
  {
   "cell_type": "code",
   "execution_count": 40,
   "metadata": {},
   "outputs": [
    {
     "name": "stdout",
     "output_type": "stream",
     "text": [
      "Separating labels from features...\n",
      "y : \n",
      "0    1\n",
      "1    0\n",
      "2    0\n",
      "3    0\n",
      "4    0\n",
      "Name: Label, dtype: int64\n",
      "\n",
      "X :\n",
      "   Sentence_line  Nb_tokens  %texte_lu  %texte_lu_fin_ligne\n",
      "0              0          6       2.80                97.20\n",
      "1              1          1       3.27                96.73\n",
      "2              2          8       7.01                92.99\n",
      "3              3         24      18.22                81.78\n",
      "4              4          1      18.69                81.31\n"
     ]
    }
   ],
   "source": [
    "print(\"Separating labels from features...\")\n",
    "col_list = ['CV_Sentences',\"Sentences_CV_clean\",\"CV_Number\", \"Is_alpha\", \"Grammar\", \"Label\"]\n",
    "target_variable = \"Label\"\n",
    "\n",
    "X = dataset.drop(col_list, axis = 1)\n",
    "y = dataset.loc[:,target_variable]\n",
    "\n",
    "print('y : ')\n",
    "print(y.head())\n",
    "print()\n",
    "print('X :')\n",
    "print(X.head())"
   ]
  },
  {
   "cell_type": "code",
   "execution_count": 41,
   "metadata": {},
   "outputs": [
    {
     "name": "stdout",
     "output_type": "stream",
     "text": [
      "Found numeric features  ['Sentence_line', 'Nb_tokens', '%texte_lu', '%texte_lu_fin_ligne']\n",
      "Found categorical features  []\n"
     ]
    }
   ],
   "source": [
    "# Automatically detect names of numeric/categorical columns\n",
    "numeric_features = []\n",
    "categorical_features = []\n",
    "for i,t in X.dtypes.iteritems():\n",
    "    if ('float' in str(t)) or ('int' in str(t)) :\n",
    "        numeric_features.append(i)\n",
    "    else :\n",
    "        categorical_features.append(i)\n",
    "\n",
    "print('Found numeric features ', numeric_features)\n",
    "print('Found categorical features ', categorical_features)"
   ]
  },
  {
   "cell_type": "code",
   "execution_count": 42,
   "metadata": {},
   "outputs": [],
   "source": [
    "# Divide dataset Train set & Test set \n",
    "X_train, X_test, y_train, y_test = train_test_split(X, y, test_size=0.2, random_state=42, stratify = y)"
   ]
  },
  {
   "cell_type": "code",
   "execution_count": 43,
   "metadata": {},
   "outputs": [],
   "source": [
    "# Create pipeline for numeric features\n",
    "numeric_transformer = SimpleImputer(strategy='mean')"
   ]
  },
  {
   "cell_type": "code",
   "execution_count": 44,
   "metadata": {},
   "outputs": [],
   "source": [
    "# Create pipeline for categorical features\n",
    "categorical_transformer = OneHotEncoder(drop='first')"
   ]
  },
  {
   "cell_type": "code",
   "execution_count": 45,
   "metadata": {},
   "outputs": [],
   "source": [
    "# Use ColumnTransformer to make a preprocessor object that describes all the treatments to be done\n",
    "preprocessor = ColumnTransformer(\n",
    "    transformers=[\n",
    "        ('num', numeric_transformer, numeric_features),\n",
    "        ('cat', categorical_transformer, categorical_features)\n",
    "    ])"
   ]
  },
  {
   "cell_type": "code",
   "execution_count": 46,
   "metadata": {},
   "outputs": [
    {
     "name": "stdout",
     "output_type": "stream",
     "text": [
      "Grid search...\n",
      "...Done.\n",
      "Best hyperparameters :  {'max_depth': 10, 'min_samples_leaf': 5, 'min_samples_split': 2, 'n_estimators': 80}\n",
      "Best validation accuracy :  0.9688087212359058\n"
     ]
    }
   ],
   "source": [
    "# Perform grid search\n",
    "print(\"Grid search...\")\n",
    "classifier = RandomForestClassifier()\n",
    "\n",
    "# Grid of values to be tested\n",
    "params = {\n",
    "    'max_depth': [2, 4, 6, 8, 10],\n",
    "    'min_samples_leaf': [1, 2, 5],\n",
    "    'min_samples_split': [2, 4, 8],\n",
    "    'n_estimators': [10, 20, 40, 60, 80, 100]\n",
    "}\n",
    "gridsearch = GridSearchCV(classifier, param_grid = params, cv = 3) # cv : the number of folds to be used for CV\n",
    "gridsearch.fit(X_train, y_train)\n",
    "print(\"...Done.\")\n",
    "print(\"Best hyperparameters : \", gridsearch.best_params_)\n",
    "print(\"Best validation accuracy : \", gridsearch.best_score_)"
   ]
  },
  {
   "cell_type": "code",
   "execution_count": 47,
   "metadata": {},
   "outputs": [
    {
     "name": "stdout",
     "output_type": "stream",
     "text": [
      "Predictions on training set...\n",
      "...Done.\n",
      "[0 0 0 ... 0 0 0]\n",
      "\n"
     ]
    }
   ],
   "source": [
    "# Predictions on training set\n",
    "print(\"Predictions on training set...\")\n",
    "Y_train_pred = gridsearch.predict(X_train)\n",
    "print(\"...Done.\")\n",
    "print(Y_train_pred)\n",
    "print()"
   ]
  },
  {
   "cell_type": "code",
   "execution_count": 48,
   "metadata": {},
   "outputs": [
    {
     "name": "stdout",
     "output_type": "stream",
     "text": [
      "Predictions on test set...\n",
      "...Done.\n",
      "[0 0 0 ... 0 0 0]\n",
      "\n"
     ]
    }
   ],
   "source": [
    "# Predictions on test set\n",
    "print(\"Predictions on test set...\")\n",
    "Y_test_pred = gridsearch.predict(X_test)\n",
    "print(\"...Done.\")\n",
    "print(Y_test_pred)\n",
    "print()"
   ]
  },
  {
   "cell_type": "code",
   "execution_count": 49,
   "metadata": {},
   "outputs": [
    {
     "name": "stdout",
     "output_type": "stream",
     "text": [
      "accuracy on training set :  0.9722735674676525\n",
      "accuracy on test set :  0.966728280961183\n",
      "\n",
      "f1-score on training set :  0.5555555555555556\n",
      "f1-score on test set :  0.45454545454545453\n",
      "\n"
     ]
    }
   ],
   "source": [
    "# Print scores\n",
    "print(\"accuracy on training set : \", accuracy_score(y_train, Y_train_pred))\n",
    "print(\"accuracy on test set : \", accuracy_score(y_test, Y_test_pred))\n",
    "print()\n",
    "\n",
    "print(\"f1-score on training set : \", f1_score(y_train, Y_train_pred))\n",
    "print(\"f1-score on test set : \", f1_score(y_test, Y_test_pred))                              \n",
    "print()"
   ]
  },
  {
   "cell_type": "code",
   "execution_count": 50,
   "metadata": {},
   "outputs": [
    {
     "data": {
      "application/vnd.plotly.v1+json": {
       "config": {
        "plotlyServerURL": "https://plot.ly"
       },
       "data": [
        {
         "colorscale": [
          [
           0,
           "rgb(247,252,240)"
          ],
          [
           0.125,
           "rgb(224,243,219)"
          ],
          [
           0.25,
           "rgb(204,235,197)"
          ],
          [
           0.375,
           "rgb(168,221,181)"
          ],
          [
           0.5,
           "rgb(123,204,196)"
          ],
          [
           0.625,
           "rgb(78,179,211)"
          ],
          [
           0.75,
           "rgb(43,140,190)"
          ],
          [
           0.875,
           "rgb(8,104,172)"
          ],
          [
           1,
           "rgb(8,64,129)"
          ]
         ],
         "name": "train",
         "type": "heatmap",
         "x": [
          "0",
          "1"
         ],
         "xaxis": "x",
         "y": [
          "0",
          "1"
         ],
         "yaxis": "y",
         "z": [
          [
           4133,
           25
          ],
          [
           95,
           75
          ]
         ],
         "zmax": 4133,
         "zmin": 0
        },
        {
         "colorscale": [
          [
           0,
           "rgb(247,252,240)"
          ],
          [
           0.125,
           "rgb(224,243,219)"
          ],
          [
           0.25,
           "rgb(204,235,197)"
          ],
          [
           0.375,
           "rgb(168,221,181)"
          ],
          [
           0.5,
           "rgb(123,204,196)"
          ],
          [
           0.625,
           "rgb(78,179,211)"
          ],
          [
           0.75,
           "rgb(43,140,190)"
          ],
          [
           0.875,
           "rgb(8,104,172)"
          ],
          [
           1,
           "rgb(8,64,129)"
          ]
         ],
         "name": "test",
         "type": "heatmap",
         "x": [
          "0",
          "1"
         ],
         "xaxis": "x2",
         "y": [
          "0",
          "1"
         ],
         "yaxis": "y2",
         "z": [
          [
           1031,
           9
          ],
          [
           27,
           15
          ]
         ],
         "zmax": 4133,
         "zmin": 0
        }
       ],
       "layout": {
        "annotations": [
         {
          "font": {
           "size": 16
          },
          "showarrow": false,
          "text": "train",
          "x": 0.225,
          "xanchor": "center",
          "xref": "paper",
          "y": 1,
          "yanchor": "bottom",
          "yref": "paper"
         },
         {
          "font": {
           "size": 16
          },
          "showarrow": false,
          "text": "test",
          "x": 0.775,
          "xanchor": "center",
          "xref": "paper",
          "y": 1,
          "yanchor": "bottom",
          "yref": "paper"
         },
         {
          "font": {
           "size": 16
          },
          "showarrow": false,
          "text": "Prediction",
          "x": 0.5,
          "xanchor": "center",
          "xref": "paper",
          "y": 0,
          "yanchor": "top",
          "yref": "paper",
          "yshift": -30
         },
         {
          "font": {
           "size": 16
          },
          "showarrow": false,
          "text": "True label",
          "textangle": -90,
          "x": 0,
          "xanchor": "right",
          "xref": "paper",
          "xshift": -40,
          "y": 0.5,
          "yanchor": "middle",
          "yref": "paper"
         }
        ],
        "template": {
         "data": {
          "bar": [
           {
            "error_x": {
             "color": "#2a3f5f"
            },
            "error_y": {
             "color": "#2a3f5f"
            },
            "marker": {
             "line": {
              "color": "#E5ECF6",
              "width": 0.5
             },
             "pattern": {
              "fillmode": "overlay",
              "size": 10,
              "solidity": 0.2
             }
            },
            "type": "bar"
           }
          ],
          "barpolar": [
           {
            "marker": {
             "line": {
              "color": "#E5ECF6",
              "width": 0.5
             },
             "pattern": {
              "fillmode": "overlay",
              "size": 10,
              "solidity": 0.2
             }
            },
            "type": "barpolar"
           }
          ],
          "carpet": [
           {
            "aaxis": {
             "endlinecolor": "#2a3f5f",
             "gridcolor": "white",
             "linecolor": "white",
             "minorgridcolor": "white",
             "startlinecolor": "#2a3f5f"
            },
            "baxis": {
             "endlinecolor": "#2a3f5f",
             "gridcolor": "white",
             "linecolor": "white",
             "minorgridcolor": "white",
             "startlinecolor": "#2a3f5f"
            },
            "type": "carpet"
           }
          ],
          "choropleth": [
           {
            "colorbar": {
             "outlinewidth": 0,
             "ticks": ""
            },
            "type": "choropleth"
           }
          ],
          "contour": [
           {
            "colorbar": {
             "outlinewidth": 0,
             "ticks": ""
            },
            "colorscale": [
             [
              0,
              "#0d0887"
             ],
             [
              0.1111111111111111,
              "#46039f"
             ],
             [
              0.2222222222222222,
              "#7201a8"
             ],
             [
              0.3333333333333333,
              "#9c179e"
             ],
             [
              0.4444444444444444,
              "#bd3786"
             ],
             [
              0.5555555555555556,
              "#d8576b"
             ],
             [
              0.6666666666666666,
              "#ed7953"
             ],
             [
              0.7777777777777778,
              "#fb9f3a"
             ],
             [
              0.8888888888888888,
              "#fdca26"
             ],
             [
              1,
              "#f0f921"
             ]
            ],
            "type": "contour"
           }
          ],
          "contourcarpet": [
           {
            "colorbar": {
             "outlinewidth": 0,
             "ticks": ""
            },
            "type": "contourcarpet"
           }
          ],
          "heatmap": [
           {
            "colorbar": {
             "outlinewidth": 0,
             "ticks": ""
            },
            "colorscale": [
             [
              0,
              "#0d0887"
             ],
             [
              0.1111111111111111,
              "#46039f"
             ],
             [
              0.2222222222222222,
              "#7201a8"
             ],
             [
              0.3333333333333333,
              "#9c179e"
             ],
             [
              0.4444444444444444,
              "#bd3786"
             ],
             [
              0.5555555555555556,
              "#d8576b"
             ],
             [
              0.6666666666666666,
              "#ed7953"
             ],
             [
              0.7777777777777778,
              "#fb9f3a"
             ],
             [
              0.8888888888888888,
              "#fdca26"
             ],
             [
              1,
              "#f0f921"
             ]
            ],
            "type": "heatmap"
           }
          ],
          "heatmapgl": [
           {
            "colorbar": {
             "outlinewidth": 0,
             "ticks": ""
            },
            "colorscale": [
             [
              0,
              "#0d0887"
             ],
             [
              0.1111111111111111,
              "#46039f"
             ],
             [
              0.2222222222222222,
              "#7201a8"
             ],
             [
              0.3333333333333333,
              "#9c179e"
             ],
             [
              0.4444444444444444,
              "#bd3786"
             ],
             [
              0.5555555555555556,
              "#d8576b"
             ],
             [
              0.6666666666666666,
              "#ed7953"
             ],
             [
              0.7777777777777778,
              "#fb9f3a"
             ],
             [
              0.8888888888888888,
              "#fdca26"
             ],
             [
              1,
              "#f0f921"
             ]
            ],
            "type": "heatmapgl"
           }
          ],
          "histogram": [
           {
            "marker": {
             "pattern": {
              "fillmode": "overlay",
              "size": 10,
              "solidity": 0.2
             }
            },
            "type": "histogram"
           }
          ],
          "histogram2d": [
           {
            "colorbar": {
             "outlinewidth": 0,
             "ticks": ""
            },
            "colorscale": [
             [
              0,
              "#0d0887"
             ],
             [
              0.1111111111111111,
              "#46039f"
             ],
             [
              0.2222222222222222,
              "#7201a8"
             ],
             [
              0.3333333333333333,
              "#9c179e"
             ],
             [
              0.4444444444444444,
              "#bd3786"
             ],
             [
              0.5555555555555556,
              "#d8576b"
             ],
             [
              0.6666666666666666,
              "#ed7953"
             ],
             [
              0.7777777777777778,
              "#fb9f3a"
             ],
             [
              0.8888888888888888,
              "#fdca26"
             ],
             [
              1,
              "#f0f921"
             ]
            ],
            "type": "histogram2d"
           }
          ],
          "histogram2dcontour": [
           {
            "colorbar": {
             "outlinewidth": 0,
             "ticks": ""
            },
            "colorscale": [
             [
              0,
              "#0d0887"
             ],
             [
              0.1111111111111111,
              "#46039f"
             ],
             [
              0.2222222222222222,
              "#7201a8"
             ],
             [
              0.3333333333333333,
              "#9c179e"
             ],
             [
              0.4444444444444444,
              "#bd3786"
             ],
             [
              0.5555555555555556,
              "#d8576b"
             ],
             [
              0.6666666666666666,
              "#ed7953"
             ],
             [
              0.7777777777777778,
              "#fb9f3a"
             ],
             [
              0.8888888888888888,
              "#fdca26"
             ],
             [
              1,
              "#f0f921"
             ]
            ],
            "type": "histogram2dcontour"
           }
          ],
          "mesh3d": [
           {
            "colorbar": {
             "outlinewidth": 0,
             "ticks": ""
            },
            "type": "mesh3d"
           }
          ],
          "parcoords": [
           {
            "line": {
             "colorbar": {
              "outlinewidth": 0,
              "ticks": ""
             }
            },
            "type": "parcoords"
           }
          ],
          "pie": [
           {
            "automargin": true,
            "type": "pie"
           }
          ],
          "scatter": [
           {
            "fillpattern": {
             "fillmode": "overlay",
             "size": 10,
             "solidity": 0.2
            },
            "type": "scatter"
           }
          ],
          "scatter3d": [
           {
            "line": {
             "colorbar": {
              "outlinewidth": 0,
              "ticks": ""
             }
            },
            "marker": {
             "colorbar": {
              "outlinewidth": 0,
              "ticks": ""
             }
            },
            "type": "scatter3d"
           }
          ],
          "scattercarpet": [
           {
            "marker": {
             "colorbar": {
              "outlinewidth": 0,
              "ticks": ""
             }
            },
            "type": "scattercarpet"
           }
          ],
          "scattergeo": [
           {
            "marker": {
             "colorbar": {
              "outlinewidth": 0,
              "ticks": ""
             }
            },
            "type": "scattergeo"
           }
          ],
          "scattergl": [
           {
            "marker": {
             "colorbar": {
              "outlinewidth": 0,
              "ticks": ""
             }
            },
            "type": "scattergl"
           }
          ],
          "scattermapbox": [
           {
            "marker": {
             "colorbar": {
              "outlinewidth": 0,
              "ticks": ""
             }
            },
            "type": "scattermapbox"
           }
          ],
          "scatterpolar": [
           {
            "marker": {
             "colorbar": {
              "outlinewidth": 0,
              "ticks": ""
             }
            },
            "type": "scatterpolar"
           }
          ],
          "scatterpolargl": [
           {
            "marker": {
             "colorbar": {
              "outlinewidth": 0,
              "ticks": ""
             }
            },
            "type": "scatterpolargl"
           }
          ],
          "scatterternary": [
           {
            "marker": {
             "colorbar": {
              "outlinewidth": 0,
              "ticks": ""
             }
            },
            "type": "scatterternary"
           }
          ],
          "surface": [
           {
            "colorbar": {
             "outlinewidth": 0,
             "ticks": ""
            },
            "colorscale": [
             [
              0,
              "#0d0887"
             ],
             [
              0.1111111111111111,
              "#46039f"
             ],
             [
              0.2222222222222222,
              "#7201a8"
             ],
             [
              0.3333333333333333,
              "#9c179e"
             ],
             [
              0.4444444444444444,
              "#bd3786"
             ],
             [
              0.5555555555555556,
              "#d8576b"
             ],
             [
              0.6666666666666666,
              "#ed7953"
             ],
             [
              0.7777777777777778,
              "#fb9f3a"
             ],
             [
              0.8888888888888888,
              "#fdca26"
             ],
             [
              1,
              "#f0f921"
             ]
            ],
            "type": "surface"
           }
          ],
          "table": [
           {
            "cells": {
             "fill": {
              "color": "#EBF0F8"
             },
             "line": {
              "color": "white"
             }
            },
            "header": {
             "fill": {
              "color": "#C8D4E3"
             },
             "line": {
              "color": "white"
             }
            },
            "type": "table"
           }
          ]
         },
         "layout": {
          "annotationdefaults": {
           "arrowcolor": "#2a3f5f",
           "arrowhead": 0,
           "arrowwidth": 1
          },
          "autotypenumbers": "strict",
          "coloraxis": {
           "colorbar": {
            "outlinewidth": 0,
            "ticks": ""
           }
          },
          "colorscale": {
           "diverging": [
            [
             0,
             "#8e0152"
            ],
            [
             0.1,
             "#c51b7d"
            ],
            [
             0.2,
             "#de77ae"
            ],
            [
             0.3,
             "#f1b6da"
            ],
            [
             0.4,
             "#fde0ef"
            ],
            [
             0.5,
             "#f7f7f7"
            ],
            [
             0.6,
             "#e6f5d0"
            ],
            [
             0.7,
             "#b8e186"
            ],
            [
             0.8,
             "#7fbc41"
            ],
            [
             0.9,
             "#4d9221"
            ],
            [
             1,
             "#276419"
            ]
           ],
           "sequential": [
            [
             0,
             "#0d0887"
            ],
            [
             0.1111111111111111,
             "#46039f"
            ],
            [
             0.2222222222222222,
             "#7201a8"
            ],
            [
             0.3333333333333333,
             "#9c179e"
            ],
            [
             0.4444444444444444,
             "#bd3786"
            ],
            [
             0.5555555555555556,
             "#d8576b"
            ],
            [
             0.6666666666666666,
             "#ed7953"
            ],
            [
             0.7777777777777778,
             "#fb9f3a"
            ],
            [
             0.8888888888888888,
             "#fdca26"
            ],
            [
             1,
             "#f0f921"
            ]
           ],
           "sequentialminus": [
            [
             0,
             "#0d0887"
            ],
            [
             0.1111111111111111,
             "#46039f"
            ],
            [
             0.2222222222222222,
             "#7201a8"
            ],
            [
             0.3333333333333333,
             "#9c179e"
            ],
            [
             0.4444444444444444,
             "#bd3786"
            ],
            [
             0.5555555555555556,
             "#d8576b"
            ],
            [
             0.6666666666666666,
             "#ed7953"
            ],
            [
             0.7777777777777778,
             "#fb9f3a"
            ],
            [
             0.8888888888888888,
             "#fdca26"
            ],
            [
             1,
             "#f0f921"
            ]
           ]
          },
          "colorway": [
           "#636efa",
           "#EF553B",
           "#00cc96",
           "#ab63fa",
           "#FFA15A",
           "#19d3f3",
           "#FF6692",
           "#B6E880",
           "#FF97FF",
           "#FECB52"
          ],
          "font": {
           "color": "#2a3f5f"
          },
          "geo": {
           "bgcolor": "white",
           "lakecolor": "white",
           "landcolor": "#E5ECF6",
           "showlakes": true,
           "showland": true,
           "subunitcolor": "white"
          },
          "hoverlabel": {
           "align": "left"
          },
          "hovermode": "closest",
          "mapbox": {
           "style": "light"
          },
          "paper_bgcolor": "white",
          "plot_bgcolor": "#E5ECF6",
          "polar": {
           "angularaxis": {
            "gridcolor": "white",
            "linecolor": "white",
            "ticks": ""
           },
           "bgcolor": "#E5ECF6",
           "radialaxis": {
            "gridcolor": "white",
            "linecolor": "white",
            "ticks": ""
           }
          },
          "scene": {
           "xaxis": {
            "backgroundcolor": "#E5ECF6",
            "gridcolor": "white",
            "gridwidth": 2,
            "linecolor": "white",
            "showbackground": true,
            "ticks": "",
            "zerolinecolor": "white"
           },
           "yaxis": {
            "backgroundcolor": "#E5ECF6",
            "gridcolor": "white",
            "gridwidth": 2,
            "linecolor": "white",
            "showbackground": true,
            "ticks": "",
            "zerolinecolor": "white"
           },
           "zaxis": {
            "backgroundcolor": "#E5ECF6",
            "gridcolor": "white",
            "gridwidth": 2,
            "linecolor": "white",
            "showbackground": true,
            "ticks": "",
            "zerolinecolor": "white"
           }
          },
          "shapedefaults": {
           "line": {
            "color": "#2a3f5f"
           }
          },
          "ternary": {
           "aaxis": {
            "gridcolor": "white",
            "linecolor": "white",
            "ticks": ""
           },
           "baxis": {
            "gridcolor": "white",
            "linecolor": "white",
            "ticks": ""
           },
           "bgcolor": "#E5ECF6",
           "caxis": {
            "gridcolor": "white",
            "linecolor": "white",
            "ticks": ""
           }
          },
          "title": {
           "x": 0.05
          },
          "xaxis": {
           "automargin": true,
           "gridcolor": "white",
           "linecolor": "white",
           "ticks": "",
           "title": {
            "standoff": 15
           },
           "zerolinecolor": "white",
           "zerolinewidth": 2
          },
          "yaxis": {
           "automargin": true,
           "gridcolor": "white",
           "linecolor": "white",
           "ticks": "",
           "title": {
            "standoff": 15
           },
           "zerolinecolor": "white",
           "zerolinewidth": 2
          }
         }
        },
        "title": {
         "text": "Confusion matrices",
         "x": 0.5
        },
        "xaxis": {
         "anchor": "y",
         "domain": [
          0,
          0.45
         ]
        },
        "xaxis2": {
         "anchor": "y2",
         "domain": [
          0.55,
          1
         ]
        },
        "yaxis": {
         "anchor": "x",
         "autorange": "reversed",
         "domain": [
          0,
          1
         ]
        },
        "yaxis2": {
         "anchor": "x2",
         "autorange": "reversed",
         "domain": [
          0,
          1
         ]
        }
       }
      }
     },
     "metadata": {},
     "output_type": "display_data"
    }
   ],
   "source": [
    "# Visualize confusion matrices\n",
    "from plotly.subplots import make_subplots\n",
    "cm_train = confusion_matrix(y_train, Y_train_pred)\n",
    "cm_test = confusion_matrix(y_test, Y_test_pred)\n",
    "\n",
    "fig = make_subplots(rows = 1, cols = 2, subplot_titles = (\"train\", \"test\"), \n",
    "                    x_title = 'Prediction', y_title = 'True label')\n",
    "fig.update_layout(\n",
    "        title = go.layout.Title(text = \"Confusion matrices\", x = 0.5))\n",
    "fig.update_yaxes(autorange='reversed')\n",
    "fig.add_trace(\n",
    "    go.Heatmap(\n",
    "        name = 'train',\n",
    "        x = ['0', '1'], \n",
    "        y = ['0', '1'], \n",
    "        z = cm_train,\n",
    "        colorscale = 'gnbu',\n",
    "        zmin = 0,\n",
    "        zmax = max(cm_train.max(), cm_test.max())\n",
    "    ),\n",
    "    row = 1,\n",
    "    col = 1\n",
    ")  \n",
    "fig.add_trace(\n",
    "    go.Heatmap(\n",
    "        name = 'test',\n",
    "        x = ['0', '1'], \n",
    "        y = ['0', '1'], \n",
    "        z = cm_test,\n",
    "        colorscale = 'gnbu',\n",
    "        zmin = 0,\n",
    "        zmax = max(cm_train.max(), cm_test.max())\n",
    "    ),\n",
    "    row = 1,\n",
    "    col = 2\n",
    ")"
   ]
  },
  {
   "cell_type": "code",
   "execution_count": 51,
   "metadata": {},
   "outputs": [
    {
     "data": {
      "application/vnd.plotly.v1+json": {
       "config": {
        "plotlyServerURL": "https://plot.ly"
       },
       "data": [
        {
         "mode": "lines",
         "name": "train",
         "type": "scatter",
         "x": [
          0,
          0.0058823529411764705,
          0.029411764705882353,
          0.052941176470588235,
          0.058823529411764705,
          0.07058823529411765,
          0.08235294117647059,
          0.11764705882352941,
          0.15294117647058825,
          0.15294117647058825,
          0.1588235294117647,
          0.17058823529411765,
          0.2823529411764706,
          0.2823529411764706,
          0.29411764705882354,
          0.29411764705882354,
          0.29411764705882354,
          0.3,
          0.3,
          0.32941176470588235,
          0.32941176470588235,
          0.3352941176470588,
          0.3352941176470588,
          0.34705882352941175,
          0.35294117647058826,
          0.35294117647058826,
          0.3588235294117647,
          0.3588235294117647,
          0.37058823529411766,
          0.37058823529411766,
          0.3764705882352941,
          0.38823529411764707,
          0.40588235294117647,
          0.40588235294117647,
          0.4117647058823529,
          0.4117647058823529,
          0.4117647058823529,
          0.4176470588235294,
          0.4176470588235294,
          0.4235294117647059,
          0.4235294117647059,
          0.4411764705882353,
          0.4411764705882353,
          0.4470588235294118,
          0.4470588235294118,
          0.45294117647058824,
          0.45294117647058824,
          0.4588235294117647,
          0.4588235294117647,
          0.4588235294117647,
          0.4823529411764706,
          0.48823529411764705,
          0.48823529411764705,
          0.48823529411764705,
          0.49411764705882355,
          0.49411764705882355,
          0.5,
          0.5117647058823529,
          0.5117647058823529,
          0.5176470588235295,
          0.5176470588235295,
          0.5235294117647059,
          0.5352941176470588,
          0.5352941176470588,
          0.5411764705882353,
          0.5411764705882353,
          0.5588235294117647,
          0.5588235294117647,
          0.5647058823529412,
          0.5647058823529412,
          0.5823529411764706,
          0.5823529411764706,
          0.5882352941176471,
          0.6,
          0.6058823529411764,
          0.6058823529411764,
          0.611764705882353,
          0.6235294117647059,
          0.6235294117647059,
          0.6294117647058823,
          0.6294117647058823,
          0.6352941176470588,
          0.6352941176470588,
          0.6470588235294118,
          0.6470588235294118,
          0.6647058823529411,
          0.6647058823529411,
          0.6705882352941176,
          0.6705882352941176,
          0.6705882352941176,
          0.6705882352941176,
          0.6705882352941176,
          0.6764705882352942,
          0.6764705882352942,
          0.6882352941176471,
          0.6882352941176471,
          0.6882352941176471,
          0.7,
          0.7,
          0.711764705882353,
          0.711764705882353,
          0.7235294117647059,
          0.7235294117647059,
          0.7411764705882353,
          0.7411764705882353,
          0.7470588235294118,
          0.7470588235294118,
          0.7588235294117647,
          0.7588235294117647,
          0.7647058823529411,
          0.7647058823529411,
          0.7705882352941177,
          0.7705882352941177,
          0.7764705882352941,
          0.7764705882352941,
          0.788235294117647,
          0.788235294117647,
          0.8,
          0.8,
          0.8058823529411765,
          0.8058823529411765,
          0.8058823529411765,
          0.8117647058823529,
          0.8117647058823529,
          0.8176470588235294,
          0.8176470588235294,
          0.8176470588235294,
          0.8235294117647058,
          0.8235294117647058,
          0.8294117647058824,
          0.8411764705882353,
          0.8411764705882353,
          0.8470588235294118,
          0.8470588235294118,
          0.8470588235294118,
          0.8470588235294118,
          0.8529411764705882,
          0.8529411764705882,
          0.8529411764705882,
          0.8529411764705882,
          0.8588235294117647,
          0.8588235294117647,
          0.8705882352941177,
          0.8705882352941177,
          0.8705882352941177,
          0.8705882352941177,
          0.8705882352941177,
          0.8705882352941177,
          0.8823529411764706,
          0.8823529411764706,
          0.888235294117647,
          0.888235294117647,
          0.8941176470588236,
          0.8941176470588236,
          0.9058823529411765,
          0.9058823529411765,
          0.9117647058823529,
          0.9117647058823529,
          0.9176470588235294,
          0.9176470588235294,
          0.9176470588235294,
          0.9176470588235294,
          0.9176470588235294,
          0.9235294117647059,
          0.9235294117647059,
          0.9235294117647059,
          0.9235294117647059,
          0.9294117647058824,
          0.9294117647058824,
          0.9352941176470588,
          0.9352941176470588,
          0.9352941176470588,
          0.9352941176470588,
          0.9352941176470588,
          0.9411764705882353,
          0.9411764705882353,
          0.9470588235294117,
          0.9470588235294117,
          0.9529411764705882,
          0.9529411764705882,
          0.9529411764705882,
          0.9588235294117647,
          0.9588235294117647,
          0.9588235294117647,
          0.9588235294117647,
          0.9647058823529412,
          0.9647058823529412,
          0.9705882352941176,
          0.9705882352941176,
          0.9705882352941176,
          0.9705882352941176,
          0.9705882352941176,
          0.9705882352941176,
          0.9705882352941176,
          0.9705882352941176,
          0.9705882352941176,
          0.9705882352941176,
          0.9764705882352941,
          0.9764705882352941,
          0.9764705882352941,
          0.9764705882352941,
          0.9823529411764705,
          0.9823529411764705,
          0.9823529411764705,
          0.9823529411764705,
          0.9823529411764705,
          0.9823529411764705,
          0.9882352941176471,
          0.9882352941176471,
          0.9882352941176471,
          0.9882352941176471,
          0.9941176470588236,
          0.9941176470588236,
          0.9941176470588236,
          0.9941176470588236,
          0.9941176470588236,
          0.9941176470588236,
          0.9941176470588236,
          0.9941176470588236,
          0.9941176470588236,
          0.9941176470588236,
          0.9941176470588236,
          0.9941176470588236,
          0.9941176470588236,
          0.9941176470588236,
          0.9941176470588236,
          0.9941176470588236,
          0.9941176470588236,
          0.9941176470588236,
          1,
          1,
          1,
          1,
          1,
          1,
          1,
          1,
          1,
          1,
          1,
          1,
          1,
          1,
          1,
          1,
          1,
          1,
          1,
          1,
          1,
          1,
          1,
          1,
          1,
          1,
          1,
          1,
          1,
          1,
          1,
          1,
          1,
          1,
          1,
          1,
          1,
          1,
          1,
          1,
          1,
          1,
          1,
          1,
          1,
          1,
          1,
          1,
          1,
          1,
          1,
          1,
          1,
          1,
          1,
          1,
          1,
          1,
          1,
          1,
          1,
          1,
          1,
          1,
          1,
          1,
          1,
          1,
          1,
          1,
          1,
          1,
          1,
          1,
          1,
          1,
          1,
          1,
          1,
          1,
          1,
          1,
          1,
          1,
          1,
          1,
          1,
          1,
          1,
          1,
          1,
          1,
          1,
          1,
          1,
          1,
          1,
          1,
          1,
          1,
          1,
          1,
          1,
          1,
          1,
          1,
          1,
          1,
          1,
          1,
          1,
          1,
          1,
          1,
          1,
          1,
          1,
          1,
          1,
          1,
          1,
          1,
          1,
          1,
          1,
          1,
          1,
          1,
          1,
          1,
          1,
          1,
          1,
          1,
          1,
          1,
          1,
          1,
          1,
          1,
          1,
          1,
          1,
          1,
          1,
          1,
          1,
          1,
          1,
          1,
          1,
          1,
          1,
          1,
          1,
          1,
          1,
          1,
          1,
          1,
          1,
          1,
          1,
          1,
          1,
          1,
          1,
          1,
          1,
          1,
          1,
          1,
          1,
          1,
          1,
          1,
          1,
          1,
          1,
          1,
          1,
          1,
          1,
          1,
          1,
          1,
          1,
          1,
          1,
          1,
          1,
          1,
          1,
          1,
          1,
          1,
          1,
          1,
          1,
          1,
          1,
          1,
          1,
          1,
          1,
          1,
          1,
          1,
          1,
          1,
          1,
          1,
          1,
          1,
          1,
          1,
          1,
          1,
          1,
          1,
          1,
          1,
          1,
          1,
          1,
          1,
          1,
          1,
          1,
          1,
          1,
          1,
          1,
          1,
          1,
          1,
          1,
          1,
          1,
          1,
          1,
          1,
          1,
          1,
          1,
          1,
          1,
          1,
          1,
          1,
          1,
          1,
          1,
          1,
          1,
          1,
          1,
          1,
          1,
          1,
          1,
          1,
          1,
          1,
          1,
          1,
          1,
          1,
          1,
          1,
          1,
          1,
          1,
          1,
          1,
          1,
          1,
          1,
          1,
          1,
          1,
          1,
          1,
          1,
          1,
          1,
          1,
          1,
          1,
          1,
          1,
          1,
          1,
          1,
          1,
          1,
          1,
          1,
          1,
          1,
          1,
          1,
          1,
          1,
          1,
          1,
          1,
          1,
          1,
          1,
          1,
          1,
          1,
          1,
          1,
          1,
          1,
          1,
          1,
          1,
          1,
          1,
          1,
          1,
          1,
          1,
          1,
          1,
          1,
          1,
          1,
          1,
          1,
          1,
          1,
          1,
          1,
          1,
          1,
          1,
          1,
          1,
          1,
          1,
          1,
          1,
          1,
          1,
          1,
          1,
          1,
          1,
          1,
          1,
          1,
          1,
          1,
          1,
          1,
          1,
          1,
          1,
          1,
          1,
          1,
          1,
          1,
          1,
          1,
          1,
          1,
          1,
          1,
          1,
          1,
          1,
          1,
          1,
          1,
          1,
          1,
          1,
          1,
          1,
          1,
          1,
          1,
          1,
          1,
          1,
          1,
          1,
          1,
          1,
          1,
          1,
          1,
          1,
          1,
          1,
          1,
          1,
          1,
          1,
          1,
          1,
          1,
          1,
          1,
          1,
          1,
          1,
          1,
          1,
          1,
          1,
          1,
          1,
          1,
          1,
          1,
          1,
          1,
          1,
          1,
          1,
          1,
          1,
          1,
          1,
          1,
          1,
          1,
          1,
          1,
          1,
          1,
          1,
          1,
          1,
          1,
          1,
          1,
          1,
          1,
          1,
          1,
          1,
          1,
          1,
          1,
          1,
          1,
          1,
          1,
          1,
          1,
          1,
          1,
          1,
          1,
          1,
          1,
          1,
          1,
          1,
          1,
          1,
          1,
          1,
          1,
          1,
          1,
          1,
          1,
          1,
          1,
          1,
          1,
          1,
          1,
          1,
          1,
          1,
          1,
          1,
          1,
          1,
          1,
          1,
          1,
          1,
          1,
          1,
          1,
          1,
          1,
          1,
          1,
          1,
          1,
          1,
          1,
          1,
          1,
          1,
          1,
          1,
          1,
          1,
          1,
          1,
          1,
          1,
          1,
          1,
          1,
          1,
          1,
          1,
          1,
          1,
          1,
          1,
          1,
          1,
          1,
          1,
          1,
          1,
          1,
          1,
          1,
          1,
          1,
          1,
          1,
          1,
          1,
          1,
          1,
          1,
          1,
          1,
          1,
          1,
          1,
          1,
          1,
          1,
          1,
          1,
          1,
          1,
          1,
          1,
          1,
          1,
          1,
          1,
          1,
          1,
          1,
          1,
          1,
          1,
          1,
          1,
          1,
          1,
          1,
          1,
          1,
          1,
          1,
          1,
          1,
          1,
          1,
          1,
          1,
          1,
          1,
          1,
          1,
          1,
          1,
          1,
          1,
          1,
          1,
          1,
          1,
          1,
          1,
          1,
          1,
          1,
          1,
          1,
          1,
          1,
          1,
          1,
          1,
          1,
          1,
          1,
          1,
          1,
          1,
          1,
          1,
          1,
          1,
          1,
          1,
          1,
          1,
          1,
          1,
          1,
          1,
          1,
          1,
          1,
          1,
          1,
          1,
          1,
          1,
          1,
          1,
          1,
          1,
          1,
          1,
          1,
          1,
          1,
          1,
          1,
          1,
          1,
          1,
          1,
          1,
          1,
          1,
          1,
          1,
          1,
          1,
          1,
          1,
          1,
          1,
          1,
          1,
          1,
          1,
          1,
          1,
          1,
          1,
          1,
          1,
          1,
          1,
          1,
          1,
          1,
          1,
          1,
          1,
          1,
          1,
          1,
          1,
          1,
          1,
          1,
          1,
          1,
          1,
          1,
          1,
          1,
          1,
          1,
          1,
          1,
          1,
          1,
          1,
          1,
          1,
          1,
          1,
          1,
          1,
          1,
          1,
          1,
          1,
          1,
          1,
          1,
          1,
          1,
          1,
          1,
          1,
          1,
          1,
          1,
          1,
          1,
          1,
          1,
          1,
          1,
          1,
          1,
          1,
          1,
          1,
          1,
          1,
          1,
          1,
          1,
          1,
          1,
          1,
          1,
          1,
          1,
          1,
          1,
          1,
          1,
          1,
          1,
          1,
          1,
          1,
          1,
          1,
          1,
          1,
          1,
          1,
          1,
          1,
          1,
          1,
          1,
          1,
          1,
          1,
          1,
          1,
          1,
          1,
          1,
          1,
          1,
          1,
          1,
          1,
          1,
          1,
          1,
          1,
          1,
          1,
          1,
          1,
          1,
          1,
          1,
          1,
          1,
          1,
          1,
          1,
          1,
          1,
          1,
          1,
          1,
          1,
          1,
          1,
          1,
          1,
          1,
          1,
          1,
          1,
          1,
          1,
          1,
          1,
          1,
          1,
          1,
          1,
          1,
          1,
          1,
          1,
          1,
          1,
          1,
          1,
          1,
          1,
          1,
          1,
          1,
          1,
          1,
          1,
          1,
          1,
          1,
          1,
          1,
          1,
          1,
          1,
          1,
          1,
          1,
          1,
          1,
          1,
          1,
          1,
          1,
          1,
          1,
          1,
          1,
          1,
          1,
          1,
          1,
          1,
          1,
          1,
          1,
          1,
          1,
          1,
          1,
          1,
          1,
          1,
          1,
          1,
          1,
          1,
          1,
          1,
          1,
          1,
          1,
          1,
          1,
          1,
          1,
          1,
          1,
          1,
          1,
          1,
          1,
          1,
          1,
          1,
          1,
          1,
          1,
          1,
          1,
          1,
          1,
          1,
          1,
          1,
          1,
          1,
          1,
          1,
          1,
          1,
          1,
          1,
          1,
          1,
          1,
          1,
          1,
          1,
          1,
          1,
          1,
          1,
          1,
          1,
          1,
          1,
          1,
          1,
          1,
          1,
          1,
          1,
          1,
          1,
          1,
          1,
          1,
          1,
          1,
          1,
          1,
          1,
          1,
          1,
          1,
          1,
          1,
          1,
          1,
          1,
          1,
          1,
          1,
          1
         ],
         "y": [
          0,
          0,
          0,
          0,
          0,
          0,
          0,
          0,
          0,
          0.0002405002405002405,
          0.0002405002405002405,
          0.0002405002405002405,
          0.0002405002405002405,
          0.000481000481000481,
          0.000481000481000481,
          0.000962000962000962,
          0.001443001443001443,
          0.001443001443001443,
          0.0016835016835016834,
          0.0016835016835016834,
          0.0021645021645021645,
          0.002405002405002405,
          0.0026455026455026454,
          0.0026455026455026454,
          0.002886002886002886,
          0.0031265031265031266,
          0.0031265031265031266,
          0.003367003367003367,
          0.003367003367003367,
          0.0036075036075036075,
          0.0036075036075036075,
          0.0036075036075036075,
          0.0036075036075036075,
          0.003848003848003848,
          0.003848003848003848,
          0.004329004329004329,
          0.00456950456950457,
          0.00456950456950457,
          0.005050505050505051,
          0.005050505050505051,
          0.005531505531505531,
          0.005531505531505531,
          0.006493506493506494,
          0.006493506493506494,
          0.006974506974506974,
          0.006974506974506974,
          0.007215007215007215,
          0.007215007215007215,
          0.007696007696007696,
          0.008177008177008177,
          0.008177008177008177,
          0.008177008177008177,
          0.008898508898508899,
          0.00913900913900914,
          0.00913900913900914,
          0.00937950937950938,
          0.00962000962000962,
          0.00962000962000962,
          0.009860509860509861,
          0.01034151034151034,
          0.010582010582010581,
          0.010582010582010581,
          0.010582010582010581,
          0.010822510822510822,
          0.010822510822510822,
          0.011063011063011063,
          0.011063011063011063,
          0.011544011544011544,
          0.011544011544011544,
          0.011784511784511785,
          0.011784511784511785,
          0.012025012025012025,
          0.012025012025012025,
          0.012025012025012025,
          0.012987012987012988,
          0.013227513227513227,
          0.013708513708513708,
          0.013708513708513708,
          0.01443001443001443,
          0.01443001443001443,
          0.01467051467051467,
          0.01467051467051467,
          0.015632515632515633,
          0.015632515632515633,
          0.015873015873015872,
          0.015873015873015872,
          0.016835016835016835,
          0.016835016835016835,
          0.017316017316017316,
          0.017556517556517555,
          0.018037518037518036,
          0.01827801827801828,
          0.01827801827801828,
          0.018518518518518517,
          0.018518518518518517,
          0.018999518999519,
          0.019721019721019722,
          0.019721019721019722,
          0.01996151996151996,
          0.01996151996151996,
          0.020202020202020204,
          0.020202020202020204,
          0.021404521404521405,
          0.021404521404521405,
          0.022126022126022125,
          0.022126022126022125,
          0.02356902356902357,
          0.02356902356902357,
          0.023809523809523808,
          0.023809523809523808,
          0.02429052429052429,
          0.02429052429052429,
          0.024531024531024532,
          0.024531024531024532,
          0.025493025493025494,
          0.025493025493025494,
          0.025733525733525733,
          0.025733525733525733,
          0.026695526695526696,
          0.026695526695526696,
          0.027176527176527177,
          0.02958152958152958,
          0.02958152958152958,
          0.03006253006253006,
          0.03006253006253006,
          0.030303030303030304,
          0.030784030784030785,
          0.030784030784030785,
          0.031265031265031266,
          0.031265031265031266,
          0.031746031746031744,
          0.03198653198653199,
          0.03198653198653199,
          0.03342953342953343,
          0.03391053391053391,
          0.03463203463203463,
          0.03463203463203463,
          0.03583453583453584,
          0.036315536315536315,
          0.0367965367965368,
          0.037037037037037035,
          0.039442039442039445,
          0.039442039442039445,
          0.04064454064454064,
          0.04112554112554113,
          0.04184704184704185,
          0.042328042328042326,
          0.04256854256854257,
          0.04256854256854257,
          0.04329004329004329,
          0.04329004329004329,
          0.04353054353054353,
          0.04353054353054353,
          0.04377104377104377,
          0.04377104377104377,
          0.045935545935545934,
          0.045935545935545934,
          0.046657046657046654,
          0.046897546897546896,
          0.04713804713804714,
          0.047619047619047616,
          0.05170755170755171,
          0.05218855218855219,
          0.05218855218855219,
          0.05315055315055315,
          0.053631553631553634,
          0.05387205387205387,
          0.05387205387205387,
          0.054353054353054354,
          0.0545935545935546,
          0.05603655603655604,
          0.056517556517556515,
          0.05747955747955748,
          0.05796055796055796,
          0.05796055796055796,
          0.05844155844155844,
          0.05844155844155844,
          0.05868205868205868,
          0.05868205868205868,
          0.05916305916305916,
          0.06012506012506012,
          0.06012506012506012,
          0.061808561808561806,
          0.06228956228956229,
          0.06253006253006253,
          0.06253006253006253,
          0.06373256373256374,
          0.06373256373256374,
          0.0646945646945647,
          0.06517556517556518,
          0.06758056758056757,
          0.06854256854256854,
          0.07022607022607022,
          0.0707070707070707,
          0.07094757094757095,
          0.07142857142857142,
          0.07263107263107263,
          0.07263107263107263,
          0.07479557479557479,
          0.07551707551707551,
          0.07744107744107744,
          0.07744107744107744,
          0.07768157768157768,
          0.0784030784030784,
          0.08032708032708033,
          0.08080808080808081,
          0.0873015873015873,
          0.0873015873015873,
          0.08826358826358827,
          0.08874458874458875,
          0.0897065897065897,
          0.0897065897065897,
          0.09211159211159212,
          0.09259259259259259,
          0.09331409331409331,
          0.09379509379509379,
          0.09571909571909572,
          0.0962000962000962,
          0.09716209716209716,
          0.09836459836459836,
          0.10101010101010101,
          0.10149110149110149,
          0.1038961038961039,
          0.10437710437710437,
          0.10461760461760462,
          0.1050986050986051,
          0.10654160654160655,
          0.10702260702260702,
          0.11135161135161135,
          0.11135161135161135,
          0.11471861471861472,
          0.11544011544011544,
          0.12145262145262145,
          0.12193362193362194,
          0.12313612313612314,
          0.1240981240981241,
          0.12698412698412698,
          0.12794612794612795,
          0.12818662818662818,
          0.12866762866762868,
          0.12962962962962962,
          0.13011063011063012,
          0.13203463203463203,
          0.13275613275613277,
          0.13612313612313612,
          0.13660413660413662,
          0.1370851370851371,
          0.13756613756613756,
          0.139009139009139,
          0.1394901394901395,
          0.13997113997113997,
          0.14045214045214044,
          0.14117364117364117,
          0.14165464165464164,
          0.1426166426166426,
          0.14309764309764308,
          0.14526214526214526,
          0.14574314574314573,
          0.14622414622414623,
          0.1467051467051467,
          0.1491101491101491,
          0.14959114959114958,
          0.15127465127465128,
          0.15175565175565175,
          0.15416065416065416,
          0.15464165464165464,
          0.15704665704665705,
          0.15752765752765752,
          0.15897065897065896,
          0.15945165945165946,
          0.16642616642616642,
          0.16690716690716692,
          0.1697931697931698,
          0.17027417027417027,
          0.17291967291967292,
          0.1734006734006734,
          0.18133718133718132,
          0.18181818181818182,
          0.18205868205868206,
          0.18253968253968253,
          0.1827801827801828,
          0.18326118326118326,
          0.18422318422318423,
          0.18518518518518517,
          0.18614718614718614,
          0.18662818662818662,
          0.18951418951418952,
          0.18999518999519,
          0.19143819143819144,
          0.1919191919191919,
          0.19432419432419432,
          0.19480519480519481,
          0.19504569504569505,
          0.19552669552669552,
          0.19913419913419914,
          0.1996151996151996,
          0.2065897065897066,
          0.20707070707070707,
          0.21043771043771045,
          0.21091871091871092,
          0.21404521404521404,
          0.21452621452621454,
          0.215007215007215,
          0.21548821548821548,
          0.21645021645021645,
          0.21693121693121692,
          0.21765271765271765,
          0.21813371813371812,
          0.21861471861471862,
          0.2190957190957191,
          0.22005772005772006,
          0.22077922077922077,
          0.2227032227032227,
          0.22318422318422318,
          0.22342472342472341,
          0.2239057239057239,
          0.22486772486772486,
          0.22582972582972582,
          0.227994227994228,
          0.22847522847522847,
          0.23136123136123135,
          0.23208273208273208,
          0.23472823472823473,
          0.2356902356902357,
          0.23593073593073594,
          0.23665223665223664,
          0.23713323713323714,
          0.2376142376142376,
          0.24025974025974026,
          0.24122174122174123,
          0.2421837421837422,
          0.24266474266474267,
          0.24314574314574314,
          0.24362674362674364,
          0.24434824434824434,
          0.24482924482924484,
          0.24506974506974508,
          0.24579124579124578,
          0.24771524771524772,
          0.2481962481962482,
          0.25036075036075034,
          0.25084175084175087,
          0.2522847522847523,
          0.25276575276575275,
          0.25372775372775375,
          0.2542087542087542,
          0.2544492544492544,
          0.25493025493025495,
          0.2558922558922559,
          0.25637325637325636,
          0.2587782587782588,
          0.26022126022126024,
          0.26527176527176527,
          0.26575276575276574,
          0.26791726791726794,
          0.2688792688792689,
          0.2712842712842713,
          0.27176527176527177,
          0.27224627224627224,
          0.2727272727272727,
          0.27296777296777297,
          0.27344877344877344,
          0.2741702741702742,
          0.27465127465127465,
          0.2748917748917749,
          0.2753727753727754,
          0.2763347763347763,
          0.2768157768157768,
          0.2772967772967773,
          0.27825877825877826,
          0.27873977873977873,
          0.2804232804232804,
          0.2809042809042809,
          0.2828282828282828,
          0.2833092833092833,
          0.28835978835978837,
          0.2893217893217893,
          0.2895622895622896,
          0.2902837902837903,
          0.2907647907647908,
          0.29124579124579125,
          0.2917267917267917,
          0.2922077922077922,
          0.29268879268879266,
          0.2931697931697932,
          0.29413179413179413,
          0.2946127946127946,
          0.2950937950937951,
          0.2955747955747956,
          0.2958152958152958,
          0.2962962962962963,
          0.29653679653679654,
          0.297017797017797,
          0.3035113035113035,
          0.303992303992304,
          0.30447330447330445,
          0.3051948051948052,
          0.30735930735930733,
          0.30832130832130833,
          0.30904280904280906,
          0.31000481000481,
          0.31024531024531027,
          0.31072631072631074,
          0.3124098124098124,
          0.31313131313131315,
          0.31385281385281383,
          0.31433381433381435,
          0.31457431457431456,
          0.31553631553631556,
          0.3205868205868206,
          0.3225108225108225,
          0.3244348244348244,
          0.32491582491582494,
          0.32635882635882635,
          0.3268398268398268,
          0.3278018278018278,
          0.3282828282828283,
          0.32924482924482923,
          0.3297258297258297,
          0.32996632996632996,
          0.33116883116883117,
          0.33164983164983164,
          0.3321308321308321,
          0.3323713323713324,
          0.33285233285233284,
          0.3330928330928331,
          0.335016835016835,
          0.33525733525733525,
          0.3357383357383357,
          0.33645983645983646,
          0.33694083694083693,
          0.3371813371813372,
          0.33766233766233766,
          0.33814333814333813,
          0.3386243386243386,
          0.3398268398268398,
          0.3407888407888408,
          0.34559884559884557,
          0.3460798460798461,
          0.3468013468013468,
          0.3472823472823473,
          0.3477633477633478,
          0.34824434824434825,
          0.3504088504088504,
          0.3511303511303511,
          0.3525733525733526,
          0.35305435305435307,
          0.354016354016354,
          0.35473785473785474,
          0.3556998556998557,
          0.35594035594035595,
          0.3564213564213564,
          0.35738335738335736,
          0.3578643578643579,
          0.3581048581048581,
          0.35858585858585856,
          0.35978835978835977,
          0.3605098605098605,
          0.360990860990861,
          0.36147186147186144,
          0.36267436267436265,
          0.3631553631553632,
          0.3633958633958634,
          0.36483886483886485,
          0.36507936507936506,
          0.36604136604136606,
          0.36628186628186626,
          0.3667628667628668,
          0.36724386724386726,
          0.36772486772486773,
          0.36796536796536794,
          0.36844636844636847,
          0.37037037037037035,
          0.3708513708513709,
          0.3720538720538721,
          0.37253487253487255,
          0.3734968734968735,
          0.3746993746993747,
          0.3759018759018759,
          0.37686387686387685,
          0.37734487734487737,
          0.37806637806637805,
          0.3785473785473785,
          0.37902837902837905,
          0.38047138047138046,
          0.3811928811928812,
          0.38167388167388167,
          0.38287638287638287,
          0.38335738335738334,
          0.3862433862433862,
          0.38672438672438675,
          0.38696488696488696,
          0.3874458874458874,
          0.3903318903318903,
          0.39081289081289083,
          0.3917748917748918,
          0.3927368927368927,
          0.39321789321789324,
          0.3936988936988937,
          0.39466089466089466,
          0.3956228956228956,
          0.39730639730639733,
          0.3977873977873978,
          0.39850889850889853,
          0.398989898989899,
          0.4018759018759019,
          0.40235690235690236,
          0.40404040404040403,
          0.4045214045214045,
          0.4057239057239057,
          0.4066859066859067,
          0.4071669071669072,
          0.40764790764790765,
          0.4090909090909091,
          0.4098124098124098,
          0.4107744107744108,
          0.411014911014911,
          0.41149591149591147,
          0.41173641173641173,
          0.4122174122174122,
          0.41245791245791247,
          0.4131794131794132,
          0.4146224146224146,
          0.4151034151034151,
          0.41774891774891776,
          0.41895141895141896,
          0.41943241943241943,
          0.4203944203944204,
          0.4213564213564214,
          0.42183742183742184,
          0.4225589225589226,
          0.42303992303992305,
          0.4247234247234247,
          0.42544492544492546,
          0.4280904280904281,
          0.4288119288119288,
          0.4292929292929293,
          0.43073593073593075,
          0.4314574314574315,
          0.43193843193843195,
          0.43265993265993263,
          0.43314093314093316,
          0.4345839345839346,
          0.43506493506493504,
          0.4357864357864358,
          0.4365079365079365,
          0.436988936988937,
          0.43746993746993745,
          0.4381914381914382,
          0.43867243867243866,
          0.43915343915343913,
          0.43963443963443966,
          0.4401154401154401,
          0.4405964405964406,
          0.44131794131794133,
          0.4417989417989418,
          0.4422799422799423,
          0.4432419432419432,
          0.4434824434824435,
          0.44396344396344395,
          0.4442039442039442,
          0.44492544492544495,
          0.4454064454064454,
          0.44612794612794615,
          0.4466089466089466,
          0.4478114478114478,
          0.4482924482924483,
          0.44997594997595,
          0.4506974506974507,
          0.4509379509379509,
          0.45141895141895144,
          0.4521404521404521,
          0.45262145262145265,
          0.4533429533429533,
          0.4538239538239538,
          0.4543049543049543,
          0.45526695526695526,
          0.45574795574795574,
          0.45670995670995673,
          0.4574314574314574,
          0.4576719576719577,
          0.45815295815295815,
          0.4586339586339586,
          0.45911495911495914,
          0.4598364598364598,
          0.46055796055796056,
          0.4612794612794613,
          0.46176046176046176,
          0.462000962000962,
          0.4624819624819625,
          0.4627224627224627,
          0.4636844636844637,
          0.46416546416546417,
          0.46464646464646464,
          0.4656084656084656,
          0.46584896584896585,
          0.4663299663299663,
          0.46705146705146705,
          0.468013468013468,
          0.4684944684944685,
          0.46993746993746993,
          0.4708994708994709,
          0.4716209716209716,
          0.4728234728234728,
          0.4733044733044733,
          0.4745069745069745,
          0.4754689754689755,
          0.4757094757094757,
          0.47619047619047616,
          0.47715247715247716,
          0.47763347763347763,
          0.4802789802789803,
          0.481000481000481,
          0.48148148148148145,
          0.481962481962482,
          0.4834054834054834,
          0.48388648388648386,
          0.4846079846079846,
          0.48508898508898507,
          0.4874939874939875,
          0.4884559884559885,
          0.4886964886964887,
          0.48917748917748916,
          0.4898989898989899,
          0.49037999037999036,
          0.4906204906204906,
          0.4911014911014911,
          0.49158249158249157,
          0.49254449254449256,
          0.49567099567099565,
          0.4961519961519962,
          0.49663299663299665,
          0.4973544973544973,
          0.49783549783549785,
          0.4983164983164983,
          0.5048100048100048,
          0.5052910052910053,
          0.5057720057720058,
          0.5067340067340067,
          0.5079365079365079,
          0.5084175084175084,
          0.5086580086580087,
          0.5096200096200096,
          0.51010101010101,
          0.5108225108225108,
          0.512025012025012,
          0.5125060125060125,
          0.512987012987013,
          0.5134680134680135,
          0.5146705146705147,
          0.5153920153920154,
          0.5173160173160173,
          0.5180375180375181,
          0.518999518999519,
          0.5197210197210197,
          0.51996151996152,
          0.5204425204425205,
          0.5211640211640212,
          0.5214045214045214,
          0.5218855218855218,
          0.5242905242905243,
          0.5247715247715248,
          0.5264550264550265,
          0.5271765271765272,
          0.5274170274170275,
          0.5278980278980279,
          0.5281385281385281,
          0.5291005291005291,
          0.5295815295815296,
          0.5305435305435305,
          0.5324675324675324,
          0.532948532948533,
          0.5334295334295335,
          0.5339105339105339,
          0.5353535353535354,
          0.536075036075036,
          0.5372775372775372,
          0.5375180375180375,
          0.537999037999038,
          0.5384800384800384,
          0.5394420394420394,
          0.5399230399230399,
          0.5413660413660414,
          0.5420875420875421,
          0.5425685425685426,
          0.5432900432900433,
          0.5437710437710438,
          0.5444925444925445,
          0.544973544973545,
          0.5456950456950457,
          0.5461760461760462,
          0.5464165464165465,
          0.5468975468975469,
          0.5471380471380471,
          0.5476190476190477,
          0.5483405483405484,
          0.5488215488215489,
          0.5493025493025493,
          0.5497835497835498,
          0.5505050505050505,
          0.550986050986051,
          0.5512265512265512,
          0.5517075517075517,
          0.5521885521885522,
          0.5533910533910534,
          0.5538720538720538,
          0.5545935545935546,
          0.5553150553150553,
          0.5557960557960558,
          0.556036556036556,
          0.5565175565175565,
          0.5567580567580568,
          0.5572390572390572,
          0.5584415584415584,
          0.5596440596440596,
          0.5601250601250601,
          0.5608465608465608,
          0.5615680615680616,
          0.5634920634920635,
          0.5654160654160654,
          0.5658970658970659,
          0.5673400673400674,
          0.5683020683020683,
          0.5687830687830688,
          0.569023569023569,
          0.5695045695045695,
          0.5697450697450698,
          0.5702260702260702,
          0.570947570947571,
          0.5714285714285714,
          0.5719095719095719,
          0.5728715728715729,
          0.5747955747955747,
          0.5757575757575758,
          0.575998075998076,
          0.5767195767195767,
          0.5772005772005772,
          0.5774410774410774,
          0.5781625781625782,
          0.5791245791245792,
          0.5800865800865801,
          0.5803270803270804,
          0.5808080808080808,
          0.581048581048581,
          0.5817700817700817,
          0.582010582010582,
          0.5824915824915825,
          0.5827320827320828,
          0.5832130832130832,
          0.583934583934584,
          0.5844155844155844,
          0.5846560846560847,
          0.5851370851370852,
          0.5853775853775853,
          0.5858585858585859,
          0.5865800865800865,
          0.5877825877825877,
          0.5885040885040885,
          0.5897065897065897,
          0.58994708994709,
          0.5909090909090909,
          0.5930735930735931,
          0.5937950937950938,
          0.5942760942760943,
          0.5959595959595959,
          0.5964405964405964,
          0.5978835978835979,
          0.5983645983645983,
          0.5988455988455988,
          0.5998075998075998,
          0.601010101010101,
          0.6014911014911015,
          0.6043771043771043,
          0.6050986050986051,
          0.6055796055796056,
          0.6065416065416065,
          0.607022607022607,
          0.6072631072631073,
          0.6077441077441077,
          0.6087061087061088,
          0.6091871091871092,
          0.6108706108706109,
          0.6123136123136124,
          0.6127946127946128,
          0.6132756132756133,
          0.6137566137566137,
          0.6147186147186147,
          0.6151996151996152,
          0.6154401154401155,
          0.6159211159211159,
          0.6168831168831169,
          0.6178451178451179,
          0.6180856180856181,
          0.6185666185666185,
          0.6188071188071188,
          0.6195286195286195,
          0.6197691197691197,
          0.6202501202501203,
          0.6204906204906205,
          0.6212121212121212,
          0.6226551226551227,
          0.6231361231361231,
          0.6233766233766234,
          0.6238576238576239,
          0.6250601250601251,
          0.6253006253006252,
          0.6257816257816258,
          0.6265031265031265,
          0.626984126984127,
          0.6272246272246272,
          0.6286676286676287,
          0.6291486291486291,
          0.6293891293891294,
          0.6308321308321309,
          0.6320346320346321,
          0.632996632996633,
          0.6337181337181337,
          0.6341991341991342,
          0.6349206349206349,
          0.6358826358826358,
          0.6368446368446369,
          0.6382876382876382,
          0.6385281385281385,
          0.6394901394901394,
          0.63997113997114,
          0.6414141414141414,
          0.6416546416546417,
          0.6421356421356421,
          0.6423761423761424,
          0.6428571428571429,
          0.6438191438191438,
          0.6447811447811448,
          0.6457431457431457,
          0.6471861471861472,
          0.6481481481481481,
          0.6493506493506493,
          0.6498316498316499,
          0.65007215007215,
          0.6505531505531505,
          0.6512746512746512,
          0.651996151996152,
          0.6527176527176527,
          0.6534391534391535,
          0.6539201539201539,
          0.6558441558441559,
          0.6568061568061568,
          0.6572871572871573,
          0.658970658970659,
          0.6599326599326599,
          0.6604136604136605,
          0.6608946608946609,
          0.6623376623376623,
          0.6628186628186629,
          0.663059163059163,
          0.6637806637806638,
          0.6642616642616642,
          0.664983164983165,
          0.6657046657046657,
          0.6661856661856662,
          0.6664261664261665,
          0.6669071669071669,
          0.6671476671476672,
          0.6681096681096681,
          0.6685906685906686,
          0.669071669071669,
          0.6693121693121693,
          0.6707551707551708,
          0.6714766714766714,
          0.6743626743626744,
          0.6750841750841751,
          0.676046176046176,
          0.6772486772486772,
          0.6774891774891775,
          0.677970177970178,
          0.6782106782106783,
          0.6786916786916787,
          0.6796536796536796,
          0.6806156806156806,
          0.6810966810966811,
          0.6818181818181818,
          0.6822991822991823,
          0.683020683020683,
          0.683982683982684,
          0.6842231842231842,
          0.6847041847041847,
          0.6856661856661856,
          0.6892736892736893,
          0.6897546897546898,
          0.6902356902356902,
          0.6907166907166907,
          0.690957190957191,
          0.6916786916786917,
          0.6919191919191919,
          0.6928811928811929,
          0.6938431938431938,
          0.6948051948051948,
          0.6952861952861953,
          0.6964886964886965,
          0.6972101972101972,
          0.6976911976911977,
          0.6986531986531986,
          0.6988936988936989,
          0.6996151996151996,
          0.702020202020202,
          0.7027417027417028,
          0.7032227032227032,
          0.703944203944204,
          0.7049062049062049,
          0.7051467051467052,
          0.7065897065897065,
          0.7075517075517076,
          0.7087542087542088,
          0.7118807118807119,
          0.7121212121212122,
          0.7126022126022126,
          0.714045214045214,
          0.7147667147667147,
          0.7159692159692159,
          0.7171717171717171,
          0.7178932178932179,
          0.7181337181337182,
          0.7190957190957191,
          0.7198172198172198,
          0.7207792207792207,
          0.721981721981722,
          0.7227032227032227,
          0.7234247234247234,
          0.7239057239057239,
          0.7241462241462241,
          0.7246272246272246,
          0.7253487253487253,
          0.7260702260702261,
          0.7263107263107264,
          0.727994227994228,
          0.7284752284752285,
          0.72991822991823,
          0.7303992303992304,
          0.7311207311207312,
          0.7320827320827321,
          0.734006734006734,
          0.7347282347282347,
          0.7352092352092352,
          0.7359307359307359,
          0.7368927368927369,
          0.7371332371332371,
          0.7376142376142376,
          0.7383357383357383,
          0.7390572390572391,
          0.7395382395382395,
          0.74001924001924,
          0.7424242424242424,
          0.742905242905243,
          0.7431457431457431,
          0.7438672438672439,
          0.7443482443482443,
          0.7448292448292448,
          0.7455507455507455,
          0.746993746993747,
          0.7472342472342473,
          0.7477152477152477,
          0.7479557479557479,
          0.7484367484367485,
          0.7491582491582491,
          0.7496392496392497,
          0.7498797498797499,
          0.7508417508417509,
          0.7510822510822511,
          0.7518037518037518,
          0.7520442520442521,
          0.753006253006253,
          0.7532467532467533,
          0.753968253968254,
          0.7544492544492545,
          0.7551707551707552,
          0.7554112554112554,
          0.7563732563732564,
          0.7568542568542569,
          0.7575757575757576,
          0.7585377585377585,
          0.7587782587782588,
          0.7592592592592593,
          0.7597402597402597,
          0.7609427609427609,
          0.7616642616642617,
          0.7621452621452621,
          0.7626262626262627,
          0.7631072631072631,
          0.7635882635882636,
          0.7638287638287639,
          0.7652717652717653,
          0.7655122655122655,
          0.7691197691197691,
          0.77008177008177,
          0.7715247715247715,
          0.7717652717652718,
          0.7732082732082732,
          0.7736892736892736,
          0.7746512746512747,
          0.7753727753727754,
          0.7758537758537759,
          0.7765752765752766,
          0.7770562770562771,
          0.7775372775372775,
          0.7794612794612794,
          0.7797017797017797,
          0.7816257816257817,
          0.7818662818662818,
          0.7825877825877826,
          0.7828282828282829,
          0.7842712842712842,
          0.7845117845117845,
          0.784992784992785,
          0.7854737854737854,
          0.7861952861952862,
          0.7871572871572872,
          0.7878787878787878,
          0.789081289081289,
          0.791005291005291,
          0.7914862914862915,
          0.7922077922077922,
          0.7929292929292929,
          0.7931697931697932,
          0.7938912938912939,
          0.7941317941317941,
          0.7948532948532948,
          0.7958152958152959,
          0.7967772967772968,
          0.7970177970177971,
          0.7982202982202983,
          0.7987012987012987,
          0.8003848003848004,
          0.8011063011063011,
          0.8018278018278018,
          0.8027898027898028,
          0.8035113035113035,
          0.803992303992304,
          0.8042328042328042,
          0.8054353054353054,
          0.8056758056758057,
          0.8071188071188071,
          0.8080808080808081,
          0.8088023088023089,
          0.8102453102453102,
          0.810966810966811,
          0.8143338143338144,
          0.815055315055315,
          0.8152958152958153,
          0.816017316017316,
          0.8172198172198172,
          0.8177008177008177,
          0.8181818181818182,
          0.8196248196248196,
          0.8198653198653199,
          0.8208273208273208,
          0.8222703222703223,
          0.8256373256373256,
          0.8282828282828283,
          0.8292448292448292,
          0.8311688311688312,
          0.8328523328523328,
          0.8333333333333334,
          0.835016835016835,
          0.8352573352573353,
          0.8364598364598365,
          0.8374218374218374,
          0.8376623376623377,
          0.8395863395863395,
          0.8429533429533429,
          0.8448773448773449,
          0.8453583453583453,
          0.8475228475228476,
          0.8484848484848485,
          0.8487253487253488,
          0.8492063492063492,
          0.8504088504088504,
          0.8511303511303512,
          0.8518518518518519,
          0.854016354016354,
          0.8547378547378547,
          0.8578643578643579,
          0.8581048581048581,
          0.8588263588263588,
          0.8607503607503607,
          0.8612313612313612,
          0.862914862914863,
          0.8648388648388649,
          0.8660413660413661,
          0.8667628667628667,
          0.8677248677248677,
          0.8679653679653679,
          0.8691678691678691,
          0.8696488696488697,
          0.8703703703703703,
          0.8713323713323713,
          0.8737373737373737,
          0.873977873977874,
          0.8754208754208754,
          0.8773448773448773,
          0.8775853775853776,
          0.8783068783068783,
          0.8797498797498797,
          0.8807118807118807,
          0.8809523809523809,
          0.8823953823953824,
          0.8831168831168831,
          0.8843193843193843,
          0.8852813852813853,
          0.8874458874458875,
          0.8876863876863876,
          0.8891293891293891,
          0.892977392977393,
          0.8958633958633959,
          0.897065897065897,
          0.8973063973063973,
          0.8985088985088985,
          0.9013949013949014,
          0.9016354016354017,
          0.9025974025974026,
          0.9028379028379029,
          0.9054834054834054,
          0.905964405964406,
          0.9117364117364117,
          0.9124579124579124,
          0.9134199134199135,
          0.9146224146224147,
          0.9165464165464166,
          0.9177489177489178,
          0.9182299182299183,
          0.9196729196729196,
          0.9203944203944204,
          0.9213564213564214,
          0.9242424242424242,
          0.9247234247234247,
          0.9295334295334295,
          0.9297739297739298,
          0.9316979316979317,
          0.9326599326599326,
          0.9384319384319384,
          0.9386724386724387,
          0.9398749398749399,
          0.9415584415584416,
          0.9461279461279462,
          0.9482924482924483,
          0.9485329485329486,
          0.9492544492544492,
          0.9504569504569504,
          0.9521404521404522,
          0.9526214526214526,
          0.9531024531024531,
          0.9543049543049543,
          0.9545454545454546,
          0.955026455026455,
          0.9557479557479558,
          0.9567099567099567,
          0.9571909571909571,
          0.9588744588744589,
          0.9603174603174603,
          0.9607984607984608,
          0.9634439634439634,
          0.9636844636844637,
          0.9658489658489658,
          0.9660894660894661,
          0.968013468013468,
          0.9694564694564695,
          0.96993746993747,
          0.9716209716209716,
          0.9747474747474747,
          0.9776334776334776,
          0.9795574795574795,
          0.9865319865319865,
          0.9896584896584897,
          1
         ]
        },
        {
         "mode": "lines",
         "name": "test",
         "type": "scatter",
         "x": [
          0,
          0.023809523809523808,
          0.14285714285714285,
          0.14285714285714285,
          0.19047619047619047,
          0.19047619047619047,
          0.21428571428571427,
          0.21428571428571427,
          0.23809523809523808,
          0.23809523809523808,
          0.2619047619047619,
          0.2619047619047619,
          0.30952380952380953,
          0.30952380952380953,
          0.38095238095238093,
          0.38095238095238093,
          0.38095238095238093,
          0.42857142857142855,
          0.47619047619047616,
          0.47619047619047616,
          0.5,
          0.5,
          0.5476190476190477,
          0.5476190476190477,
          0.5714285714285714,
          0.5714285714285714,
          0.5714285714285714,
          0.5714285714285714,
          0.5952380952380952,
          0.5952380952380952,
          0.6190476190476191,
          0.6190476190476191,
          0.6428571428571429,
          0.6428571428571429,
          0.6428571428571429,
          0.6428571428571429,
          0.6428571428571429,
          0.6428571428571429,
          0.6666666666666666,
          0.6666666666666666,
          0.6666666666666666,
          0.6666666666666666,
          0.6666666666666666,
          0.6666666666666666,
          0.6904761904761905,
          0.6904761904761905,
          0.7142857142857143,
          0.7142857142857143,
          0.7142857142857143,
          0.7142857142857143,
          0.7142857142857143,
          0.7142857142857143,
          0.7142857142857143,
          0.7142857142857143,
          0.7380952380952381,
          0.7380952380952381,
          0.7619047619047619,
          0.7619047619047619,
          0.7619047619047619,
          0.7619047619047619,
          0.7619047619047619,
          0.7619047619047619,
          0.7857142857142857,
          0.7857142857142857,
          0.7857142857142857,
          0.7857142857142857,
          0.7857142857142857,
          0.8095238095238095,
          0.8095238095238095,
          0.8095238095238095,
          0.8095238095238095,
          0.8095238095238095,
          0.8095238095238095,
          0.8095238095238095,
          0.8095238095238095,
          0.8095238095238095,
          0.8095238095238095,
          0.8095238095238095,
          0.8095238095238095,
          0.8095238095238095,
          0.8095238095238095,
          0.8333333333333334,
          0.8333333333333334,
          0.8333333333333334,
          0.8333333333333334,
          0.8333333333333334,
          0.8333333333333334,
          0.8333333333333334,
          0.8333333333333334,
          0.8333333333333334,
          0.8333333333333334,
          0.8333333333333334,
          0.8333333333333334,
          0.8333333333333334,
          0.8333333333333334,
          0.8333333333333334,
          0.8333333333333334,
          0.8333333333333334,
          0.8333333333333334,
          0.8333333333333334,
          0.8571428571428571,
          0.8571428571428571,
          0.8571428571428571,
          0.8571428571428571,
          0.8809523809523809,
          0.8809523809523809,
          0.8809523809523809,
          0.8809523809523809,
          0.8809523809523809,
          0.8809523809523809,
          0.8809523809523809,
          0.8809523809523809,
          0.9047619047619048,
          0.9047619047619048,
          0.9047619047619048,
          0.9047619047619048,
          0.9047619047619048,
          0.9047619047619048,
          0.9047619047619048,
          0.9047619047619048,
          0.9047619047619048,
          0.9047619047619048,
          0.9047619047619048,
          0.9047619047619048,
          0.9047619047619048,
          0.9047619047619048,
          0.9047619047619048,
          0.9047619047619048,
          0.9047619047619048,
          0.9047619047619048,
          0.9047619047619048,
          0.9047619047619048,
          0.9047619047619048,
          0.9047619047619048,
          0.9047619047619048,
          0.9047619047619048,
          0.9047619047619048,
          0.9047619047619048,
          0.9047619047619048,
          0.9047619047619048,
          0.9047619047619048,
          0.9047619047619048,
          0.9047619047619048,
          0.9047619047619048,
          0.9047619047619048,
          0.9047619047619048,
          0.9047619047619048,
          0.9047619047619048,
          0.9047619047619048,
          0.9047619047619048,
          0.9047619047619048,
          0.9047619047619048,
          0.9047619047619048,
          0.9047619047619048,
          0.9047619047619048,
          0.9047619047619048,
          0.9047619047619048,
          0.9047619047619048,
          0.9047619047619048,
          0.9047619047619048,
          0.9047619047619048,
          0.9047619047619048,
          0.9047619047619048,
          0.9047619047619048,
          0.9047619047619048,
          0.9047619047619048,
          0.9047619047619048,
          0.9047619047619048,
          0.9047619047619048,
          0.9047619047619048,
          0.9047619047619048,
          0.9047619047619048,
          0.9047619047619048,
          0.9285714285714286,
          0.9285714285714286,
          0.9285714285714286,
          0.9285714285714286,
          0.9285714285714286,
          0.9285714285714286,
          0.9285714285714286,
          0.9285714285714286,
          0.9285714285714286,
          0.9285714285714286,
          0.9285714285714286,
          0.9285714285714286,
          0.9285714285714286,
          0.9285714285714286,
          0.9285714285714286,
          0.9285714285714286,
          0.9285714285714286,
          0.9285714285714286,
          0.9285714285714286,
          0.9285714285714286,
          0.9285714285714286,
          0.9285714285714286,
          0.9285714285714286,
          0.9285714285714286,
          0.9285714285714286,
          0.9285714285714286,
          0.9285714285714286,
          0.9285714285714286,
          0.9285714285714286,
          0.9285714285714286,
          0.9285714285714286,
          0.9285714285714286,
          0.9523809523809523,
          0.9761904761904762,
          0.9761904761904762,
          0.9761904761904762,
          0.9761904761904762,
          0.9761904761904762,
          0.9761904761904762,
          0.9761904761904762,
          0.9761904761904762,
          0.9761904761904762,
          0.9761904761904762,
          0.9761904761904762,
          0.9761904761904762,
          0.9761904761904762,
          0.9761904761904762,
          0.9761904761904762,
          1,
          1,
          1,
          1,
          1,
          1,
          1,
          1,
          1,
          1,
          1,
          1,
          1,
          1,
          1,
          1,
          1,
          1,
          1,
          1,
          1,
          1,
          1,
          1,
          1,
          1,
          1,
          1,
          1,
          1
         ],
         "y": [
          0,
          0,
          0,
          0.0009615384615384616,
          0.0009615384615384616,
          0.0038461538461538464,
          0.0038461538461538464,
          0.0057692307692307696,
          0.0057692307692307696,
          0.006730769230769231,
          0.006730769230769231,
          0.007692307692307693,
          0.007692307692307693,
          0.008653846153846154,
          0.008653846153846154,
          0.010576923076923078,
          0.011538461538461539,
          0.011538461538461539,
          0.0125,
          0.014423076923076924,
          0.01730769230769231,
          0.025,
          0.025,
          0.035576923076923075,
          0.035576923076923075,
          0.03942307692307692,
          0.041346153846153845,
          0.05,
          0.05,
          0.07115384615384615,
          0.07115384615384615,
          0.075,
          0.07596153846153846,
          0.0875,
          0.08942307692307692,
          0.1201923076923077,
          0.12211538461538461,
          0.13557692307692307,
          0.13557692307692307,
          0.1375,
          0.13942307692307693,
          0.16346153846153846,
          0.16538461538461538,
          0.18365384615384617,
          0.18365384615384617,
          0.19326923076923078,
          0.19326923076923078,
          0.20865384615384616,
          0.2125,
          0.25096153846153846,
          0.2528846153846154,
          0.25769230769230766,
          0.25961538461538464,
          0.2673076923076923,
          0.26826923076923076,
          0.28076923076923077,
          0.28076923076923077,
          0.29134615384615387,
          0.2932692307692308,
          0.3384615384615385,
          0.3403846153846154,
          0.34615384615384615,
          0.34615384615384615,
          0.34807692307692306,
          0.35192307692307695,
          0.35384615384615387,
          0.35673076923076924,
          0.35673076923076924,
          0.35865384615384616,
          0.3605769230769231,
          0.36538461538461536,
          0.36730769230769234,
          0.37596153846153846,
          0.3798076923076923,
          0.38269230769230766,
          0.38653846153846155,
          0.3951923076923077,
          0.3971153846153846,
          0.39903846153846156,
          0.4009615384615385,
          0.4115384615384615,
          0.4115384615384615,
          0.41346153846153844,
          0.4153846153846154,
          0.42788461538461536,
          0.43365384615384617,
          0.44519230769230766,
          0.44903846153846155,
          0.45,
          0.4519230769230769,
          0.46634615384615385,
          0.46826923076923077,
          0.4721153846153846,
          0.47596153846153844,
          0.4807692307692308,
          0.4826923076923077,
          0.4855769230769231,
          0.48846153846153845,
          0.49230769230769234,
          0.49423076923076925,
          0.49423076923076925,
          0.5,
          0.5019230769230769,
          0.5086538461538461,
          0.5086538461538461,
          0.5163461538461539,
          0.5201923076923077,
          0.5211538461538462,
          0.5230769230769231,
          0.5336538461538461,
          0.5355769230769231,
          0.5548076923076923,
          0.5548076923076923,
          0.5557692307692308,
          0.5596153846153846,
          0.5721153846153846,
          0.5740384615384615,
          0.5759615384615384,
          0.5778846153846153,
          0.5846153846153846,
          0.5865384615384616,
          0.5894230769230769,
          0.5913461538461539,
          0.6028846153846154,
          0.6048076923076923,
          0.6240384615384615,
          0.6259615384615385,
          0.6269230769230769,
          0.6288461538461538,
          0.6317307692307692,
          0.6346153846153846,
          0.6509615384615385,
          0.6538461538461539,
          0.6596153846153846,
          0.6615384615384615,
          0.6778846153846154,
          0.6807692307692308,
          0.6826923076923077,
          0.6865384615384615,
          0.6913461538461538,
          0.6932692307692307,
          0.6942307692307692,
          0.6971153846153846,
          0.7038461538461539,
          0.7057692307692308,
          0.7067307692307693,
          0.7086538461538462,
          0.7096153846153846,
          0.7125,
          0.7134615384615385,
          0.7153846153846154,
          0.7163461538461539,
          0.7182692307692308,
          0.7192307692307692,
          0.7211538461538461,
          0.7221153846153846,
          0.7259615384615384,
          0.7288461538461538,
          0.739423076923077,
          0.7413461538461539,
          0.7423076923076923,
          0.7451923076923077,
          0.7586538461538461,
          0.7615384615384615,
          0.7673076923076924,
          0.7692307692307693,
          0.7740384615384616,
          0.7769230769230769,
          0.7788461538461539,
          0.7807692307692308,
          0.7826923076923077,
          0.7865384615384615,
          0.7884615384615384,
          0.7913461538461538,
          0.7951923076923076,
          0.7971153846153847,
          0.7990384615384616,
          0.8009615384615385,
          0.8057692307692308,
          0.8076923076923077,
          0.8096153846153846,
          0.8115384615384615,
          0.8153846153846154,
          0.8192307692307692,
          0.8240384615384615,
          0.8269230769230769,
          0.8298076923076924,
          0.8317307692307693,
          0.8326923076923077,
          0.8346153846153846,
          0.8384615384615385,
          0.8403846153846154,
          0.8442307692307692,
          0.8451923076923077,
          0.8471153846153846,
          0.8480769230769231,
          0.8509615384615384,
          0.8528846153846154,
          0.8586538461538461,
          0.8596153846153847,
          0.8625,
          0.864423076923077,
          0.8653846153846154,
          0.8692307692307693,
          0.8711538461538462,
          0.8711538461538462,
          0.8721153846153846,
          0.8740384615384615,
          0.8759615384615385,
          0.8778846153846154,
          0.8807692307692307,
          0.8826923076923077,
          0.8836538461538461,
          0.885576923076923,
          0.8884615384615384,
          0.8923076923076924,
          0.8942307692307693,
          0.8961538461538462,
          0.8990384615384616,
          0.9,
          0.9028846153846154,
          0.9057692307692308,
          0.9076923076923077,
          0.9105769230769231,
          0.9115384615384615,
          0.9134615384615384,
          0.9153846153846154,
          0.9192307692307692,
          0.9201923076923076,
          0.9221153846153847,
          0.925,
          0.926923076923077,
          0.9307692307692308,
          0.9326923076923077,
          0.9394230769230769,
          0.9403846153846154,
          0.9471153846153846,
          0.948076923076923,
          0.95,
          0.9519230769230769,
          0.9596153846153846,
          0.9615384615384616,
          0.9634615384615385,
          0.9653846153846154,
          0.9673076923076923,
          0.9721153846153846,
          0.975,
          0.9807692307692307,
          0.9884615384615385,
          0.989423076923077,
          1
         ]
        }
       ],
       "layout": {
        "template": {
         "data": {
          "bar": [
           {
            "error_x": {
             "color": "#2a3f5f"
            },
            "error_y": {
             "color": "#2a3f5f"
            },
            "marker": {
             "line": {
              "color": "#E5ECF6",
              "width": 0.5
             },
             "pattern": {
              "fillmode": "overlay",
              "size": 10,
              "solidity": 0.2
             }
            },
            "type": "bar"
           }
          ],
          "barpolar": [
           {
            "marker": {
             "line": {
              "color": "#E5ECF6",
              "width": 0.5
             },
             "pattern": {
              "fillmode": "overlay",
              "size": 10,
              "solidity": 0.2
             }
            },
            "type": "barpolar"
           }
          ],
          "carpet": [
           {
            "aaxis": {
             "endlinecolor": "#2a3f5f",
             "gridcolor": "white",
             "linecolor": "white",
             "minorgridcolor": "white",
             "startlinecolor": "#2a3f5f"
            },
            "baxis": {
             "endlinecolor": "#2a3f5f",
             "gridcolor": "white",
             "linecolor": "white",
             "minorgridcolor": "white",
             "startlinecolor": "#2a3f5f"
            },
            "type": "carpet"
           }
          ],
          "choropleth": [
           {
            "colorbar": {
             "outlinewidth": 0,
             "ticks": ""
            },
            "type": "choropleth"
           }
          ],
          "contour": [
           {
            "colorbar": {
             "outlinewidth": 0,
             "ticks": ""
            },
            "colorscale": [
             [
              0,
              "#0d0887"
             ],
             [
              0.1111111111111111,
              "#46039f"
             ],
             [
              0.2222222222222222,
              "#7201a8"
             ],
             [
              0.3333333333333333,
              "#9c179e"
             ],
             [
              0.4444444444444444,
              "#bd3786"
             ],
             [
              0.5555555555555556,
              "#d8576b"
             ],
             [
              0.6666666666666666,
              "#ed7953"
             ],
             [
              0.7777777777777778,
              "#fb9f3a"
             ],
             [
              0.8888888888888888,
              "#fdca26"
             ],
             [
              1,
              "#f0f921"
             ]
            ],
            "type": "contour"
           }
          ],
          "contourcarpet": [
           {
            "colorbar": {
             "outlinewidth": 0,
             "ticks": ""
            },
            "type": "contourcarpet"
           }
          ],
          "heatmap": [
           {
            "colorbar": {
             "outlinewidth": 0,
             "ticks": ""
            },
            "colorscale": [
             [
              0,
              "#0d0887"
             ],
             [
              0.1111111111111111,
              "#46039f"
             ],
             [
              0.2222222222222222,
              "#7201a8"
             ],
             [
              0.3333333333333333,
              "#9c179e"
             ],
             [
              0.4444444444444444,
              "#bd3786"
             ],
             [
              0.5555555555555556,
              "#d8576b"
             ],
             [
              0.6666666666666666,
              "#ed7953"
             ],
             [
              0.7777777777777778,
              "#fb9f3a"
             ],
             [
              0.8888888888888888,
              "#fdca26"
             ],
             [
              1,
              "#f0f921"
             ]
            ],
            "type": "heatmap"
           }
          ],
          "heatmapgl": [
           {
            "colorbar": {
             "outlinewidth": 0,
             "ticks": ""
            },
            "colorscale": [
             [
              0,
              "#0d0887"
             ],
             [
              0.1111111111111111,
              "#46039f"
             ],
             [
              0.2222222222222222,
              "#7201a8"
             ],
             [
              0.3333333333333333,
              "#9c179e"
             ],
             [
              0.4444444444444444,
              "#bd3786"
             ],
             [
              0.5555555555555556,
              "#d8576b"
             ],
             [
              0.6666666666666666,
              "#ed7953"
             ],
             [
              0.7777777777777778,
              "#fb9f3a"
             ],
             [
              0.8888888888888888,
              "#fdca26"
             ],
             [
              1,
              "#f0f921"
             ]
            ],
            "type": "heatmapgl"
           }
          ],
          "histogram": [
           {
            "marker": {
             "pattern": {
              "fillmode": "overlay",
              "size": 10,
              "solidity": 0.2
             }
            },
            "type": "histogram"
           }
          ],
          "histogram2d": [
           {
            "colorbar": {
             "outlinewidth": 0,
             "ticks": ""
            },
            "colorscale": [
             [
              0,
              "#0d0887"
             ],
             [
              0.1111111111111111,
              "#46039f"
             ],
             [
              0.2222222222222222,
              "#7201a8"
             ],
             [
              0.3333333333333333,
              "#9c179e"
             ],
             [
              0.4444444444444444,
              "#bd3786"
             ],
             [
              0.5555555555555556,
              "#d8576b"
             ],
             [
              0.6666666666666666,
              "#ed7953"
             ],
             [
              0.7777777777777778,
              "#fb9f3a"
             ],
             [
              0.8888888888888888,
              "#fdca26"
             ],
             [
              1,
              "#f0f921"
             ]
            ],
            "type": "histogram2d"
           }
          ],
          "histogram2dcontour": [
           {
            "colorbar": {
             "outlinewidth": 0,
             "ticks": ""
            },
            "colorscale": [
             [
              0,
              "#0d0887"
             ],
             [
              0.1111111111111111,
              "#46039f"
             ],
             [
              0.2222222222222222,
              "#7201a8"
             ],
             [
              0.3333333333333333,
              "#9c179e"
             ],
             [
              0.4444444444444444,
              "#bd3786"
             ],
             [
              0.5555555555555556,
              "#d8576b"
             ],
             [
              0.6666666666666666,
              "#ed7953"
             ],
             [
              0.7777777777777778,
              "#fb9f3a"
             ],
             [
              0.8888888888888888,
              "#fdca26"
             ],
             [
              1,
              "#f0f921"
             ]
            ],
            "type": "histogram2dcontour"
           }
          ],
          "mesh3d": [
           {
            "colorbar": {
             "outlinewidth": 0,
             "ticks": ""
            },
            "type": "mesh3d"
           }
          ],
          "parcoords": [
           {
            "line": {
             "colorbar": {
              "outlinewidth": 0,
              "ticks": ""
             }
            },
            "type": "parcoords"
           }
          ],
          "pie": [
           {
            "automargin": true,
            "type": "pie"
           }
          ],
          "scatter": [
           {
            "fillpattern": {
             "fillmode": "overlay",
             "size": 10,
             "solidity": 0.2
            },
            "type": "scatter"
           }
          ],
          "scatter3d": [
           {
            "line": {
             "colorbar": {
              "outlinewidth": 0,
              "ticks": ""
             }
            },
            "marker": {
             "colorbar": {
              "outlinewidth": 0,
              "ticks": ""
             }
            },
            "type": "scatter3d"
           }
          ],
          "scattercarpet": [
           {
            "marker": {
             "colorbar": {
              "outlinewidth": 0,
              "ticks": ""
             }
            },
            "type": "scattercarpet"
           }
          ],
          "scattergeo": [
           {
            "marker": {
             "colorbar": {
              "outlinewidth": 0,
              "ticks": ""
             }
            },
            "type": "scattergeo"
           }
          ],
          "scattergl": [
           {
            "marker": {
             "colorbar": {
              "outlinewidth": 0,
              "ticks": ""
             }
            },
            "type": "scattergl"
           }
          ],
          "scattermapbox": [
           {
            "marker": {
             "colorbar": {
              "outlinewidth": 0,
              "ticks": ""
             }
            },
            "type": "scattermapbox"
           }
          ],
          "scatterpolar": [
           {
            "marker": {
             "colorbar": {
              "outlinewidth": 0,
              "ticks": ""
             }
            },
            "type": "scatterpolar"
           }
          ],
          "scatterpolargl": [
           {
            "marker": {
             "colorbar": {
              "outlinewidth": 0,
              "ticks": ""
             }
            },
            "type": "scatterpolargl"
           }
          ],
          "scatterternary": [
           {
            "marker": {
             "colorbar": {
              "outlinewidth": 0,
              "ticks": ""
             }
            },
            "type": "scatterternary"
           }
          ],
          "surface": [
           {
            "colorbar": {
             "outlinewidth": 0,
             "ticks": ""
            },
            "colorscale": [
             [
              0,
              "#0d0887"
             ],
             [
              0.1111111111111111,
              "#46039f"
             ],
             [
              0.2222222222222222,
              "#7201a8"
             ],
             [
              0.3333333333333333,
              "#9c179e"
             ],
             [
              0.4444444444444444,
              "#bd3786"
             ],
             [
              0.5555555555555556,
              "#d8576b"
             ],
             [
              0.6666666666666666,
              "#ed7953"
             ],
             [
              0.7777777777777778,
              "#fb9f3a"
             ],
             [
              0.8888888888888888,
              "#fdca26"
             ],
             [
              1,
              "#f0f921"
             ]
            ],
            "type": "surface"
           }
          ],
          "table": [
           {
            "cells": {
             "fill": {
              "color": "#EBF0F8"
             },
             "line": {
              "color": "white"
             }
            },
            "header": {
             "fill": {
              "color": "#C8D4E3"
             },
             "line": {
              "color": "white"
             }
            },
            "type": "table"
           }
          ]
         },
         "layout": {
          "annotationdefaults": {
           "arrowcolor": "#2a3f5f",
           "arrowhead": 0,
           "arrowwidth": 1
          },
          "autotypenumbers": "strict",
          "coloraxis": {
           "colorbar": {
            "outlinewidth": 0,
            "ticks": ""
           }
          },
          "colorscale": {
           "diverging": [
            [
             0,
             "#8e0152"
            ],
            [
             0.1,
             "#c51b7d"
            ],
            [
             0.2,
             "#de77ae"
            ],
            [
             0.3,
             "#f1b6da"
            ],
            [
             0.4,
             "#fde0ef"
            ],
            [
             0.5,
             "#f7f7f7"
            ],
            [
             0.6,
             "#e6f5d0"
            ],
            [
             0.7,
             "#b8e186"
            ],
            [
             0.8,
             "#7fbc41"
            ],
            [
             0.9,
             "#4d9221"
            ],
            [
             1,
             "#276419"
            ]
           ],
           "sequential": [
            [
             0,
             "#0d0887"
            ],
            [
             0.1111111111111111,
             "#46039f"
            ],
            [
             0.2222222222222222,
             "#7201a8"
            ],
            [
             0.3333333333333333,
             "#9c179e"
            ],
            [
             0.4444444444444444,
             "#bd3786"
            ],
            [
             0.5555555555555556,
             "#d8576b"
            ],
            [
             0.6666666666666666,
             "#ed7953"
            ],
            [
             0.7777777777777778,
             "#fb9f3a"
            ],
            [
             0.8888888888888888,
             "#fdca26"
            ],
            [
             1,
             "#f0f921"
            ]
           ],
           "sequentialminus": [
            [
             0,
             "#0d0887"
            ],
            [
             0.1111111111111111,
             "#46039f"
            ],
            [
             0.2222222222222222,
             "#7201a8"
            ],
            [
             0.3333333333333333,
             "#9c179e"
            ],
            [
             0.4444444444444444,
             "#bd3786"
            ],
            [
             0.5555555555555556,
             "#d8576b"
            ],
            [
             0.6666666666666666,
             "#ed7953"
            ],
            [
             0.7777777777777778,
             "#fb9f3a"
            ],
            [
             0.8888888888888888,
             "#fdca26"
            ],
            [
             1,
             "#f0f921"
            ]
           ]
          },
          "colorway": [
           "#636efa",
           "#EF553B",
           "#00cc96",
           "#ab63fa",
           "#FFA15A",
           "#19d3f3",
           "#FF6692",
           "#B6E880",
           "#FF97FF",
           "#FECB52"
          ],
          "font": {
           "color": "#2a3f5f"
          },
          "geo": {
           "bgcolor": "white",
           "lakecolor": "white",
           "landcolor": "#E5ECF6",
           "showlakes": true,
           "showland": true,
           "subunitcolor": "white"
          },
          "hoverlabel": {
           "align": "left"
          },
          "hovermode": "closest",
          "mapbox": {
           "style": "light"
          },
          "paper_bgcolor": "white",
          "plot_bgcolor": "#E5ECF6",
          "polar": {
           "angularaxis": {
            "gridcolor": "white",
            "linecolor": "white",
            "ticks": ""
           },
           "bgcolor": "#E5ECF6",
           "radialaxis": {
            "gridcolor": "white",
            "linecolor": "white",
            "ticks": ""
           }
          },
          "scene": {
           "xaxis": {
            "backgroundcolor": "#E5ECF6",
            "gridcolor": "white",
            "gridwidth": 2,
            "linecolor": "white",
            "showbackground": true,
            "ticks": "",
            "zerolinecolor": "white"
           },
           "yaxis": {
            "backgroundcolor": "#E5ECF6",
            "gridcolor": "white",
            "gridwidth": 2,
            "linecolor": "white",
            "showbackground": true,
            "ticks": "",
            "zerolinecolor": "white"
           },
           "zaxis": {
            "backgroundcolor": "#E5ECF6",
            "gridcolor": "white",
            "gridwidth": 2,
            "linecolor": "white",
            "showbackground": true,
            "ticks": "",
            "zerolinecolor": "white"
           }
          },
          "shapedefaults": {
           "line": {
            "color": "#2a3f5f"
           }
          },
          "ternary": {
           "aaxis": {
            "gridcolor": "white",
            "linecolor": "white",
            "ticks": ""
           },
           "baxis": {
            "gridcolor": "white",
            "linecolor": "white",
            "ticks": ""
           },
           "bgcolor": "#E5ECF6",
           "caxis": {
            "gridcolor": "white",
            "linecolor": "white",
            "ticks": ""
           }
          },
          "title": {
           "x": 0.05
          },
          "xaxis": {
           "automargin": true,
           "gridcolor": "white",
           "linecolor": "white",
           "ticks": "",
           "title": {
            "standoff": 15
           },
           "zerolinecolor": "white",
           "zerolinewidth": 2
          },
          "yaxis": {
           "automargin": true,
           "gridcolor": "white",
           "linecolor": "white",
           "ticks": "",
           "title": {
            "standoff": 15
           },
           "zerolinecolor": "white",
           "zerolinewidth": 2
          }
         }
        },
        "title": {
         "text": "ROC curve",
         "x": 0.5
        },
        "xaxis": {
         "title": {
          "text": "False Positive Rate"
         }
        },
        "yaxis": {
         "title": {
          "text": "True Positive Rate"
         }
        }
       }
      }
     },
     "metadata": {},
     "output_type": "display_data"
    }
   ],
   "source": [
    "# Visualize ROC curves\n",
    "probas_train = gridsearch.predict_proba(X_train)[:,1]\n",
    "precisions, recalls, thresholds = roc_curve(y_train, probas_train)\n",
    "fig = go.Figure(\n",
    "    data = go.Scatter(\n",
    "        name = 'train',\n",
    "        x = recalls, \n",
    "        y = precisions, \n",
    "        mode = 'lines'\n",
    "    ),\n",
    "    layout = go.Layout(\n",
    "        title = go.layout.Title(text = \"ROC curve\", x = 0.5),\n",
    "        xaxis = go.layout.XAxis(title = 'False Positive Rate'),\n",
    "        yaxis = go.layout.YAxis(title = 'True Positive Rate')\n",
    "    )\n",
    ")\n",
    "\n",
    "probas_test = gridsearch.predict_proba(X_test)[:,1]\n",
    "precisions, recalls, thresholds = roc_curve(y_test, probas_test)\n",
    "fig.add_trace(go.Scatter(\n",
    "    name = 'test',\n",
    "    x = recalls, \n",
    "    y = precisions, \n",
    "    mode = 'lines'\n",
    "    )\n",
    ")\n",
    "fig.show()"
   ]
  },
  {
   "cell_type": "code",
   "execution_count": null,
   "metadata": {},
   "outputs": [],
   "source": []
  }
 ],
 "metadata": {
  "kernelspec": {
   "display_name": "Python 3.9.2 64-bit",
   "language": "python",
   "name": "python3"
  },
  "language_info": {
   "codemirror_mode": {
    "name": "ipython",
    "version": 3
   },
   "file_extension": ".py",
   "mimetype": "text/x-python",
   "name": "python",
   "nbconvert_exporter": "python",
   "pygments_lexer": "ipython3",
   "version": "3.9.2"
  },
  "orig_nbformat": 4,
  "vscode": {
   "interpreter": {
    "hash": "81794d4967e6c3204c66dcd87b604927b115b27c00565d3d43f05ba2f3a2cb0d"
   }
  }
 },
 "nbformat": 4,
 "nbformat_minor": 2
}
