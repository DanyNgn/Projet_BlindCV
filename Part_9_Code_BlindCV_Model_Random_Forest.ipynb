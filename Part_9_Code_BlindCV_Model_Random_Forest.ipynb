{
 "cells": [
  {
   "cell_type": "markdown",
   "metadata": {},
   "source": [
    "## Part 9 - Random Forest"
   ]
  },
  {
   "cell_type": "code",
   "execution_count": 102,
   "metadata": {},
   "outputs": [
    {
     "name": "stdout",
     "output_type": "stream",
     "text": [
      "Requirement already satisfied: matplotlib in c:\\python39\\lib\\site-packages (3.5.3)\n",
      "Requirement already satisfied: pillow>=6.2.0 in c:\\python39\\lib\\site-packages (from matplotlib) (9.2.0)\n",
      "Requirement already satisfied: cycler>=0.10 in c:\\python39\\lib\\site-packages (from matplotlib) (0.11.0)\n",
      "Requirement already satisfied: numpy>=1.17 in c:\\python39\\lib\\site-packages (from matplotlib) (1.23.1)\n",
      "Requirement already satisfied: python-dateutil>=2.7 in c:\\users\\dany\\appdata\\roaming\\python\\python39\\site-packages (from matplotlib) (2.8.2)\n",
      "Requirement already satisfied: kiwisolver>=1.0.1 in c:\\python39\\lib\\site-packages (from matplotlib) (1.4.4)\n",
      "Requirement already satisfied: packaging>=20.0 in c:\\users\\dany\\appdata\\roaming\\python\\python39\\site-packages (from matplotlib) (21.3)\n",
      "Requirement already satisfied: fonttools>=4.22.0 in c:\\python39\\lib\\site-packages (from matplotlib) (4.34.4)\n",
      "Requirement already satisfied: pyparsing>=2.2.1 in c:\\users\\dany\\appdata\\roaming\\python\\python39\\site-packages (from matplotlib) (3.0.9)\n",
      "Requirement already satisfied: six>=1.5 in c:\\users\\dany\\appdata\\roaming\\python\\python39\\site-packages (from python-dateutil>=2.7->matplotlib) (1.16.0)\n"
     ]
    },
    {
     "name": "stderr",
     "output_type": "stream",
     "text": [
      "WARNING: pip is being invoked by an old script wrapper. This will fail in a future version of pip.\n",
      "Please see https://github.com/pypa/pip/issues/5599 for advice on fixing the underlying issue.\n",
      "To avoid this problem you can invoke Python with '-m pip' instead of running pip directly.\n",
      "WARNING: You are using pip version 20.2.3; however, version 22.2.2 is available.\n",
      "You should consider upgrading via the 'c:\\Python39\\python.exe -m pip install --upgrade pip' command.\n"
     ]
    },
    {
     "data": {
      "text/plain": [
       "0"
      ]
     },
     "execution_count": 102,
     "metadata": {},
     "output_type": "execute_result"
    }
   ],
   "source": [
    "import pip \n",
    "pip.main([\"install\",\"matplotlib\"]) "
   ]
  },
  {
   "cell_type": "code",
   "execution_count": 103,
   "metadata": {},
   "outputs": [
    {
     "name": "stdout",
     "output_type": "stream",
     "text": [
      "Requirement already up-to-date: scikit-learn in c:\\python39\\lib\\site-packages (1.1.2)\n",
      "Requirement already satisfied, skipping upgrade: scipy>=1.3.2 in c:\\python39\\lib\\site-packages (from scikit-learn) (1.9.0)\n",
      "Requirement already satisfied, skipping upgrade: threadpoolctl>=2.0.0 in c:\\python39\\lib\\site-packages (from scikit-learn) (3.1.0)\n",
      "Requirement already satisfied, skipping upgrade: joblib>=1.0.0 in c:\\python39\\lib\\site-packages (from scikit-learn) (1.1.0)\n",
      "Requirement already satisfied, skipping upgrade: numpy>=1.17.3 in c:\\python39\\lib\\site-packages (from scikit-learn) (1.23.1)\n"
     ]
    },
    {
     "name": "stderr",
     "output_type": "stream",
     "text": [
      "WARNING: You are using pip version 20.2.3; however, version 22.2.2 is available.\n",
      "You should consider upgrading via the 'c:\\python39\\python.exe -m pip install --upgrade pip' command.\n"
     ]
    }
   ],
   "source": [
    "!pip install --upgrade scikit-learn"
   ]
  },
  {
   "cell_type": "code",
   "execution_count": 104,
   "metadata": {},
   "outputs": [],
   "source": [
    "#from xgboost import XGBClassifier\n",
    "#from sklearn.model_selection import GridSearchCV"
   ]
  },
  {
   "cell_type": "code",
   "execution_count": 105,
   "metadata": {},
   "outputs": [],
   "source": [
    "# Chargement des librairies nécessaires\n",
    "import pandas as pd\n",
    "import numpy as np\n",
    "import matplotlib.pyplot as plt \n",
    "from sklearn.model_selection import train_test_split\n",
    "from sklearn.pipeline import Pipeline\n",
    "from sklearn.impute import SimpleImputer\n",
    "from sklearn.preprocessing import  OneHotEncoder, StandardScaler, LabelEncoder\n",
    "from sklearn.compose import ColumnTransformer\n",
    "from sklearn.linear_model import LogisticRegression\n",
    "from sklearn.ensemble import RandomForestClassifier\n",
    "from sklearn.model_selection import GridSearchCV\n",
    "from sklearn.metrics import accuracy_score, f1_score, RocCurveDisplay, ConfusionMatrixDisplay\n",
    "from sklearn.metrics import accuracy_score, f1_score, confusion_matrix, roc_curve\n",
    "from sklearn.model_selection import cross_val_score\n",
    "import warnings\n",
    "warnings.filterwarnings(\"ignore\", category=FutureWarning) # to avoid deprecation warnings\n",
    "\n",
    "import plotly.express as px\n",
    "import plotly.graph_objects as go\n",
    "import plotly.io as pio"
   ]
  },
  {
   "cell_type": "code",
   "execution_count": 106,
   "metadata": {},
   "outputs": [],
   "source": [
    "# Chargement de la dataset\n",
    "## Choix de 4 datasets\n",
    "\n",
    "#dataset = pd.read_csv(\"dataset_CV_labelise_features1_100.csv\", delimiter = \";\", encoding = \"utf-8\") ## 100CV + 4 features numériques\n",
    "\n",
    "#dataset = pd.read_csv(\"dataset_CV_labelise_features1_200.csv\", delimiter = \";\", encoding = \"utf-8\") ## 200CV + 4 features numériques\n",
    "\n",
    "#dataset = pd.read_csv(\"dataset_CV_labelise_features2_100.csv\", delimiter = \";\", encoding = \"utf-8\") ## 100CV + 12 features numériques\n",
    "\n",
    "dataset = pd.read_csv(\"dataset_CV_labelise_features2_200.csv\", delimiter = \";\", encoding = \"utf-8\") ## 200CV + 12 features numériques"
   ]
  },
  {
   "cell_type": "code",
   "execution_count": 107,
   "metadata": {},
   "outputs": [
    {
     "data": {
      "text/plain": [
       "(5594, 19)"
      ]
     },
     "execution_count": 107,
     "metadata": {},
     "output_type": "execute_result"
    }
   ],
   "source": [
    "dataset.shape"
   ]
  },
  {
   "cell_type": "code",
   "execution_count": 108,
   "metadata": {},
   "outputs": [
    {
     "data": {
      "text/html": [
       "<div>\n",
       "<style scoped>\n",
       "    .dataframe tbody tr th:only-of-type {\n",
       "        vertical-align: middle;\n",
       "    }\n",
       "\n",
       "    .dataframe tbody tr th {\n",
       "        vertical-align: top;\n",
       "    }\n",
       "\n",
       "    .dataframe thead th {\n",
       "        text-align: right;\n",
       "    }\n",
       "</style>\n",
       "<table border=\"1\" class=\"dataframe\">\n",
       "  <thead>\n",
       "    <tr style=\"text-align: right;\">\n",
       "      <th></th>\n",
       "      <th>CV_Sentences</th>\n",
       "      <th>Sentences_CV_clean</th>\n",
       "      <th>CV_Number</th>\n",
       "      <th>Sentence_line</th>\n",
       "      <th>Nb_tokens</th>\n",
       "      <th>%texte_lu</th>\n",
       "      <th>%texte_lu_fin_ligne</th>\n",
       "      <th>Is_alpha</th>\n",
       "      <th>Grammar</th>\n",
       "      <th>Tokenization</th>\n",
       "      <th>Verb_count</th>\n",
       "      <th>Propn_count</th>\n",
       "      <th>Noun_count</th>\n",
       "      <th>Num_count</th>\n",
       "      <th>Pourcentage_verb_sentence</th>\n",
       "      <th>Pourcentage_propn_sentence</th>\n",
       "      <th>Pourcentage_noun_sentence</th>\n",
       "      <th>Pourcentage_num_sentence</th>\n",
       "      <th>Label</th>\n",
       "    </tr>\n",
       "  </thead>\n",
       "  <tbody>\n",
       "    <tr>\n",
       "      <th>count</th>\n",
       "      <td>5594</td>\n",
       "      <td>5592</td>\n",
       "      <td>5594</td>\n",
       "      <td>5594.000000</td>\n",
       "      <td>5594.000000</td>\n",
       "      <td>5594.000000</td>\n",
       "      <td>5594.000000</td>\n",
       "      <td>5594</td>\n",
       "      <td>5594</td>\n",
       "      <td>5592</td>\n",
       "      <td>5594.000000</td>\n",
       "      <td>5594.000000</td>\n",
       "      <td>5594.00000</td>\n",
       "      <td>5594.000000</td>\n",
       "      <td>5594.000000</td>\n",
       "      <td>5594.000000</td>\n",
       "      <td>5594.000000</td>\n",
       "      <td>5594.000000</td>\n",
       "      <td>5594.000000</td>\n",
       "    </tr>\n",
       "    <tr>\n",
       "      <th>unique</th>\n",
       "      <td>3805</td>\n",
       "      <td>3802</td>\n",
       "      <td>200</td>\n",
       "      <td>NaN</td>\n",
       "      <td>NaN</td>\n",
       "      <td>NaN</td>\n",
       "      <td>NaN</td>\n",
       "      <td>1626</td>\n",
       "      <td>2748</td>\n",
       "      <td>3802</td>\n",
       "      <td>NaN</td>\n",
       "      <td>NaN</td>\n",
       "      <td>NaN</td>\n",
       "      <td>NaN</td>\n",
       "      <td>NaN</td>\n",
       "      <td>NaN</td>\n",
       "      <td>NaN</td>\n",
       "      <td>NaN</td>\n",
       "      <td>NaN</td>\n",
       "    </tr>\n",
       "    <tr>\n",
       "      <th>top</th>\n",
       "      <td></td>\n",
       "      <td></td>\n",
       "      <td>CV_10</td>\n",
       "      <td>NaN</td>\n",
       "      <td>NaN</td>\n",
       "      <td>NaN</td>\n",
       "      <td>NaN</td>\n",
       "      <td>[False]</td>\n",
       "      <td>['NOUN']</td>\n",
       "      <td></td>\n",
       "      <td>NaN</td>\n",
       "      <td>NaN</td>\n",
       "      <td>NaN</td>\n",
       "      <td>NaN</td>\n",
       "      <td>NaN</td>\n",
       "      <td>NaN</td>\n",
       "      <td>NaN</td>\n",
       "      <td>NaN</td>\n",
       "      <td>NaN</td>\n",
       "    </tr>\n",
       "    <tr>\n",
       "      <th>freq</th>\n",
       "      <td>198</td>\n",
       "      <td>198</td>\n",
       "      <td>66</td>\n",
       "      <td>NaN</td>\n",
       "      <td>NaN</td>\n",
       "      <td>NaN</td>\n",
       "      <td>NaN</td>\n",
       "      <td>638</td>\n",
       "      <td>334</td>\n",
       "      <td>198</td>\n",
       "      <td>NaN</td>\n",
       "      <td>NaN</td>\n",
       "      <td>NaN</td>\n",
       "      <td>NaN</td>\n",
       "      <td>NaN</td>\n",
       "      <td>NaN</td>\n",
       "      <td>NaN</td>\n",
       "      <td>NaN</td>\n",
       "      <td>NaN</td>\n",
       "    </tr>\n",
       "    <tr>\n",
       "      <th>mean</th>\n",
       "      <td>NaN</td>\n",
       "      <td>NaN</td>\n",
       "      <td>NaN</td>\n",
       "      <td>15.673221</td>\n",
       "      <td>9.132285</td>\n",
       "      <td>50.470518</td>\n",
       "      <td>49.529483</td>\n",
       "      <td>NaN</td>\n",
       "      <td>NaN</td>\n",
       "      <td>NaN</td>\n",
       "      <td>0.297283</td>\n",
       "      <td>0.611012</td>\n",
       "      <td>2.83822</td>\n",
       "      <td>0.320164</td>\n",
       "      <td>0.020117</td>\n",
       "      <td>0.105039</td>\n",
       "      <td>0.314979</td>\n",
       "      <td>0.042982</td>\n",
       "      <td>0.037898</td>\n",
       "    </tr>\n",
       "    <tr>\n",
       "      <th>std</th>\n",
       "      <td>NaN</td>\n",
       "      <td>NaN</td>\n",
       "      <td>NaN</td>\n",
       "      <td>11.268076</td>\n",
       "      <td>10.914849</td>\n",
       "      <td>30.190027</td>\n",
       "      <td>30.190025</td>\n",
       "      <td>NaN</td>\n",
       "      <td>NaN</td>\n",
       "      <td>NaN</td>\n",
       "      <td>0.784780</td>\n",
       "      <td>1.129198</td>\n",
       "      <td>3.56600</td>\n",
       "      <td>0.693458</td>\n",
       "      <td>0.059959</td>\n",
       "      <td>0.227969</td>\n",
       "      <td>0.251108</td>\n",
       "      <td>0.131906</td>\n",
       "      <td>0.190966</td>\n",
       "    </tr>\n",
       "    <tr>\n",
       "      <th>min</th>\n",
       "      <td>NaN</td>\n",
       "      <td>NaN</td>\n",
       "      <td>NaN</td>\n",
       "      <td>0.000000</td>\n",
       "      <td>1.000000</td>\n",
       "      <td>0.240000</td>\n",
       "      <td>0.000000</td>\n",
       "      <td>NaN</td>\n",
       "      <td>NaN</td>\n",
       "      <td>NaN</td>\n",
       "      <td>0.000000</td>\n",
       "      <td>0.000000</td>\n",
       "      <td>0.00000</td>\n",
       "      <td>0.000000</td>\n",
       "      <td>0.000000</td>\n",
       "      <td>0.000000</td>\n",
       "      <td>0.000000</td>\n",
       "      <td>0.000000</td>\n",
       "      <td>0.000000</td>\n",
       "    </tr>\n",
       "    <tr>\n",
       "      <th>25%</th>\n",
       "      <td>NaN</td>\n",
       "      <td>NaN</td>\n",
       "      <td>NaN</td>\n",
       "      <td>7.000000</td>\n",
       "      <td>2.000000</td>\n",
       "      <td>24.190000</td>\n",
       "      <td>23.552500</td>\n",
       "      <td>NaN</td>\n",
       "      <td>NaN</td>\n",
       "      <td>NaN</td>\n",
       "      <td>0.000000</td>\n",
       "      <td>0.000000</td>\n",
       "      <td>1.00000</td>\n",
       "      <td>0.000000</td>\n",
       "      <td>0.000000</td>\n",
       "      <td>0.000000</td>\n",
       "      <td>0.157895</td>\n",
       "      <td>0.000000</td>\n",
       "      <td>0.000000</td>\n",
       "    </tr>\n",
       "    <tr>\n",
       "      <th>50%</th>\n",
       "      <td>NaN</td>\n",
       "      <td>NaN</td>\n",
       "      <td>NaN</td>\n",
       "      <td>14.000000</td>\n",
       "      <td>5.000000</td>\n",
       "      <td>49.530000</td>\n",
       "      <td>50.470000</td>\n",
       "      <td>NaN</td>\n",
       "      <td>NaN</td>\n",
       "      <td>NaN</td>\n",
       "      <td>0.000000</td>\n",
       "      <td>0.000000</td>\n",
       "      <td>2.00000</td>\n",
       "      <td>0.000000</td>\n",
       "      <td>0.000000</td>\n",
       "      <td>0.000000</td>\n",
       "      <td>0.307692</td>\n",
       "      <td>0.000000</td>\n",
       "      <td>0.000000</td>\n",
       "    </tr>\n",
       "    <tr>\n",
       "      <th>75%</th>\n",
       "      <td>NaN</td>\n",
       "      <td>NaN</td>\n",
       "      <td>NaN</td>\n",
       "      <td>23.000000</td>\n",
       "      <td>12.000000</td>\n",
       "      <td>76.447500</td>\n",
       "      <td>75.810000</td>\n",
       "      <td>NaN</td>\n",
       "      <td>NaN</td>\n",
       "      <td>NaN</td>\n",
       "      <td>0.000000</td>\n",
       "      <td>1.000000</td>\n",
       "      <td>4.00000</td>\n",
       "      <td>0.000000</td>\n",
       "      <td>0.000000</td>\n",
       "      <td>0.102564</td>\n",
       "      <td>0.416667</td>\n",
       "      <td>0.000000</td>\n",
       "      <td>0.000000</td>\n",
       "    </tr>\n",
       "    <tr>\n",
       "      <th>max</th>\n",
       "      <td>NaN</td>\n",
       "      <td>NaN</td>\n",
       "      <td>NaN</td>\n",
       "      <td>65.000000</td>\n",
       "      <td>124.000000</td>\n",
       "      <td>100.000000</td>\n",
       "      <td>99.760000</td>\n",
       "      <td>NaN</td>\n",
       "      <td>NaN</td>\n",
       "      <td>NaN</td>\n",
       "      <td>8.000000</td>\n",
       "      <td>14.000000</td>\n",
       "      <td>39.00000</td>\n",
       "      <td>8.000000</td>\n",
       "      <td>1.000000</td>\n",
       "      <td>1.000000</td>\n",
       "      <td>1.000000</td>\n",
       "      <td>1.000000</td>\n",
       "      <td>1.000000</td>\n",
       "    </tr>\n",
       "  </tbody>\n",
       "</table>\n",
       "</div>"
      ],
      "text/plain": [
       "       CV_Sentences Sentences_CV_clean CV_Number  Sentence_line    Nb_tokens  \\\n",
       "count          5594               5592      5594    5594.000000  5594.000000   \n",
       "unique         3805               3802       200            NaN          NaN   \n",
       "top                                        CV_10            NaN          NaN   \n",
       "freq            198                198        66            NaN          NaN   \n",
       "mean            NaN                NaN       NaN      15.673221     9.132285   \n",
       "std             NaN                NaN       NaN      11.268076    10.914849   \n",
       "min             NaN                NaN       NaN       0.000000     1.000000   \n",
       "25%             NaN                NaN       NaN       7.000000     2.000000   \n",
       "50%             NaN                NaN       NaN      14.000000     5.000000   \n",
       "75%             NaN                NaN       NaN      23.000000    12.000000   \n",
       "max             NaN                NaN       NaN      65.000000   124.000000   \n",
       "\n",
       "          %texte_lu  %texte_lu_fin_ligne Is_alpha   Grammar Tokenization  \\\n",
       "count   5594.000000          5594.000000     5594      5594         5592   \n",
       "unique          NaN                  NaN     1626      2748         3802   \n",
       "top             NaN                  NaN  [False]  ['NOUN']                \n",
       "freq            NaN                  NaN      638       334          198   \n",
       "mean      50.470518            49.529483      NaN       NaN          NaN   \n",
       "std       30.190027            30.190025      NaN       NaN          NaN   \n",
       "min        0.240000             0.000000      NaN       NaN          NaN   \n",
       "25%       24.190000            23.552500      NaN       NaN          NaN   \n",
       "50%       49.530000            50.470000      NaN       NaN          NaN   \n",
       "75%       76.447500            75.810000      NaN       NaN          NaN   \n",
       "max      100.000000            99.760000      NaN       NaN          NaN   \n",
       "\n",
       "         Verb_count  Propn_count  Noun_count    Num_count  \\\n",
       "count   5594.000000  5594.000000  5594.00000  5594.000000   \n",
       "unique          NaN          NaN         NaN          NaN   \n",
       "top             NaN          NaN         NaN          NaN   \n",
       "freq            NaN          NaN         NaN          NaN   \n",
       "mean       0.297283     0.611012     2.83822     0.320164   \n",
       "std        0.784780     1.129198     3.56600     0.693458   \n",
       "min        0.000000     0.000000     0.00000     0.000000   \n",
       "25%        0.000000     0.000000     1.00000     0.000000   \n",
       "50%        0.000000     0.000000     2.00000     0.000000   \n",
       "75%        0.000000     1.000000     4.00000     0.000000   \n",
       "max        8.000000    14.000000    39.00000     8.000000   \n",
       "\n",
       "        Pourcentage_verb_sentence  Pourcentage_propn_sentence  \\\n",
       "count                 5594.000000                 5594.000000   \n",
       "unique                        NaN                         NaN   \n",
       "top                           NaN                         NaN   \n",
       "freq                          NaN                         NaN   \n",
       "mean                     0.020117                    0.105039   \n",
       "std                      0.059959                    0.227969   \n",
       "min                      0.000000                    0.000000   \n",
       "25%                      0.000000                    0.000000   \n",
       "50%                      0.000000                    0.000000   \n",
       "75%                      0.000000                    0.102564   \n",
       "max                      1.000000                    1.000000   \n",
       "\n",
       "        Pourcentage_noun_sentence  Pourcentage_num_sentence        Label  \n",
       "count                 5594.000000               5594.000000  5594.000000  \n",
       "unique                        NaN                       NaN          NaN  \n",
       "top                           NaN                       NaN          NaN  \n",
       "freq                          NaN                       NaN          NaN  \n",
       "mean                     0.314979                  0.042982     0.037898  \n",
       "std                      0.251108                  0.131906     0.190966  \n",
       "min                      0.000000                  0.000000     0.000000  \n",
       "25%                      0.157895                  0.000000     0.000000  \n",
       "50%                      0.307692                  0.000000     0.000000  \n",
       "75%                      0.416667                  0.000000     0.000000  \n",
       "max                      1.000000                  1.000000     1.000000  "
      ]
     },
     "metadata": {},
     "output_type": "display_data"
    }
   ],
   "source": [
    "data_desc = dataset.describe(include='all')\n",
    "display(data_desc)"
   ]
  },
  {
   "cell_type": "code",
   "execution_count": 109,
   "metadata": {},
   "outputs": [
    {
     "data": {
      "text/plain": [
       "CV_Sentences                  0.000000\n",
       "Sentences_CV_clean            0.035753\n",
       "CV_Number                     0.000000\n",
       "Sentence_line                 0.000000\n",
       "Nb_tokens                     0.000000\n",
       "%texte_lu                     0.000000\n",
       "%texte_lu_fin_ligne           0.000000\n",
       "Is_alpha                      0.000000\n",
       "Grammar                       0.000000\n",
       "Tokenization                  0.035753\n",
       "Verb_count                    0.000000\n",
       "Propn_count                   0.000000\n",
       "Noun_count                    0.000000\n",
       "Num_count                     0.000000\n",
       "Pourcentage_verb_sentence     0.000000\n",
       "Pourcentage_propn_sentence    0.000000\n",
       "Pourcentage_noun_sentence     0.000000\n",
       "Pourcentage_num_sentence      0.000000\n",
       "Label                         0.000000\n",
       "dtype: float64"
      ]
     },
     "metadata": {},
     "output_type": "display_data"
    }
   ],
   "source": [
    "display(100*dataset.isnull().sum()/dataset.shape[0])"
   ]
  },
  {
   "cell_type": "code",
   "execution_count": 110,
   "metadata": {},
   "outputs": [
    {
     "data": {
      "text/plain": [
       "(5416, 19)"
      ]
     },
     "execution_count": 110,
     "metadata": {},
     "output_type": "execute_result"
    }
   ],
   "source": [
    "dataset[\"Label\"].unique()\n",
    "dataset = dataset.loc[(dataset['CV_Sentences'] != \"#NOM?\"),:]\n",
    "dataset.shape "
   ]
  },
  {
   "cell_type": "code",
   "execution_count": 111,
   "metadata": {},
   "outputs": [
    {
     "data": {
      "text/plain": [
       "(5412, 19)"
      ]
     },
     "execution_count": 111,
     "metadata": {},
     "output_type": "execute_result"
    }
   ],
   "source": [
    "dataset = dataset.loc[(dataset['CV_Sentences'] != \":\"),:]\n",
    "dataset.shape"
   ]
  },
  {
   "cell_type": "code",
   "execution_count": 112,
   "metadata": {},
   "outputs": [
    {
     "data": {
      "text/plain": [
       "(5410, 19)"
      ]
     },
     "execution_count": 112,
     "metadata": {},
     "output_type": "execute_result"
    }
   ],
   "source": [
    "dataset = dataset.dropna(axis =0, how = 'any')\n",
    "dataset.shape"
   ]
  },
  {
   "cell_type": "code",
   "execution_count": 113,
   "metadata": {},
   "outputs": [
    {
     "data": {
      "text/plain": [
       "CV_Sentences                  0.0\n",
       "Sentences_CV_clean            0.0\n",
       "CV_Number                     0.0\n",
       "Sentence_line                 0.0\n",
       "Nb_tokens                     0.0\n",
       "%texte_lu                     0.0\n",
       "%texte_lu_fin_ligne           0.0\n",
       "Is_alpha                      0.0\n",
       "Grammar                       0.0\n",
       "Tokenization                  0.0\n",
       "Verb_count                    0.0\n",
       "Propn_count                   0.0\n",
       "Noun_count                    0.0\n",
       "Num_count                     0.0\n",
       "Pourcentage_verb_sentence     0.0\n",
       "Pourcentage_propn_sentence    0.0\n",
       "Pourcentage_noun_sentence     0.0\n",
       "Pourcentage_num_sentence      0.0\n",
       "Label                         0.0\n",
       "dtype: float64"
      ]
     },
     "metadata": {},
     "output_type": "display_data"
    }
   ],
   "source": [
    "display(100*dataset.isnull().sum()/dataset.shape[0])"
   ]
  },
  {
   "cell_type": "code",
   "execution_count": 114,
   "metadata": {},
   "outputs": [
    {
     "name": "stdout",
     "output_type": "stream",
     "text": [
      "Separating labels from features...\n",
      "y : \n",
      "0    1\n",
      "1    0\n",
      "2    0\n",
      "3    0\n",
      "4    0\n",
      "Name: Label, dtype: int64\n",
      "\n",
      "X :\n",
      "   Sentence_line  Nb_tokens  %texte_lu  %texte_lu_fin_ligne  Verb_count  \\\n",
      "0              0          6       2.80                97.20           1   \n",
      "1              1          1       3.27                96.73           0   \n",
      "2              2          8       7.01                92.99           0   \n",
      "3              3         24      18.22                81.78           5   \n",
      "4              4          1      18.69                81.31           0   \n",
      "\n",
      "   Propn_count  Noun_count  Num_count  Pourcentage_verb_sentence  \\\n",
      "0            3           1          1                   0.166667   \n",
      "1            0           1          0                   0.000000   \n",
      "2            1           2          0                   0.000000   \n",
      "3            1           5          1                   0.208333   \n",
      "4            0           1          0                   0.000000   \n",
      "\n",
      "   Pourcentage_propn_sentence  Pourcentage_noun_sentence  \\\n",
      "0                    0.500000                   0.166667   \n",
      "1                    0.000000                   1.000000   \n",
      "2                    0.125000                   0.250000   \n",
      "3                    0.041667                   0.208333   \n",
      "4                    0.000000                   1.000000   \n",
      "\n",
      "   Pourcentage_num_sentence  \n",
      "0                  0.166667  \n",
      "1                  0.000000  \n",
      "2                  0.000000  \n",
      "3                  0.041667  \n",
      "4                  0.000000  \n"
     ]
    }
   ],
   "source": [
    "print(\"Separating labels from features...\")\n",
    "\n",
    "## Choisir la features_list par rapport au dataset\n",
    "#features_list = [\"CV_Sentences\",\"Sentences_CV_clean\",\"CV_Number\", \"Is_alpha\", \"Grammar\", \"Label\"] ## Pour les datasets features1\n",
    "features_list = [\"CV_Sentences\",\"Sentences_CV_clean\",\"CV_Number\", \"Is_alpha\", \"Label\", \"Grammar\", \"Tokenization\"] ## Pour les datasets features2\n",
    "target_variable = \"Label\"\n",
    "\n",
    "X = dataset.drop(features_list, axis = 1)\n",
    "y = dataset.loc[:,target_variable]\n",
    "\n",
    "print('y : ')\n",
    "print(y.head())\n",
    "print()\n",
    "print('X :')\n",
    "print(X.head())"
   ]
  },
  {
   "cell_type": "code",
   "execution_count": 115,
   "metadata": {},
   "outputs": [
    {
     "name": "stdout",
     "output_type": "stream",
     "text": [
      "Found numeric features  ['Sentence_line', 'Nb_tokens', '%texte_lu', '%texte_lu_fin_ligne', 'Verb_count', 'Propn_count', 'Noun_count', 'Num_count', 'Pourcentage_verb_sentence', 'Pourcentage_propn_sentence', 'Pourcentage_noun_sentence', 'Pourcentage_num_sentence']\n",
      "Found categorical features  []\n"
     ]
    }
   ],
   "source": [
    "# Automatically detect names of numeric/categorical columns\n",
    "numeric_features = []\n",
    "categorical_features = []\n",
    "for i,t in X.dtypes.iteritems():\n",
    "    if ('float' in str(t)) or ('int' in str(t)) :\n",
    "        numeric_features.append(i)\n",
    "    else :\n",
    "        categorical_features.append(i)\n",
    "\n",
    "print('Found numeric features ', numeric_features)\n",
    "print('Found categorical features ', categorical_features)"
   ]
  },
  {
   "cell_type": "code",
   "execution_count": 116,
   "metadata": {},
   "outputs": [],
   "source": [
    "# Divide dataset Train set & Test set \n",
    "X_train, X_test, y_train, y_test = train_test_split(X, y, test_size=0.2, random_state=42, stratify = y)"
   ]
  },
  {
   "cell_type": "code",
   "execution_count": 117,
   "metadata": {},
   "outputs": [],
   "source": [
    "# Create pipeline for numeric features\n",
    "numeric_transformer = SimpleImputer(strategy='mean')"
   ]
  },
  {
   "cell_type": "code",
   "execution_count": 118,
   "metadata": {},
   "outputs": [],
   "source": [
    "# Create pipeline for categorical features\n",
    "categorical_transformer = OneHotEncoder(drop='first')"
   ]
  },
  {
   "cell_type": "code",
   "execution_count": 119,
   "metadata": {},
   "outputs": [],
   "source": [
    "# Use ColumnTransformer to make a preprocessor object that describes all the treatments to be done\n",
    "preprocessor = ColumnTransformer(\n",
    "    transformers=[\n",
    "        ('num', numeric_transformer, numeric_features),\n",
    "        ('cat', categorical_transformer, categorical_features)\n",
    "    ])"
   ]
  },
  {
   "cell_type": "code",
   "execution_count": 120,
   "metadata": {},
   "outputs": [
    {
     "name": "stdout",
     "output_type": "stream",
     "text": [
      "Grid search...\n",
      "...Done.\n",
      "Best hyperparameters :  {'max_depth': 8, 'min_samples_leaf': 2, 'min_samples_split': 8, 'n_estimators': 40}\n",
      "Best validation accuracy :  0.9738913670952506\n"
     ]
    }
   ],
   "source": [
    "# Perform grid search\n",
    "print(\"Grid search...\")\n",
    "classifier = RandomForestClassifier()\n",
    "\n",
    "# Grid of values to be tested\n",
    "params = {\n",
    "    'max_depth': [2, 4, 6, 8, 10],\n",
    "    'min_samples_leaf': [1, 2, 5],\n",
    "    'min_samples_split': [2, 4, 8],\n",
    "    'n_estimators': [10, 20, 40, 60, 80, 100]\n",
    "}\n",
    "gridsearch = GridSearchCV(classifier, param_grid = params, cv = 3) # cv : the number of folds to be used for CV\n",
    "gridsearch.fit(X_train, y_train)\n",
    "print(\"...Done.\")\n",
    "print(\"Best hyperparameters : \", gridsearch.best_params_)\n",
    "print(\"Best validation accuracy : \", gridsearch.best_score_)"
   ]
  },
  {
   "cell_type": "code",
   "execution_count": 121,
   "metadata": {},
   "outputs": [
    {
     "name": "stdout",
     "output_type": "stream",
     "text": [
      "Predictions on training set...\n",
      "...Done.\n",
      "[0 0 0 ... 0 0 0]\n",
      "\n"
     ]
    }
   ],
   "source": [
    "# Predictions on training set\n",
    "print(\"Predictions on training set...\")\n",
    "Y_train_pred = gridsearch.predict(X_train)\n",
    "print(\"...Done.\")\n",
    "print(Y_train_pred)\n",
    "print()"
   ]
  },
  {
   "cell_type": "code",
   "execution_count": 122,
   "metadata": {},
   "outputs": [
    {
     "name": "stdout",
     "output_type": "stream",
     "text": [
      "Predictions on test set...\n",
      "...Done.\n",
      "[0 0 0 ... 0 0 0]\n",
      "\n"
     ]
    }
   ],
   "source": [
    "# Predictions on test set\n",
    "print(\"Predictions on test set...\")\n",
    "Y_test_pred = gridsearch.predict(X_test)\n",
    "print(\"...Done.\")\n",
    "print(Y_test_pred)\n",
    "print()"
   ]
  },
  {
   "cell_type": "code",
   "execution_count": 123,
   "metadata": {},
   "outputs": [
    {
     "name": "stdout",
     "output_type": "stream",
     "text": [
      "accuracy on training set :  0.9785120147874307\n",
      "accuracy on test set :  0.9685767097966729\n",
      "\n",
      "f1-score on training set :  0.6618181818181819\n",
      "f1-score on test set :  0.46875000000000006\n",
      "\n"
     ]
    }
   ],
   "source": [
    "# Print scores\n",
    "print(\"accuracy on training set : \", accuracy_score(y_train, Y_train_pred))\n",
    "print(\"accuracy on test set : \", accuracy_score(y_test, Y_test_pred))\n",
    "print()\n",
    "\n",
    "print(\"f1-score on training set : \", f1_score(y_train, Y_train_pred))\n",
    "print(\"f1-score on test set : \", f1_score(y_test, Y_test_pred))                              \n",
    "print()"
   ]
  },
  {
   "cell_type": "code",
   "execution_count": 124,
   "metadata": {},
   "outputs": [
    {
     "data": {
      "application/vnd.plotly.v1+json": {
       "config": {
        "plotlyServerURL": "https://plot.ly"
       },
       "data": [
        {
         "colorscale": [
          [
           0,
           "rgb(247,252,240)"
          ],
          [
           0.125,
           "rgb(224,243,219)"
          ],
          [
           0.25,
           "rgb(204,235,197)"
          ],
          [
           0.375,
           "rgb(168,221,181)"
          ],
          [
           0.5,
           "rgb(123,204,196)"
          ],
          [
           0.625,
           "rgb(78,179,211)"
          ],
          [
           0.75,
           "rgb(43,140,190)"
          ],
          [
           0.875,
           "rgb(8,104,172)"
          ],
          [
           1,
           "rgb(8,64,129)"
          ]
         ],
         "name": "train",
         "type": "heatmap",
         "x": [
          "0",
          "1"
         ],
         "xaxis": "x",
         "y": [
          "0",
          "1"
         ],
         "yaxis": "y",
         "z": [
          [
           4144,
           14
          ],
          [
           79,
           91
          ]
         ],
         "zmax": 4144,
         "zmin": 0
        },
        {
         "colorscale": [
          [
           0,
           "rgb(247,252,240)"
          ],
          [
           0.125,
           "rgb(224,243,219)"
          ],
          [
           0.25,
           "rgb(204,235,197)"
          ],
          [
           0.375,
           "rgb(168,221,181)"
          ],
          [
           0.5,
           "rgb(123,204,196)"
          ],
          [
           0.625,
           "rgb(78,179,211)"
          ],
          [
           0.75,
           "rgb(43,140,190)"
          ],
          [
           0.875,
           "rgb(8,104,172)"
          ],
          [
           1,
           "rgb(8,64,129)"
          ]
         ],
         "name": "test",
         "type": "heatmap",
         "x": [
          "0",
          "1"
         ],
         "xaxis": "x2",
         "y": [
          "0",
          "1"
         ],
         "yaxis": "y2",
         "z": [
          [
           1033,
           7
          ],
          [
           27,
           15
          ]
         ],
         "zmax": 4144,
         "zmin": 0
        }
       ],
       "layout": {
        "annotations": [
         {
          "font": {
           "size": 16
          },
          "showarrow": false,
          "text": "train",
          "x": 0.225,
          "xanchor": "center",
          "xref": "paper",
          "y": 1,
          "yanchor": "bottom",
          "yref": "paper"
         },
         {
          "font": {
           "size": 16
          },
          "showarrow": false,
          "text": "test",
          "x": 0.775,
          "xanchor": "center",
          "xref": "paper",
          "y": 1,
          "yanchor": "bottom",
          "yref": "paper"
         },
         {
          "font": {
           "size": 16
          },
          "showarrow": false,
          "text": "Prediction",
          "x": 0.5,
          "xanchor": "center",
          "xref": "paper",
          "y": 0,
          "yanchor": "top",
          "yref": "paper",
          "yshift": -30
         },
         {
          "font": {
           "size": 16
          },
          "showarrow": false,
          "text": "True label",
          "textangle": -90,
          "x": 0,
          "xanchor": "right",
          "xref": "paper",
          "xshift": -40,
          "y": 0.5,
          "yanchor": "middle",
          "yref": "paper"
         }
        ],
        "template": {
         "data": {
          "bar": [
           {
            "error_x": {
             "color": "#2a3f5f"
            },
            "error_y": {
             "color": "#2a3f5f"
            },
            "marker": {
             "line": {
              "color": "#E5ECF6",
              "width": 0.5
             },
             "pattern": {
              "fillmode": "overlay",
              "size": 10,
              "solidity": 0.2
             }
            },
            "type": "bar"
           }
          ],
          "barpolar": [
           {
            "marker": {
             "line": {
              "color": "#E5ECF6",
              "width": 0.5
             },
             "pattern": {
              "fillmode": "overlay",
              "size": 10,
              "solidity": 0.2
             }
            },
            "type": "barpolar"
           }
          ],
          "carpet": [
           {
            "aaxis": {
             "endlinecolor": "#2a3f5f",
             "gridcolor": "white",
             "linecolor": "white",
             "minorgridcolor": "white",
             "startlinecolor": "#2a3f5f"
            },
            "baxis": {
             "endlinecolor": "#2a3f5f",
             "gridcolor": "white",
             "linecolor": "white",
             "minorgridcolor": "white",
             "startlinecolor": "#2a3f5f"
            },
            "type": "carpet"
           }
          ],
          "choropleth": [
           {
            "colorbar": {
             "outlinewidth": 0,
             "ticks": ""
            },
            "type": "choropleth"
           }
          ],
          "contour": [
           {
            "colorbar": {
             "outlinewidth": 0,
             "ticks": ""
            },
            "colorscale": [
             [
              0,
              "#0d0887"
             ],
             [
              0.1111111111111111,
              "#46039f"
             ],
             [
              0.2222222222222222,
              "#7201a8"
             ],
             [
              0.3333333333333333,
              "#9c179e"
             ],
             [
              0.4444444444444444,
              "#bd3786"
             ],
             [
              0.5555555555555556,
              "#d8576b"
             ],
             [
              0.6666666666666666,
              "#ed7953"
             ],
             [
              0.7777777777777778,
              "#fb9f3a"
             ],
             [
              0.8888888888888888,
              "#fdca26"
             ],
             [
              1,
              "#f0f921"
             ]
            ],
            "type": "contour"
           }
          ],
          "contourcarpet": [
           {
            "colorbar": {
             "outlinewidth": 0,
             "ticks": ""
            },
            "type": "contourcarpet"
           }
          ],
          "heatmap": [
           {
            "colorbar": {
             "outlinewidth": 0,
             "ticks": ""
            },
            "colorscale": [
             [
              0,
              "#0d0887"
             ],
             [
              0.1111111111111111,
              "#46039f"
             ],
             [
              0.2222222222222222,
              "#7201a8"
             ],
             [
              0.3333333333333333,
              "#9c179e"
             ],
             [
              0.4444444444444444,
              "#bd3786"
             ],
             [
              0.5555555555555556,
              "#d8576b"
             ],
             [
              0.6666666666666666,
              "#ed7953"
             ],
             [
              0.7777777777777778,
              "#fb9f3a"
             ],
             [
              0.8888888888888888,
              "#fdca26"
             ],
             [
              1,
              "#f0f921"
             ]
            ],
            "type": "heatmap"
           }
          ],
          "heatmapgl": [
           {
            "colorbar": {
             "outlinewidth": 0,
             "ticks": ""
            },
            "colorscale": [
             [
              0,
              "#0d0887"
             ],
             [
              0.1111111111111111,
              "#46039f"
             ],
             [
              0.2222222222222222,
              "#7201a8"
             ],
             [
              0.3333333333333333,
              "#9c179e"
             ],
             [
              0.4444444444444444,
              "#bd3786"
             ],
             [
              0.5555555555555556,
              "#d8576b"
             ],
             [
              0.6666666666666666,
              "#ed7953"
             ],
             [
              0.7777777777777778,
              "#fb9f3a"
             ],
             [
              0.8888888888888888,
              "#fdca26"
             ],
             [
              1,
              "#f0f921"
             ]
            ],
            "type": "heatmapgl"
           }
          ],
          "histogram": [
           {
            "marker": {
             "pattern": {
              "fillmode": "overlay",
              "size": 10,
              "solidity": 0.2
             }
            },
            "type": "histogram"
           }
          ],
          "histogram2d": [
           {
            "colorbar": {
             "outlinewidth": 0,
             "ticks": ""
            },
            "colorscale": [
             [
              0,
              "#0d0887"
             ],
             [
              0.1111111111111111,
              "#46039f"
             ],
             [
              0.2222222222222222,
              "#7201a8"
             ],
             [
              0.3333333333333333,
              "#9c179e"
             ],
             [
              0.4444444444444444,
              "#bd3786"
             ],
             [
              0.5555555555555556,
              "#d8576b"
             ],
             [
              0.6666666666666666,
              "#ed7953"
             ],
             [
              0.7777777777777778,
              "#fb9f3a"
             ],
             [
              0.8888888888888888,
              "#fdca26"
             ],
             [
              1,
              "#f0f921"
             ]
            ],
            "type": "histogram2d"
           }
          ],
          "histogram2dcontour": [
           {
            "colorbar": {
             "outlinewidth": 0,
             "ticks": ""
            },
            "colorscale": [
             [
              0,
              "#0d0887"
             ],
             [
              0.1111111111111111,
              "#46039f"
             ],
             [
              0.2222222222222222,
              "#7201a8"
             ],
             [
              0.3333333333333333,
              "#9c179e"
             ],
             [
              0.4444444444444444,
              "#bd3786"
             ],
             [
              0.5555555555555556,
              "#d8576b"
             ],
             [
              0.6666666666666666,
              "#ed7953"
             ],
             [
              0.7777777777777778,
              "#fb9f3a"
             ],
             [
              0.8888888888888888,
              "#fdca26"
             ],
             [
              1,
              "#f0f921"
             ]
            ],
            "type": "histogram2dcontour"
           }
          ],
          "mesh3d": [
           {
            "colorbar": {
             "outlinewidth": 0,
             "ticks": ""
            },
            "type": "mesh3d"
           }
          ],
          "parcoords": [
           {
            "line": {
             "colorbar": {
              "outlinewidth": 0,
              "ticks": ""
             }
            },
            "type": "parcoords"
           }
          ],
          "pie": [
           {
            "automargin": true,
            "type": "pie"
           }
          ],
          "scatter": [
           {
            "fillpattern": {
             "fillmode": "overlay",
             "size": 10,
             "solidity": 0.2
            },
            "type": "scatter"
           }
          ],
          "scatter3d": [
           {
            "line": {
             "colorbar": {
              "outlinewidth": 0,
              "ticks": ""
             }
            },
            "marker": {
             "colorbar": {
              "outlinewidth": 0,
              "ticks": ""
             }
            },
            "type": "scatter3d"
           }
          ],
          "scattercarpet": [
           {
            "marker": {
             "colorbar": {
              "outlinewidth": 0,
              "ticks": ""
             }
            },
            "type": "scattercarpet"
           }
          ],
          "scattergeo": [
           {
            "marker": {
             "colorbar": {
              "outlinewidth": 0,
              "ticks": ""
             }
            },
            "type": "scattergeo"
           }
          ],
          "scattergl": [
           {
            "marker": {
             "colorbar": {
              "outlinewidth": 0,
              "ticks": ""
             }
            },
            "type": "scattergl"
           }
          ],
          "scattermapbox": [
           {
            "marker": {
             "colorbar": {
              "outlinewidth": 0,
              "ticks": ""
             }
            },
            "type": "scattermapbox"
           }
          ],
          "scatterpolar": [
           {
            "marker": {
             "colorbar": {
              "outlinewidth": 0,
              "ticks": ""
             }
            },
            "type": "scatterpolar"
           }
          ],
          "scatterpolargl": [
           {
            "marker": {
             "colorbar": {
              "outlinewidth": 0,
              "ticks": ""
             }
            },
            "type": "scatterpolargl"
           }
          ],
          "scatterternary": [
           {
            "marker": {
             "colorbar": {
              "outlinewidth": 0,
              "ticks": ""
             }
            },
            "type": "scatterternary"
           }
          ],
          "surface": [
           {
            "colorbar": {
             "outlinewidth": 0,
             "ticks": ""
            },
            "colorscale": [
             [
              0,
              "#0d0887"
             ],
             [
              0.1111111111111111,
              "#46039f"
             ],
             [
              0.2222222222222222,
              "#7201a8"
             ],
             [
              0.3333333333333333,
              "#9c179e"
             ],
             [
              0.4444444444444444,
              "#bd3786"
             ],
             [
              0.5555555555555556,
              "#d8576b"
             ],
             [
              0.6666666666666666,
              "#ed7953"
             ],
             [
              0.7777777777777778,
              "#fb9f3a"
             ],
             [
              0.8888888888888888,
              "#fdca26"
             ],
             [
              1,
              "#f0f921"
             ]
            ],
            "type": "surface"
           }
          ],
          "table": [
           {
            "cells": {
             "fill": {
              "color": "#EBF0F8"
             },
             "line": {
              "color": "white"
             }
            },
            "header": {
             "fill": {
              "color": "#C8D4E3"
             },
             "line": {
              "color": "white"
             }
            },
            "type": "table"
           }
          ]
         },
         "layout": {
          "annotationdefaults": {
           "arrowcolor": "#2a3f5f",
           "arrowhead": 0,
           "arrowwidth": 1
          },
          "autotypenumbers": "strict",
          "coloraxis": {
           "colorbar": {
            "outlinewidth": 0,
            "ticks": ""
           }
          },
          "colorscale": {
           "diverging": [
            [
             0,
             "#8e0152"
            ],
            [
             0.1,
             "#c51b7d"
            ],
            [
             0.2,
             "#de77ae"
            ],
            [
             0.3,
             "#f1b6da"
            ],
            [
             0.4,
             "#fde0ef"
            ],
            [
             0.5,
             "#f7f7f7"
            ],
            [
             0.6,
             "#e6f5d0"
            ],
            [
             0.7,
             "#b8e186"
            ],
            [
             0.8,
             "#7fbc41"
            ],
            [
             0.9,
             "#4d9221"
            ],
            [
             1,
             "#276419"
            ]
           ],
           "sequential": [
            [
             0,
             "#0d0887"
            ],
            [
             0.1111111111111111,
             "#46039f"
            ],
            [
             0.2222222222222222,
             "#7201a8"
            ],
            [
             0.3333333333333333,
             "#9c179e"
            ],
            [
             0.4444444444444444,
             "#bd3786"
            ],
            [
             0.5555555555555556,
             "#d8576b"
            ],
            [
             0.6666666666666666,
             "#ed7953"
            ],
            [
             0.7777777777777778,
             "#fb9f3a"
            ],
            [
             0.8888888888888888,
             "#fdca26"
            ],
            [
             1,
             "#f0f921"
            ]
           ],
           "sequentialminus": [
            [
             0,
             "#0d0887"
            ],
            [
             0.1111111111111111,
             "#46039f"
            ],
            [
             0.2222222222222222,
             "#7201a8"
            ],
            [
             0.3333333333333333,
             "#9c179e"
            ],
            [
             0.4444444444444444,
             "#bd3786"
            ],
            [
             0.5555555555555556,
             "#d8576b"
            ],
            [
             0.6666666666666666,
             "#ed7953"
            ],
            [
             0.7777777777777778,
             "#fb9f3a"
            ],
            [
             0.8888888888888888,
             "#fdca26"
            ],
            [
             1,
             "#f0f921"
            ]
           ]
          },
          "colorway": [
           "#636efa",
           "#EF553B",
           "#00cc96",
           "#ab63fa",
           "#FFA15A",
           "#19d3f3",
           "#FF6692",
           "#B6E880",
           "#FF97FF",
           "#FECB52"
          ],
          "font": {
           "color": "#2a3f5f"
          },
          "geo": {
           "bgcolor": "white",
           "lakecolor": "white",
           "landcolor": "#E5ECF6",
           "showlakes": true,
           "showland": true,
           "subunitcolor": "white"
          },
          "hoverlabel": {
           "align": "left"
          },
          "hovermode": "closest",
          "mapbox": {
           "style": "light"
          },
          "paper_bgcolor": "white",
          "plot_bgcolor": "#E5ECF6",
          "polar": {
           "angularaxis": {
            "gridcolor": "white",
            "linecolor": "white",
            "ticks": ""
           },
           "bgcolor": "#E5ECF6",
           "radialaxis": {
            "gridcolor": "white",
            "linecolor": "white",
            "ticks": ""
           }
          },
          "scene": {
           "xaxis": {
            "backgroundcolor": "#E5ECF6",
            "gridcolor": "white",
            "gridwidth": 2,
            "linecolor": "white",
            "showbackground": true,
            "ticks": "",
            "zerolinecolor": "white"
           },
           "yaxis": {
            "backgroundcolor": "#E5ECF6",
            "gridcolor": "white",
            "gridwidth": 2,
            "linecolor": "white",
            "showbackground": true,
            "ticks": "",
            "zerolinecolor": "white"
           },
           "zaxis": {
            "backgroundcolor": "#E5ECF6",
            "gridcolor": "white",
            "gridwidth": 2,
            "linecolor": "white",
            "showbackground": true,
            "ticks": "",
            "zerolinecolor": "white"
           }
          },
          "shapedefaults": {
           "line": {
            "color": "#2a3f5f"
           }
          },
          "ternary": {
           "aaxis": {
            "gridcolor": "white",
            "linecolor": "white",
            "ticks": ""
           },
           "baxis": {
            "gridcolor": "white",
            "linecolor": "white",
            "ticks": ""
           },
           "bgcolor": "#E5ECF6",
           "caxis": {
            "gridcolor": "white",
            "linecolor": "white",
            "ticks": ""
           }
          },
          "title": {
           "x": 0.05
          },
          "xaxis": {
           "automargin": true,
           "gridcolor": "white",
           "linecolor": "white",
           "ticks": "",
           "title": {
            "standoff": 15
           },
           "zerolinecolor": "white",
           "zerolinewidth": 2
          },
          "yaxis": {
           "automargin": true,
           "gridcolor": "white",
           "linecolor": "white",
           "ticks": "",
           "title": {
            "standoff": 15
           },
           "zerolinecolor": "white",
           "zerolinewidth": 2
          }
         }
        },
        "title": {
         "text": "Confusion matrices",
         "x": 0.5
        },
        "xaxis": {
         "anchor": "y",
         "domain": [
          0,
          0.45
         ]
        },
        "xaxis2": {
         "anchor": "y2",
         "domain": [
          0.55,
          1
         ]
        },
        "yaxis": {
         "anchor": "x",
         "autorange": "reversed",
         "domain": [
          0,
          1
         ]
        },
        "yaxis2": {
         "anchor": "x2",
         "autorange": "reversed",
         "domain": [
          0,
          1
         ]
        }
       }
      }
     },
     "metadata": {},
     "output_type": "display_data"
    }
   ],
   "source": [
    "# Visualize confusion matrices\n",
    "from plotly.subplots import make_subplots\n",
    "cm_train = confusion_matrix(y_train, Y_train_pred)\n",
    "cm_test = confusion_matrix(y_test, Y_test_pred)\n",
    "\n",
    "fig = make_subplots(rows = 1, cols = 2, subplot_titles = (\"train\", \"test\"), \n",
    "                    x_title = 'Prediction', y_title = 'True label')\n",
    "fig.update_layout(\n",
    "        title = go.layout.Title(text = \"Confusion matrices\", x = 0.5))\n",
    "fig.update_yaxes(autorange='reversed')\n",
    "fig.add_trace(\n",
    "    go.Heatmap(\n",
    "        name = 'train',\n",
    "        x = ['0', '1'], \n",
    "        y = ['0', '1'], \n",
    "        z = cm_train,\n",
    "        colorscale = 'gnbu',\n",
    "        zmin = 0,\n",
    "        zmax = max(cm_train.max(), cm_test.max())\n",
    "    ),\n",
    "    row = 1,\n",
    "    col = 1\n",
    ")  \n",
    "fig.add_trace(\n",
    "    go.Heatmap(\n",
    "        name = 'test',\n",
    "        x = ['0', '1'], \n",
    "        y = ['0', '1'], \n",
    "        z = cm_test,\n",
    "        colorscale = 'gnbu',\n",
    "        zmin = 0,\n",
    "        zmax = max(cm_train.max(), cm_test.max())\n",
    "    ),\n",
    "    row = 1,\n",
    "    col = 2\n",
    ")"
   ]
  },
  {
   "cell_type": "code",
   "execution_count": 125,
   "metadata": {},
   "outputs": [
    {
     "data": {
      "application/vnd.plotly.v1+json": {
       "config": {
        "plotlyServerURL": "https://plot.ly"
       },
       "data": [
        {
         "mode": "lines",
         "name": "train",
         "type": "scatter",
         "x": [
          0,
          0.0058823529411764705,
          0.01764705882352941,
          0.041176470588235294,
          0.07058823529411765,
          0.08235294117647059,
          0.08823529411764706,
          0.1,
          0.14705882352941177,
          0.17058823529411765,
          0.18235294117647058,
          0.2,
          0.24705882352941178,
          0.25882352941176473,
          0.2647058823529412,
          0.2647058823529412,
          0.27647058823529413,
          0.28823529411764703,
          0.29411764705882354,
          0.29411764705882354,
          0.4,
          0.4117647058823529,
          0.4235294117647059,
          0.4235294117647059,
          0.4294117647058823,
          0.4294117647058823,
          0.45294117647058824,
          0.45294117647058824,
          0.47058823529411764,
          0.47058823529411764,
          0.4764705882352941,
          0.4764705882352941,
          0.4823529411764706,
          0.4823529411764706,
          0.48823529411764705,
          0.5,
          0.5,
          0.5058823529411764,
          0.5294117647058824,
          0.5294117647058824,
          0.5352941176470588,
          0.5352941176470588,
          0.5411764705882353,
          0.5529411764705883,
          0.5588235294117647,
          0.5588235294117647,
          0.5705882352941176,
          0.5823529411764706,
          0.5823529411764706,
          0.5882352941176471,
          0.5882352941176471,
          0.6,
          0.6294117647058823,
          0.6294117647058823,
          0.6352941176470588,
          0.6352941176470588,
          0.6470588235294118,
          0.6470588235294118,
          0.6823529411764706,
          0.6823529411764706,
          0.6823529411764706,
          0.6823529411764706,
          0.6941176470588235,
          0.6941176470588235,
          0.7058823529411765,
          0.7058823529411765,
          0.711764705882353,
          0.711764705882353,
          0.7176470588235294,
          0.7176470588235294,
          0.7235294117647059,
          0.7235294117647059,
          0.7235294117647059,
          0.7235294117647059,
          0.7294117647058823,
          0.7294117647058823,
          0.7470588235294118,
          0.7470588235294118,
          0.7470588235294118,
          0.7470588235294118,
          0.7470588235294118,
          0.7529411764705882,
          0.7529411764705882,
          0.7588235294117647,
          0.7588235294117647,
          0.7647058823529411,
          0.7647058823529411,
          0.7705882352941177,
          0.7705882352941177,
          0.7764705882352941,
          0.7764705882352941,
          0.7823529411764706,
          0.7823529411764706,
          0.788235294117647,
          0.788235294117647,
          0.788235294117647,
          0.788235294117647,
          0.788235294117647,
          0.8058823529411765,
          0.8058823529411765,
          0.8117647058823529,
          0.8117647058823529,
          0.8117647058823529,
          0.8235294117647058,
          0.8235294117647058,
          0.8294117647058824,
          0.8294117647058824,
          0.8352941176470589,
          0.8352941176470589,
          0.8411764705882353,
          0.8411764705882353,
          0.8470588235294118,
          0.8470588235294118,
          0.8470588235294118,
          0.8470588235294118,
          0.8529411764705882,
          0.8529411764705882,
          0.8588235294117647,
          0.8588235294117647,
          0.8647058823529412,
          0.8647058823529412,
          0.8705882352941177,
          0.8705882352941177,
          0.8705882352941177,
          0.8764705882352941,
          0.8764705882352941,
          0.8823529411764706,
          0.8823529411764706,
          0.888235294117647,
          0.888235294117647,
          0.888235294117647,
          0.888235294117647,
          0.888235294117647,
          0.888235294117647,
          0.888235294117647,
          0.8941176470588236,
          0.8941176470588236,
          0.8941176470588236,
          0.9,
          0.9,
          0.9,
          0.9058823529411765,
          0.9058823529411765,
          0.9058823529411765,
          0.9117647058823529,
          0.9117647058823529,
          0.9117647058823529,
          0.9176470588235294,
          0.9176470588235294,
          0.9176470588235294,
          0.9176470588235294,
          0.9176470588235294,
          0.9176470588235294,
          0.9176470588235294,
          0.9176470588235294,
          0.9235294117647059,
          0.9235294117647059,
          0.9235294117647059,
          0.9235294117647059,
          0.9294117647058824,
          0.9294117647058824,
          0.9352941176470588,
          0.9352941176470588,
          0.9411764705882353,
          0.9411764705882353,
          0.9411764705882353,
          0.9470588235294117,
          0.9470588235294117,
          0.9470588235294117,
          0.9470588235294117,
          0.9529411764705882,
          0.9529411764705882,
          0.9588235294117647,
          0.9588235294117647,
          0.9588235294117647,
          0.9588235294117647,
          0.9588235294117647,
          0.9588235294117647,
          0.9647058823529412,
          0.9647058823529412,
          0.9647058823529412,
          0.9647058823529412,
          0.9647058823529412,
          0.9647058823529412,
          0.9647058823529412,
          0.9647058823529412,
          0.9647058823529412,
          0.9647058823529412,
          0.9647058823529412,
          0.9647058823529412,
          0.9647058823529412,
          0.9647058823529412,
          0.9647058823529412,
          0.9647058823529412,
          0.9647058823529412,
          0.9647058823529412,
          0.9705882352941176,
          0.9705882352941176,
          0.9705882352941176,
          0.9705882352941176,
          0.9705882352941176,
          0.9705882352941176,
          0.9705882352941176,
          0.9705882352941176,
          0.9764705882352941,
          0.9764705882352941,
          0.9764705882352941,
          0.9764705882352941,
          0.9764705882352941,
          0.9764705882352941,
          0.9823529411764705,
          0.9823529411764705,
          0.9823529411764705,
          0.9823529411764705,
          0.9823529411764705,
          0.9823529411764705,
          0.9823529411764705,
          0.9823529411764705,
          0.9882352941176471,
          0.9882352941176471,
          0.9882352941176471,
          0.9882352941176471,
          0.9882352941176471,
          0.9882352941176471,
          0.9882352941176471,
          0.9882352941176471,
          0.9941176470588236,
          0.9941176470588236,
          0.9941176470588236,
          0.9941176470588236,
          0.9941176470588236,
          0.9941176470588236,
          0.9941176470588236,
          0.9941176470588236,
          0.9941176470588236,
          0.9941176470588236,
          0.9941176470588236,
          0.9941176470588236,
          0.9941176470588236,
          0.9941176470588236,
          0.9941176470588236,
          0.9941176470588236,
          0.9941176470588236,
          0.9941176470588236,
          0.9941176470588236,
          1,
          1,
          1,
          1,
          1,
          1,
          1,
          1,
          1,
          1,
          1,
          1,
          1,
          1,
          1,
          1,
          1,
          1,
          1,
          1,
          1,
          1,
          1,
          1,
          1,
          1,
          1,
          1,
          1,
          1,
          1,
          1,
          1,
          1,
          1,
          1,
          1,
          1,
          1,
          1,
          1,
          1,
          1,
          1,
          1,
          1,
          1,
          1,
          1,
          1,
          1,
          1,
          1,
          1,
          1,
          1,
          1,
          1,
          1,
          1,
          1,
          1,
          1,
          1,
          1,
          1,
          1,
          1,
          1,
          1,
          1,
          1,
          1,
          1,
          1,
          1,
          1,
          1,
          1,
          1,
          1,
          1,
          1,
          1,
          1,
          1,
          1,
          1,
          1,
          1,
          1,
          1,
          1,
          1,
          1,
          1,
          1,
          1,
          1,
          1,
          1,
          1,
          1,
          1,
          1,
          1,
          1,
          1,
          1,
          1,
          1,
          1,
          1,
          1,
          1,
          1,
          1,
          1,
          1,
          1,
          1,
          1,
          1,
          1,
          1,
          1,
          1,
          1,
          1,
          1,
          1,
          1,
          1,
          1,
          1,
          1,
          1,
          1,
          1,
          1,
          1,
          1,
          1,
          1,
          1,
          1,
          1,
          1,
          1,
          1,
          1,
          1,
          1,
          1,
          1,
          1,
          1,
          1,
          1,
          1,
          1,
          1,
          1,
          1,
          1,
          1,
          1,
          1,
          1,
          1,
          1,
          1,
          1,
          1,
          1,
          1,
          1,
          1,
          1,
          1,
          1,
          1,
          1,
          1,
          1,
          1,
          1,
          1,
          1,
          1,
          1,
          1,
          1,
          1,
          1,
          1,
          1,
          1,
          1,
          1,
          1,
          1,
          1,
          1,
          1,
          1,
          1,
          1,
          1,
          1,
          1,
          1,
          1,
          1,
          1,
          1,
          1,
          1,
          1,
          1,
          1,
          1,
          1,
          1,
          1,
          1,
          1,
          1,
          1,
          1,
          1,
          1,
          1,
          1,
          1,
          1,
          1,
          1,
          1,
          1,
          1,
          1,
          1,
          1,
          1,
          1,
          1,
          1,
          1,
          1,
          1,
          1,
          1,
          1,
          1,
          1,
          1,
          1,
          1,
          1,
          1,
          1,
          1,
          1,
          1,
          1,
          1,
          1,
          1,
          1,
          1,
          1,
          1,
          1,
          1,
          1,
          1,
          1,
          1,
          1,
          1,
          1,
          1,
          1,
          1,
          1,
          1,
          1,
          1,
          1,
          1,
          1,
          1,
          1,
          1,
          1,
          1,
          1,
          1,
          1,
          1,
          1,
          1,
          1,
          1,
          1,
          1,
          1,
          1,
          1,
          1,
          1,
          1,
          1,
          1,
          1,
          1,
          1,
          1,
          1,
          1,
          1,
          1,
          1,
          1,
          1,
          1,
          1,
          1,
          1,
          1,
          1,
          1,
          1,
          1,
          1,
          1,
          1,
          1,
          1,
          1,
          1,
          1,
          1,
          1,
          1,
          1,
          1,
          1,
          1,
          1,
          1,
          1,
          1,
          1,
          1,
          1,
          1,
          1,
          1,
          1,
          1,
          1,
          1,
          1,
          1,
          1,
          1,
          1,
          1,
          1,
          1,
          1,
          1,
          1,
          1,
          1,
          1,
          1,
          1,
          1,
          1,
          1,
          1,
          1,
          1,
          1,
          1,
          1,
          1,
          1,
          1,
          1,
          1,
          1,
          1,
          1,
          1,
          1,
          1,
          1,
          1,
          1,
          1,
          1,
          1,
          1,
          1,
          1,
          1,
          1,
          1,
          1,
          1,
          1,
          1,
          1,
          1,
          1,
          1,
          1,
          1,
          1,
          1,
          1,
          1,
          1,
          1,
          1,
          1,
          1,
          1,
          1,
          1,
          1,
          1,
          1,
          1,
          1,
          1,
          1,
          1,
          1,
          1,
          1,
          1,
          1,
          1,
          1,
          1,
          1,
          1,
          1,
          1,
          1,
          1,
          1,
          1,
          1,
          1,
          1,
          1,
          1,
          1,
          1,
          1,
          1,
          1,
          1,
          1,
          1,
          1,
          1,
          1,
          1,
          1,
          1,
          1,
          1,
          1,
          1,
          1,
          1,
          1,
          1,
          1,
          1,
          1,
          1,
          1,
          1,
          1,
          1,
          1,
          1,
          1,
          1,
          1,
          1,
          1,
          1,
          1,
          1,
          1,
          1,
          1,
          1,
          1,
          1,
          1,
          1,
          1,
          1,
          1,
          1,
          1,
          1,
          1,
          1,
          1,
          1,
          1,
          1,
          1,
          1,
          1,
          1,
          1,
          1,
          1,
          1,
          1,
          1,
          1,
          1,
          1,
          1,
          1,
          1,
          1,
          1,
          1,
          1,
          1,
          1,
          1,
          1,
          1,
          1,
          1,
          1,
          1,
          1,
          1,
          1,
          1,
          1,
          1,
          1,
          1,
          1,
          1,
          1,
          1,
          1,
          1,
          1,
          1,
          1,
          1,
          1,
          1,
          1,
          1,
          1,
          1,
          1,
          1,
          1,
          1,
          1,
          1,
          1,
          1,
          1,
          1,
          1,
          1,
          1,
          1,
          1,
          1,
          1,
          1,
          1,
          1,
          1,
          1,
          1,
          1,
          1,
          1,
          1,
          1,
          1,
          1,
          1,
          1,
          1,
          1,
          1,
          1,
          1,
          1,
          1,
          1,
          1,
          1,
          1,
          1,
          1,
          1,
          1,
          1,
          1,
          1,
          1,
          1,
          1,
          1,
          1,
          1,
          1,
          1,
          1,
          1,
          1,
          1,
          1,
          1,
          1,
          1,
          1,
          1,
          1,
          1,
          1,
          1,
          1,
          1,
          1,
          1,
          1,
          1,
          1,
          1,
          1,
          1,
          1,
          1,
          1,
          1,
          1,
          1,
          1,
          1,
          1,
          1,
          1,
          1,
          1,
          1,
          1,
          1,
          1,
          1,
          1,
          1,
          1,
          1,
          1,
          1,
          1,
          1,
          1,
          1,
          1,
          1,
          1,
          1,
          1,
          1,
          1,
          1,
          1,
          1,
          1,
          1,
          1,
          1,
          1,
          1,
          1,
          1,
          1,
          1,
          1,
          1,
          1,
          1,
          1,
          1,
          1,
          1,
          1,
          1,
          1,
          1,
          1,
          1,
          1,
          1,
          1,
          1,
          1,
          1,
          1,
          1,
          1,
          1,
          1,
          1,
          1,
          1,
          1,
          1,
          1,
          1,
          1,
          1,
          1,
          1,
          1,
          1,
          1,
          1,
          1,
          1,
          1,
          1,
          1,
          1,
          1,
          1,
          1,
          1,
          1,
          1,
          1,
          1,
          1,
          1,
          1,
          1,
          1,
          1,
          1,
          1,
          1,
          1,
          1,
          1,
          1,
          1,
          1,
          1,
          1,
          1,
          1,
          1,
          1,
          1,
          1,
          1,
          1,
          1,
          1,
          1,
          1,
          1,
          1,
          1,
          1,
          1,
          1,
          1,
          1,
          1,
          1,
          1,
          1,
          1,
          1,
          1,
          1,
          1,
          1,
          1,
          1,
          1,
          1,
          1,
          1,
          1,
          1,
          1,
          1,
          1,
          1,
          1,
          1,
          1,
          1,
          1,
          1,
          1,
          1,
          1,
          1,
          1,
          1,
          1,
          1,
          1,
          1,
          1,
          1,
          1,
          1,
          1,
          1,
          1,
          1,
          1,
          1,
          1,
          1,
          1,
          1,
          1,
          1,
          1,
          1,
          1,
          1,
          1,
          1,
          1,
          1,
          1,
          1,
          1,
          1,
          1,
          1,
          1,
          1,
          1,
          1,
          1,
          1,
          1,
          1,
          1,
          1,
          1,
          1,
          1,
          1,
          1,
          1,
          1,
          1,
          1,
          1,
          1,
          1,
          1,
          1,
          1,
          1,
          1,
          1,
          1,
          1,
          1,
          1,
          1,
          1,
          1,
          1,
          1,
          1,
          1,
          1,
          1,
          1,
          1,
          1,
          1,
          1,
          1,
          1,
          1,
          1,
          1,
          1,
          1,
          1,
          1,
          1,
          1,
          1,
          1,
          1,
          1,
          1,
          1,
          1,
          1,
          1,
          1,
          1,
          1,
          1,
          1,
          1,
          1,
          1,
          1,
          1,
          1,
          1,
          1,
          1,
          1,
          1
         ],
         "y": [
          0,
          0,
          0,
          0,
          0,
          0,
          0,
          0,
          0,
          0,
          0,
          0,
          0,
          0,
          0,
          0.0002405002405002405,
          0.0002405002405002405,
          0.0002405002405002405,
          0.0002405002405002405,
          0.000481000481000481,
          0.000481000481000481,
          0.000481000481000481,
          0.000481000481000481,
          0.0007215007215007215,
          0.0007215007215007215,
          0.000962000962000962,
          0.000962000962000962,
          0.0012025012025012026,
          0.0012025012025012026,
          0.0016835016835016834,
          0.0016835016835016834,
          0.001924001924001924,
          0.001924001924001924,
          0.0021645021645021645,
          0.002405002405002405,
          0.002405002405002405,
          0.002886002886002886,
          0.002886002886002886,
          0.002886002886002886,
          0.003367003367003367,
          0.003367003367003367,
          0.003848003848003848,
          0.003848003848003848,
          0.003848003848003848,
          0.003848003848003848,
          0.004088504088504088,
          0.004088504088504088,
          0.004329004329004329,
          0.00456950456950457,
          0.00456950456950457,
          0.00481000481000481,
          0.00481000481000481,
          0.00481000481000481,
          0.005291005291005291,
          0.005291005291005291,
          0.005531505531505531,
          0.005531505531505531,
          0.005772005772005772,
          0.005772005772005772,
          0.006253006253006253,
          0.006974506974506974,
          0.007936507936507936,
          0.007936507936507936,
          0.008177008177008177,
          0.008177008177008177,
          0.00913900913900914,
          0.00913900913900914,
          0.010101010101010102,
          0.010101010101010102,
          0.010582010582010581,
          0.010582010582010581,
          0.010822510822510822,
          0.011303511303511303,
          0.011784511784511785,
          0.011784511784511785,
          0.012025012025012025,
          0.012025012025012025,
          0.012506012506012507,
          0.012746512746512747,
          0.013227513227513227,
          0.015151515151515152,
          0.015151515151515152,
          0.016354016354016353,
          0.016594516594516596,
          0.016835016835016835,
          0.016835016835016835,
          0.018999518999519,
          0.018999518999519,
          0.01948051948051948,
          0.019721019721019722,
          0.01996151996151996,
          0.01996151996151996,
          0.021164021164021163,
          0.021404521404521405,
          0.022126022126022125,
          0.022607022607022607,
          0.02284752284752285,
          0.02356902356902357,
          0.02356902356902357,
          0.025012025012025013,
          0.025012025012025013,
          0.025252525252525252,
          0.025733525733525733,
          0.025733525733525733,
          0.02886002886002886,
          0.02886002886002886,
          0.030303030303030304,
          0.030303030303030304,
          0.030543530543530543,
          0.030543530543530543,
          0.031265031265031266,
          0.031265031265031266,
          0.03150553150553151,
          0.03198653198653199,
          0.03222703222703223,
          0.03222703222703223,
          0.03270803270803271,
          0.03270803270803271,
          0.03439153439153439,
          0.03439153439153439,
          0.034872534872534874,
          0.034872534872534874,
          0.03535353535353535,
          0.035594035594035595,
          0.035594035594035595,
          0.03583453583453584,
          0.03583453583453584,
          0.03607503607503607,
          0.03607503607503607,
          0.036315536315536315,
          0.0367965367965368,
          0.037758537758537755,
          0.03823953823953824,
          0.039442039442039445,
          0.03992303992303992,
          0.03992303992303992,
          0.04040404040404041,
          0.04304954304954305,
          0.04304954304954305,
          0.04353054353054353,
          0.0456950456950457,
          0.0456950456950457,
          0.049062049062049064,
          0.04954304954304954,
          0.04954304954304954,
          0.050024050024050026,
          0.050505050505050504,
          0.050505050505050504,
          0.051226551226551224,
          0.05170755170755171,
          0.05291005291005291,
          0.053631553631553634,
          0.054353054353054354,
          0.055074555074555075,
          0.05723905723905724,
          0.05723905723905724,
          0.05844155844155844,
          0.058922558922558925,
          0.06012506012506012,
          0.06012506012506012,
          0.06373256373256374,
          0.06373256373256374,
          0.06541606541606541,
          0.06541606541606541,
          0.0658970658970659,
          0.06637806637806638,
          0.06637806637806638,
          0.06854256854256854,
          0.06902356902356903,
          0.06974506974506975,
          0.06974506974506975,
          0.07022607022607022,
          0.07022607022607022,
          0.07166907166907167,
          0.07263107263107263,
          0.07335257335257335,
          0.07383357383357383,
          0.07407407407407407,
          0.07407407407407407,
          0.0772005772005772,
          0.07768157768157768,
          0.07888407888407889,
          0.07936507936507936,
          0.08152958152958154,
          0.082010582010582,
          0.08537758537758537,
          0.0860990860990861,
          0.08633958633958634,
          0.08682058682058683,
          0.08706108706108706,
          0.08754208754208755,
          0.08778258778258778,
          0.08826358826358827,
          0.08922558922558922,
          0.0897065897065897,
          0.08994708994708994,
          0.08994708994708994,
          0.09187109187109187,
          0.09235209235209235,
          0.09259259259259259,
          0.09307359307359307,
          0.0986050986050986,
          0.09932659932659933,
          0.10004810004810005,
          0.10028860028860029,
          0.10076960076960077,
          0.10149110149110149,
          0.10245310245310245,
          0.10341510341510342,
          0.10533910533910534,
          0.10533910533910534,
          0.10654160654160655,
          0.10702260702260702,
          0.10774410774410774,
          0.10822510822510822,
          0.10846560846560846,
          0.10894660894660894,
          0.11063011063011063,
          0.11087061087061087,
          0.11303511303511303,
          0.11351611351611351,
          0.11544011544011544,
          0.1164021164021164,
          0.11976911976911978,
          0.12025012025012025,
          0.12169312169312169,
          0.12193362193362194,
          0.12337662337662338,
          0.12385762385762386,
          0.12674362674362674,
          0.1272246272246272,
          0.12794612794612795,
          0.12842712842712842,
          0.1293891293891294,
          0.12987012987012986,
          0.13083213083213083,
          0.13107263107263106,
          0.13155363155363156,
          0.13227513227513227,
          0.13275613275613277,
          0.13323713323713324,
          0.1337181337181337,
          0.13636363636363635,
          0.13684463684463685,
          0.1378066378066378,
          0.1378066378066378,
          0.1382876382876383,
          0.13876863876863876,
          0.1418951418951419,
          0.14237614237614238,
          0.14309764309764308,
          0.14357864357864358,
          0.14405964405964405,
          0.14454064454064455,
          0.1455026455026455,
          0.145983645983646,
          0.14766714766714767,
          0.14838864838864838,
          0.14886964886964887,
          0.15031265031265031,
          0.15079365079365079,
          0.15103415103415102,
          0.15151515151515152,
          0.15175565175565175,
          0.15223665223665223,
          0.15295815295815296,
          0.15343915343915343,
          0.1544011544011544,
          0.15488215488215487,
          0.15704665704665705,
          0.15752765752765752,
          0.15921115921115922,
          0.1596921596921597,
          0.16161616161616163,
          0.1620971620971621,
          0.1628186628186628,
          0.1632996632996633,
          0.164021164021164,
          0.16474266474266475,
          0.16522366522366522,
          0.16570466570466572,
          0.1661856661856662,
          0.16690716690716692,
          0.17123617123617124,
          0.17195767195767195,
          0.17243867243867245,
          0.17291967291967292,
          0.17364117364117365,
          0.17436267436267436,
          0.1758056758056758,
          0.17676767676767677,
          0.17772967772967774,
          0.1782106782106782,
          0.17869167869167868,
          0.17917267917267918,
          0.18013468013468015,
          0.18061568061568062,
          0.18133718133718132,
          0.1822991822991823,
          0.18253968253968253,
          0.18374218374218373,
          0.18542568542568544,
          0.1859066859066859,
          0.18638768638768638,
          0.18734968734968735,
          0.18759018759018758,
          0.18807118807118808,
          0.19047619047619047,
          0.19095719095719096,
          0.19215969215969217,
          0.19264069264069264,
          0.19600769600769602,
          0.1964886964886965,
          0.19696969696969696,
          0.19745069745069746,
          0.1984126984126984,
          0.19937469937469937,
          0.2037037037037037,
          0.20442520442520443,
          0.2061087061087061,
          0.2065897065897066,
          0.20875420875420875,
          0.20923520923520925,
          0.20971620971620972,
          0.2106782106782107,
          0.21356421356421357,
          0.21404521404521404,
          0.21452621452621454,
          0.215007215007215,
          0.21669071669071668,
          0.21717171717171718,
          0.21741221741221742,
          0.2183742183742184,
          0.2190957190957191,
          0.21957671957671956,
          0.2202982202982203,
          0.22077922077922077,
          0.22462722462722462,
          0.22510822510822512,
          0.22607022607022606,
          0.22655122655122656,
          0.227994227994228,
          0.22847522847522847,
          0.23088023088023088,
          0.23136123136123135,
          0.23256373256373256,
          0.23304473304473305,
          0.23352573352573353,
          0.234006734006734,
          0.23544973544973544,
          0.23593073593073594,
          0.23713323713323714,
          0.2376142376142376,
          0.23953823953823955,
          0.24001924001924002,
          0.24025974025974026,
          0.24074074074074073,
          0.240981240981241,
          0.24146224146224146,
          0.24266474266474267,
          0.24362674362674364,
          0.24506974506974508,
          0.24603174603174602,
          0.24771524771524772,
          0.2481962481962482,
          0.25012025012025013,
          0.25084175084175087,
          0.25204425204425207,
          0.253006253006253,
          0.25517075517075516,
          0.25565175565175563,
          0.25613275613275616,
          0.2566137566137566,
          0.25685425685425683,
          0.25757575757575757,
          0.26022126022126024,
          0.2609427609427609,
          0.26166426166426165,
          0.2635882635882636,
          0.265031265031265,
          0.26551226551226553,
          0.265993265993266,
          0.2664742664742665,
          0.26815776815776815,
          0.2688792688792689,
          0.26936026936026936,
          0.2698412698412698,
          0.2708032708032708,
          0.2712842712842713,
          0.27344877344877344,
          0.27441077441077444,
          0.2748917748917749,
          0.2753727753727754,
          0.2760942760942761,
          0.2765752765752766,
          0.2784992784992785,
          0.278980278980279,
          0.2792207792207792,
          0.2801827801827802,
          0.2809042809042809,
          0.2816257816257816,
          0.2830687830687831,
          0.28354978354978355,
          0.28475228475228476,
          0.28643578643578643,
          0.28715728715728717,
          0.28763828763828764,
          0.2893217893217893,
          0.2898027898027898,
          0.2905242905242905,
          0.2907647907647908,
          0.29124579124579125,
          0.29148629148629146,
          0.291967291967292,
          0.29244829244829246,
          0.29292929292929293,
          0.2946127946127946,
          0.2950937950937951,
          0.29605579605579607,
          0.297017797017797,
          0.2972582972582973,
          0.29773929773929775,
          0.2984607984607985,
          0.30014430014430016,
          0.30062530062530063,
          0.3008658008658009,
          0.30134680134680136,
          0.30303030303030304,
          0.30447330447330445,
          0.3051948051948052,
          0.3061568061568062,
          0.30784030784030786,
          0.3088023088023088,
          0.30928330928330927,
          0.30976430976430974,
          0.31024531024531027,
          0.3112073112073112,
          0.3116883116883117,
          0.31216931216931215,
          0.31337181337181336,
          0.31433381433381435,
          0.31505531505531503,
          0.31553631553631556,
          0.31625781625781624,
          0.31673881673881676,
          0.31746031746031744,
          0.3189033189033189,
          0.3193843193843194,
          0.32154882154882153,
          0.32227032227032226,
          0.3225108225108225,
          0.322991822991823,
          0.32323232323232326,
          0.3241943241943242,
          0.32491582491582494,
          0.3256373256373256,
          0.3270803270803271,
          0.3278018278018278,
          0.3282828282828283,
          0.32924482924482923,
          0.3297258297258297,
          0.33044733044733043,
          0.33116883116883117,
          0.33164983164983164,
          0.3318903318903319,
          0.3323713323713324,
          0.33381433381433384,
          0.3342953342953343,
          0.33525733525733525,
          0.3362193362193362,
          0.3367003367003367,
          0.3379028379028379,
          0.3383838383838384,
          0.3398268398268398,
          0.34054834054834054,
          0.341029341029341,
          0.34175084175084175,
          0.34295334295334295,
          0.3439153439153439,
          0.34463684463684463,
          0.3451178451178451,
          0.3460798460798461,
          0.34656084656084657,
          0.34704184704184704,
          0.3472823472823473,
          0.3477633477633478,
          0.34824434824434825,
          0.3492063492063492,
          0.3501683501683502,
          0.35088985088985086,
          0.35185185185185186,
          0.3525733525733526,
          0.3528138528138528,
          0.3532948532948533,
          0.354016354016354,
          0.3544973544973545,
          0.35473785473785474,
          0.35618085618085615,
          0.3564213564213564,
          0.3569023569023569,
          0.35714285714285715,
          0.3581048581048581,
          0.3593073593073593,
          0.35978835978835977,
          0.36002886002886003,
          0.36123136123136124,
          0.3621933621933622,
          0.36267436267436265,
          0.3629148629148629,
          0.36363636363636365,
          0.3645983645983646,
          0.3653198653198653,
          0.3667628667628668,
          0.36748436748436747,
          0.36796536796536794,
          0.3686868686868687,
          0.3694083694083694,
          0.3698893698893699,
          0.3706108706108706,
          0.37133237133237135,
          0.37157287157287155,
          0.3720538720538721,
          0.3722943722943723,
          0.37277537277537276,
          0.3759018759018759,
          0.3763828763828764,
          0.3771043771043771,
          0.3775853775853776,
          0.3787878787878788,
          0.3795093795093795,
          0.3807118807118807,
          0.38215488215488214,
          0.38263588263588266,
          0.3835978835978836,
          0.38552188552188554,
          0.3862433862433862,
          0.38816738816738816,
          0.38864838864838863,
          0.3888888888888889,
          0.38936988936988937,
          0.38961038961038963,
          0.3900913900913901,
          0.39105339105339104,
          0.3915343915343915,
          0.39201539201539204,
          0.3924963924963925,
          0.3927368927368927,
          0.3949013949013949,
          0.3953823953823954,
          0.39586339586339586,
          0.39634439634439633,
          0.39730639730639733,
          0.3977873977873978,
          0.39850889850889853,
          0.398989898989899,
          0.4001924001924002,
          0.4009139009139009,
          0.4013949013949014,
          0.4016354016354016,
          0.4021164021164021,
          0.40283790283790283,
          0.40355940355940356,
          0.4037999037999038,
          0.4078884078884079,
          0.4083694083694084,
          0.4090909090909091,
          0.4095719095719096,
          0.41149591149591147,
          0.4122174122174122,
          0.4126984126984127,
          0.4131794131794132,
          0.4143819143819144,
          0.4151034151034151,
          0.4163059163059163,
          0.41678691678691676,
          0.4196729196729197,
          0.4211159211159211,
          0.4223184223184223,
          0.4227994227994228,
          0.4237614237614238,
          0.42448292448292446,
          0.424963924963925,
          0.42568542568542567,
          0.4261664261664262,
          0.4264069264069264,
          0.42688792688792687,
          0.42833092833092834,
          0.4292929292929293,
          0.43001443001443,
          0.4304954304954305,
          0.43193843193843195,
          0.4324194324194324,
          0.4329004329004329,
          0.43338143338143337,
          0.43386243386243384,
          0.43434343434343436,
          0.4365079365079365,
          0.43987493987493986,
          0.44035594035594033,
          0.44083694083694086,
          0.44107744107744107,
          0.44155844155844154,
          0.4434824434824435,
          0.44396344396344395,
          0.4442039442039442,
          0.44733044733044736,
          0.44757094757094756,
          0.4482924482924483,
          0.4485329485329485,
          0.44901394901394903,
          0.44997594997595,
          0.4506974506974507,
          0.4523809523809524,
          0.45286195286195285,
          0.4535834535834536,
          0.45406445406445406,
          0.45454545454545453,
          0.455026455026455,
          0.4583934583934584,
          0.45935545935545935,
          0.4598364598364598,
          0.4607984607984608,
          0.4615199615199615,
          0.462000962000962,
          0.4627224627224627,
          0.46320346320346323,
          0.46344396344396344,
          0.46440596440596443,
          0.4665704665704666,
          0.46705146705146705,
          0.4672919672919673,
          0.4687349687349687,
          0.468975468975469,
          0.46945646945646946,
          0.46993746993746993,
          0.4704184704184704,
          0.4728234728234728,
          0.4737854737854738,
          0.474025974025974,
          0.4745069745069745,
          0.474987974987975,
          0.4754689754689755,
          0.47715247715247716,
          0.4778739778739779,
          0.4781144781144781,
          0.4790764790764791,
          0.4797979797979798,
          0.4802789802789803,
          0.48148148148148145,
          0.4822029822029822,
          0.48412698412698413,
          0.48508898508898507,
          0.48532948532948533,
          0.48797498797498795,
          0.4884559884559885,
          0.48893698893698895,
          0.4896584896584897,
          0.4911014911014911,
          0.49158249158249157,
          0.4923039923039923,
          0.49567099567099565,
          0.4963924963924964,
          0.4973544973544973,
          0.49783549783549785,
          0.49855699855699853,
          0.4987974987974988,
          0.5002405002405003,
          0.5004810004810005,
          0.5012025012025012,
          0.5028860028860029,
          0.5033670033670034,
          0.5057720057720058,
          0.506012506012506,
          0.5064935064935064,
          0.5108225108225108,
          0.5127465127465127,
          0.5132275132275133,
          0.5134680134680135,
          0.5139490139490139,
          0.5141895141895142,
          0.5161135161135161,
          0.517075517075517,
          0.5175565175565175,
          0.5177970177970178,
          0.5182780182780182,
          0.5185185185185185,
          0.518999518999519,
          0.5206830206830206,
          0.5226070226070226,
          0.5242905242905243,
          0.525012025012025,
          0.5269360269360269,
          0.5276575276575276,
          0.5286195286195287,
          0.53006253006253,
          0.5305435305435305,
          0.5307840307840308,
          0.5317460317460317,
          0.5324675324675324,
          0.5341510341510342,
          0.5353535353535354,
          0.536075036075036,
          0.5363155363155363,
          0.5367965367965368,
          0.5404040404040404,
          0.5408850408850409,
          0.5418470418470418,
          0.5423280423280423,
          0.5442520442520442,
          0.5447330447330447,
          0.5459355459355459,
          0.5464165464165465,
          0.5471380471380471,
          0.5476190476190477,
          0.5481000481000481,
          0.549062049062049,
          0.55002405002405,
          0.5502645502645502,
          0.5529100529100529,
          0.5543530543530544,
          0.5548340548340548,
          0.5553150553150553,
          0.5557960557960558,
          0.5572390572390572,
          0.5577200577200577,
          0.557960557960558,
          0.5586820586820587,
          0.5596440596440596,
          0.5601250601250601,
          0.5613275613275613,
          0.563011063011063,
          0.5634920634920635,
          0.563973063973064,
          0.5644540644540644,
          0.5654160654160654,
          0.5658970658970659,
          0.5661375661375662,
          0.5666185666185666,
          0.5687830687830688,
          0.5697450697450698,
          0.5714285714285714,
          0.5721500721500722,
          0.5723905723905723,
          0.5728715728715729,
          0.5738335738335738,
          0.5743145743145743,
          0.5745550745550746,
          0.5755170755170755,
          0.575998075998076,
          0.5774410774410774,
          0.577922077922078,
          0.5781625781625782,
          0.5786435786435786,
          0.5793650793650794,
          0.5798460798460798,
          0.5803270803270804,
          0.5808080808080808,
          0.5815295815295816,
          0.5824915824915825,
          0.5836940836940837,
          0.5841750841750841,
          0.5848965848965849,
          0.5858585858585859,
          0.5860990860990861,
          0.5865800865800865,
          0.5868205868205868,
          0.5873015873015873,
          0.588985088985089,
          0.5894660894660895,
          0.58994708994709,
          0.5901875901875901,
          0.5906685906685907,
          0.5913900913900914,
          0.5918710918710919,
          0.5928330928330928,
          0.5935545935545935,
          0.5942760942760943,
          0.5947570947570947,
          0.594997594997595,
          0.5957190957190958,
          0.5966810966810967,
          0.5971620971620971,
          0.5990860990860991,
          0.5993265993265994,
          0.6000481000481,
          0.6002886002886003,
          0.6012506012506013,
          0.6036556036556037,
          0.6038961038961039,
          0.6043771043771043,
          0.6053391053391053,
          0.6060606060606061,
          0.6065416065416065,
          0.607022607022607,
          0.607984607984608,
          0.6084656084656085,
          0.60990860990861,
          0.6103896103896104,
          0.6106301106301106,
          0.6120731120731121,
          0.6132756132756133,
          0.613997113997114,
          0.6164021164021164,
          0.6166426166426167,
          0.6178451178451179,
          0.6180856180856181,
          0.6185666185666185,
          0.6204906204906205,
          0.6212121212121212,
          0.6214526214526215,
          0.6226551226551227,
          0.6238576238576239,
          0.626984126984127,
          0.6281866281866282,
          0.6289081289081289,
          0.6298701298701299,
          0.6308321308321309,
          0.6317941317941318,
          0.6325156325156325,
          0.632996632996633,
          0.6339586339586339,
          0.6358826358826358,
          0.6368446368446369,
          0.6373256373256373,
          0.6378066378066378,
          0.6382876382876382,
          0.6397306397306397,
          0.6409331409331409,
          0.6418951418951419,
          0.6430976430976431,
          0.6440596440596441,
          0.6445406445406445,
          0.6452621452621453,
          0.6462241462241463,
          0.6469456469456469,
          0.6479076479076479,
          0.6481481481481481,
          0.6493506493506493,
          0.6498316498316499,
          0.6505531505531505,
          0.6515151515151515,
          0.6524771524771524,
          0.6544011544011544,
          0.6553631553631554,
          0.6563251563251563,
          0.6565656565656566,
          0.6572871572871573,
          0.6575276575276575,
          0.6584896584896585,
          0.658970658970659,
          0.6594516594516594,
          0.6596921596921597,
          0.6601731601731602,
          0.6613756613756614,
          0.6623376623376623,
          0.6625781625781626,
          0.6642616642616642,
          0.664983164983165,
          0.665945165945166,
          0.6678691678691678,
          0.6683501683501684,
          0.669071669071669,
          0.6695526695526696,
          0.6707551707551708,
          0.6714766714766714,
          0.6736411736411736,
          0.6743626743626744,
          0.6753246753246753,
          0.676046176046176,
          0.6770081770081771,
          0.677970177970178,
          0.6782106782106783,
          0.6791726791726792,
          0.6801346801346801,
          0.6810966810966811,
          0.683020683020683,
          0.6835016835016835,
          0.6842231842231842,
          0.6847041847041847,
          0.6856661856661856,
          0.6916786916786917,
          0.6921596921596922,
          0.6933621933621934,
          0.6943241943241943,
          0.696969696969697,
          0.6974506974506974,
          0.6981721981721982,
          0.6991341991341992,
          0.6993746993746994,
          0.6998556998556998,
          0.7000962000962001,
          0.7005772005772006,
          0.701058201058201,
          0.7015392015392016,
          0.702020202020202,
          0.7025012025012025,
          0.7032227032227032,
          0.7037037037037037,
          0.7058682058682059,
          0.7063492063492064,
          0.7068302068302068,
          0.7087542087542088,
          0.7147667147667147,
          0.7162097162097162,
          0.7171717171717171,
          0.7174122174122174,
          0.7183742183742183,
          0.7186147186147186,
          0.7190957190957191,
          0.7198172198172198,
          0.7202982202982203,
          0.7212602212602213,
          0.721981721981722,
          0.7224627224627225,
          0.7227032227032227,
          0.7239057239057239,
          0.7243867243867244,
          0.7246272246272246,
          0.7255892255892256,
          0.7263107263107264,
          0.7272727272727273,
          0.7284752284752285,
          0.7291967291967292,
          0.7303992303992304,
          0.7313612313612313,
          0.7318422318422318,
          0.7323232323232324,
          0.7332852332852333,
          0.7337662337662337,
          0.7366522366522367,
          0.7368927368927369,
          0.7373737373737373,
          0.7376142376142376,
          0.7380952380952381,
          0.7383357383357383,
          0.7388167388167388,
          0.7390572390572391,
          0.7397787397787398,
          0.7402597402597403,
          0.7414622414622415,
          0.7419432419432419,
          0.742905242905243,
          0.7436267436267436,
          0.7448292448292448,
          0.7450697450697451,
          0.746031746031746,
          0.7462722462722463,
          0.746993746993747,
          0.7508417508417509,
          0.7515632515632515,
          0.7534872534872535,
          0.753968253968254,
          0.7549302549302549,
          0.7556517556517557,
          0.7561327561327561,
          0.7566137566137566,
          0.7573352573352573,
          0.7578162578162578,
          0.7582972582972582,
          0.7592592592592593,
          0.7594997594997595,
          0.7602212602212602,
          0.7609427609427609,
          0.7619047619047619,
          0.7640692640692641,
          0.7645502645502645,
          0.7647907647907648,
          0.7655122655122655,
          0.765993265993266,
          0.7664742664742664,
          0.7667147667147667,
          0.7671957671957672,
          0.7693602693602694,
          0.7703222703222703,
          0.7705627705627706,
          0.7710437710437711,
          0.7712842712842712,
          0.7744107744107744,
          0.7748917748917749,
          0.7753727753727754,
          0.7768157768157768,
          0.778980278980279,
          0.7811447811447811,
          0.7825877825877826,
          0.7828282828282829,
          0.7835497835497836,
          0.784992784992785,
          0.7854737854737854,
          0.785954785954786,
          0.7864357864357865,
          0.7869167869167869,
          0.7873977873977874,
          0.7881192881192881,
          0.7898027898027898,
          0.7902837902837903,
          0.791967291967292,
          0.7924482924482924,
          0.7929292929292929,
          0.7934102934102935,
          0.7948532948532948,
          0.7950937950937951,
          0.796055796055796,
          0.7962962962962963,
          0.7967772967772968,
          0.7970177970177971,
          0.7974987974987975,
          0.7987012987012987,
          0.7991822991822992,
          0.8008658008658008,
          0.8013468013468014,
          0.8023088023088023,
          0.8027898027898028,
          0.8044733044733045,
          0.804954304954305,
          0.8063973063973064,
          0.8071188071188071,
          0.8075998075998077,
          0.8078403078403078,
          0.8092833092833093,
          0.8095238095238095,
          0.81000481000481,
          0.8102453102453102,
          0.8116883116883117,
          0.8124098124098124,
          0.8131313131313131,
          0.8140933140933141,
          0.8145743145743146,
          0.8157768157768158,
          0.8162578162578162,
          0.8167388167388168,
          0.816979316979317,
          0.8174603174603174,
          0.817941317941318,
          0.8184223184223184,
          0.8186628186628186,
          0.8191438191438192,
          0.8193843193843194,
          0.8201058201058201,
          0.8210678210678211,
          0.8225108225108225,
          0.8229918229918229,
          0.8234728234728235,
          0.830928330928331,
          0.8316498316498316,
          0.8335738335738335,
          0.8342953342953343,
          0.8359788359788359,
          0.8374218374218374,
          0.8383838383838383,
          0.8393458393458394,
          0.8403078403078403,
          0.841029341029341,
          0.8417508417508418,
          0.8422318422318422,
          0.8427128427128427,
          0.843915343915344,
          0.8443963443963444,
          0.8446368446368446,
          0.8451178451178452,
          0.8455988455988456,
          0.8460798460798461,
          0.8465608465608465,
          0.8482443482443482,
          0.8487253487253488,
          0.8492063492063492,
          0.84992784992785,
          0.8513708513708513,
          0.8520923520923521,
          0.8530543530543531,
          0.8532948532948533,
          0.8537758537758537,
          0.8547378547378547,
          0.8554593554593555,
          0.8569023569023569,
          0.8576238576238576,
          0.8581048581048581,
          0.8583453583453583,
          0.8588263588263588,
          0.8595478595478595,
          0.8619528619528619,
          0.8624338624338624,
          0.8643578643578643,
          0.8645983645983646,
          0.8662818662818663,
          0.867003367003367,
          0.8674843674843675,
          0.8677248677248677,
          0.8682058682058682,
          0.8684463684463685,
          0.8691678691678691,
          0.8696488696488697,
          0.8703703703703703,
          0.8845598845598845,
          0.8850408850408851,
          0.8864838864838864,
          0.8898508898508899,
          0.89009139009139,
          0.8905723905723906,
          0.8908128908128908,
          0.8922558922558923,
          0.892977392977393,
          0.8936988936988937,
          0.8939393939393939,
          0.8944203944203944,
          0.8946608946608947,
          0.8951418951418951,
          0.898989898989899,
          0.8994708994708994,
          0.8999518999519,
          0.9004329004329005,
          0.9011544011544012,
          0.9021164021164021,
          0.9025974025974026,
          0.9035594035594036,
          0.9047619047619048,
          0.9052429052429053,
          0.9054834054834054,
          0.9066859066859067,
          0.9071669071669072,
          0.9081289081289081,
          0.9088504088504088,
          0.9095719095719096,
          0.9112554112554112,
          0.9114959114959115,
          0.9136604136604136,
          0.9153439153439153,
          0.9163059163059163,
          0.9167869167869168,
          0.9172679172679172,
          0.9187109187109187,
          0.9196729196729196,
          0.9199134199134199,
          0.9206349206349206,
          0.9215969215969216,
          0.9232804232804233,
          0.9237614237614238,
          0.924001924001924,
          0.9256854256854257,
          0.9261664261664262,
          0.9271284271284271,
          0.9273689273689274,
          0.9280904280904281,
          0.9285714285714286,
          0.9288119288119289,
          0.9297739297739298,
          0.9329004329004329,
          0.9417989417989417,
          0.942039442039442,
          0.943001443001443,
          0.9434824434824435,
          0.943963443963444,
          0.9504569504569504,
          0.9516594516594516,
          0.9523809523809523,
          0.9526214526214526,
          0.9552669552669553,
          0.9555074555074555,
          0.9581529581529582,
          0.9583934583934584,
          0.9593554593554594,
          0.9603174603174603,
          0.9607984607984608,
          0.9617604617604618,
          0.962000962000962,
          0.9627224627224628,
          0.9632034632034632,
          0.9653679653679653,
          0.9665704665704665,
          0.9675324675324676,
          0.9708994708994709,
          0.9737854737854738,
          0.9742664742664743,
          0.9783549783549783,
          0.9793169793169794,
          0.98003848003848,
          0.9824434824434825,
          0.9831649831649831,
          0.9867724867724867,
          0.9877344877344877,
          0.9882154882154882,
          0.9896584896584897,
          0.9911014911014911,
          0.9920634920634921,
          0.9935064935064936,
          0.9937469937469937,
          0.9947089947089947,
          0.9949494949494949,
          0.9968734968734969,
          0.9983164983164983,
          0.9987974987974988,
          0.9995189995189995,
          1
         ]
        },
        {
         "mode": "lines",
         "name": "test",
         "type": "scatter",
         "x": [
          0,
          0.023809523809523808,
          0.09523809523809523,
          0.09523809523809523,
          0.14285714285714285,
          0.14285714285714285,
          0.23809523809523808,
          0.23809523809523808,
          0.2857142857142857,
          0.2857142857142857,
          0.30952380952380953,
          0.30952380952380953,
          0.35714285714285715,
          0.35714285714285715,
          0.47619047619047616,
          0.47619047619047616,
          0.47619047619047616,
          0.47619047619047616,
          0.5476190476190477,
          0.5476190476190477,
          0.5714285714285714,
          0.5714285714285714,
          0.5952380952380952,
          0.5952380952380952,
          0.5952380952380952,
          0.5952380952380952,
          0.6190476190476191,
          0.6190476190476191,
          0.6428571428571429,
          0.6428571428571429,
          0.6428571428571429,
          0.6428571428571429,
          0.6428571428571429,
          0.6428571428571429,
          0.6666666666666666,
          0.6666666666666666,
          0.6904761904761905,
          0.6904761904761905,
          0.6904761904761905,
          0.6904761904761905,
          0.6904761904761905,
          0.6904761904761905,
          0.7142857142857143,
          0.7142857142857143,
          0.7142857142857143,
          0.7142857142857143,
          0.7380952380952381,
          0.7380952380952381,
          0.7380952380952381,
          0.7380952380952381,
          0.7380952380952381,
          0.7380952380952381,
          0.7380952380952381,
          0.7380952380952381,
          0.7380952380952381,
          0.7380952380952381,
          0.7619047619047619,
          0.7619047619047619,
          0.7619047619047619,
          0.7619047619047619,
          0.7619047619047619,
          0.7619047619047619,
          0.7619047619047619,
          0.7619047619047619,
          0.7619047619047619,
          0.7619047619047619,
          0.7619047619047619,
          0.7619047619047619,
          0.7619047619047619,
          0.7619047619047619,
          0.7619047619047619,
          0.7619047619047619,
          0.7619047619047619,
          0.7619047619047619,
          0.7619047619047619,
          0.7619047619047619,
          0.7619047619047619,
          0.7857142857142857,
          0.7857142857142857,
          0.7857142857142857,
          0.7857142857142857,
          0.8095238095238095,
          0.8095238095238095,
          0.8095238095238095,
          0.8095238095238095,
          0.8333333333333334,
          0.8333333333333334,
          0.8333333333333334,
          0.8333333333333334,
          0.8333333333333334,
          0.8333333333333334,
          0.8333333333333334,
          0.8333333333333334,
          0.8333333333333334,
          0.8333333333333334,
          0.8333333333333334,
          0.8333333333333334,
          0.8333333333333334,
          0.8333333333333334,
          0.8333333333333334,
          0.8333333333333334,
          0.8333333333333334,
          0.8333333333333334,
          0.8333333333333334,
          0.8333333333333334,
          0.8333333333333334,
          0.8333333333333334,
          0.8333333333333334,
          0.8333333333333334,
          0.8571428571428571,
          0.8571428571428571,
          0.8571428571428571,
          0.8571428571428571,
          0.8571428571428571,
          0.8571428571428571,
          0.8571428571428571,
          0.8571428571428571,
          0.8571428571428571,
          0.8571428571428571,
          0.8571428571428571,
          0.8571428571428571,
          0.8571428571428571,
          0.8571428571428571,
          0.8571428571428571,
          0.8571428571428571,
          0.8571428571428571,
          0.8571428571428571,
          0.8571428571428571,
          0.8571428571428571,
          0.8571428571428571,
          0.8809523809523809,
          0.8809523809523809,
          0.8809523809523809,
          0.8809523809523809,
          0.8809523809523809,
          0.8809523809523809,
          0.8809523809523809,
          0.8809523809523809,
          0.9047619047619048,
          0.9047619047619048,
          0.9047619047619048,
          0.9047619047619048,
          0.9047619047619048,
          0.9285714285714286,
          0.9285714285714286,
          0.9285714285714286,
          0.9285714285714286,
          0.9285714285714286,
          0.9285714285714286,
          0.9285714285714286,
          0.9285714285714286,
          0.9285714285714286,
          0.9285714285714286,
          0.9285714285714286,
          0.9285714285714286,
          0.9285714285714286,
          0.9285714285714286,
          0.9285714285714286,
          0.9285714285714286,
          0.9285714285714286,
          0.9285714285714286,
          0.9285714285714286,
          0.9285714285714286,
          0.9285714285714286,
          0.9285714285714286,
          0.9285714285714286,
          0.9285714285714286,
          0.9285714285714286,
          0.9285714285714286,
          0.9285714285714286,
          0.9285714285714286,
          0.9285714285714286,
          0.9285714285714286,
          0.9285714285714286,
          0.9285714285714286,
          0.9285714285714286,
          0.9285714285714286,
          0.9285714285714286,
          0.9285714285714286,
          0.9285714285714286,
          0.9285714285714286,
          0.9285714285714286,
          0.9285714285714286,
          0.9285714285714286,
          0.9285714285714286,
          0.9285714285714286,
          0.9285714285714286,
          0.9285714285714286,
          0.9285714285714286,
          0.9285714285714286,
          0.9285714285714286,
          0.9285714285714286,
          0.9285714285714286,
          0.9285714285714286,
          0.9285714285714286,
          0.9285714285714286,
          0.9285714285714286,
          0.9285714285714286,
          0.9285714285714286,
          0.9285714285714286,
          0.9285714285714286,
          0.9523809523809523,
          0.9523809523809523,
          0.9523809523809523,
          0.9523809523809523,
          0.9523809523809523,
          0.9523809523809523,
          0.9523809523809523,
          0.9523809523809523,
          0.9523809523809523,
          0.9523809523809523,
          0.9523809523809523,
          0.9523809523809523,
          0.9523809523809523,
          0.9523809523809523,
          0.9523809523809523,
          0.9523809523809523,
          0.9523809523809523,
          0.9523809523809523,
          0.9523809523809523,
          0.9523809523809523,
          0.9523809523809523,
          0.9523809523809523,
          0.9523809523809523,
          0.9523809523809523,
          0.9523809523809523,
          0.9523809523809523,
          0.9523809523809523,
          0.9523809523809523,
          0.9523809523809523,
          0.9523809523809523,
          0.9523809523809523,
          0.9523809523809523,
          0.9523809523809523,
          0.9761904761904762,
          0.9761904761904762,
          0.9761904761904762,
          0.9761904761904762,
          0.9761904761904762,
          0.9761904761904762,
          0.9761904761904762,
          0.9761904761904762,
          0.9761904761904762,
          0.9761904761904762,
          0.9761904761904762,
          0.9761904761904762,
          0.9761904761904762,
          0.9761904761904762,
          0.9761904761904762,
          0.9761904761904762,
          1,
          1,
          1,
          1,
          1,
          1,
          1,
          1,
          1
         ],
         "y": [
          0,
          0,
          0,
          0.0009615384615384616,
          0.0009615384615384616,
          0.0019230769230769232,
          0.0019230769230769232,
          0.0028846153846153848,
          0.0028846153846153848,
          0.0038461538461538464,
          0.0038461538461538464,
          0.004807692307692308,
          0.004807692307692308,
          0.006730769230769231,
          0.006730769230769231,
          0.013461538461538462,
          0.015384615384615385,
          0.016346153846153847,
          0.016346153846153847,
          0.025,
          0.025,
          0.025961538461538463,
          0.025961538461538463,
          0.038461538461538464,
          0.041346153846153845,
          0.0625,
          0.0625,
          0.06923076923076923,
          0.06923076923076923,
          0.07115384615384615,
          0.075,
          0.07788461538461539,
          0.0798076923076923,
          0.08557692307692308,
          0.08557692307692308,
          0.09615384615384616,
          0.09711538461538462,
          0.10576923076923077,
          0.1076923076923077,
          0.15,
          0.1519230769230769,
          0.1798076923076923,
          0.1798076923076923,
          0.19134615384615383,
          0.19326923076923078,
          0.2,
          0.2,
          0.2230769230769231,
          0.225,
          0.2375,
          0.2403846153846154,
          0.2519230769230769,
          0.25384615384615383,
          0.28557692307692306,
          0.2875,
          0.2923076923076923,
          0.2923076923076923,
          0.29903846153846153,
          0.30096153846153845,
          0.30480769230769234,
          0.30673076923076925,
          0.3076923076923077,
          0.3096153846153846,
          0.31346153846153846,
          0.3153846153846154,
          0.32019230769230766,
          0.32211538461538464,
          0.33557692307692305,
          0.3375,
          0.34423076923076923,
          0.34615384615384615,
          0.3471153846153846,
          0.3490384615384615,
          0.35192307692307695,
          0.3528846153846154,
          0.3557692307692308,
          0.3576923076923077,
          0.3576923076923077,
          0.3605769230769231,
          0.36346153846153845,
          0.37115384615384617,
          0.3721153846153846,
          0.3730769230769231,
          0.375,
          0.37884615384615383,
          0.37884615384615383,
          0.3798076923076923,
          0.38269230769230766,
          0.3894230769230769,
          0.39326923076923076,
          0.3971153846153846,
          0.40192307692307694,
          0.40673076923076923,
          0.40865384615384615,
          0.4173076923076923,
          0.41923076923076924,
          0.4221153846153846,
          0.42596153846153845,
          0.4269230769230769,
          0.4288461538461538,
          0.4375,
          0.4394230769230769,
          0.4423076923076923,
          0.44519230769230766,
          0.4567307692307692,
          0.45865384615384613,
          0.4653846153846154,
          0.46826923076923077,
          0.47692307692307695,
          0.47692307692307695,
          0.47884615384615387,
          0.4826923076923077,
          0.48365384615384616,
          0.4855769230769231,
          0.4971153846153846,
          0.5,
          0.5048076923076923,
          0.5067307692307692,
          0.5096153846153846,
          0.5173076923076924,
          0.5201923076923077,
          0.5221153846153846,
          0.5230769230769231,
          0.5259615384615385,
          0.5490384615384616,
          0.5509615384615385,
          0.551923076923077,
          0.5548076923076923,
          0.5567307692307693,
          0.5586538461538462,
          0.5596153846153846,
          0.5682692307692307,
          0.5701923076923077,
          0.5788461538461539,
          0.5807692307692308,
          0.5865384615384616,
          0.5884615384615385,
          0.5894230769230769,
          0.5903846153846154,
          0.5923076923076923,
          0.5951923076923077,
          0.5990384615384615,
          0.6057692307692307,
          0.6057692307692307,
          0.6201923076923077,
          0.6230769230769231,
          0.6288461538461538,
          0.6567307692307692,
          0.6605769230769231,
          0.6644230769230769,
          0.6711538461538461,
          0.6788461538461539,
          0.6807692307692308,
          0.6836538461538462,
          0.6855769230769231,
          0.6884615384615385,
          0.6903846153846154,
          0.6961538461538461,
          0.698076923076923,
          0.7,
          0.7028846153846153,
          0.7048076923076924,
          0.7067307692307693,
          0.7086538461538462,
          0.7105769230769231,
          0.7125,
          0.7144230769230769,
          0.7201923076923077,
          0.7221153846153846,
          0.7278846153846154,
          0.7288461538461538,
          0.7307692307692307,
          0.7326923076923076,
          0.7346153846153847,
          0.7403846153846154,
          0.7423076923076923,
          0.7442307692307693,
          0.7461538461538462,
          0.7471153846153846,
          0.7509615384615385,
          0.7519230769230769,
          0.7548076923076923,
          0.7567307692307692,
          0.7615384615384615,
          0.7653846153846153,
          0.7682692307692308,
          0.7711538461538462,
          0.7721153846153846,
          0.7740384615384616,
          0.7759615384615385,
          0.7778846153846154,
          0.7817307692307692,
          0.7836538461538461,
          0.7855769230769231,
          0.7884615384615384,
          0.7942307692307692,
          0.7961538461538461,
          0.7980769230769231,
          0.8009615384615385,
          0.8057692307692308,
          0.8144230769230769,
          0.8173076923076923,
          0.8384615384615385,
          0.8442307692307692,
          0.8480769230769231,
          0.85,
          0.8509615384615384,
          0.8557692307692307,
          0.8586538461538461,
          0.8721153846153846,
          0.8730769230769231,
          0.8759615384615385,
          0.8769230769230769,
          0.8807692307692307,
          0.8846153846153846,
          0.8884615384615384,
          0.8903846153846153,
          0.8913461538461539,
          0.8932692307692308,
          0.8942307692307693,
          0.8971153846153846,
          0.8990384615384616,
          0.9019230769230769,
          0.9028846153846154,
          0.9057692307692308,
          0.9067307692307692,
          0.9096153846153846,
          0.9163461538461538,
          0.9182692307692307,
          0.9201923076923076,
          0.9230769230769231,
          0.925,
          0.9278846153846154,
          0.9288461538461539,
          0.9326923076923077,
          0.9336538461538462,
          0.9355769230769231,
          0.9423076923076923,
          0.9451923076923077,
          0.9461538461538461,
          0.948076923076923,
          0.95,
          0.9567307692307693,
          0.9586538461538462,
          0.9615384615384616,
          0.9634615384615385,
          0.9682692307692308,
          0.9692307692307692,
          0.9721153846153846,
          0.9730769230769231,
          0.9788461538461538,
          0.9798076923076923,
          0.9836538461538461,
          0.9846153846153847,
          0.9865384615384616,
          0.9884615384615385,
          0.9913461538461539,
          0.9971153846153846,
          1
         ]
        }
       ],
       "layout": {
        "template": {
         "data": {
          "bar": [
           {
            "error_x": {
             "color": "#2a3f5f"
            },
            "error_y": {
             "color": "#2a3f5f"
            },
            "marker": {
             "line": {
              "color": "#E5ECF6",
              "width": 0.5
             },
             "pattern": {
              "fillmode": "overlay",
              "size": 10,
              "solidity": 0.2
             }
            },
            "type": "bar"
           }
          ],
          "barpolar": [
           {
            "marker": {
             "line": {
              "color": "#E5ECF6",
              "width": 0.5
             },
             "pattern": {
              "fillmode": "overlay",
              "size": 10,
              "solidity": 0.2
             }
            },
            "type": "barpolar"
           }
          ],
          "carpet": [
           {
            "aaxis": {
             "endlinecolor": "#2a3f5f",
             "gridcolor": "white",
             "linecolor": "white",
             "minorgridcolor": "white",
             "startlinecolor": "#2a3f5f"
            },
            "baxis": {
             "endlinecolor": "#2a3f5f",
             "gridcolor": "white",
             "linecolor": "white",
             "minorgridcolor": "white",
             "startlinecolor": "#2a3f5f"
            },
            "type": "carpet"
           }
          ],
          "choropleth": [
           {
            "colorbar": {
             "outlinewidth": 0,
             "ticks": ""
            },
            "type": "choropleth"
           }
          ],
          "contour": [
           {
            "colorbar": {
             "outlinewidth": 0,
             "ticks": ""
            },
            "colorscale": [
             [
              0,
              "#0d0887"
             ],
             [
              0.1111111111111111,
              "#46039f"
             ],
             [
              0.2222222222222222,
              "#7201a8"
             ],
             [
              0.3333333333333333,
              "#9c179e"
             ],
             [
              0.4444444444444444,
              "#bd3786"
             ],
             [
              0.5555555555555556,
              "#d8576b"
             ],
             [
              0.6666666666666666,
              "#ed7953"
             ],
             [
              0.7777777777777778,
              "#fb9f3a"
             ],
             [
              0.8888888888888888,
              "#fdca26"
             ],
             [
              1,
              "#f0f921"
             ]
            ],
            "type": "contour"
           }
          ],
          "contourcarpet": [
           {
            "colorbar": {
             "outlinewidth": 0,
             "ticks": ""
            },
            "type": "contourcarpet"
           }
          ],
          "heatmap": [
           {
            "colorbar": {
             "outlinewidth": 0,
             "ticks": ""
            },
            "colorscale": [
             [
              0,
              "#0d0887"
             ],
             [
              0.1111111111111111,
              "#46039f"
             ],
             [
              0.2222222222222222,
              "#7201a8"
             ],
             [
              0.3333333333333333,
              "#9c179e"
             ],
             [
              0.4444444444444444,
              "#bd3786"
             ],
             [
              0.5555555555555556,
              "#d8576b"
             ],
             [
              0.6666666666666666,
              "#ed7953"
             ],
             [
              0.7777777777777778,
              "#fb9f3a"
             ],
             [
              0.8888888888888888,
              "#fdca26"
             ],
             [
              1,
              "#f0f921"
             ]
            ],
            "type": "heatmap"
           }
          ],
          "heatmapgl": [
           {
            "colorbar": {
             "outlinewidth": 0,
             "ticks": ""
            },
            "colorscale": [
             [
              0,
              "#0d0887"
             ],
             [
              0.1111111111111111,
              "#46039f"
             ],
             [
              0.2222222222222222,
              "#7201a8"
             ],
             [
              0.3333333333333333,
              "#9c179e"
             ],
             [
              0.4444444444444444,
              "#bd3786"
             ],
             [
              0.5555555555555556,
              "#d8576b"
             ],
             [
              0.6666666666666666,
              "#ed7953"
             ],
             [
              0.7777777777777778,
              "#fb9f3a"
             ],
             [
              0.8888888888888888,
              "#fdca26"
             ],
             [
              1,
              "#f0f921"
             ]
            ],
            "type": "heatmapgl"
           }
          ],
          "histogram": [
           {
            "marker": {
             "pattern": {
              "fillmode": "overlay",
              "size": 10,
              "solidity": 0.2
             }
            },
            "type": "histogram"
           }
          ],
          "histogram2d": [
           {
            "colorbar": {
             "outlinewidth": 0,
             "ticks": ""
            },
            "colorscale": [
             [
              0,
              "#0d0887"
             ],
             [
              0.1111111111111111,
              "#46039f"
             ],
             [
              0.2222222222222222,
              "#7201a8"
             ],
             [
              0.3333333333333333,
              "#9c179e"
             ],
             [
              0.4444444444444444,
              "#bd3786"
             ],
             [
              0.5555555555555556,
              "#d8576b"
             ],
             [
              0.6666666666666666,
              "#ed7953"
             ],
             [
              0.7777777777777778,
              "#fb9f3a"
             ],
             [
              0.8888888888888888,
              "#fdca26"
             ],
             [
              1,
              "#f0f921"
             ]
            ],
            "type": "histogram2d"
           }
          ],
          "histogram2dcontour": [
           {
            "colorbar": {
             "outlinewidth": 0,
             "ticks": ""
            },
            "colorscale": [
             [
              0,
              "#0d0887"
             ],
             [
              0.1111111111111111,
              "#46039f"
             ],
             [
              0.2222222222222222,
              "#7201a8"
             ],
             [
              0.3333333333333333,
              "#9c179e"
             ],
             [
              0.4444444444444444,
              "#bd3786"
             ],
             [
              0.5555555555555556,
              "#d8576b"
             ],
             [
              0.6666666666666666,
              "#ed7953"
             ],
             [
              0.7777777777777778,
              "#fb9f3a"
             ],
             [
              0.8888888888888888,
              "#fdca26"
             ],
             [
              1,
              "#f0f921"
             ]
            ],
            "type": "histogram2dcontour"
           }
          ],
          "mesh3d": [
           {
            "colorbar": {
             "outlinewidth": 0,
             "ticks": ""
            },
            "type": "mesh3d"
           }
          ],
          "parcoords": [
           {
            "line": {
             "colorbar": {
              "outlinewidth": 0,
              "ticks": ""
             }
            },
            "type": "parcoords"
           }
          ],
          "pie": [
           {
            "automargin": true,
            "type": "pie"
           }
          ],
          "scatter": [
           {
            "fillpattern": {
             "fillmode": "overlay",
             "size": 10,
             "solidity": 0.2
            },
            "type": "scatter"
           }
          ],
          "scatter3d": [
           {
            "line": {
             "colorbar": {
              "outlinewidth": 0,
              "ticks": ""
             }
            },
            "marker": {
             "colorbar": {
              "outlinewidth": 0,
              "ticks": ""
             }
            },
            "type": "scatter3d"
           }
          ],
          "scattercarpet": [
           {
            "marker": {
             "colorbar": {
              "outlinewidth": 0,
              "ticks": ""
             }
            },
            "type": "scattercarpet"
           }
          ],
          "scattergeo": [
           {
            "marker": {
             "colorbar": {
              "outlinewidth": 0,
              "ticks": ""
             }
            },
            "type": "scattergeo"
           }
          ],
          "scattergl": [
           {
            "marker": {
             "colorbar": {
              "outlinewidth": 0,
              "ticks": ""
             }
            },
            "type": "scattergl"
           }
          ],
          "scattermapbox": [
           {
            "marker": {
             "colorbar": {
              "outlinewidth": 0,
              "ticks": ""
             }
            },
            "type": "scattermapbox"
           }
          ],
          "scatterpolar": [
           {
            "marker": {
             "colorbar": {
              "outlinewidth": 0,
              "ticks": ""
             }
            },
            "type": "scatterpolar"
           }
          ],
          "scatterpolargl": [
           {
            "marker": {
             "colorbar": {
              "outlinewidth": 0,
              "ticks": ""
             }
            },
            "type": "scatterpolargl"
           }
          ],
          "scatterternary": [
           {
            "marker": {
             "colorbar": {
              "outlinewidth": 0,
              "ticks": ""
             }
            },
            "type": "scatterternary"
           }
          ],
          "surface": [
           {
            "colorbar": {
             "outlinewidth": 0,
             "ticks": ""
            },
            "colorscale": [
             [
              0,
              "#0d0887"
             ],
             [
              0.1111111111111111,
              "#46039f"
             ],
             [
              0.2222222222222222,
              "#7201a8"
             ],
             [
              0.3333333333333333,
              "#9c179e"
             ],
             [
              0.4444444444444444,
              "#bd3786"
             ],
             [
              0.5555555555555556,
              "#d8576b"
             ],
             [
              0.6666666666666666,
              "#ed7953"
             ],
             [
              0.7777777777777778,
              "#fb9f3a"
             ],
             [
              0.8888888888888888,
              "#fdca26"
             ],
             [
              1,
              "#f0f921"
             ]
            ],
            "type": "surface"
           }
          ],
          "table": [
           {
            "cells": {
             "fill": {
              "color": "#EBF0F8"
             },
             "line": {
              "color": "white"
             }
            },
            "header": {
             "fill": {
              "color": "#C8D4E3"
             },
             "line": {
              "color": "white"
             }
            },
            "type": "table"
           }
          ]
         },
         "layout": {
          "annotationdefaults": {
           "arrowcolor": "#2a3f5f",
           "arrowhead": 0,
           "arrowwidth": 1
          },
          "autotypenumbers": "strict",
          "coloraxis": {
           "colorbar": {
            "outlinewidth": 0,
            "ticks": ""
           }
          },
          "colorscale": {
           "diverging": [
            [
             0,
             "#8e0152"
            ],
            [
             0.1,
             "#c51b7d"
            ],
            [
             0.2,
             "#de77ae"
            ],
            [
             0.3,
             "#f1b6da"
            ],
            [
             0.4,
             "#fde0ef"
            ],
            [
             0.5,
             "#f7f7f7"
            ],
            [
             0.6,
             "#e6f5d0"
            ],
            [
             0.7,
             "#b8e186"
            ],
            [
             0.8,
             "#7fbc41"
            ],
            [
             0.9,
             "#4d9221"
            ],
            [
             1,
             "#276419"
            ]
           ],
           "sequential": [
            [
             0,
             "#0d0887"
            ],
            [
             0.1111111111111111,
             "#46039f"
            ],
            [
             0.2222222222222222,
             "#7201a8"
            ],
            [
             0.3333333333333333,
             "#9c179e"
            ],
            [
             0.4444444444444444,
             "#bd3786"
            ],
            [
             0.5555555555555556,
             "#d8576b"
            ],
            [
             0.6666666666666666,
             "#ed7953"
            ],
            [
             0.7777777777777778,
             "#fb9f3a"
            ],
            [
             0.8888888888888888,
             "#fdca26"
            ],
            [
             1,
             "#f0f921"
            ]
           ],
           "sequentialminus": [
            [
             0,
             "#0d0887"
            ],
            [
             0.1111111111111111,
             "#46039f"
            ],
            [
             0.2222222222222222,
             "#7201a8"
            ],
            [
             0.3333333333333333,
             "#9c179e"
            ],
            [
             0.4444444444444444,
             "#bd3786"
            ],
            [
             0.5555555555555556,
             "#d8576b"
            ],
            [
             0.6666666666666666,
             "#ed7953"
            ],
            [
             0.7777777777777778,
             "#fb9f3a"
            ],
            [
             0.8888888888888888,
             "#fdca26"
            ],
            [
             1,
             "#f0f921"
            ]
           ]
          },
          "colorway": [
           "#636efa",
           "#EF553B",
           "#00cc96",
           "#ab63fa",
           "#FFA15A",
           "#19d3f3",
           "#FF6692",
           "#B6E880",
           "#FF97FF",
           "#FECB52"
          ],
          "font": {
           "color": "#2a3f5f"
          },
          "geo": {
           "bgcolor": "white",
           "lakecolor": "white",
           "landcolor": "#E5ECF6",
           "showlakes": true,
           "showland": true,
           "subunitcolor": "white"
          },
          "hoverlabel": {
           "align": "left"
          },
          "hovermode": "closest",
          "mapbox": {
           "style": "light"
          },
          "paper_bgcolor": "white",
          "plot_bgcolor": "#E5ECF6",
          "polar": {
           "angularaxis": {
            "gridcolor": "white",
            "linecolor": "white",
            "ticks": ""
           },
           "bgcolor": "#E5ECF6",
           "radialaxis": {
            "gridcolor": "white",
            "linecolor": "white",
            "ticks": ""
           }
          },
          "scene": {
           "xaxis": {
            "backgroundcolor": "#E5ECF6",
            "gridcolor": "white",
            "gridwidth": 2,
            "linecolor": "white",
            "showbackground": true,
            "ticks": "",
            "zerolinecolor": "white"
           },
           "yaxis": {
            "backgroundcolor": "#E5ECF6",
            "gridcolor": "white",
            "gridwidth": 2,
            "linecolor": "white",
            "showbackground": true,
            "ticks": "",
            "zerolinecolor": "white"
           },
           "zaxis": {
            "backgroundcolor": "#E5ECF6",
            "gridcolor": "white",
            "gridwidth": 2,
            "linecolor": "white",
            "showbackground": true,
            "ticks": "",
            "zerolinecolor": "white"
           }
          },
          "shapedefaults": {
           "line": {
            "color": "#2a3f5f"
           }
          },
          "ternary": {
           "aaxis": {
            "gridcolor": "white",
            "linecolor": "white",
            "ticks": ""
           },
           "baxis": {
            "gridcolor": "white",
            "linecolor": "white",
            "ticks": ""
           },
           "bgcolor": "#E5ECF6",
           "caxis": {
            "gridcolor": "white",
            "linecolor": "white",
            "ticks": ""
           }
          },
          "title": {
           "x": 0.05
          },
          "xaxis": {
           "automargin": true,
           "gridcolor": "white",
           "linecolor": "white",
           "ticks": "",
           "title": {
            "standoff": 15
           },
           "zerolinecolor": "white",
           "zerolinewidth": 2
          },
          "yaxis": {
           "automargin": true,
           "gridcolor": "white",
           "linecolor": "white",
           "ticks": "",
           "title": {
            "standoff": 15
           },
           "zerolinecolor": "white",
           "zerolinewidth": 2
          }
         }
        },
        "title": {
         "text": "ROC curve",
         "x": 0.5
        },
        "xaxis": {
         "title": {
          "text": "False Positive Rate"
         }
        },
        "yaxis": {
         "title": {
          "text": "True Positive Rate"
         }
        }
       }
      }
     },
     "metadata": {},
     "output_type": "display_data"
    }
   ],
   "source": [
    "# Visualize ROC curves\n",
    "probas_train = gridsearch.predict_proba(X_train)[:,1]\n",
    "precisions, recalls, thresholds = roc_curve(y_train, probas_train)\n",
    "fig = go.Figure(\n",
    "    data = go.Scatter(\n",
    "        name = 'train',\n",
    "        x = recalls, \n",
    "        y = precisions, \n",
    "        mode = 'lines'\n",
    "    ),\n",
    "    layout = go.Layout(\n",
    "        title = go.layout.Title(text = \"ROC curve\", x = 0.5),\n",
    "        xaxis = go.layout.XAxis(title = 'False Positive Rate'),\n",
    "        yaxis = go.layout.YAxis(title = 'True Positive Rate')\n",
    "    )\n",
    ")\n",
    "\n",
    "probas_test = gridsearch.predict_proba(X_test)[:,1]\n",
    "precisions, recalls, thresholds = roc_curve(y_test, probas_test)\n",
    "fig.add_trace(go.Scatter(\n",
    "    name = 'test',\n",
    "    x = recalls, \n",
    "    y = precisions, \n",
    "    mode = 'lines'\n",
    "    )\n",
    ")\n",
    "fig.show()"
   ]
  },
  {
   "cell_type": "code",
   "execution_count": null,
   "metadata": {},
   "outputs": [],
   "source": []
  }
 ],
 "metadata": {
  "kernelspec": {
   "display_name": "Python 3.9.2 64-bit",
   "language": "python",
   "name": "python3"
  },
  "language_info": {
   "codemirror_mode": {
    "name": "ipython",
    "version": 3
   },
   "file_extension": ".py",
   "mimetype": "text/x-python",
   "name": "python",
   "nbconvert_exporter": "python",
   "pygments_lexer": "ipython3",
   "version": "3.9.2"
  },
  "orig_nbformat": 4,
  "vscode": {
   "interpreter": {
    "hash": "81794d4967e6c3204c66dcd87b604927b115b27c00565d3d43f05ba2f3a2cb0d"
   }
  }
 },
 "nbformat": 4,
 "nbformat_minor": 2
}
