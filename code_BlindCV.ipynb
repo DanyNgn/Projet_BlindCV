{
 "cells": [
  {
   "cell_type": "markdown",
   "metadata": {},
   "source": [
    "## 1. Chargement des librairies et du dataset"
   ]
  },
  {
   "cell_type": "code",
   "execution_count": 41,
   "metadata": {},
   "outputs": [],
   "source": [
    "import pandas as pd\n",
    "import spacy"
   ]
  },
  {
   "cell_type": "code",
   "execution_count": 42,
   "metadata": {},
   "outputs": [],
   "source": [
    "dataset = pd.read_csv(\"dataset_CV.csv\", delimiter = \";\")"
   ]
  },
  {
   "cell_type": "code",
   "execution_count": 43,
   "metadata": {},
   "outputs": [
    {
     "data": {
      "text/html": [
       "<div>\n",
       "<style scoped>\n",
       "    .dataframe tbody tr th:only-of-type {\n",
       "        vertical-align: middle;\n",
       "    }\n",
       "\n",
       "    .dataframe tbody tr th {\n",
       "        vertical-align: top;\n",
       "    }\n",
       "\n",
       "    .dataframe thead th {\n",
       "        text-align: right;\n",
       "    }\n",
       "</style>\n",
       "<table border=\"1\" class=\"dataframe\">\n",
       "  <thead>\n",
       "    <tr style=\"text-align: right;\">\n",
       "      <th></th>\n",
       "      <th>CV_number</th>\n",
       "      <th>CV_text</th>\n",
       "    </tr>\n",
       "  </thead>\n",
       "  <tbody>\n",
       "    <tr>\n",
       "      <th>0</th>\n",
       "      <td>CV_1</td>\n",
       "      <td>SELMA LAFKIR CORDE 80 CODEUSE ENTHOUSIASTE PRO...</td>\n",
       "    </tr>\n",
       "    <tr>\n",
       "      <th>1</th>\n",
       "      <td>CV_2</td>\n",
       "      <td>Ananya Singh \\nProfesseure de Lycée\\nPROFIL PE...</td>\n",
       "    </tr>\n",
       "    <tr>\n",
       "      <th>2</th>\n",
       "      <td>CV_3</td>\n",
       "      <td>Samira Hadid \\n16 place Urbain II, 63000 Clerm...</td>\n",
       "    </tr>\n",
       "    <tr>\n",
       "      <th>3</th>\n",
       "      <td>CV_4</td>\n",
       "      <td>Carine Maurice \\nIngénieure logiciel avec 10 a...</td>\n",
       "    </tr>\n",
       "    <tr>\n",
       "      <th>4</th>\n",
       "      <td>CV_5</td>\n",
       "      <td>MARCELLE ANDRÉ EXPÉRIENCE PROFESSIONNELLE \\nAS...</td>\n",
       "    </tr>\n",
       "  </tbody>\n",
       "</table>\n",
       "</div>"
      ],
      "text/plain": [
       "  CV_number                                            CV_text\n",
       "0      CV_1  SELMA LAFKIR CORDE 80 CODEUSE ENTHOUSIASTE PRO...\n",
       "1      CV_2  Ananya Singh \\nProfesseure de Lycée\\nPROFIL PE...\n",
       "2      CV_3  Samira Hadid \\n16 place Urbain II, 63000 Clerm...\n",
       "3      CV_4  Carine Maurice \\nIngénieure logiciel avec 10 a...\n",
       "4      CV_5  MARCELLE ANDRÉ EXPÉRIENCE PROFESSIONNELLE \\nAS..."
      ]
     },
     "execution_count": 43,
     "metadata": {},
     "output_type": "execute_result"
    }
   ],
   "source": [
    "dataset.head()"
   ]
  },
  {
   "cell_type": "code",
   "execution_count": 44,
   "metadata": {},
   "outputs": [
    {
     "data": {
      "text/plain": [
       "(21, 2)"
      ]
     },
     "execution_count": 44,
     "metadata": {},
     "output_type": "execute_result"
    }
   ],
   "source": [
    "dataset.shape"
   ]
  },
  {
   "cell_type": "code",
   "execution_count": 45,
   "metadata": {},
   "outputs": [
    {
     "data": {
      "text/html": [
       "<div>\n",
       "<style scoped>\n",
       "    .dataframe tbody tr th:only-of-type {\n",
       "        vertical-align: middle;\n",
       "    }\n",
       "\n",
       "    .dataframe tbody tr th {\n",
       "        vertical-align: top;\n",
       "    }\n",
       "\n",
       "    .dataframe thead th {\n",
       "        text-align: right;\n",
       "    }\n",
       "</style>\n",
       "<table border=\"1\" class=\"dataframe\">\n",
       "  <thead>\n",
       "    <tr style=\"text-align: right;\">\n",
       "      <th></th>\n",
       "      <th>CV_number</th>\n",
       "      <th>CV_text</th>\n",
       "    </tr>\n",
       "  </thead>\n",
       "  <tbody>\n",
       "    <tr>\n",
       "      <th>16</th>\n",
       "      <td>CV_17</td>\n",
       "      <td>CONTACTEZ ADELINE Adeline est une amoureuse de...</td>\n",
       "    </tr>\n",
       "    <tr>\n",
       "      <th>17</th>\n",
       "      <td>CV_18</td>\n",
       "      <td>Adeline Pannier Actrice de Théâtre et de Ciném...</td>\n",
       "    </tr>\n",
       "    <tr>\n",
       "      <th>18</th>\n",
       "      <td>CV_19</td>\n",
       "      <td>INFOS DE CONTACT\\nAdresse : Téléphone : Site w...</td>\n",
       "    </tr>\n",
       "    <tr>\n",
       "      <th>19</th>\n",
       "      <td>CV_20</td>\n",
       "      <td>Patrick Fournier 9 rue Desaix, 75010 Paris\\n01...</td>\n",
       "    </tr>\n",
       "    <tr>\n",
       "      <th>20</th>\n",
       "      <td>CV_21</td>\n",
       "      <td>AKIRA THOMAS ANALYSTE DE SÉCURITÉ RÉCAPITULATI...</td>\n",
       "    </tr>\n",
       "  </tbody>\n",
       "</table>\n",
       "</div>"
      ],
      "text/plain": [
       "   CV_number                                            CV_text\n",
       "16     CV_17  CONTACTEZ ADELINE Adeline est une amoureuse de...\n",
       "17     CV_18  Adeline Pannier Actrice de Théâtre et de Ciném...\n",
       "18     CV_19  INFOS DE CONTACT\\nAdresse : Téléphone : Site w...\n",
       "19     CV_20  Patrick Fournier 9 rue Desaix, 75010 Paris\\n01...\n",
       "20     CV_21  AKIRA THOMAS ANALYSTE DE SÉCURITÉ RÉCAPITULATI..."
      ]
     },
     "execution_count": 45,
     "metadata": {},
     "output_type": "execute_result"
    }
   ],
   "source": [
    "dataset.tail()"
   ]
  },
  {
   "cell_type": "markdown",
   "metadata": {},
   "source": [
    "## 2. Installation de Spacy"
   ]
  },
  {
   "cell_type": "code",
   "execution_count": 52,
   "metadata": {},
   "outputs": [],
   "source": [
    "nlp = spacy.load(\"fr_core_news_md\")\n"
   ]
  },
  {
   "cell_type": "markdown",
   "metadata": {},
   "source": [
    "## 3. Pre-processing"
   ]
  },
  {
   "cell_type": "code",
   "execution_count": 57,
   "metadata": {},
   "outputs": [
    {
     "data": {
      "text/html": [
       "<div>\n",
       "<style scoped>\n",
       "    .dataframe tbody tr th:only-of-type {\n",
       "        vertical-align: middle;\n",
       "    }\n",
       "\n",
       "    .dataframe tbody tr th {\n",
       "        vertical-align: top;\n",
       "    }\n",
       "\n",
       "    .dataframe thead th {\n",
       "        text-align: right;\n",
       "    }\n",
       "</style>\n",
       "<table border=\"1\" class=\"dataframe\">\n",
       "  <thead>\n",
       "    <tr style=\"text-align: right;\">\n",
       "      <th></th>\n",
       "      <th>CV_number</th>\n",
       "      <th>CV_text</th>\n",
       "    </tr>\n",
       "  </thead>\n",
       "  <tbody>\n",
       "    <tr>\n",
       "      <th>0</th>\n",
       "      <td>CV_1</td>\n",
       "      <td>SELMA LAFKIR CORDE 80 CODEUSE ENTHOUSIASTE PRO...</td>\n",
       "    </tr>\n",
       "    <tr>\n",
       "      <th>1</th>\n",
       "      <td>CV_2</td>\n",
       "      <td>Ananya Singh \\nProfesseure de Lycée\\nPROFIL PE...</td>\n",
       "    </tr>\n",
       "    <tr>\n",
       "      <th>2</th>\n",
       "      <td>CV_3</td>\n",
       "      <td>Samira Hadid \\n16 place Urbain II, 63000 Clerm...</td>\n",
       "    </tr>\n",
       "    <tr>\n",
       "      <th>3</th>\n",
       "      <td>CV_4</td>\n",
       "      <td>Carine Maurice \\nIngénieure logiciel avec 10 a...</td>\n",
       "    </tr>\n",
       "    <tr>\n",
       "      <th>4</th>\n",
       "      <td>CV_5</td>\n",
       "      <td>MARCELLE ANDRÉ EXPÉRIENCE PROFESSIONNELLE \\nAS...</td>\n",
       "    </tr>\n",
       "  </tbody>\n",
       "</table>\n",
       "</div>"
      ],
      "text/plain": [
       "  CV_number                                            CV_text\n",
       "0      CV_1  SELMA LAFKIR CORDE 80 CODEUSE ENTHOUSIASTE PRO...\n",
       "1      CV_2  Ananya Singh \\nProfesseure de Lycée\\nPROFIL PE...\n",
       "2      CV_3  Samira Hadid \\n16 place Urbain II, 63000 Clerm...\n",
       "3      CV_4  Carine Maurice \\nIngénieure logiciel avec 10 a...\n",
       "4      CV_5  MARCELLE ANDRÉ EXPÉRIENCE PROFESSIONNELLE \\nAS..."
      ]
     },
     "execution_count": 57,
     "metadata": {},
     "output_type": "execute_result"
    }
   ],
   "source": [
    "dataset.head()"
   ]
  },
  {
   "cell_type": "markdown",
   "metadata": {},
   "source": [
    "a. Création d'une nouvelle colonne et remplacement du \"\\n\" dans les textes par un espace"
   ]
  },
  {
   "cell_type": "code",
   "execution_count": 58,
   "metadata": {},
   "outputs": [],
   "source": [
    "dataset[\"Tokenization_preparation\"] = dataset[\"CV_text\"].apply(lambda x : str(x).replace(\"\\n\", \" \"))"
   ]
  },
  {
   "cell_type": "code",
   "execution_count": 59,
   "metadata": {},
   "outputs": [
    {
     "data": {
      "text/html": [
       "<div>\n",
       "<style scoped>\n",
       "    .dataframe tbody tr th:only-of-type {\n",
       "        vertical-align: middle;\n",
       "    }\n",
       "\n",
       "    .dataframe tbody tr th {\n",
       "        vertical-align: top;\n",
       "    }\n",
       "\n",
       "    .dataframe thead th {\n",
       "        text-align: right;\n",
       "    }\n",
       "</style>\n",
       "<table border=\"1\" class=\"dataframe\">\n",
       "  <thead>\n",
       "    <tr style=\"text-align: right;\">\n",
       "      <th></th>\n",
       "      <th>CV_number</th>\n",
       "      <th>CV_text</th>\n",
       "      <th>Tokenization_preparation</th>\n",
       "    </tr>\n",
       "  </thead>\n",
       "  <tbody>\n",
       "    <tr>\n",
       "      <th>0</th>\n",
       "      <td>CV_1</td>\n",
       "      <td>SELMA LAFKIR CORDE 80 CODEUSE ENTHOUSIASTE PRO...</td>\n",
       "      <td>SELMA LAFKIR CORDE 80 CODEUSE ENTHOUSIASTE PRO...</td>\n",
       "    </tr>\n",
       "    <tr>\n",
       "      <th>1</th>\n",
       "      <td>CV_2</td>\n",
       "      <td>Ananya Singh \\nProfesseure de Lycée\\nPROFIL PE...</td>\n",
       "      <td>Ananya Singh  Professeure de Lycée PROFIL PERS...</td>\n",
       "    </tr>\n",
       "    <tr>\n",
       "      <th>2</th>\n",
       "      <td>CV_3</td>\n",
       "      <td>Samira Hadid \\n16 place Urbain II, 63000 Clerm...</td>\n",
       "      <td>Samira Hadid  16 place Urbain II, 63000 Clermo...</td>\n",
       "    </tr>\n",
       "    <tr>\n",
       "      <th>3</th>\n",
       "      <td>CV_4</td>\n",
       "      <td>Carine Maurice \\nIngénieure logiciel avec 10 a...</td>\n",
       "      <td>Carine Maurice  Ingénieure logiciel avec 10 an...</td>\n",
       "    </tr>\n",
       "    <tr>\n",
       "      <th>4</th>\n",
       "      <td>CV_5</td>\n",
       "      <td>MARCELLE ANDRÉ EXPÉRIENCE PROFESSIONNELLE \\nAS...</td>\n",
       "      <td>MARCELLE ANDRÉ EXPÉRIENCE PROFESSIONNELLE  ASS...</td>\n",
       "    </tr>\n",
       "  </tbody>\n",
       "</table>\n",
       "</div>"
      ],
      "text/plain": [
       "  CV_number                                            CV_text  \\\n",
       "0      CV_1  SELMA LAFKIR CORDE 80 CODEUSE ENTHOUSIASTE PRO...   \n",
       "1      CV_2  Ananya Singh \\nProfesseure de Lycée\\nPROFIL PE...   \n",
       "2      CV_3  Samira Hadid \\n16 place Urbain II, 63000 Clerm...   \n",
       "3      CV_4  Carine Maurice \\nIngénieure logiciel avec 10 a...   \n",
       "4      CV_5  MARCELLE ANDRÉ EXPÉRIENCE PROFESSIONNELLE \\nAS...   \n",
       "\n",
       "                            Tokenization_preparation  \n",
       "0  SELMA LAFKIR CORDE 80 CODEUSE ENTHOUSIASTE PRO...  \n",
       "1  Ananya Singh  Professeure de Lycée PROFIL PERS...  \n",
       "2  Samira Hadid  16 place Urbain II, 63000 Clermo...  \n",
       "3  Carine Maurice  Ingénieure logiciel avec 10 an...  \n",
       "4  MARCELLE ANDRÉ EXPÉRIENCE PROFESSIONNELLE  ASS...  "
      ]
     },
     "execution_count": 59,
     "metadata": {},
     "output_type": "execute_result"
    }
   ],
   "source": [
    "dataset.head()"
   ]
  },
  {
   "cell_type": "markdown",
   "metadata": {},
   "source": [
    "b. Tokenisation du texte"
   ]
  },
  {
   "cell_type": "code",
   "execution_count": 60,
   "metadata": {},
   "outputs": [],
   "source": [
    "dataset[\"Tokenization\"] = dataset[\"Tokenization_preparation\"].apply(lambda x : nlp(x))"
   ]
  },
  {
   "cell_type": "code",
   "execution_count": 61,
   "metadata": {},
   "outputs": [
    {
     "data": {
      "text/html": [
       "<div>\n",
       "<style scoped>\n",
       "    .dataframe tbody tr th:only-of-type {\n",
       "        vertical-align: middle;\n",
       "    }\n",
       "\n",
       "    .dataframe tbody tr th {\n",
       "        vertical-align: top;\n",
       "    }\n",
       "\n",
       "    .dataframe thead th {\n",
       "        text-align: right;\n",
       "    }\n",
       "</style>\n",
       "<table border=\"1\" class=\"dataframe\">\n",
       "  <thead>\n",
       "    <tr style=\"text-align: right;\">\n",
       "      <th></th>\n",
       "      <th>CV_number</th>\n",
       "      <th>CV_text</th>\n",
       "      <th>Tokenization_preparation</th>\n",
       "      <th>Tokenization</th>\n",
       "    </tr>\n",
       "  </thead>\n",
       "  <tbody>\n",
       "    <tr>\n",
       "      <th>0</th>\n",
       "      <td>CV_1</td>\n",
       "      <td>SELMA LAFKIR CORDE 80 CODEUSE ENTHOUSIASTE PRO...</td>\n",
       "      <td>SELMA LAFKIR CORDE 80 CODEUSE ENTHOUSIASTE PRO...</td>\n",
       "      <td>(SELMA, LAFKIR, CORDE, 80, CODEUSE, ENTHOUSIAS...</td>\n",
       "    </tr>\n",
       "    <tr>\n",
       "      <th>1</th>\n",
       "      <td>CV_2</td>\n",
       "      <td>Ananya Singh \\nProfesseure de Lycée\\nPROFIL PE...</td>\n",
       "      <td>Ananya Singh  Professeure de Lycée PROFIL PERS...</td>\n",
       "      <td>(Ananya, Singh,  , Professeure, de, Lycée, PRO...</td>\n",
       "    </tr>\n",
       "    <tr>\n",
       "      <th>2</th>\n",
       "      <td>CV_3</td>\n",
       "      <td>Samira Hadid \\n16 place Urbain II, 63000 Clerm...</td>\n",
       "      <td>Samira Hadid  16 place Urbain II, 63000 Clermo...</td>\n",
       "      <td>(Samira, Hadid,  , 16, place, Urbain, II, ,, 6...</td>\n",
       "    </tr>\n",
       "    <tr>\n",
       "      <th>3</th>\n",
       "      <td>CV_4</td>\n",
       "      <td>Carine Maurice \\nIngénieure logiciel avec 10 a...</td>\n",
       "      <td>Carine Maurice  Ingénieure logiciel avec 10 an...</td>\n",
       "      <td>(Carine, Maurice,  , Ingénieure, logiciel, ave...</td>\n",
       "    </tr>\n",
       "    <tr>\n",
       "      <th>4</th>\n",
       "      <td>CV_5</td>\n",
       "      <td>MARCELLE ANDRÉ EXPÉRIENCE PROFESSIONNELLE \\nAS...</td>\n",
       "      <td>MARCELLE ANDRÉ EXPÉRIENCE PROFESSIONNELLE  ASS...</td>\n",
       "      <td>(MARCELLE, ANDRÉ, EXPÉRIENCE, PROFESSIONNELLE,...</td>\n",
       "    </tr>\n",
       "  </tbody>\n",
       "</table>\n",
       "</div>"
      ],
      "text/plain": [
       "  CV_number                                            CV_text  \\\n",
       "0      CV_1  SELMA LAFKIR CORDE 80 CODEUSE ENTHOUSIASTE PRO...   \n",
       "1      CV_2  Ananya Singh \\nProfesseure de Lycée\\nPROFIL PE...   \n",
       "2      CV_3  Samira Hadid \\n16 place Urbain II, 63000 Clerm...   \n",
       "3      CV_4  Carine Maurice \\nIngénieure logiciel avec 10 a...   \n",
       "4      CV_5  MARCELLE ANDRÉ EXPÉRIENCE PROFESSIONNELLE \\nAS...   \n",
       "\n",
       "                            Tokenization_preparation  \\\n",
       "0  SELMA LAFKIR CORDE 80 CODEUSE ENTHOUSIASTE PRO...   \n",
       "1  Ananya Singh  Professeure de Lycée PROFIL PERS...   \n",
       "2  Samira Hadid  16 place Urbain II, 63000 Clermo...   \n",
       "3  Carine Maurice  Ingénieure logiciel avec 10 an...   \n",
       "4  MARCELLE ANDRÉ EXPÉRIENCE PROFESSIONNELLE  ASS...   \n",
       "\n",
       "                                        Tokenization  \n",
       "0  (SELMA, LAFKIR, CORDE, 80, CODEUSE, ENTHOUSIAS...  \n",
       "1  (Ananya, Singh,  , Professeure, de, Lycée, PRO...  \n",
       "2  (Samira, Hadid,  , 16, place, Urbain, II, ,, 6...  \n",
       "3  (Carine, Maurice,  , Ingénieure, logiciel, ave...  \n",
       "4  (MARCELLE, ANDRÉ, EXPÉRIENCE, PROFESSIONNELLE,...  "
      ]
     },
     "execution_count": 61,
     "metadata": {},
     "output_type": "execute_result"
    }
   ],
   "source": [
    "dataset.head()"
   ]
  },
  {
   "cell_type": "code",
   "execution_count": 62,
   "metadata": {},
   "outputs": [],
   "source": [
    "dataset[\"Number_of_tokens\"] = dataset[\"Tokenization\"].apply(lambda x : len(x))"
   ]
  },
  {
   "cell_type": "code",
   "execution_count": 63,
   "metadata": {},
   "outputs": [
    {
     "data": {
      "text/html": [
       "<div>\n",
       "<style scoped>\n",
       "    .dataframe tbody tr th:only-of-type {\n",
       "        vertical-align: middle;\n",
       "    }\n",
       "\n",
       "    .dataframe tbody tr th {\n",
       "        vertical-align: top;\n",
       "    }\n",
       "\n",
       "    .dataframe thead th {\n",
       "        text-align: right;\n",
       "    }\n",
       "</style>\n",
       "<table border=\"1\" class=\"dataframe\">\n",
       "  <thead>\n",
       "    <tr style=\"text-align: right;\">\n",
       "      <th></th>\n",
       "      <th>CV_number</th>\n",
       "      <th>CV_text</th>\n",
       "      <th>Tokenization_preparation</th>\n",
       "      <th>Tokenization</th>\n",
       "      <th>Number_of_tokens</th>\n",
       "    </tr>\n",
       "  </thead>\n",
       "  <tbody>\n",
       "    <tr>\n",
       "      <th>0</th>\n",
       "      <td>CV_1</td>\n",
       "      <td>SELMA LAFKIR CORDE 80 CODEUSE ENTHOUSIASTE PRO...</td>\n",
       "      <td>SELMA LAFKIR CORDE 80 CODEUSE ENTHOUSIASTE PRO...</td>\n",
       "      <td>(SELMA, LAFKIR, CORDE, 80, CODEUSE, ENTHOUSIAS...</td>\n",
       "      <td>214</td>\n",
       "    </tr>\n",
       "    <tr>\n",
       "      <th>1</th>\n",
       "      <td>CV_2</td>\n",
       "      <td>Ananya Singh \\nProfesseure de Lycée\\nPROFIL PE...</td>\n",
       "      <td>Ananya Singh  Professeure de Lycée PROFIL PERS...</td>\n",
       "      <td>(Ananya, Singh,  , Professeure, de, Lycée, PRO...</td>\n",
       "      <td>291</td>\n",
       "    </tr>\n",
       "    <tr>\n",
       "      <th>2</th>\n",
       "      <td>CV_3</td>\n",
       "      <td>Samira Hadid \\n16 place Urbain II, 63000 Clerm...</td>\n",
       "      <td>Samira Hadid  16 place Urbain II, 63000 Clermo...</td>\n",
       "      <td>(Samira, Hadid,  , 16, place, Urbain, II, ,, 6...</td>\n",
       "      <td>315</td>\n",
       "    </tr>\n",
       "    <tr>\n",
       "      <th>3</th>\n",
       "      <td>CV_4</td>\n",
       "      <td>Carine Maurice \\nIngénieure logiciel avec 10 a...</td>\n",
       "      <td>Carine Maurice  Ingénieure logiciel avec 10 an...</td>\n",
       "      <td>(Carine, Maurice,  , Ingénieure, logiciel, ave...</td>\n",
       "      <td>292</td>\n",
       "    </tr>\n",
       "    <tr>\n",
       "      <th>4</th>\n",
       "      <td>CV_5</td>\n",
       "      <td>MARCELLE ANDRÉ EXPÉRIENCE PROFESSIONNELLE \\nAS...</td>\n",
       "      <td>MARCELLE ANDRÉ EXPÉRIENCE PROFESSIONNELLE  ASS...</td>\n",
       "      <td>(MARCELLE, ANDRÉ, EXPÉRIENCE, PROFESSIONNELLE,...</td>\n",
       "      <td>284</td>\n",
       "    </tr>\n",
       "  </tbody>\n",
       "</table>\n",
       "</div>"
      ],
      "text/plain": [
       "  CV_number                                            CV_text  \\\n",
       "0      CV_1  SELMA LAFKIR CORDE 80 CODEUSE ENTHOUSIASTE PRO...   \n",
       "1      CV_2  Ananya Singh \\nProfesseure de Lycée\\nPROFIL PE...   \n",
       "2      CV_3  Samira Hadid \\n16 place Urbain II, 63000 Clerm...   \n",
       "3      CV_4  Carine Maurice \\nIngénieure logiciel avec 10 a...   \n",
       "4      CV_5  MARCELLE ANDRÉ EXPÉRIENCE PROFESSIONNELLE \\nAS...   \n",
       "\n",
       "                            Tokenization_preparation  \\\n",
       "0  SELMA LAFKIR CORDE 80 CODEUSE ENTHOUSIASTE PRO...   \n",
       "1  Ananya Singh  Professeure de Lycée PROFIL PERS...   \n",
       "2  Samira Hadid  16 place Urbain II, 63000 Clermo...   \n",
       "3  Carine Maurice  Ingénieure logiciel avec 10 an...   \n",
       "4  MARCELLE ANDRÉ EXPÉRIENCE PROFESSIONNELLE  ASS...   \n",
       "\n",
       "                                        Tokenization  Number_of_tokens  \n",
       "0  (SELMA, LAFKIR, CORDE, 80, CODEUSE, ENTHOUSIAS...               214  \n",
       "1  (Ananya, Singh,  , Professeure, de, Lycée, PRO...               291  \n",
       "2  (Samira, Hadid,  , 16, place, Urbain, II, ,, 6...               315  \n",
       "3  (Carine, Maurice,  , Ingénieure, logiciel, ave...               292  \n",
       "4  (MARCELLE, ANDRÉ, EXPÉRIENCE, PROFESSIONNELLE,...               284  "
      ]
     },
     "execution_count": 63,
     "metadata": {},
     "output_type": "execute_result"
    }
   ],
   "source": [
    "dataset.head()"
   ]
  },
  {
   "cell_type": "code",
   "execution_count": null,
   "metadata": {},
   "outputs": [],
   "source": []
  }
 ],
 "metadata": {
  "kernelspec": {
   "display_name": "Python 3.8.8 ('base')",
   "language": "python",
   "name": "python3"
  },
  "language_info": {
   "codemirror_mode": {
    "name": "ipython",
    "version": 3
   },
   "file_extension": ".py",
   "mimetype": "text/x-python",
   "name": "python",
   "nbconvert_exporter": "python",
   "pygments_lexer": "ipython3",
   "version": "3.8.8"
  },
  "orig_nbformat": 4,
  "vscode": {
   "interpreter": {
    "hash": "de3c26e6ce99fdd1b8cf42170bfea1efe2e407789632cce096fb11ae10dab296"
   }
  }
 },
 "nbformat": 4,
 "nbformat_minor": 2
}
