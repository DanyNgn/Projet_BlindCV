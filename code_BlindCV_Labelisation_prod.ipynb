{
 "cells": [
  {
   "cell_type": "markdown",
   "metadata": {},
   "source": [
    "## PART 6 - Concatenation des CV"
   ]
  },
  {
   "cell_type": "code",
   "execution_count": 2,
   "metadata": {},
   "outputs": [],
   "source": [
    "# Chargement des librairies nécessaires\n",
    "import pandas as pd\n",
    "import spacy\n",
    "\n",
    "# Chargement de la dataset\n",
    "dataset = pd.read_csv(\"dataset_CV.csv\", delimiter = \";\")\n",
    "\n",
    "# Instanciation de la bibliothèque fr_core_news_lg de Spacy\n",
    "nlp = spacy.load(\"fr_core_news_lg\")\n",
    "\n",
    "# Tokenization des textes de CV\n",
    "dataset[\"Tokenization_preparation\"] = dataset[\"CV_text_brut\"].apply(lambda x : str(x).replace(\"\\n\", \" \"))\n",
    "dataset[\"Tokenization\"] = dataset[\"Tokenization_preparation\"].apply(lambda x : nlp(x))\n",
    "dataset[\"Number_of_tokens\"] = dataset[\"Tokenization\"].apply(lambda x : len(x))"
   ]
  },
  {
   "cell_type": "code",
   "execution_count": 6,
   "metadata": {},
   "outputs": [
    {
     "name": "stderr",
     "output_type": "stream",
     "text": [
      "<ipython-input-6-3181aa971b00>:35: SettingWithCopyWarning: \n",
      "A value is trying to be set on a copy of a slice from a DataFrame\n",
      "\n",
      "See the caveats in the documentation: https://pandas.pydata.org/pandas-docs/stable/user_guide/indexing.html#returning-a-view-versus-a-copy\n",
      "  df['%texte_lu'][i] = round(((token_count / df['Nb_tokens'].sum()) * 100),2)         ## TROUVER COMMENT METTRE EN DECIMAL\n",
      "<ipython-input-6-3181aa971b00>:42: SettingWithCopyWarning: \n",
      "A value is trying to be set on a copy of a slice from a DataFrame\n",
      "\n",
      "See the caveats in the documentation: https://pandas.pydata.org/pandas-docs/stable/user_guide/indexing.html#returning-a-view-versus-a-copy\n",
      "  df[\"%texte_lu_fin_ligne\"][k] += (nb_tokens_total - df['Nb_tokens'][k]) / nb_tokens_total\n",
      "<ipython-input-6-3181aa971b00>:54: SettingWithCopyWarning: \n",
      "A value is trying to be set on a copy of a slice from a DataFrame\n",
      "\n",
      "See the caveats in the documentation: https://pandas.pydata.org/pandas-docs/stable/user_guide/indexing.html#returning-a-view-versus-a-copy\n",
      "  df[\"Is_alpha\"][l] = list_token_is_alpha\n",
      "<ipython-input-6-3181aa971b00>:65: SettingWithCopyWarning: \n",
      "A value is trying to be set on a copy of a slice from a DataFrame\n",
      "\n",
      "See the caveats in the documentation: https://pandas.pydata.org/pandas-docs/stable/user_guide/indexing.html#returning-a-view-versus-a-copy\n",
      "  df[\"Grammar\"][m] = list_token_pos\n"
     ]
    }
   ],
   "source": [
    "## Création d'une dataframe pour accueillir les features des CV\n",
    "for i in range(len(dataset)):\n",
    "    df = pd.DataFrame(columns = ['CV_Sentences'])\n",
    "\n",
    "    ## Extraction du texte du CV pour appliquer la sentencisation des CV\n",
    "    index = dataset.columns.get_loc(\"Tokenization_preparation\")\n",
    "    doc = dataset.iloc[i,index]                                                             ## CHANGER PAR UN i POUR BOUCLER SUR TOUS LES CV \n",
    "    doc = nlp(doc)\n",
    "\n",
    "    ## Création d'une liste de phrases qui va accueillir le texte découpé en phrases grâce à la fonction doc.sents\n",
    "    list_sentence = []\n",
    "    for sent in doc.sents :\n",
    "        list_sentence.append(sent)\n",
    "\n",
    "    ## Affectation des phrases dans la colonne CV_Sentences et suppression des parenthèses\n",
    "    df['CV_Sentences'] = list_sentence\n",
    "    df['Sentences_CV_clean'] = df['CV_Sentences'].apply(lambda x : str(x).replace(\"(\",\"\").replace(\")\",\"\"))\n",
    "\n",
    "    ## Création de la colonne CV_number pour identifier les phrases de chaque CV\n",
    "    for j in range(0,len(df)):\n",
    "        index2 = dataset.columns.get_loc(\"CV_number\")\n",
    "        df['CV_Number'] = dataset.iloc[i,index2]                                              ## A MODIFIER j POUR LA GENERALISATION DE L'ALGO\n",
    "\n",
    "    ## Création d'une colonne qui compte le nombre de phrase par CV\n",
    "    df['Sentence_line'] = df.index\n",
    "\n",
    "    ## Création d'une colonne qui compte le nombre de tokens dans la phrase\n",
    "    df['Nb_tokens'] = df['CV_Sentences'].apply(lambda x : len(x))\n",
    "\n",
    "    ## Création d'une colonne pour connaitre la position en pourcentage de la phrase par rapport au texte entier\n",
    "    df['%texte_lu'] = 0\n",
    "    token_count = 0\n",
    "    for i in range(len(df)):\n",
    "        token_count += df['Nb_tokens'][i]\n",
    "        df['%texte_lu'][i] = round(((token_count / df['Nb_tokens'].sum()) * 100),2)         ## TROUVER COMMENT METTRE EN DECIMAL\n",
    "\n",
    "    ## Création pour connaître le % de texte lu à partir de la fin de ligne\n",
    "    df[\"%texte_lu_fin_ligne\"] = 0                                                           ## REVOIR LE CODE POUR LE FAIRE FONCTIONNER\n",
    "    nb_tokens_total = df[\"Nb_tokens\"].sum()\n",
    "\n",
    "    for k in range(len(df)):\n",
    "        df[\"%texte_lu_fin_ligne\"][k] += (nb_tokens_total - df['Nb_tokens'][k]) / nb_tokens_total\n",
    "\n",
    "    ## Création d'une colonne pour savoir si le mot est alphanumerique ou pas\n",
    "    df[\"Is_alpha\"] = 0\n",
    "    index3 = df.columns.get_loc(\"Sentences_CV_clean\")\n",
    "    \n",
    "    for l in range(len(df)):\n",
    "        doc = df.iloc[l,index3]\n",
    "        doc = nlp(doc)\n",
    "        list_token_is_alpha = []\n",
    "        for token in doc:\n",
    "            list_token_is_alpha.append(token.is_alpha)\n",
    "        df[\"Is_alpha\"][l] = list_token_is_alpha\n",
    "\n",
    "    ## Création de la colonne Grammaire pour connaitre le type de mots de la phrase\n",
    "    df[\"Grammar\"] = 0\n",
    "    index = df.columns.get_loc(\"Sentences_CV_clean\")\n",
    "    for m in range(len(df)):\n",
    "        doc = df.iloc[m,index]\n",
    "        doc = nlp(doc)\n",
    "        list_token_pos = []\n",
    "        for token in doc:\n",
    "            list_token_pos.append(token.pos_)\n",
    "            df[\"Grammar\"][m] = list_token_pos\n",
    "\n",
    "    ## Création de la colonne Label qui sera notre target. Soit 1 il faut supprimer soit 0 on doit garder\n",
    "    df['Label'] = 0\n",
    "\n",
    "    ## Création de la dataset avec les CV concatenés\n",
    "    dataset_concat = pd.DataFrame()\n",
    "    dataset_concat = dataset_concat.append(df, ignore_index=True)\n",
    "\n",
    "## Création d'un fichier Excel avec toutes les phrases de tous les CV\n",
    "PATH = \"/Users/kinn/Desktop/Projet_BlindCV/data_CV.csv\"\n",
    "dataset_concat.to_csv(path_or_buf = PATH, index = True)"
   ]
  },
  {
   "cell_type": "code",
   "execution_count": null,
   "metadata": {},
   "outputs": [],
   "source": []
  }
 ],
 "metadata": {
  "kernelspec": {
   "display_name": "Python 3.8.8 ('base')",
   "language": "python",
   "name": "python3"
  },
  "language_info": {
   "codemirror_mode": {
    "name": "ipython",
    "version": 3
   },
   "file_extension": ".py",
   "mimetype": "text/x-python",
   "name": "python",
   "nbconvert_exporter": "python",
   "pygments_lexer": "ipython3",
   "version": "3.8.8"
  },
  "orig_nbformat": 4,
  "vscode": {
   "interpreter": {
    "hash": "de3c26e6ce99fdd1b8cf42170bfea1efe2e407789632cce096fb11ae10dab296"
   }
  }
 },
 "nbformat": 4,
 "nbformat_minor": 2
}
