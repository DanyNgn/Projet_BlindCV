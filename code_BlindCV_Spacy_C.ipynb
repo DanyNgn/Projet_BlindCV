{
 "cells": [
  {
   "cell_type": "markdown",
   "metadata": {},
   "source": [
    "2. "
   ]
  },
  {
   "cell_type": "markdown",
   "metadata": {},
   "source": [
    "## PART 3 - BlindCV_split_tasks"
   ]
  },
  {
   "cell_type": "markdown",
   "metadata": {},
   "source": [
    "### Chargement de la part 2"
   ]
  },
  {
   "cell_type": "markdown",
   "metadata": {},
   "source": [
    "Part 1"
   ]
  },
  {
   "cell_type": "code",
   "execution_count": 12,
   "metadata": {},
   "outputs": [],
   "source": [
    "#Chargement des librairies nécessaires\n",
    "import pandas as pd\n",
    "import spacy\n",
    "\n",
    "# Chargement de la dataset\n",
    "dataset = pd.read_csv(\"dataset_CV.csv\", delimiter = \";\")\n",
    "\n",
    "# Instanciation de la bibliothèque fr_core_news_lg de Spacy\n",
    "nlp = spacy.load(\"fr_core_news_lg\")\n",
    "\n",
    "# Tokenization des textes de CV\n",
    "dataset[\"Tokenization_preparation\"] = dataset[\"CV_text\"].apply(lambda x : str(x).replace(\"\\n\", \" \"))\n",
    "dataset[\"Tokenization\"] = dataset[\"Tokenization_preparation\"].apply(lambda x : nlp(x))\n",
    "dataset[\"Number_of_tokens\"] = dataset[\"Tokenization\"].apply(lambda x : len(x))"
   ]
  },
  {
   "cell_type": "markdown",
   "metadata": {},
   "source": [
    "Part 2"
   ]
  },
  {
   "cell_type": "code",
   "execution_count": 13,
   "metadata": {},
   "outputs": [
    {
     "name": "stdout",
     "output_type": "stream",
     "text": [
      "SELMA LAFKIR CORDE 80 CODEUSE ENTHOUSIASTE\n",
      "PROFIL\n",
      "PERSONNEL Je suis étudiante au lycée Condorcet.\n",
      "Je code depuis l'âge de 13 ans et j'aime créer des sites Web et utiliser la technologie pour aider les gens.\n",
      "RÉALISATIONS\n",
      "Chef d'équipe du site Web du lycée\n",
      "-\n",
      "Vice-présidente du club cinématographique du lycée\n",
      "- Trésorière de la société des codeurs du lycée -\n",
      "Premier prix au Hackathon de Condorcet EXPÉRIENCE Tuteur en mathématiques\n",
      "Centre scolaire de Condorcet Jan 2019\n",
      "- présent • Cours particuliers avec des élèves du secondaire sur différents domaines des mathématiques • Cours d'algèbre Développeuse stagiaire\n",
      "| Berou Solutions, Inc.\n",
      "mars\n",
      "- mai 2019 Traduction de wireframes en code frontal Aide à la création d'une application de commande en ligne Recherche d'utilisateurs effectuée par le biais d'enquêtes et d'entretiens PARCOURS SCOLAIRE\n",
      "Lycée de Condorcet\n",
      "· Spécialisation en technologie\n",
      "| Classe de 2020 •\n",
      "Diplômée avec une moyenne de 16/20 • Membre de l'association des étudiants en histoire\n",
      "Excellence académique en histoire, mathématiques et multimédia durant 2 années consécutives RÉFÉRENCES\n",
      "Marion Bardot\n",
      "| Professeure, lycée de Condorcet Caroline Clément | Professeure, lycée Beaulieu Myriam Barbu\n",
      "| Directrice, Centre scolaire de Condorcet\n",
      "01 12 13 14 15\n",
      "bonjour@sitevraimentsuper.fr\n",
      "www.sitevraimentsuper.fr\n",
      "SELMA LAFKIR CORDE 80 CODEUSE ENTHOUSIASTE\n",
      "PROFIL\n",
      "PERSONNEL Je suis étudiante au lycée Condorcet.\n",
      "Je code depuis l'âge de 13 ans et j'aime créer des sites Web et utiliser la technologie pour aider les gens.\n",
      "RÉALISATIONS\n",
      "Chef d'équipe du site Web du lycée\n",
      "-\n",
      "Vice-présidente du club cinématographique du lycée\n",
      "- Trésorière de la société des codeurs du lycée -\n",
      "Premier prix au Hackathon de Condorcet EXPÉRIENCE Tuteur en mathématiques\n",
      "Centre scolaire de Condorcet Jan 2019\n",
      "- présent • Cours particuliers avec des élèves du secondaire sur différents domaines des mathématiques • Cours d'algèbre Développeuse stagiaire\n",
      "| Berou Solutions, Inc.\n",
      "mars\n",
      "- mai 2019 Traduction de wireframes en code frontal Aide à la création d'une application de commande en ligne Recherche d'utilisateurs effectuée par le biais d'enquêtes et d'entretiens PARCOURS SCOLAIRE\n",
      "Lycée de Condorcet\n",
      "· Spécialisation en technologie\n",
      "| Classe de 2020 •\n",
      "Diplômée avec une moyenne de 16/20 • Membre de l'association des étudiants en histoire\n",
      "Excellence académique en histoire, mathématiques et multimédia durant 2 années consécutives RÉFÉRENCES\n",
      "Marion Bardot\n",
      "| Professeure, lycée de Condorcet Caroline Clément | Professeure, lycée Beaulieu Myriam Barbu\n",
      "| Directrice, Centre scolaire de Condorcet\n",
      "01 12 13 14 15\n",
      "bonjour@sitevraimentsuper.fr\n",
      "www.sitevraimentsuper.fr\n"
     ]
    }
   ],
   "source": [
    "## Sélection du texte du premier CV\n",
    "doc = dataset.iloc[0,2]\n",
    "doc = nlp(doc)\n",
    "\n",
    "## Sentencisation du texte du CV\n",
    "for sent in doc.sents :\n",
    "    print(sent)\n",
    "\n",
    "## Création d'une liste de phrase\n",
    "list_sentence = []\n",
    "for sent in doc.sents :\n",
    "    list_sentence.append(sent)\n",
    "    print(sent)\n",
    "\n",
    "## Création d'une dataframe avec les phrases \n",
    "df = pd.DataFrame(columns = ['Sentence_CV1'])\n",
    "\n",
    "## Insertion des phrases et suppression des parenthèses\n",
    "df['Sentence_CV1'] = list_sentence\n",
    "df['Sentence_CV1_clean'] = df['Sentence_CV1'].apply(lambda x : str(x).replace(\"(\",\"\").replace(\")\",\"\"))"
   ]
  },
  {
   "cell_type": "code",
   "execution_count": 14,
   "metadata": {},
   "outputs": [
    {
     "data": {
      "text/html": [
       "<div>\n",
       "<style scoped>\n",
       "    .dataframe tbody tr th:only-of-type {\n",
       "        vertical-align: middle;\n",
       "    }\n",
       "\n",
       "    .dataframe tbody tr th {\n",
       "        vertical-align: top;\n",
       "    }\n",
       "\n",
       "    .dataframe thead th {\n",
       "        text-align: right;\n",
       "    }\n",
       "</style>\n",
       "<table border=\"1\" class=\"dataframe\">\n",
       "  <thead>\n",
       "    <tr style=\"text-align: right;\">\n",
       "      <th></th>\n",
       "      <th>Sentence_CV1</th>\n",
       "      <th>Sentence_CV1_clean</th>\n",
       "    </tr>\n",
       "  </thead>\n",
       "  <tbody>\n",
       "    <tr>\n",
       "      <th>0</th>\n",
       "      <td>(SELMA, LAFKIR, CORDE, 80, CODEUSE, ENTHOUSIASTE)</td>\n",
       "      <td>SELMA LAFKIR CORDE 80 CODEUSE ENTHOUSIASTE</td>\n",
       "    </tr>\n",
       "    <tr>\n",
       "      <th>1</th>\n",
       "      <td>(PROFIL)</td>\n",
       "      <td>PROFIL</td>\n",
       "    </tr>\n",
       "    <tr>\n",
       "      <th>2</th>\n",
       "      <td>(PERSONNEL, Je, suis, étudiante, au, lycée, Co...</td>\n",
       "      <td>PERSONNEL Je suis étudiante au lycée Condorcet.</td>\n",
       "    </tr>\n",
       "    <tr>\n",
       "      <th>3</th>\n",
       "      <td>(Je, code, depuis, l', âge, de, 13, ans, et, j...</td>\n",
       "      <td>Je code depuis l'âge de 13 ans et j'aime créer...</td>\n",
       "    </tr>\n",
       "    <tr>\n",
       "      <th>4</th>\n",
       "      <td>(RÉALISATIONS)</td>\n",
       "      <td>RÉALISATIONS</td>\n",
       "    </tr>\n",
       "  </tbody>\n",
       "</table>\n",
       "</div>"
      ],
      "text/plain": [
       "                                        Sentence_CV1  \\\n",
       "0  (SELMA, LAFKIR, CORDE, 80, CODEUSE, ENTHOUSIASTE)   \n",
       "1                                           (PROFIL)   \n",
       "2  (PERSONNEL, Je, suis, étudiante, au, lycée, Co...   \n",
       "3  (Je, code, depuis, l', âge, de, 13, ans, et, j...   \n",
       "4                                     (RÉALISATIONS)   \n",
       "\n",
       "                                  Sentence_CV1_clean  \n",
       "0         SELMA LAFKIR CORDE 80 CODEUSE ENTHOUSIASTE  \n",
       "1                                             PROFIL  \n",
       "2    PERSONNEL Je suis étudiante au lycée Condorcet.  \n",
       "3  Je code depuis l'âge de 13 ans et j'aime créer...  \n",
       "4                                       RÉALISATIONS  "
      ]
     },
     "execution_count": 14,
     "metadata": {},
     "output_type": "execute_result"
    }
   ],
   "source": [
    "df.head()"
   ]
  },
  {
   "cell_type": "markdown",
   "metadata": {},
   "source": [
    "Part 3"
   ]
  },
  {
   "cell_type": "code",
   "execution_count": null,
   "metadata": {},
   "outputs": [],
   "source": []
  }
 ],
 "metadata": {
  "kernelspec": {
   "display_name": "Python 3.9.2 64-bit",
   "language": "python",
   "name": "python3"
  },
  "language_info": {
   "codemirror_mode": {
    "name": "ipython",
    "version": 3
   },
   "file_extension": ".py",
   "mimetype": "text/x-python",
   "name": "python",
   "nbconvert_exporter": "python",
   "pygments_lexer": "ipython3",
   "version": "3.9.2"
  },
  "orig_nbformat": 4,
  "vscode": {
   "interpreter": {
    "hash": "81794d4967e6c3204c66dcd87b604927b115b27c00565d3d43f05ba2f3a2cb0d"
   }
  }
 },
 "nbformat": 4,
 "nbformat_minor": 2
}
